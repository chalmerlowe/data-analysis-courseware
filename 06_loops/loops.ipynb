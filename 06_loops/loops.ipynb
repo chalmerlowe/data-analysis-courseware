{
 "cells": [
  {
   "cell_type": "markdown",
   "metadata": {},
   "source": [
    "<h1>Welcome to the Dark Art of Coding:</h1>\n",
    "<h2>Introduction to Python</h2>\n",
    "Loops\n",
    "\n",
    "<img src='../images/logos.3.600.wide.png' width='300' style=\"float:right\">"
   ]
  },
  {
   "cell_type": "markdown",
   "metadata": {},
   "source": [
    "# Objectives\n",
    "---"
   ]
  },
  {
   "cell_type": "markdown",
   "metadata": {},
   "source": [
    "In this session, students should expect to:\n",
    "    \n",
    "* Understand how to use a while loop\n",
    "* Understand how to use a for loop\n",
    "* Understand how to incorporate break statements\n",
    "* Explore the use of the `range()` function\n",
    "* Understand the difference between definite and indefinite loops"
   ]
  },
  {
   "cell_type": "markdown",
   "metadata": {},
   "source": [
    "# While loops\n",
    "---"
   ]
  },
  {
   "cell_type": "markdown",
   "metadata": {},
   "source": [
    "<ul>\n",
    "<li><code>while</code> keyword</li>\n",
    "<li>Test condition</li>\n",
    "<li>Colon</li>\n",
    "<li>Code block</li>\n",
    "</ul>"
   ]
  },
  {
   "cell_type": "code",
   "execution_count": 1,
   "metadata": {},
   "outputs": [
    {
     "name": "stdout",
     "output_type": "stream",
     "text": [
      "Scanning! 5\n",
      "Scanning! 6\n",
      "Scanning! 7\n",
      "Scanning! 8\n",
      "Scanning! 9\n",
      "Scanning! 10\n",
      "Scanning! 11\n",
      "Scanning! 12\n",
      "Scanning! 13\n"
     ]
    }
   ],
   "source": [
    "# in this example, we see \n",
    "#     the while keyword\n",
    "#     the test condition: ipaddresses < 13\n",
    "#     the indented code block\n",
    "\n",
    "\n",
    "\n",
    "ipaddresses = 5\n",
    "\n",
    "while ipaddresses <= 13:\n",
    "    print('Scanning!', ipaddresses)\n",
    "    ipaddresses = ipaddresses + 1       # there is a 'simpler' way to write this line..."
   ]
  },
  {
   "cell_type": "code",
   "execution_count": 2,
   "metadata": {},
   "outputs": [
    {
     "name": "stdout",
     "output_type": "stream",
     "text": [
      "Scanning! 10\n",
      "Scanning! 7\n",
      "Scanning! 4\n"
     ]
    }
   ],
   "source": [
    "ipaddresses = 10\n",
    "\n",
    "while ipaddresses > 1:\n",
    "    print('Scanning!', ipaddresses)\n",
    "    ipaddresses -= 3"
   ]
  },
  {
   "cell_type": "markdown",
   "metadata": {},
   "source": [
    "# Indefinite loops\n",
    "---"
   ]
  },
  {
   "cell_type": "markdown",
   "metadata": {},
   "source": [
    "* Loop goes on until something stops it. \n",
    "* Possibility of not stopping\n",
    "   * This may be bad: your script gets trapped in a never-ending loop rather than running to completion\n",
    "   * This may be desired behavior (i.e. an event loop in a game, waiting for the next move, next action, next game cycle)\n"
   ]
  },
  {
   "cell_type": "code",
   "execution_count": 3,
   "metadata": {},
   "outputs": [
    {
     "name": "stdout",
     "output_type": "stream",
     "text": [
      "What would you like to do? eat sushi\n",
      "What would you like to do? play games with awesome interns\n",
      "What would you like to do? write code\n",
      "What would you like to do? quit\n",
      "You chose to quit\n"
     ]
    }
   ],
   "source": [
    "response = ''\n",
    "\n",
    "while response != 'quit':\n",
    "    response = input('What would you like to do? ')\n",
    "    \n",
    "print('You chose to quit')"
   ]
  },
  {
   "cell_type": "code",
   "execution_count": 5,
   "metadata": {},
   "outputs": [
    {
     "name": "stdout",
     "output_type": "stream",
     "text": [
      "pick a number from this list:   1, 2, 3, 4 OR 0: 0\n",
      "you picked zero: we are done.\n"
     ]
    }
   ],
   "source": [
    "# NOTE: while loops that are initialized with a value that is\n",
    "#     \"Truthy\" can be caused to quit if the value of the variable\n",
    "#     becomes \"Falsy\" (i.e. it becomes zero, etc)\n",
    "\n",
    "number = 1\n",
    "\n",
    "while number:          # This loop should exit if you input 0 as the age\n",
    "    number = int(input(\"pick a number from this list:   1, 2, 3, 4 OR 0: \"))\n",
    "\n",
    "print('you picked zero: we are done.')"
   ]
  },
  {
   "cell_type": "markdown",
   "metadata": {},
   "source": [
    "## `break` keyword\n",
    "\n",
    "Used to stop a loop early"
   ]
  },
  {
   "cell_type": "code",
   "execution_count": 8,
   "metadata": {},
   "outputs": [
    {
     "name": "stdout",
     "output_type": "stream",
     "text": [
      "What would you like to do? exi\n",
      "What would you like to do? exit\n",
      "You have quit\n"
     ]
    }
   ],
   "source": [
    "# The break keyword\n",
    "\n",
    "while True:\n",
    "    response = input('What would you like to do? ')\n",
    "    if response == 'quit':\n",
    "        break\n",
    "    if response == 'q':\n",
    "        break\n",
    "    if response == 'exit':\n",
    "        break\n",
    "        \n",
    "print('You have quit')\n",
    "\n",
    "# This is quaranteed to run once.\n"
   ]
  },
  {
   "cell_type": "code",
   "execution_count": 11,
   "metadata": {},
   "outputs": [
    {
     "name": "stdout",
     "output_type": "stream",
     "text": [
      "What starter value do you want for response? quit\n",
      "You have quit\n"
     ]
    }
   ],
   "source": [
    "# achieving the same result without using break:\n",
    " \n",
    "response = input('What starter value do you want for response? ')\n",
    "\n",
    "while response != 'quit':\n",
    "    response = input('Sometimes this never shows: what new value for response do you want? ')\n",
    "        \n",
    "print('You have quit')\n",
    "\n",
    "# Depending on whether response could be altered prior to\n",
    "# running, this while loop may not run, even once"
   ]
  },
  {
   "cell_type": "markdown",
   "metadata": {},
   "source": [
    "# Endless while loops (don't do this!)\n",
    "---"
   ]
  },
  {
   "cell_type": "markdown",
   "metadata": {},
   "source": [
    "NOTE: this cell is set as markdown, so it won't execute = )\n",
    "\n",
    "```python\n",
    "num = 0\n",
    "while True:\n",
    "    print(num)\n",
    "    num = num + 1\n",
    "```"
   ]
  },
  {
   "cell_type": "markdown",
   "metadata": {},
   "source": [
    "<img src='newWhile2.png' width='600'>"
   ]
  },
  {
   "cell_type": "markdown",
   "metadata": {},
   "source": [
    "# So I broke it... now what?\n",
    "---"
   ]
  },
  {
   "cell_type": "markdown",
   "metadata": {},
   "source": [
    "## `CTRL+C`\n",
    "\n",
    "Pressing the keyboard combination `ctrl + c` will cause Python to experience a KeyboardInterrupt and will end a script.\n",
    "\n",
    "Note, sometimes it may take a while for the interrupt to register and for the script to end."
   ]
  },
  {
   "cell_type": "markdown",
   "metadata": {},
   "source": [
    "## YMMV\n",
    "\n",
    "`ctrl + c` generally works. \n",
    "\n",
    "## In Jupyter Notebooks\n",
    "\n",
    "You may need to click the Kernel menu:\n",
    "\n",
    "`Kernel` -> `Restart Kernel`"
   ]
  },
  {
   "cell_type": "markdown",
   "metadata": {},
   "source": [
    "# Nested loops are also possible\n",
    "\n",
    "But be wary, in real code, this can sometimes get prohibitive OR complicated."
   ]
  },
  {
   "cell_type": "code",
   "execution_count": 13,
   "metadata": {},
   "outputs": [
    {
     "name": "stdout",
     "output_type": "stream",
     "text": [
      "1\n",
      "dark art of coding\n",
      "dark art of coding\n",
      "dark art of coding\n",
      "dark art of coding\n",
      "dark art of coding\n",
      "dark art of coding\n",
      "dark art of coding\n",
      "dark art of coding\n",
      "dark art of coding\n",
      "dark art of coding\n",
      "dark art of coding\n",
      "dark art of coding\n",
      "dark art of coding\n",
      "dark art of coding\n",
      "dark art of coding\n",
      "dark art of coding\n",
      "dark art of coding\n",
      "dark art of coding\n",
      "dark art of coding\n",
      "dark art of coding\n",
      "dark art of coding\n",
      "dark art of coding\n",
      "dark art of coding\n",
      "dark art of coding\n",
      "dark art of coding\n",
      "dark art of coding\n",
      "dark art of coding\n",
      "dark art of coding\n",
      "dark art of coding\n",
      "2\n",
      "3\n",
      "4\n",
      "5\n",
      "6\n",
      "7\n",
      "8\n",
      "9\n"
     ]
    }
   ],
   "source": [
    "n = 1\n",
    "nn = 13\n",
    "while n < 10:\n",
    "    print(n)\n",
    "    while nn < 42:\n",
    "        print('dark art of coding')\n",
    "        nn += 1\n",
    "    n += 1\n",
    "    "
   ]
  },
  {
   "cell_type": "markdown",
   "metadata": {},
   "source": [
    "# `range()` function\n",
    "---"
   ]
  },
  {
   "cell_type": "markdown",
   "metadata": {},
   "source": [
    "The `range()` function is commonly used to generate a sequence of numbers\n",
    "\n",
    "\n",
    "```python\n",
    "range(3)         -> 0, 1, 2\n",
    "range(5, 8)      -> 5, 6, 7\n",
    "range(2, 11, 2)  -> 2, 4, 6, 8, 10\n",
    "range(10, 1, -2) -> 10, 8, 6, 4, 2\n",
    "```\n",
    "\n",
    "NOTE: `range()` produces a range object. NOT a list.\n",
    "\n",
    "Range starts at **0 and goes up to but does not** include the last number.\n",
    "\n",
    "Why?\n",
    "\n",
    "Ask Edsger Dijkstra: [Why numbering should start at zero](https://www.cs.utexas.edu/users/EWD/ewd08xx/EWD831.PDF)"
   ]
  },
  {
   "cell_type": "markdown",
   "metadata": {},
   "source": [
    "# Definite loops\n",
    "---"
   ]
  },
  {
   "cell_type": "markdown",
   "metadata": {},
   "source": [
    "Definite loops:\n",
    "\n",
    "* Are guaranteed to stop\n",
    "* Typically iterate through an already defined object or set of objects\n",
    "* Are generally safer than indefinite loops"
   ]
  },
  {
   "cell_type": "markdown",
   "metadata": {},
   "source": [
    "# For loops\n",
    "---"
   ]
  },
  {
   "cell_type": "markdown",
   "metadata": {},
   "source": [
    "\n",
    "* `for` keyword\n",
    "* Temporary placeholder variable OR iteration variable\n",
    "* `in` keyword\n",
    "* Colon\n",
    "* Code block\n"
   ]
  },
  {
   "cell_type": "code",
   "execution_count": 21,
   "metadata": {},
   "outputs": [
    {
     "name": "stdout",
     "output_type": "stream",
     "text": [
      "10\n",
      "20\n",
      "30\n",
      "40\n",
      "50\n",
      "60\n",
      "70\n",
      "80\n",
      "90\n"
     ]
    }
   ],
   "source": [
    "# in this example, we see \n",
    "#     the for keyword\n",
    "#     the in keyword\n",
    "#     number is our iteration variable\n",
    "#     range(3) is the item we want to iterate over\n",
    "#     the indented code block\n",
    "\n",
    "for digit in range(10, 100, 10):\n",
    "    print(digit)"
   ]
  },
  {
   "cell_type": "code",
   "execution_count": 2,
   "metadata": {},
   "outputs": [
    {
     "name": "stdout",
     "output_type": "stream",
     "text": [
      "d\n",
      "a\n",
      "r\n",
      "k\n",
      " \n",
      "l\n",
      "o\n",
      "r\n",
      "d\n",
      " \n",
      "o\n",
      "f\n",
      " \n",
      "p\n",
      "y\n",
      "t\n",
      "h\n",
      "o\n",
      "n\n"
     ]
    }
   ],
   "source": [
    "for letter in 'dark lord of python':\n",
    "    print(letter)"
   ]
  },
  {
   "cell_type": "markdown",
   "metadata": {},
   "source": [
    "# Take note of the iteration variable\n",
    "\n",
    "* The iteration variable is the variable between the words `for` and `in`\n",
    "* You can name it anything you want to\n",
    "* It is a temporary placeholder variable to refer to the current item being processed by the for loop.\n",
    "* It's good conduct to name it something that's easy to understand in context\n",
    "    * `for name in names:`\n",
    "    * `for number in range(3):`\n",
    "    * `for letter in word:`\n",
    "    * `for line in file:`\n",
    "* However you should always remember that just like any other variable it does not really matter so long as\n",
    "    * You (and anyone else working on the project) understand\n",
    "    * It doesn't have any conflicts\n",
    "    * And you follow good naming convention\n",
    "* While it gets overwritten during every cycle through the loop, it retains the very last value that it was given\n",
    "    * this fact is very useful for debugging purposes\n",
    "    * it allows you to understand the data you looped over and/or where the loop may have stopped"
   ]
  },
  {
   "cell_type": "code",
   "execution_count": 3,
   "metadata": {},
   "outputs": [
    {
     "name": "stdout",
     "output_type": "stream",
     "text": [
      "There are 21 pips on a six-sided die\n"
     ]
    }
   ],
   "source": [
    "total = 0\n",
    "for pips in range(1, 7):\n",
    "    total = total + pips                 # 1 + 2 + 3 + 4 + 5 + 6 --> 21\n",
    "\n",
    "print('There are ' + str(total) + ' pips on a six-sided die')"
   ]
  },
  {
   "cell_type": "markdown",
   "metadata": {},
   "source": [
    "## Pro-tip"
   ]
  },
  {
   "cell_type": "markdown",
   "metadata": {},
   "source": [
    "While this is not specific to for loops, augmented assignment shows up regularly in for loops, so we present a minor seque."
   ]
  },
  {
   "cell_type": "code",
   "execution_count": 4,
   "metadata": {},
   "outputs": [
    {
     "name": "stdout",
     "output_type": "stream",
     "text": [
      "There are 21 pips on a six-sided die\n"
     ]
    }
   ],
   "source": [
    "# use augmented assignment when you are updating totals\n",
    "#     in this way.\n",
    "\n",
    "total = 0\n",
    "for pips in range(1, 7):\n",
    "    total += pips                 # 1 + 2 + 3 + 4 + 5 + 6 --> 21\n",
    "\n",
    "print('There are ' + str(total) + ' pips on a six-sided die')"
   ]
  },
  {
   "cell_type": "code",
   "execution_count": 5,
   "metadata": {},
   "outputs": [
    {
     "name": "stdout",
     "output_type": "stream",
     "text": [
      "13\n",
      "14\n",
      "15\n",
      "16\n",
      "17\n",
      "18\n"
     ]
    }
   ],
   "source": [
    "# from 13 up to, but not including 19\n",
    "\n",
    "for n in range(13, 19):\n",
    "    print(n)"
   ]
  },
  {
   "cell_type": "code",
   "execution_count": 6,
   "metadata": {},
   "outputs": [
    {
     "name": "stdout",
     "output_type": "stream",
     "text": [
      "13\n",
      "15\n",
      "17\n"
     ]
    }
   ],
   "source": [
    "# from 13 up to, but not including 19, stepping by twos.\n",
    "\n",
    "for num in range(13, 19, 2):\n",
    "    print(num)"
   ]
  },
  {
   "cell_type": "code",
   "execution_count": 7,
   "metadata": {},
   "outputs": [
    {
     "name": "stdout",
     "output_type": "stream",
     "text": [
      "10\n",
      "8\n",
      "6\n",
      "4\n",
      "2\n",
      "0\n"
     ]
    }
   ],
   "source": [
    "# from 10 down to, but not including -1, stepping by negative twos.\n",
    "\n",
    "for num in range(10, -1, -2):        \n",
    "    print(num)"
   ]
  },
  {
   "cell_type": "code",
   "execution_count": 8,
   "metadata": {},
   "outputs": [
    {
     "name": "stdout",
     "output_type": "stream",
     "text": [
      "5\n"
     ]
    }
   ],
   "source": [
    "for num in range(10):\n",
    "    if num == 5:\n",
    "        print(num)\n",
    "        break\n",
    "    "
   ]
  },
  {
   "cell_type": "markdown",
   "metadata": {},
   "source": [
    "# Modulo division\n",
    "---"
   ]
  },
  {
   "cell_type": "markdown",
   "metadata": {},
   "source": [
    "Also, not specific to for loops, but modulo is often seen in for loops to guage conditions, so again, another brief segue."
   ]
  },
  {
   "cell_type": "code",
   "execution_count": 13,
   "metadata": {},
   "outputs": [
    {
     "name": "stdout",
     "output_type": "stream",
     "text": [
      "0\n",
      "1\n",
      "0\n",
      "1\n",
      "0\n",
      "1\n"
     ]
    }
   ],
   "source": [
    "print(2 % 2)     # yields a remainder of 0\n",
    "print(3 % 2)                           # 1\n",
    "print(4 % 2)                           # 0\n",
    "print(5 % 2)                           # 1\n",
    "print(6 % 2)                           # 0\n",
    "print(7 % 2)                           # 1"
   ]
  },
  {
   "cell_type": "code",
   "execution_count": 14,
   "metadata": {},
   "outputs": [
    {
     "name": "stdout",
     "output_type": "stream",
     "text": [
      "0\n",
      "1\n",
      "2\n",
      "0\n",
      "1\n",
      "2\n"
     ]
    }
   ],
   "source": [
    "print(6 % 3)     # yields a remainder of 0\n",
    "print(7 % 3)                           # 1\n",
    "print(8 % 3)                           # 2\n",
    "print(9 % 3)                           # 0\n",
    "print(10 % 3)                          # 1\n",
    "print(11 % 3)                          # 2"
   ]
  },
  {
   "cell_type": "markdown",
   "metadata": {},
   "source": [
    "# `continue` keyword\n",
    "---"
   ]
  },
  {
   "cell_type": "markdown",
   "metadata": {},
   "source": [
    "Used to short circuit a for loop to the NEXT iteration"
   ]
  },
  {
   "cell_type": "code",
   "execution_count": 16,
   "metadata": {},
   "outputs": [
    {
     "name": "stdout",
     "output_type": "stream",
     "text": [
      "1\n",
      "3\n",
      "5\n",
      "7\n",
      "9\n",
      "11\n",
      "13\n",
      "15\n",
      "17\n",
      "19\n"
     ]
    }
   ],
   "source": [
    "# In this example, whenever the number is even, the for loop will \n",
    "#     skip printing values\n",
    "\n",
    "for num in range(20):\n",
    "    if num % 2 == 0:\n",
    "        continue\n",
    "    print(num)"
   ]
  },
  {
   "cell_type": "markdown",
   "metadata": {},
   "source": [
    "# Experience Points!\n",
    "\n",
    "In your **text editor** create a simple script called:\n",
    "\n",
    "```bash\n",
    "my_loops_01.py```\n",
    "\n",
    "Execute your script in the **IPython interpreter** using the command:\n",
    "\n",
    "```bash\n",
    "run my_loops_01.py```\n",
    "\n",
    "I suggest that as you add each feature to your script that you run it right away to test it incrementally. \n",
    "\n",
    "## Part 1\n",
    "\n",
    "1. Assign the label `myname` to the output of the `input()` function. Use the `input()` function to prompt your user for their name.\n",
    "1. Assign the label `counter` to a variable with a integer value of 0 (zero).\n",
    "1. Create a `while` loop that \n",
    "    1. increments the counter by 1\n",
    "    1. prints `myname` during each cycle UNTIL the counter is equal to 10.\n",
    "\n",
    "## Part 2\n",
    "\n",
    "1. Assign the label `myage` to the output of the `input()` function. Use the `input()` function to prompt for your age\n",
    "1. Use `range()` in a `for` loop and use `myage` to set the stop value for the range.\n",
    "1. `Print()` the output of range to count up to your age. \n"
   ]
  },
  {
   "cell_type": "markdown",
   "metadata": {},
   "source": [
    "<img src='../images/green_sticky.300px.png' width='200' style='float:left'>"
   ]
  }
 ],
 "metadata": {
  "kernelspec": {
   "display_name": "Python 3",
   "language": "python",
   "name": "python3"
  },
  "language_info": {
   "codemirror_mode": {
    "name": "ipython",
    "version": 3
   },
   "file_extension": ".py",
   "mimetype": "text/x-python",
   "name": "python",
   "nbconvert_exporter": "python",
   "pygments_lexer": "ipython3",
   "version": "3.6.8"
  }
 },
 "nbformat": 4,
 "nbformat_minor": 2
}
