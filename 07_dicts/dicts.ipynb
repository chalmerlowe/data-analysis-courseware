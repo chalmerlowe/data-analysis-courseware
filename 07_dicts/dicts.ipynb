{
 "cells": [
  {
   "cell_type": "markdown",
   "metadata": {
    "slideshow": {
     "slide_type": "slide"
    }
   },
   "source": [
    "# Welcome to the Dark Art of Coding:\n",
    "## Introduction to Python\n",
    "Dictionaries\n",
    "\n",
    "<img src='../universal_images/dark_art_logo.600px.png' width='300' style=\"float:right\">"
   ]
  },
  {
   "cell_type": "markdown",
   "metadata": {},
   "source": [
    "# Objectives\n",
    "---"
   ]
  },
  {
   "cell_type": "markdown",
   "metadata": {},
   "source": [
    "In this session, students should expect to:\n",
    "\n",
    "* Explore the dictionary datatype\n",
    "* Understand how to add data to a dictionary\n",
    "* Understand how to modify data in a dictionary\n",
    "* Understand how to use keys to retrieve values from a dictionary\n"
   ]
  },
  {
   "cell_type": "markdown",
   "metadata": {
    "slideshow": {
     "slide_type": "slide"
    }
   },
   "source": [
    "<h1>What is a dictionary?</h1>"
   ]
  },
  {
   "cell_type": "markdown",
   "metadata": {},
   "source": [
    "A dictionary is a collection of key and value pairs.\n",
    "\n",
    "* Each key must be **unique**\n",
    "* Each key must be **hashable** (strings, tuples, etc)\n",
    "* Each key is associated with a value\n",
    "* Dictionaries are heavily optimized for speed\n",
    "* Dictionaries are one-way... you can't really look up the value to get the key\n",
    "* Dictionaries prior to Python 3.5 are unordered\n",
    "* Dictionaries in and after Python 3.7 are insertion ordered\n",
    "\n",
    "Hashing is an algorithm that produces a unique identifier for any given input.\n",
    "The unique identifier is used by Python to enable your data to be found very quickly.\n",
    "\n",
    "Personally, I picture dictionaries to be like a bag OR a barrel, where the items stored in the barrel have long strings tied to them, with tags on the end. You can see the tags, but you can't see the values on the other end of the string. Thus looking things up in a dictionary are one way... if you know the key, you can extract a value, but can't conveniently use a value to find the key\n",
    "\n",
    "This is much like a regular dictionary:\n",
    "\n",
    "If I simply give you a definition, there is no convenient way to look up the word that goes with it:\n",
    "\n",
    "* visible pipes of an organ\n",
    "* use of certain sorts of wood in treating disease\n",
    "* horrifying; arcane; strange\n",
    "* writer's cramp\n",
    "\n",
    "FYI: the words that go with these definitions are in the last cell of this notebook."
   ]
  },
  {
   "cell_type": "code",
   "execution_count": null,
   "metadata": {},
   "outputs": [],
   "source": [
    "# Let's make a sample dictionary.\n",
    "# This syntax produces a dictionary literal\n",
    "# There are other methods available to make dictionaries \n",
    "#     and there is a dict() factory function\n",
    "\n",
    "contact = {'name': 'Arthur', \n",
    "           'number': '867-5309',\n",
    "           'email': 'genericEmail42@gmail.com'}\n",
    "contact"
   ]
  },
  {
   "cell_type": "markdown",
   "metadata": {
    "slideshow": {
     "slide_type": "slide"
    }
   },
   "source": [
    "For the curious...\n",
    "\n",
    "** https://www.youtube.com/watch?v=6WTdTwcmxyo"
   ]
  },
  {
   "cell_type": "code",
   "execution_count": null,
   "metadata": {
    "slideshow": {
     "slide_type": "slide"
    }
   },
   "outputs": [],
   "source": [
    "# If we just want one item from a dict we access it \n",
    "#     using the same index model that we saw with strings and lists:\n",
    "#\n",
    "#     object[subscript]\n",
    "\n",
    "contact['name']"
   ]
  },
  {
   "cell_type": "markdown",
   "metadata": {
    "slideshow": {
     "slide_type": "slide"
    }
   },
   "source": [
    "<h1>Lists vs. Dicts</h1>"
   ]
  },
  {
   "cell_type": "code",
   "execution_count": null,
   "metadata": {
    "slideshow": {
     "slide_type": "subslide"
    }
   },
   "outputs": [],
   "source": [
    "# For small amounts of easily understood data,\n",
    "# storing the same data in a list seems like a reasonable solution...\n",
    "# however if the data gets too large OR is too similar, \n",
    "# remembering which index goes to what item can be tough\n",
    "#\n",
    "# Also what happens if you want to put more data at the\n",
    "# beginning of a list and need to shift every item down the line?\n",
    "\n",
    "contact_list = ['Arthur', '867-5309', 'genericEmail42@gmail.com']\n",
    "\n",
    "print(contact_list[0])"
   ]
  },
  {
   "cell_type": "code",
   "execution_count": null,
   "metadata": {
    "scrolled": true,
    "slideshow": {
     "slide_type": "fragment"
    }
   },
   "outputs": [],
   "source": [
    "# Earlier we typed this same dictionary on multiple lines\n",
    "# to make it easier to read but a one-row construct is \n",
    "# just as valid\n",
    "\n",
    "contact_dict = {'name': 'Arthur', 'number': '867-5309', 'email': 'genericEmail@gmail.com'}\n",
    "\n",
    "contact_dict['name']"
   ]
  },
  {
   "cell_type": "markdown",
   "metadata": {},
   "source": [
    "# XP Grind!\n",
    "---"
   ]
  },
  {
   "cell_type": "markdown",
   "metadata": {
    "slideshow": {
     "slide_type": "slide"
    }
   },
   "source": [
    "In **Jupyter** do all of the following:\n",
    "\n",
    "* Create a dictionary with the following keys. Provide a value of your choosing to each key:\n",
    "    * name\n",
    "    * food\n",
    "    * music"
   ]
  },
  {
   "cell_type": "markdown",
   "metadata": {},
   "source": [
    "When you complete this exercise, please put your green post-it on your monitor. \n",
    "\n",
    "If you want to continue on at your own-pace, please feel free to do so.\n",
    "\n",
    "<img src='../universal_images/green_sticky.300px.png' width='200' style='float:left'>"
   ]
  },
  {
   "cell_type": "code",
   "execution_count": null,
   "metadata": {},
   "outputs": [],
   "source": [
    "# My solution to this XP grind\n",
    "\n",
    "dark_lord = {'name': 'dark lord',\n",
    "             'food': 'sushi',\n",
    "             'music': 'heavy metal'}\n",
    "\n",
    "dark_lord['music']"
   ]
  },
  {
   "cell_type": "code",
   "execution_count": null,
   "metadata": {
    "slideshow": {
     "slide_type": "slide"
    }
   },
   "outputs": [],
   "source": [
    "# Lists have order associated with their items so if you create\n",
    "#     a list with a different order a comparison\n",
    "#     will say they are NOT equivalent\n",
    "\n",
    "ex_list1 = ['val1', 'val2']\n",
    "ex_list2 = ['val2', 'val1']\n",
    "\n",
    "print('Are these lists equivalent: ', ex_list1 == ex_list2)"
   ]
  },
  {
   "cell_type": "code",
   "execution_count": null,
   "metadata": {
    "slideshow": {
     "slide_type": "fragment"
    }
   },
   "outputs": [],
   "source": [
    "# As noted previously... while dictionaries in Python 3.6+ \n",
    "#     insertion ordered, for comparision purposes, you can \n",
    "#     consider them unordered, meaning two dictionaries with \n",
    "#     the same keys and same values will be considered equivalent\n",
    "\n",
    "ex_dict1 = {'key1': 'val1', 'key2': 'val2'}\n",
    "ex_dict2 = {'key2': 'val2', 'key1': 'val1'}\n",
    "\n",
    "print('Are these dicts equivalent: ', ex_dict1 == ex_dict2)"
   ]
  },
  {
   "cell_type": "code",
   "execution_count": null,
   "metadata": {},
   "outputs": [],
   "source": [
    "# Let's refresh ourselves on the content of the \n",
    "#     contact dictionary:\n",
    "\n",
    "contact"
   ]
  },
  {
   "cell_type": "code",
   "execution_count": null,
   "metadata": {
    "collapsed": true
   },
   "outputs": [],
   "source": [
    "# What happens if we try to access a key that doesn't exist?\n",
    "\n",
    "contact['naem']"
   ]
  },
  {
   "cell_type": "markdown",
   "metadata": {
    "slideshow": {
     "slide_type": "slide"
    }
   },
   "source": [
    "## KeyError\n",
    "\n",
    "A KeyError occurs when you attempt to access a key that does not exist...\n",
    "\n",
    "Either because the key you believe is there is not really present...\n",
    "\n",
    "OR\n",
    "\n",
    "because you have inadvertantly spelled the name of your key incorrectly"
   ]
  },
  {
   "cell_type": "code",
   "execution_count": null,
   "metadata": {
    "slideshow": {
     "slide_type": "subslide"
    }
   },
   "outputs": [],
   "source": [
    "# If we want to make a new key and assign it some value we can\n",
    "#     do it like this:\n",
    "\n",
    "# Also note... our values can be any Python object.\n",
    "\n",
    "contact['num'] = 42\n",
    "contact['address'] = ['42-503 Lorelana Dr.', 'Honolulu HI', '95746']\n",
    "\n",
    "print(contact['num'])\n",
    "print(contact['address'])"
   ]
  },
  {
   "cell_type": "markdown",
   "metadata": {},
   "source": [
    "# XP Grind!\n",
    "---"
   ]
  },
  {
   "cell_type": "markdown",
   "metadata": {
    "slideshow": {
     "slide_type": "slide"
    }
   },
   "source": [
    "In a script named `my_dictionary.py`, do all of the following:\n",
    "\n",
    "Create a new dictionary with the following keys using a **dictionary literal**. Provide a value of your choosing for each key BUT this time incorporate multiple datatypes such as integers, lists, etc:\n",
    "\n",
    "key | value type\n",
    ":---|:---\n",
    "name | str\n",
    "age | int\n",
    "favorite_foods | list\n",
    "favorite_songs | list\n",
    "\n",
    "Now, create two new keys in your dictionary, one at a time, on-the-fly, by **assigning a value to an new key** in the dictionary:\n",
    "\n",
    "key | value type\n",
    ":---|:---\n",
    "fav_ice_cream | str\n",
    "fav_cookie | str\n",
    "\n",
    "Lastly, print your dictionary to the screen.\n",
    "\n",
    "Run your script on the command line:\n",
    "\n",
    "```bash\n",
    "$ python -i my_dictionary.py\n",
    "```\n",
    "\n",
    "**NOTE**: use `exit()` to escape from the Python interpreter.\n",
    "\n",
    "---"
   ]
  },
  {
   "cell_type": "markdown",
   "metadata": {},
   "source": [
    "When you complete this exercise, please put your green post-it on your monitor. \n",
    "\n",
    "If you want to continue on at your own-pace, please feel free to do so.\n",
    "\n",
    "<img src='../universal_images/green_sticky.300px.png' width='200' style='float:left'>"
   ]
  },
  {
   "cell_type": "code",
   "execution_count": null,
   "metadata": {
    "collapsed": true
   },
   "outputs": [],
   "source": []
  },
  {
   "cell_type": "markdown",
   "metadata": {
    "slideshow": {
     "slide_type": "slide"
    }
   },
   "source": [
    "# `keys(), values(), items()`"
   ]
  },
  {
   "cell_type": "markdown",
   "metadata": {},
   "source": [
    "Besides looking at a dictionary one element at a time...\n",
    "\n",
    "Sometimes we need to look at all the `keys`, all the `values` and/or all the `key: value` pairs at a time. This can be done using the following dictionary methods:\n",
    "\n",
    "`D.keys()`\n",
    "\n",
    "`D.values()`\n",
    "\n",
    "`D.items()`\n"
   ]
  },
  {
   "cell_type": "code",
   "execution_count": null,
   "metadata": {
    "slideshow": {
     "slide_type": "slide"
    }
   },
   "outputs": [],
   "source": [
    "contact.keys()"
   ]
  },
  {
   "cell_type": "markdown",
   "metadata": {
    "slideshow": {
     "slide_type": "slide"
    }
   },
   "source": [
    "The output of this is a VIEW of the keys in the contact dict it might resemble a list, but it has subtle differences...\n",
    "\n",
    "A VIEW is a:\n",
    "\n",
    "* set-like object providing a view on the dictionary's keys\n",
    "* you can perform certain set-like operations \n",
    "* iteration over the keys can be done multiple times"
   ]
  },
  {
   "cell_type": "code",
   "execution_count": null,
   "metadata": {},
   "outputs": [],
   "source": [
    "# We can iterate through the keys of a given dict\n",
    "\n",
    "for key in contact:\n",
    "    print('Key:', key)"
   ]
  },
  {
   "cell_type": "code",
   "execution_count": null,
   "metadata": {
    "slideshow": {
     "slide_type": "fragment"
    }
   },
   "outputs": [],
   "source": [
    "# You will sometimes see this written in this way\n",
    "#     which is NOT wrong, but considered \n",
    "#     poor form/unnecessary/unpythonic.\n",
    "#     simply because, in for loops, the default behavior\n",
    "#     is to iterate over the keys() anyway\n",
    "\n",
    "for key in contact.keys():\n",
    "    print(key)    "
   ]
  },
  {
   "cell_type": "code",
   "execution_count": null,
   "metadata": {
    "slideshow": {
     "slide_type": "fragment"
    }
   },
   "outputs": [],
   "source": [
    "# There's a similar method that returns a collection of \n",
    "#     the values from the dictionary\n",
    "\n",
    "contact.values()"
   ]
  },
  {
   "cell_type": "code",
   "execution_count": null,
   "metadata": {
    "slideshow": {
     "slide_type": "fragment"
    }
   },
   "outputs": [],
   "source": [
    "# You can iterate through this collection as well\n",
    "# NOTE: calling the .values() method is REQUIRED, there is\n",
    "#       no default/shortcut as there was with .keys()\n",
    "\n",
    "for v in contact.values():\n",
    "    print('Value:', v)"
   ]
  },
  {
   "cell_type": "code",
   "execution_count": null,
   "metadata": {},
   "outputs": [],
   "source": [
    "# What if you want both the keys and values (as pairs)\n",
    "\n",
    "for item in contact.items():\n",
    "    print(item)\n",
    "    \n",
    "# NOTE: each item is a tuple. We will discuss tuples later!"
   ]
  },
  {
   "cell_type": "code",
   "execution_count": null,
   "metadata": {
    "slideshow": {
     "slide_type": "slide"
    }
   },
   "outputs": [],
   "source": [
    "# If you want to use each of the elements from the\n",
    "#     tuples independently, you can simply UNPACK\n",
    "#     the elements \n",
    "\n",
    "for col, record in contact.items():\n",
    "    print(col, record)"
   ]
  },
  {
   "cell_type": "code",
   "execution_count": null,
   "metadata": {
    "slideshow": {
     "slide_type": "slide"
    }
   },
   "outputs": [],
   "source": [
    "# To print the outputs a bit more cleanly... \n",
    "#     because each key in this case is a string, you can use\n",
    "#     one of the str methods, .ljust() to create a column \n",
    "#     a certain number of characters wide\n",
    "\n",
    "for col, record in contact.items():\n",
    "    print(col.ljust(9), record)"
   ]
  },
  {
   "cell_type": "markdown",
   "metadata": {},
   "source": [
    "# XP Grind!\n",
    "---"
   ]
  },
  {
   "cell_type": "markdown",
   "metadata": {
    "slideshow": {
     "slide_type": "slide"
    }
   },
   "source": [
    "In your previous script: `my_dictionary.py` add additional content to do each of the following:\n",
    "\n",
    "* Use your previous dictionery (with the str, int and lists)\n",
    "* For each of the methods `.keys()`, `.values()`, and `.items()`:\n",
    "\n",
    "    * use a for loop to iterate over all the keys.\n",
    "    * use a for loop to iterate over all the values, using `.values()`\n",
    "    * use a for loop to iterate over all the items, using `.items()`\n",
    "    \n",
    "Run your script on the command line, using:\n",
    "\n",
    "```bash\n",
    "$ python -i my_dictionary.py\n",
    "```\n",
    "\n",
    "**NOTE**: `use exit()` to escape from the Python interpreter.\n",
    "\n",
    "---    "
   ]
  },
  {
   "cell_type": "markdown",
   "metadata": {},
   "source": [
    "When you complete this exercise, please put your green post-it on your monitor. \n",
    "\n",
    "If you want to continue on at your own-pace, please feel free to do so.\n",
    "\n",
    "<img src='../universal_images/green_sticky.300px.png' width='200' style='float:left'>"
   ]
  },
  {
   "cell_type": "code",
   "execution_count": null,
   "metadata": {},
   "outputs": [],
   "source": [
    "# A sample dictionary\n",
    "\n",
    "myd = {'name': 'dark lord',\n",
    "       'age': 99,\n",
    "       'languages': ['python', 'japanese'],\n",
    "       'favorite foods': 'sushi',\n",
    "       'favorite songs': ['crazy train', 'enter sandman'],\n",
    "       'fav_ice_cream': 'butter pecan',\n",
    "       'fav_cookie': 'chocolate chip with walnuts',\n",
    "      }\n"
   ]
  },
  {
   "cell_type": "code",
   "execution_count": null,
   "metadata": {},
   "outputs": [],
   "source": [
    "for key in myd:\n",
    "    print(key)"
   ]
  },
  {
   "cell_type": "code",
   "execution_count": null,
   "metadata": {},
   "outputs": [],
   "source": [
    "for value in myd.values():\n",
    "    print(value)"
   ]
  },
  {
   "cell_type": "code",
   "execution_count": null,
   "metadata": {},
   "outputs": [],
   "source": [
    "for k, v in myd.items():\n",
    "    print(k, '<->', v)"
   ]
  },
  {
   "cell_type": "code",
   "execution_count": null,
   "metadata": {
    "slideshow": {
     "slide_type": "fragment"
    }
   },
   "outputs": [],
   "source": [
    "# If we want to get a value but we're not sure if\n",
    "# that key/value pair exists BUT...\n",
    "# we don't want to crash\n",
    "\n",
    "# we have an option...\n",
    "\n",
    "contact['account_status']"
   ]
  },
  {
   "cell_type": "code",
   "execution_count": null,
   "metadata": {},
   "outputs": [],
   "source": [
    "# <tab-completion> enables us to see the types of \n",
    "#     methods associated with dictionaries...\n",
    "\n",
    "contact."
   ]
  },
  {
   "cell_type": "code",
   "execution_count": null,
   "metadata": {
    "slideshow": {
     "slide_type": "fragment"
    }
   },
   "outputs": [],
   "source": [
    "# .get() allows you to _get_ a default value back... \n",
    "# \n",
    "# NOTE: .get() does NOT alter OR update the dictionary.\n",
    "\n",
    "contact.get('account_status', 'Gwen did not include this')"
   ]
  },
  {
   "cell_type": "code",
   "execution_count": null,
   "metadata": {
    "slideshow": {
     "slide_type": "fragment"
    }
   },
   "outputs": [],
   "source": [
    "# Notice how the dictionary stays the same\n",
    "#     'account_status' has NOT been added\n",
    "\n",
    "contact"
   ]
  },
  {
   "cell_type": "code",
   "execution_count": null,
   "metadata": {
    "slideshow": {
     "slide_type": "slide"
    }
   },
   "outputs": [],
   "source": [
    "# .setdefault() on the other hand, allows you to _set_ a \n",
    "#     dictionary value based on a default value you provide,\n",
    "#     if the value does not already exist.\n",
    "\n",
    "contact.setdefault('account_status', 'No account')\n",
    "\n",
    "contact\n",
    "\n",
    "# NOTE: .setdefault() changes the dictionary"
   ]
  },
  {
   "cell_type": "code",
   "execution_count": null,
   "metadata": {
    "slideshow": {
     "slide_type": "fragment"
    }
   },
   "outputs": [],
   "source": [
    "# NOTE: if the value exists already, the .setdefault() method simply\n",
    "#     reads the existing value.\n",
    "\n",
    "contact.setdefault('number', 'Name not given')"
   ]
  },
  {
   "cell_type": "markdown",
   "metadata": {},
   "source": [
    "# Counting objects using dictionaries\n",
    "---"
   ]
  },
  {
   "cell_type": "code",
   "execution_count": null,
   "metadata": {},
   "outputs": [],
   "source": [
    "# Say we get in a string of characters and we want to see which letters\n",
    "#     have the highest frequency count\n",
    "\n",
    "chars = 'programmer'\n"
   ]
  },
  {
   "cell_type": "code",
   "execution_count": null,
   "metadata": {},
   "outputs": [],
   "source": [
    "count = {} # We create our counting dict\n",
    "\n",
    "for char in chars:\n",
    "    if char in count:          # Confirm whether we already saw this char\n",
    "        count[char] += 1       #     and add one to the tally\n",
    "    \n",
    "    else:                      # If not seen before, we create a NEW key\n",
    "        count[char] = 1        #     and set its value to 1\n",
    "    \n",
    "    print(char, count)         # As we use each character, let's see\n",
    "                               #     how the dictionary changes and grows\n"
   ]
  },
  {
   "cell_type": "code",
   "execution_count": null,
   "metadata": {},
   "outputs": [],
   "source": [
    "count"
   ]
  },
  {
   "cell_type": "code",
   "execution_count": null,
   "metadata": {},
   "outputs": [],
   "source": [
    "# This method is a lot simpler and shows the power of \n",
    "#     using some of the builtin methods associated\n",
    "#     with dictionaries \n",
    "# One key advantage is that it avoids the if/else statements\n",
    "\n",
    "chars = 'programmer'\n",
    "\n",
    "count = {}\n",
    "\n",
    "for char in chars:\n",
    "    count[char] = count.get(char, 0) + 1    # Using the get() method we don't need \n",
    "                                            # to have a value there already.\n",
    "                                            # If there is no value, the get() method  \n",
    "                                            # will return a 0 by default\n",
    "count            "
   ]
  },
  {
   "cell_type": "markdown",
   "metadata": {
    "slideshow": {
     "slide_type": "slide"
    }
   },
   "source": [
    "# XP Grind!\n",
    "\n",
    "In your **text editor** create a simple script called:\n",
    "\n",
    "`my_dicts_01.py`\n",
    "\n",
    "Execute your script in **jupyter** using the command:\n",
    "\n",
    "`run my_dicts_01.py`\n",
    "\n",
    "* Create a dictionary called: `user`\n",
    "* Have a `for` loop iterate through a list of the following strings: `['Name', 'Phone', 'City', 'State']`\n",
    "* In each iteration:\n",
    "    * use the current item from the list as a new key in the dictionary `user`\n",
    "    * get `input()` from the user to assign a value for that key\n",
    "\n",
    "* When done, print out `user`"
   ]
  },
  {
   "cell_type": "markdown",
   "metadata": {},
   "source": [
    "When you complete this exercise, please put your green post-it on your monitor. \n",
    "\n",
    "If you want to continue on at your own-pace, please feel free to do so.\n",
    "\n",
    "<img src='../universal_images/green_sticky.300px.png' width='200' style='float:left'>"
   ]
  },
  {
   "cell_type": "code",
   "execution_count": null,
   "metadata": {
    "slideshow": {
     "slide_type": "slide"
    }
   },
   "outputs": [],
   "source": [
    "user = {}\n",
    "\n",
    "for item in ['Name', 'Phone', 'City', 'State']:\n",
    "    user[item] = input('What is your current ' + item + ': ')\n",
    "\n",
    "print(user)    "
   ]
  },
  {
   "cell_type": "markdown",
   "metadata": {},
   "source": [
    "# Pretty Printing\n",
    "---"
   ]
  },
  {
   "cell_type": "markdown",
   "metadata": {
    "slideshow": {
     "slide_type": "slide"
    }
   },
   "source": [
    "There's a special module called `pprint` used to help PRINT large amounts of data, if the data is difficult to read."
   ]
  },
  {
   "cell_type": "code",
   "execution_count": null,
   "metadata": {},
   "outputs": [],
   "source": [
    "contact['num'] = [1,2,2,3,3,3,3,3,3,3,3,3,3,3,3,3,3,3,3,3]\n",
    "contact['friends'] = 'bob fred sue alex john tim todd'.split()\n",
    "\n",
    "print(contact)"
   ]
  },
  {
   "cell_type": "code",
   "execution_count": null,
   "metadata": {
    "slideshow": {
     "slide_type": "slide"
    }
   },
   "outputs": [],
   "source": [
    "# Pretty print generally puts every item on its own line and it sorts\n",
    "#     items in dictionaries alphabetically.\n",
    "\n",
    "import pprint\n",
    "pprint.pprint(contact)"
   ]
  },
  {
   "cell_type": "code",
   "execution_count": null,
   "metadata": {},
   "outputs": [],
   "source": [
    "# NOTE: above, we used pprint when we wanted to PRINT.\n",
    "#     By default, when IPython OR Jupyter notebooks\n",
    "#     EVALUATE code and display it, pprint (with some alternate\n",
    "#     default settings) is used behind the scenes to display\n",
    "#     the result of the evaluation\n",
    "\n",
    "contact"
   ]
  },
  {
   "cell_type": "code",
   "execution_count": null,
   "metadata": {
    "slideshow": {
     "slide_type": "subslide"
    }
   },
   "outputs": [],
   "source": [
    "# .pformat() allows you to capture the pprint() formatting for later use.\n",
    "#     it captures the newlines, etc.\n",
    "\n",
    "text = pprint.pformat(contact)\n",
    "\n",
    "print(text)"
   ]
  },
  {
   "cell_type": "markdown",
   "metadata": {},
   "source": [
    "# Bonus\n",
    "---"
   ]
  },
  {
   "cell_type": "markdown",
   "metadata": {},
   "source": [
    "There is actually a simpler means to counting items..."
   ]
  },
  {
   "cell_type": "code",
   "execution_count": null,
   "metadata": {},
   "outputs": [],
   "source": [
    "from collections import Counter\n",
    "c = Counter(chars)\n",
    "print(c)"
   ]
  },
  {
   "cell_type": "code",
   "execution_count": null,
   "metadata": {
    "collapsed": true
   },
   "outputs": [],
   "source": [
    "# A fun feature of Counters is that unlike dictionaries\n",
    "#     it includes an awesome method called: .most_common()\n",
    "\n",
    "c.most_common(4)"
   ]
  },
  {
   "cell_type": "markdown",
   "metadata": {},
   "source": [
    "# Words and definitions from earlier in this notebook.\n",
    "---\n",
    "\n",
    "montre:\n",
    "visible pipes of an organ\n",
    "\n",
    "xylotherapy:\n",
    "use of certain sorts of wood in treating disease\n",
    "\n",
    "eldritch:\n",
    "horrifying; arcane; strange\n",
    "\n",
    "graphospasm:\n",
    "writer's cramp\n",
    "\n"
   ]
  },
  {
   "cell_type": "code",
   "execution_count": null,
   "metadata": {},
   "outputs": [],
   "source": []
  }
 ],
 "metadata": {
  "anaconda-cloud": {},
  "celltoolbar": "Slideshow",
  "kernelspec": {
   "display_name": "Python 3",
   "language": "python",
   "name": "python3"
  },
  "language_info": {
   "codemirror_mode": {
    "name": "ipython",
    "version": 3
   },
   "file_extension": ".py",
   "mimetype": "text/x-python",
   "name": "python",
   "nbconvert_exporter": "python",
   "pygments_lexer": "ipython3",
   "version": "3.6.8"
  }
 },
 "nbformat": 4,
 "nbformat_minor": 2
}
