{
 "cells": [
  {
   "cell_type": "markdown",
   "metadata": {},
   "source": [
    "# Booz Allen Careers... https://www.boozallen.com/careers.html\n",
    "\n",
    "Careers in:\n",
    "**cybersecurity | analytics | digital solutions | engineering and science | consulting**\n",
    "\n",
    "# Project Jupyter 2-day Hackathon: http://bit.ly/jupyter_hackathon_2018\n",
    "\n",
    "Join Project Jupyter's Dr. Brian Granger and Ian Rose to fix bugs, add features, improve documentation\n",
    "* javascript\n",
    "* python\n",
    "* system admin skills\n",
    "* browser-based technology\n",
    "* ux/ui\n",
    "* documentation\n",
    "\n",
    "# PyHawaii Upcoming events:... http://bit.ly/pyhawaii_events"
   ]
  },
  {
   "cell_type": "code",
   "execution_count": null,
   "metadata": {},
   "outputs": [],
   "source": []
  },
  {
   "cell_type": "code",
   "execution_count": 22,
   "metadata": {},
   "outputs": [],
   "source": [
    "terms = '''Bell, Audra [USA] <Bell_Audra@bah.com>; \n",
    "Donley, Brett [USA] <Donley_Brett@bah.com>;\n",
    "Glover, Charles [USA] <Glover_Charles@bah.com>;\n",
    "Jones, Curtiss;\n",
    "Lipinski, Nathan [USA] <Lipinski_Nathan@bah.com>; \n",
    "Lowe, Chalmer [USA] <lowe_chalmer@bah.com>; \n",
    "Merritt, Sam [USA] <Merritt_Samuel@bah.com>; \n",
    "Provo, Richard [USA] <Provo_Richard@bah.com>; \n",
    "Pugh, Clinton [USA] <Pugh_Clinton@bah.com>; \n",
    "Smith, Kyle <Smith_Kyle3@bah.com>; \n",
    "Stevens, Julia [USA] <Stevens_Julia@bah.com>\n",
    "'''"
   ]
  },
  {
   "cell_type": "code",
   "execution_count": 33,
   "metadata": {},
   "outputs": [
    {
     "name": "stdout",
     "output_type": "stream",
     "text": [
      "Bell, Audra\n",
      "Donley, Brett\n",
      "Glover, Charles\n",
      "Jones, Curtiss\n",
      "Lipinski, Nathan\n",
      "Lowe, Chalmer\n",
      "Merritt, Sam\n",
      "Provo, Richard\n",
      "Pugh, Clinton\n",
      "Smith, Kyle\n",
      "Stevens, Julia\n"
     ]
    }
   ],
   "source": [
    "def cleaner(term):\n",
    "    term = term.strip() \n",
    "    if '[USA]' in term:\n",
    "        return term.split(' [')[0]\n",
    "    elif '<' in term:\n",
    "        return term.split(' <')[0]\n",
    "    else:\n",
    "        return term        \n",
    "    \n",
    "for name in terms.split(';'):\n",
    "    print(cleaner(name))"
   ]
  },
  {
   "cell_type": "code",
   "execution_count": 34,
   "metadata": {},
   "outputs": [
    {
     "data": {
      "text/plain": [
       "'/Users/chalmerlowe/gdrive/darkart/class_material_data_analysis/jarvis_II/13_xml_json'"
      ]
     },
     "execution_count": 34,
     "metadata": {},
     "output_type": "execute_result"
    }
   ],
   "source": [
    "pwd\n"
   ]
  },
  {
   "cell_type": "code",
   "execution_count": 35,
   "metadata": {},
   "outputs": [
    {
     "ename": "FileNotFoundError",
     "evalue": "[Errno 2] No such file or directory: '1138090f.doc'",
     "output_type": "error",
     "traceback": [
      "\u001b[0;31m---------------------------------------------------------------------------\u001b[0m",
      "\u001b[0;31mFileNotFoundError\u001b[0m                         Traceback (most recent call last)",
      "\u001b[0;32m~/gdrive/darkart/puzzles/my_puzzles/01_scrabble/word_by_index.py\u001b[0m in \u001b[0;36m<module>\u001b[0;34m\u001b[0m\n\u001b[1;32m     11\u001b[0m \u001b[0;31m# Solution 0 ----------------------------\u001b[0m\u001b[0;34m\u001b[0m\u001b[0;34m\u001b[0m\u001b[0m\n\u001b[1;32m     12\u001b[0m \u001b[0;34m\u001b[0m\u001b[0m\n\u001b[0;32m---> 13\u001b[0;31m \u001b[0mfin\u001b[0m \u001b[0;34m=\u001b[0m \u001b[0mopen\u001b[0m\u001b[0;34m(\u001b[0m\u001b[0;34m'1138090f.doc'\u001b[0m\u001b[0;34m)\u001b[0m\u001b[0;34m\u001b[0m\u001b[0m\n\u001b[0m\u001b[1;32m     14\u001b[0m \u001b[0;34m\u001b[0m\u001b[0m\n\u001b[1;32m     15\u001b[0m \u001b[0mwords\u001b[0m \u001b[0;34m=\u001b[0m \u001b[0;34m[\u001b[0m\u001b[0;34m]\u001b[0m\u001b[0;34m\u001b[0m\u001b[0m\n",
      "\u001b[0;31mFileNotFoundError\u001b[0m: [Errno 2] No such file or directory: '1138090f.doc'"
     ]
    }
   ],
   "source": [
    "run '../../../../darkart/puzzles/my_puzzles/01_scrabble/word_by_index.py'"
   ]
  },
  {
   "cell_type": "code",
   "execution_count": null,
   "metadata": {},
   "outputs": [],
   "source": []
  }
 ],
 "metadata": {
  "kernelspec": {
   "display_name": "Python 3",
   "language": "python",
   "name": "python3"
  },
  "language_info": {
   "codemirror_mode": {
    "name": "ipython",
    "version": 3
   },
   "file_extension": ".py",
   "mimetype": "text/x-python",
   "name": "python",
   "nbconvert_exporter": "python",
   "pygments_lexer": "ipython3",
   "version": "3.7.0"
  }
 },
 "nbformat": 4,
 "nbformat_minor": 2
}
