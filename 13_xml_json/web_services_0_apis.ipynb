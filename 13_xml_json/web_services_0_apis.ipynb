{
 "cells": [
  {
   "cell_type": "markdown",
   "metadata": {},
   "source": [
    "# Welcome to the Dark Art of Coding:\n",
    "## Introduction to Python\n",
    "Web services: APIs >>> using application program interfaces\n",
    "\n",
    "<img src='../universal_images/dark_art_logo.600px.png' width='300' style=\"float:right\">"
   ]
  },
  {
   "cell_type": "markdown",
   "metadata": {},
   "source": [
    "# Objectives\n",
    "---"
   ]
  },
  {
   "cell_type": "markdown",
   "metadata": {},
   "source": [
    "In this session, students should expect to:\n",
    "\n",
    "* Understand what an application program interface (API) is \n",
    "* Understand what an implementation of an API is\n",
    "* Explore (at a high level) two primary types of data transfer formats used in APIs\n",
    "   * JSON\n",
    "   * XML\n"
   ]
  },
  {
   "cell_type": "markdown",
   "metadata": {},
   "source": [
    "# Application program interface (API)\n",
    "---"
   ]
  },
  {
   "cell_type": "markdown",
   "metadata": {},
   "source": [
    "Application program interfaces (API) specify the interfaces for programs/software and the behavior of objects in or used by the software. A common purpose of an API is to allow data to be exchanged with the program."
   ]
  },
  {
   "cell_type": "markdown",
   "metadata": {},
   "source": [
    "# API implementation\n",
    "---"
   ]
  },
  {
   "cell_type": "markdown",
   "metadata": {},
   "source": [
    "The software that gives you access to the API is often called an \"implementation\""
   ]
  },
  {
   "cell_type": "markdown",
   "metadata": {},
   "source": [
    "# Data transfer formats\n",
    "---"
   ]
  },
  {
   "cell_type": "markdown",
   "metadata": {},
   "source": [
    "There are many protocols to share data across the Internet. A popular protocol is the Hyper Text Transfer Protocol (HTTP). Regardless of which protocol is used, one of the primary purposes is to send a data payload from from one device to another.\n",
    "\n",
    "What that data payload should look like is the subject of much debate. But two formats have become very popular: \n",
    "\n",
    "* JSON\n",
    "* XML\n",
    "\n",
    "Data transfer formats are sometimes referred to as \"wire formats\""
   ]
  },
  {
   "cell_type": "markdown",
   "metadata": {},
   "source": [
    "## json: javascript object notation"
   ]
  },
  {
   "cell_type": "markdown",
   "metadata": {},
   "source": [
    "JSON was designed to share structured data, and was intended to be a light weight format. It is intended to be fairly easy for humans to read and write. It uses data structures that are very similar to those found in languages like: `Python`, `C`, `C++`, `Java`, `JavaScript` and more. JSON's two data structures include:\n",
    "\n",
    "* name/value pairs (i.e. Python dictionaries)\n",
    "* ordered lists of values (i.e. Python lists)\n",
    "\n",
    "```json\n",
    "{\"first_name\" : \"Dark\",\n",
    " \"last_name\" : \"Lord\",\n",
    " \"language\" : {\n",
    "   \"type\" : \"primary\",\n",
    "   \"name\": \"Python\"\n",
    "   }\n",
    "}\n",
    "```"
   ]
  },
  {
   "cell_type": "markdown",
   "metadata": {},
   "source": [
    "An in-depth look at JSON is coverd in another discussion."
   ]
  },
  {
   "cell_type": "markdown",
   "metadata": {},
   "source": [
    "## XML"
   ]
  },
  {
   "cell_type": "markdown",
   "metadata": {},
   "source": [
    "XML stands for eXtensible Markup Language.\n",
    "\n",
    "XML was designed to share structured data.\n",
    "It is characterized by the presence of tags, attributes and textual content. XML is heavier than JSON.\n",
    "\n",
    "```xml\n",
    "<developer>\n",
    "  <first_name>Dark</first_name>\n",
    "  <last_name>Lord</last_name>\n",
    "  <language type=\"primary\">\n",
    "     Python\n",
    "  </language>\n",
    "</developer>\n",
    "```"
   ]
  },
  {
   "cell_type": "markdown",
   "metadata": {},
   "source": [
    "An in-depth look at XML is coverd in another discussion."
   ]
  },
  {
   "cell_type": "markdown",
   "metadata": {},
   "source": [
    "# An example of the beauty of APIs"
   ]
  },
  {
   "cell_type": "markdown",
   "metadata": {},
   "source": [
    "For this example, we will use an open API that shares information about the International Space Station.\n",
    "\n",
    "To see details about what types of info is delivered by this API:\n",
    "\n",
    "http://open-notify.org/Open-Notify-API/\n",
    "\n",
    "**WARNING** When you try to get info from an API such as this, be cautious and polite. Don't request information from the API too frequently in too short of a time, it may overwhelm the server and cause an unintended Denial of Service (DOS) attack."
   ]
  },
  {
   "cell_type": "code",
   "execution_count": null,
   "metadata": {},
   "outputs": [],
   "source": [
    "import json\n",
    "import urllib\n",
    "import time\n",
    "\n",
    "url = \"http://api.open-notify.org/iss-now.json\"\n",
    "\n",
    "for cycle in range(3):              # This will only run three times\n",
    "    data = json.load(urllib.request.urlopen(url))\n",
    "    print(data)\n",
    "    time.sleep(5)                   # This script pauses for five seconds\n",
    "                                    #     between requests"
   ]
  },
  {
   "cell_type": "code",
   "execution_count": null,
   "metadata": {},
   "outputs": [],
   "source": [
    "# Let's get just the lat/long\n",
    "\n",
    "data['iss_position']"
   ]
  },
  {
   "cell_type": "code",
   "execution_count": null,
   "metadata": {},
   "outputs": [],
   "source": []
  }
 ],
 "metadata": {
  "kernelspec": {
   "display_name": "Python 3",
   "language": "python",
   "name": "python3"
  },
  "language_info": {
   "codemirror_mode": {
    "name": "ipython",
    "version": 3
   },
   "file_extension": ".py",
   "mimetype": "text/x-python",
   "name": "python",
   "nbconvert_exporter": "python",
   "pygments_lexer": "ipython3",
   "version": "3.6.8"
  }
 },
 "nbformat": 4,
 "nbformat_minor": 2
}
