{
 "cells": [
  {
   "cell_type": "markdown",
   "metadata": {},
   "source": [
    "# Welcome to the Dark Art of Coding:\n",
    "## Introduction to Python\n",
    "Web services: JSON\n",
    "\n",
    "<img src='../images/dark_art_logo.600px.png' width='300' style=\"float:right\">"
   ]
  },
  {
   "cell_type": "markdown",
   "metadata": {},
   "source": [
    "# Objectives\n",
    "---"
   ]
  },
  {
   "cell_type": "markdown",
   "metadata": {},
   "source": [
    "In this session, students should expect to:\n",
    "\n",
    "* Understand the basics of the JSON format\n",
    "* Read in JSON strings\n",
    "* Write out JSON strings\n"
   ]
  },
  {
   "cell_type": "markdown",
   "metadata": {},
   "source": [
    "# The JSON format\n",
    "---"
   ]
  },
  {
   "cell_type": "markdown",
   "metadata": {},
   "source": [
    "Fundamentally, JSON is only composed of a handful of elements. Most of these elements closely mirror the elements seen in Python.\n",
    "\n",
    "The images below are taken from the following website:\n",
    "[http://www.json.org/](http://www.json.org/)"
   ]
  },
  {
   "cell_type": "markdown",
   "metadata": {},
   "source": [
    "**object**\n",
    "\n",
    "A JSON object looks very much like a Python dictionary.\n",
    "\n",
    "* encapsulated with a pair of curly braces `{}`\n",
    "* keys/values separated by a colon `:`\n",
    "* multiple key and value pairs separated from each other by commas `,`\n",
    "\n",
    "<img src='object_json.png' width='450'>"
   ]
  },
  {
   "cell_type": "markdown",
   "metadata": {},
   "source": [
    "**array**\n",
    "\n",
    "A JSON array looks like a Python list.\n",
    "\n",
    "* encapsulated with a pair of square brackets\n",
    "* values separated from each other by commas `,`\n",
    "\n",
    "<img src='array_json.png' width='450'>"
   ]
  },
  {
   "cell_type": "markdown",
   "metadata": {},
   "source": [
    "**value**\n",
    "\n",
    "A JSON value may be any of the following items:\n",
    "\n",
    "<img src='value_json.png' width='450'>"
   ]
  },
  {
   "cell_type": "markdown",
   "metadata": {},
   "source": [
    "**string**\n",
    "\n",
    "A JSON string is formed in much the same way as a Python string, with many of the same rules/guidelines. In addition, there are some allowances made for specific computing commands (newline, return, etc)."
   ]
  },
  {
   "cell_type": "markdown",
   "metadata": {},
   "source": [
    "<img src='string_json.png' width='450'>"
   ]
  },
  {
   "cell_type": "markdown",
   "metadata": {},
   "source": [
    "**number**\n",
    "\n",
    "A JSON number is very similar to a variety of the Python style numbers (int, float, etc) and may include:\n",
    "\n",
    "* positive/negative numbers\n",
    "* scientific notation with positive and negative exponentiation\n",
    "* decimal notation"
   ]
  },
  {
   "cell_type": "markdown",
   "metadata": {},
   "source": [
    "<img src='number_json.png' width='450'>"
   ]
  },
  {
   "cell_type": "markdown",
   "metadata": {},
   "source": [
    "# JSON samples\n",
    "---"
   ]
  },
  {
   "cell_type": "markdown",
   "metadata": {},
   "source": [
    "## sample zero\n",
    "\n",
    "```json\n",
    "{\"movie\": \"wonder woman\"}\n",
    "```"
   ]
  },
  {
   "cell_type": "markdown",
   "metadata": {},
   "source": [
    "## sample one\n",
    "\n",
    "```json\n",
    "{\"movies\": [\"wonder woman\", \"batman begins\", \"suicide squad\"]}\n",
    "```"
   ]
  },
  {
   "cell_type": "markdown",
   "metadata": {},
   "source": [
    "## sample two\n",
    "\n",
    "```json\n",
    "{    \"movie\": \n",
    "             {\"title\": \"wonder woman\",      # This dictionary is nested as the \n",
    "              \"lead actress\": \"gal gadot\"   # value for the movie key.\n",
    "             }\n",
    "}\n",
    "```"
   ]
  },
  {
   "cell_type": "markdown",
   "metadata": {},
   "source": [
    "## sample three\n",
    "\n",
    "```json\n",
    "{    \"movie\": \n",
    "     {\"title\": \"wonder woman\",           \n",
    "      \"lead actress\": \"gal gadot\",       \n",
    "      \"director\": \"Patty Jenkins\",\n",
    "      \"other actors\": ['chris pine', 'robin wright', 'david thewlis']\n",
    "     }\n",
    "}\n",
    "```"
   ]
  },
  {
   "cell_type": "markdown",
   "metadata": {},
   "source": [
    "\n",
    "## sample four\n",
    "\n",
    "```json\n",
    "{\n",
    "        \"name\":\"merchandise\",\n",
    "        \"properties\":\n",
    "        {\n",
    "                \"id\":\n",
    "                {\n",
    "                        \"type\":\"numeric\",\n",
    "                        \"description\":\"merchandise identifier\",\n",
    "                        \"required\":true\n",
    "                        \"format\":\"nn-nnn-nnnnnn\"\n",
    "                },\n",
    "                \"name\":\n",
    "                {\n",
    "                        \"description\":\"Name of the merchandise\",\n",
    "                        \"type\":\"string\",\n",
    "                        \"required\":true\n",
    "                },\n",
    "                \"price\":\n",
    "                {\n",
    "                        \"type\":\"numeric\",\n",
    "                        \"minimum\": [0, 0.0, 0.00],\n",
    "                        \"required\":true\n",
    "                }\n",
    "        }\n",
    "}\n",
    "```\n"
   ]
  },
  {
   "cell_type": "markdown",
   "metadata": {},
   "source": [
    "## sample five\n",
    "\n",
    "```json\n",
    "{\n",
    "    \"colorsArray\": [{\n",
    "            \"hexValue\":\"#ff0000\",\n",
    "            \"colorName\":\"red\"\n",
    "        },\n",
    "        {\n",
    "            \"hexValue\":\"#000000\",\n",
    "            \"colorName\":\"black\"          \n",
    "        }\n",
    "    ]\n",
    "}\n",
    "```"
   ]
  },
  {
   "cell_type": "markdown",
   "metadata": {},
   "source": [
    "## sample six\n",
    "\n",
    "```json\n",
    "{\n",
    "     \"lastName\": \"John\",\n",
    "     \"firstName\": \"Smith\",\n",
    "     \"dob\": 1969,\n",
    "     \"address\":\n",
    "     {\n",
    "         \"streetAddress\": \"364 S King St\",\n",
    "         \"city\": \"Honolulu\",\n",
    "         \"state\": \"HI\",\n",
    "         \"postalCode\": \"96813\"\n",
    "     },\n",
    "     \"phoneNumber\":\n",
    "     [\n",
    "         {\n",
    "           \"type\": \"home\",\n",
    "           \"number\": \"808 123-9876\"\n",
    "         },\n",
    "         {\n",
    "           \"type\": \"cell\",\n",
    "           \"number\": \"808 987-1234\"\n",
    "         }\n",
    "     ]\n",
    " }\n",
    " ```\n"
   ]
  },
  {
   "cell_type": "markdown",
   "metadata": {},
   "source": [
    "# Reading JSON\n",
    "---"
   ]
  },
  {
   "cell_type": "code",
   "execution_count": 1,
   "metadata": {
    "collapsed": true
   },
   "outputs": [],
   "source": [
    "import json\n",
    "\n",
    "sample_four = '''{\n",
    "        \"name\":\"merchandise\",\n",
    "        \"properties\":\n",
    "        {\n",
    "                \"id\":\n",
    "                {\n",
    "                        \"type\":\"numeric\",\n",
    "                        \"description\":\"merchandise identifier\",\n",
    "                        \"required\":true,\n",
    "                        \"format\":\"nn-nnn-nnnnnn\"\n",
    "                },\n",
    "                \"name\":\n",
    "                {\n",
    "                        \"description\":\"Name of the merchandise\",\n",
    "                        \"type\":\"string\",\n",
    "                        \"required\":true\n",
    "                },\n",
    "                \"price\":\n",
    "                {\n",
    "                        \"type\":\"numeric\",\n",
    "                        \"minimum\": [0, 0.0, 0.00],\n",
    "                        \"required\":true\n",
    "                }\n",
    "        }\n",
    "}'''"
   ]
  },
  {
   "cell_type": "code",
   "execution_count": 10,
   "metadata": {
    "collapsed": true
   },
   "outputs": [
    {
     "name": "stdout",
     "output_type": "stream",
     "text": [
      "hello world\n"
     ]
    }
   ],
   "source": [
    "# If you have a STRING...use *.loads() \n",
    "# This is short for 'load string'\n",
    "# cmmnt\n",
    "\n",
    "print('hello world')\n",
    "\n",
    "info = json.loads(sample_four)"
   ]
  },
  {
   "cell_type": "code",
   "execution_count": 7,
   "metadata": {},
   "outputs": [],
   "source": [
    "import random"
   ]
  },
  {
   "cell_type": "code",
   "execution_count": 11,
   "metadata": {},
   "outputs": [
    {
     "name": "stdout",
     "output_type": "stream",
     "text": [
      "dict_keys(['name', 'properties'])\n"
     ]
    }
   ],
   "source": [
    "\n",
    "print(info.keys())"
   ]
  },
  {
   "cell_type": "code",
   "execution_count": 12,
   "metadata": {},
   "outputs": [
    {
     "name": "stdout",
     "output_type": "stream",
     "text": [
      "{'name': 'merchandise', 'properties': {'id': {'type': 'numeric', 'description': 'merchandise identifier', 'required': True, 'format': 'nn-nnn-nnnnnn'}, 'name': {'description': 'Name of the merchandise', 'type': 'string', 'required': True}, 'price': {'type': 'numeric', 'minimum': [0, 0.0, 0.0], 'required': True}}}\n",
      "<class 'dict'>\n"
     ]
    }
   ],
   "source": [
    "# Let's print the object and the type() of object we get back and look at it.\n",
    "\n",
    "print(info, type(info), sep='\\n')\n",
    "\n",
    "# We see that we got out a Python dictionary"
   ]
  },
  {
   "cell_type": "markdown",
   "metadata": {},
   "source": [
    "## Pretty Printing json"
   ]
  },
  {
   "cell_type": "code",
   "execution_count": 13,
   "metadata": {},
   "outputs": [
    {
     "name": "stdout",
     "output_type": "stream",
     "text": [
      "{'name': 'merchandise',\n",
      " 'properties': {'id': {'description': 'merchandise identifier',\n",
      "                       'format': 'nn-nnn-nnnnnn',\n",
      "                       'required': True,\n",
      "                       'type': 'numeric'},\n",
      "                'name': {'description': 'Name of the merchandise',\n",
      "                         'required': True,\n",
      "                         'type': 'string'},\n",
      "                'price': {'minimum': [0, 0.0, 0.0],\n",
      "                          'required': True,\n",
      "                          'type': 'numeric'}}}\n"
     ]
    }
   ],
   "source": [
    "# json can be ugly and hard to read...\n",
    "# pretty printing can help some of that...\n",
    "\n",
    "from pprint import pprint\n",
    "pprint(info)"
   ]
  },
  {
   "cell_type": "markdown",
   "metadata": {},
   "source": [
    "## Bracket syntax: `object[index]` OR `object[key]`"
   ]
  },
  {
   "cell_type": "code",
   "execution_count": 14,
   "metadata": {},
   "outputs": [
    {
     "data": {
      "text/plain": [
       "'merchandise'"
      ]
     },
     "execution_count": 14,
     "metadata": {},
     "output_type": "execute_result"
    }
   ],
   "source": [
    "# because the json module produces lists and dictionaries\n",
    "# you already know how to extract data from the these data types\n",
    "\n",
    "# For example, to get the value associated with the key 'name'\n",
    "\n",
    "info['name']"
   ]
  },
  {
   "cell_type": "markdown",
   "metadata": {},
   "source": [
    "### multiple views: 'evaluation', 'print', 'pprint'"
   ]
  },
  {
   "cell_type": "code",
   "execution_count": 15,
   "metadata": {},
   "outputs": [
    {
     "data": {
      "text/plain": [
       "{'id': {'description': 'merchandise identifier',\n",
       "  'format': 'nn-nnn-nnnnnn',\n",
       "  'required': True,\n",
       "  'type': 'numeric'},\n",
       " 'name': {'description': 'Name of the merchandise',\n",
       "  'required': True,\n",
       "  'type': 'string'},\n",
       " 'price': {'minimum': [0, 0.0, 0.0], 'required': True, 'type': 'numeric'}}"
      ]
     },
     "execution_count": 15,
     "metadata": {},
     "output_type": "execute_result"
    }
   ],
   "source": [
    "# You can extract any value using the name of the appropriate key.\n",
    "\n",
    "# NOTE: simple evaluation on the IPython OR the Jupyter prompt is\n",
    "#     reasonably good, because they use a form of \n",
    "#     configured version of pprint in the background\n",
    "\n",
    "info['properties']"
   ]
  },
  {
   "cell_type": "code",
   "execution_count": 16,
   "metadata": {},
   "outputs": [
    {
     "name": "stdout",
     "output_type": "stream",
     "text": [
      "{'id': {'type': 'numeric', 'description': 'merchandise identifier', 'required': True, 'format': 'nn-nnn-nnnnnn'}, 'name': {'description': 'Name of the merchandise', 'type': 'string', 'required': True}, 'price': {'type': 'numeric', 'minimum': [0, 0.0, 0.0], 'required': True}}\n"
     ]
    }
   ],
   "source": [
    "# WARNING: print is horrible with deeply nested dictionaries OR lists\n",
    "\n",
    "print(info['properties'])"
   ]
  },
  {
   "cell_type": "code",
   "execution_count": 17,
   "metadata": {},
   "outputs": [
    {
     "name": "stdout",
     "output_type": "stream",
     "text": [
      "{'id': {'description': 'merchandise identifier',\n",
      "        'format': 'nn-nnn-nnnnnn',\n",
      "        'required': True,\n",
      "        'type': 'numeric'},\n",
      " 'name': {'description': 'Name of the merchandise',\n",
      "          'required': True,\n",
      "          'type': 'string'},\n",
      " 'price': {'minimum': [0, 0.0, 0.0], 'required': True, 'type': 'numeric'}}\n"
     ]
    }
   ],
   "source": [
    "# If you want to create a script that displays to the screen\n",
    "#     pprint works well in your scripts\n",
    "\n",
    "pprint(info['properties'])"
   ]
  },
  {
   "cell_type": "markdown",
   "metadata": {},
   "source": [
    "## Chained bracket syntax: \n",
    "\n",
    "```python\n",
    "object[index][index][index]\n",
    "object[key][key][key]\n",
    "object[key][index][key]\n",
    "```                     "
   ]
  },
  {
   "cell_type": "code",
   "execution_count": 18,
   "metadata": {},
   "outputs": [
    {
     "data": {
      "text/plain": [
       "{'description': 'merchandise identifier',\n",
       " 'format': 'nn-nnn-nnnnnn',\n",
       " 'required': True,\n",
       " 'type': 'numeric'}"
      ]
     },
     "execution_count": 18,
     "metadata": {},
     "output_type": "execute_result"
    }
   ],
   "source": [
    "# The value associated with the 'properties' key is \n",
    "#     simply a dictionary\n",
    "#     so we can use a one of the keys in that dictionary \n",
    "#     to extract nested data\n",
    "#     Let's look at what value is associated with the 'id' key\n",
    "\n",
    "\n",
    "info['properties']['id']"
   ]
  },
  {
   "cell_type": "code",
   "execution_count": 19,
   "metadata": {},
   "outputs": [
    {
     "data": {
      "text/plain": [
       "'nn-nnn-nnnnnn'"
      ]
     },
     "execution_count": 19,
     "metadata": {},
     "output_type": "execute_result"
    }
   ],
   "source": [
    "# The value associated with the 'id' key is \n",
    "#     simply a dictionary\n",
    "#     Let's look at what value is associated with the 'format' key\n",
    "\n",
    "info['properties']['id']['format']"
   ]
  },
  {
   "cell_type": "code",
   "execution_count": 20,
   "metadata": {},
   "outputs": [
    {
     "data": {
      "text/plain": [
       "'merchandise identifier'"
      ]
     },
     "execution_count": 20,
     "metadata": {},
     "output_type": "execute_result"
    }
   ],
   "source": [
    "# Next, let's look at the value associated with the \n",
    "#     'description' key.\n",
    "\n",
    "info['properties']['id']['description']"
   ]
  },
  {
   "cell_type": "code",
   "execution_count": null,
   "metadata": {},
   "outputs": [],
   "source": [
    "# new cell"
   ]
  },
  {
   "cell_type": "code",
   "execution_count": 21,
   "metadata": {},
   "outputs": [
    {
     "data": {
      "text/plain": [
       "'r'"
      ]
     },
     "execution_count": 21,
     "metadata": {},
     "output_type": "execute_result"
    }
   ],
   "source": [
    "# If we need to extract a particular value from a list or a \n",
    "#     string, indexing works.\n",
    "#     Here we will extract the last letter of the value\n",
    "#     associated with the key: 'description'\n",
    "\n",
    "info['properties']['id']['description'][-1]"
   ]
  },
  {
   "cell_type": "code",
   "execution_count": 22,
   "metadata": {},
   "outputs": [
    {
     "data": {
      "text/plain": [
       "0.0"
      ]
     },
     "execution_count": 22,
     "metadata": {},
     "output_type": "execute_result"
    }
   ],
   "source": [
    "# Another example: here we chain keys and indexes successfully:\n",
    "#     The 'properties' key is associated with a dictionary that contains a 'price' key\n",
    "#     The 'price' key is associated with a dictionary the contains the 'minimum' key\n",
    "#     The 'minimum' key is associated with a list, that has an item in index '1'\n",
    "\n",
    "info['properties']['price']['minimum'][1]"
   ]
  },
  {
   "cell_type": "markdown",
   "metadata": {},
   "source": [
    "# Writing JSON\n",
    "---"
   ]
  },
  {
   "cell_type": "code",
   "execution_count": null,
   "metadata": {
    "collapsed": true
   },
   "outputs": [],
   "source": [
    "data = {'a list': [1, 42, 3.141, 1337, 'help', u'€'],\n",
    "        'a string': 'bla',\n",
    "        'another dict': {'foo': 'bar',\n",
    "                         'key': 'value',\n",
    "                         'the answer': 42}}\n",
    "\n"
   ]
  },
  {
   "cell_type": "code",
   "execution_count": null,
   "metadata": {
    "collapsed": true
   },
   "outputs": [],
   "source": [
    "# with ... as ... \n",
    "# Using a context manager...\n",
    "\n",
    "# This syntax may be a bit odd at first, but it is not really much different than:\n",
    "# fout = open('misc.json', 'w')\n",
    "# \n",
    "# The benefit is that the with statement opens a context manager in the background \n",
    "#     such that as soon as you finish this code block, \n",
    "#     the context manager will close your file for you.\n",
    "\n",
    "\n",
    "with open('misc.json', 'w') as fout:    \n",
    "    json.dump(data, fout, skipkeys=True)\n"
   ]
  },
  {
   "cell_type": "code",
   "execution_count": null,
   "metadata": {
    "collapsed": true
   },
   "outputs": [],
   "source": [
    "# go look at misc.json\n",
    "%pycat misc.json"
   ]
  },
  {
   "cell_type": "code",
   "execution_count": null,
   "metadata": {
    "collapsed": true
   },
   "outputs": [],
   "source": [
    "with open('misc_neat.json', 'w') as fout:\n",
    "    json.dump(data, fout,\n",
    "              indent=4, \n",
    "              sort_keys=True,\n",
    "              separators=(',', ': '), \n",
    "              ensure_ascii=False)\n"
   ]
  },
  {
   "cell_type": "code",
   "execution_count": null,
   "metadata": {
    "collapsed": true
   },
   "outputs": [],
   "source": [
    "# go look at misc_neat.json\n",
    "%pycat misc_neat.json"
   ]
  },
  {
   "cell_type": "code",
   "execution_count": null,
   "metadata": {
    "collapsed": true
   },
   "outputs": [],
   "source": [
    "# Let's look more closely at the dump method...\n",
    "\n",
    "json.dump?"
   ]
  },
  {
   "cell_type": "markdown",
   "metadata": {},
   "source": [
    "# a real world example\n",
    "---"
   ]
  },
  {
   "cell_type": "markdown",
   "metadata": {},
   "source": [
    "### Sample data from long_stocks.json:\n",
    "\n",
    "Simple dictionary with strings as keys and lists as values.\n",
    "\n",
    "* each key is a stock symbol\n",
    "* each value is a list of prices over time\n",
    "* each of the lists can be quite long\n",
    "\n",
    "```{\"NKO\": [\"13.53\", \"13.52\", \"13.55\", ..., \"8.98\", \"9.05\"],\n",
    " \"NVY\": [...],\n",
    " ...\n",
    " \"NWD\": [...]}\n",
    "```"
   ]
  },
  {
   "cell_type": "code",
   "execution_count": null,
   "metadata": {
    "collapsed": true
   },
   "outputs": [],
   "source": [
    "with open('long_stocks.json') as inputfile:\n",
    "    prices = json.load(inputfile)\n",
    "\n",
    "    select_stock = {}\n",
    "    for stock in prices:\n",
    "        for price in prices[stock]:\n",
    "            num_price = float(price)\n",
    "            if num_price > 20.0:\n",
    "                select_stock[stock] = select_stock.get(stock, []) + [price]\n",
    "                "
   ]
  },
  {
   "cell_type": "code",
   "execution_count": null,
   "metadata": {},
   "outputs": [],
   "source": [
    "# Let's take a look at all the stocks from the file\n",
    "\n",
    "prices.keys()"
   ]
  },
  {
   "cell_type": "code",
   "execution_count": null,
   "metadata": {},
   "outputs": [],
   "source": [
    "# Now, let's take a look at all the stocks that had prices\n",
    "#     that exceeded the minimum value at least once...\n",
    "\n",
    "select_stock.keys()"
   ]
  },
  {
   "cell_type": "code",
   "execution_count": null,
   "metadata": {},
   "outputs": [],
   "source": [
    "# If we want to get a sample of the values for a particular stock, \n",
    "#     since the collection of values is a list, we can step \n",
    "#     over the values using slicing. \n",
    "# Here we step by 200, to look at every 200th price.\n",
    "\n",
    "select_stock['NVR'][::200]"
   ]
  },
  {
   "cell_type": "code",
   "execution_count": null,
   "metadata": {},
   "outputs": [],
   "source": [
    "# To find out how many times the price exceeded 20.0 for each\n",
    "#     of our stocks, we can calculate the length\n",
    "#     of the value.\n",
    "\n",
    "for stock in select_stock:\n",
    "    print(stock, len(select_stock[stock]))"
   ]
  },
  {
   "cell_type": "code",
   "execution_count": null,
   "metadata": {
    "collapsed": true
   },
   "outputs": [],
   "source": [
    "with open('prices.json', 'w') as outputfile:\n",
    "    json.dump(select_stock, outputfile,\n",
    "             indent=4)"
   ]
  },
  {
   "cell_type": "markdown",
   "metadata": {},
   "source": [
    "# Experience Points!\n",
    "---"
   ]
  },
  {
   "cell_type": "markdown",
   "metadata": {},
   "source": [
    "In your **text editor** create a simple script called:\n",
    "\n",
    "```bash\n",
    "my_json_01.py```\n",
    "\n",
    "Execute your script in the **IPython interpreter** using the command:\n",
    "\n",
    "```bash\n",
    "run my_json_01.py```\n",
    "\n",
    "I suggest that as you add each feature to your script that you run it right away to test it incrementally. \n",
    "\n",
    "1. Open the `data.json` file.\n",
    "1. Load the json\n",
    "1. Check whether the string `13.37` is present in association with the stock `NVY`.\n",
    "1. IF yes, then print the `index` of the string `13.37` AND print the value at that index to confirm that it really is `13.37`.\n"
   ]
  },
  {
   "cell_type": "markdown",
   "metadata": {},
   "source": [
    "When you complete this exercise, please put your green post-it on your monitor. \n",
    "\n",
    "If you want to continue on at your own-pace, please feel free to do so.\n",
    "\n",
    "<img src='../images/green_sticky.300px.png' width='200' style='float:left'>"
   ]
  },
  {
   "cell_type": "markdown",
   "metadata": {},
   "source": [
    "# Experience Points!\n",
    "---"
   ]
  },
  {
   "cell_type": "markdown",
   "metadata": {
    "slideshow": {
     "slide_type": "slide"
    }
   },
   "source": [
    "In your **text editor** create a simple script called:\n",
    "\n",
    "```bash\n",
    "my_json_02.py```\n",
    "\n",
    "Execute your script in the **IPython interpreter** using the command:\n",
    "\n",
    "```bash\n",
    "run my_json_02.py```\n",
    "\n",
    "1. Read in the data from the `AMEX_daily_prices_N.csv`\n",
    "1. Record that data in a dictionary for all stocks that have an 'X' in the name ('NOX', 'NXJ', and all the rest) such that:\n",
    "    * the `key` is the stock symbol \n",
    "    * the `values` are the list of closing prices    \n",
    "1. Once you have generated a dictionary of lists, store them as json in a file called `x_stocks.json`, ensuring:\n",
    "    * the elements are indented 4 spaces\n",
    "    * the dictionary keys are sorted"
   ]
  },
  {
   "cell_type": "markdown",
   "metadata": {},
   "source": [
    "When you complete this exercise, please put your green post-it on your monitor. \n",
    "\n",
    "If you want to continue on at your own-pace, please feel free to do so.\n",
    "\n",
    "<img src='../images/green_sticky.300px.png' width='200' style='float:left'>"
   ]
  },
  {
   "cell_type": "markdown",
   "metadata": {},
   "source": [
    "# Backup/Miscellaneous...\n",
    "---"
   ]
  },
  {
   "cell_type": "code",
   "execution_count": null,
   "metadata": {},
   "outputs": [],
   "source": [
    "for p in sorted(prices.keys()):\n",
    "    if 'X' in p:\n",
    "        print(f'\"{p}\", ', end='')"
   ]
  },
  {
   "cell_type": "code",
   "execution_count": 26,
   "metadata": {
    "collapsed": true
   },
   "outputs": [
    {
     "name": "stdout",
     "output_type": "stream",
     "text": [
      "   1:\n",
      "import json\n",
      "\n",
      "sample_four = '''{\n",
      "        \"name\":\"merchandise\",\n",
      "        \"properties\":\n",
      "        {\n",
      "                \"id\":\n",
      "                {\n",
      "                        \"type\":\"numeric\",\n",
      "                        \"description\":\"merchandise identifier\",\n",
      "                        \"required\":true,\n",
      "                        \"format\":\"nn-nnn-nnnnnn\"\n",
      "                },\n",
      "                \"name\":\n",
      "                {\n",
      "                        \"description\":\"Name of the merchandise\",\n",
      "                        \"type\":\"string\",\n",
      "                        \"required\":true\n",
      "                },\n",
      "                \"price\":\n",
      "                {\n",
      "                        \"type\":\"numeric\",\n",
      "                        \"minimum\": [0, 0.0, 0.00],\n",
      "                        \"required\":true\n",
      "                }\n",
      "        }\n",
      "}'''\n",
      "   2:\n",
      "# If you have a STRING...use *.loads() \n",
      "# This is short for 'load string'\n",
      "# cmmnt\n",
      "\n",
      "print('hello world')\n",
      "\n",
      "info = json.loads(sample_four)\n",
      "   3: type(info)\n",
      "   4: info.keys()\n",
      "   5: info.pop?\n",
      "   6: print?\n",
      "   7: import random\n",
      "   8: info['newkey'] = 'bob'\n",
      "   9:\n",
      "info['newkey'] = 'bob'\n",
      "print(info.keys())\n",
      "  10:\n",
      "# If you have a STRING...use *.loads() \n",
      "# This is short for 'load string'\n",
      "# cmmnt\n",
      "\n",
      "print('hello world')\n",
      "\n",
      "info = json.loads(sample_four)\n",
      "  11:\n",
      "\n",
      "print(info.keys())\n",
      "  12:\n",
      "# Let's print the object and the type() of object we get back and look at it.\n",
      "\n",
      "print(info, type(info), sep='\\n')\n",
      "\n",
      "# We see that we got out a Python dictionary\n",
      "  13:\n",
      "# json can be ugly and hard to read...\n",
      "# pretty printing can help some of that...\n",
      "\n",
      "from pprint import pprint\n",
      "pprint(info)\n",
      "  14:\n",
      "# because the json module produces lists and dictionaries\n",
      "# you already know how to extract data from the these data types\n",
      "\n",
      "# For example, to get the value associated with the key 'name'\n",
      "\n",
      "info['name']\n",
      "  15:\n",
      "# You can extract any value using the name of the appropriate key.\n",
      "\n",
      "# NOTE: simple evaluation on the IPython OR the Jupyter prompt is\n",
      "#     reasonably good, because they use a form of \n",
      "#     configured version of pprint in the background\n",
      "\n",
      "info['properties']\n",
      "  16:\n",
      "# WARNING: print is horrible with deeply nested dictionaries OR lists\n",
      "\n",
      "print(info['properties'])\n",
      "  17:\n",
      "# If you want to create a script that displays to the screen\n",
      "#     pprint works well in your scripts\n",
      "\n",
      "pprint(info['properties'])\n",
      "  18:\n",
      "# The value associated with the 'properties' key is \n",
      "#     simply a dictionary\n",
      "#     so we can use a one of the keys in that dictionary \n",
      "#     to extract nested data\n",
      "#     Let's look at what value is associated with the 'id' key\n",
      "\n",
      "\n",
      "info['properties']['id']\n",
      "  19:\n",
      "# The value associated with the 'id' key is \n",
      "#     simply a dictionary\n",
      "#     Let's look at what value is associated with the 'format' key\n",
      "\n",
      "info['properties']['id']['format']\n",
      "  20:\n",
      "# Next, let's look at the value associated with the \n",
      "#     'description' key.\n",
      "\n",
      "info['properties']['id']['description']\n",
      "  21:\n",
      "# If we need to extract a particular value from a list or a \n",
      "#     string, indexing works.\n",
      "#     Here we will extract the last letter of the value\n",
      "#     associated with the key: 'description'\n",
      "\n",
      "info['properties']['id']['description'][-1]\n",
      "  22:\n",
      "# Another example: here we chain keys and indexes successfully:\n",
      "#     The 'properties' key is associated with a dictionary that contains a 'price' key\n",
      "#     The 'price' key is associated with a dictionary the contains the 'minimum' key\n",
      "#     The 'minimum' key is associated with a list, that has an item in index '1'\n",
      "\n",
      "info['properties']['price']['minimum'][1]\n",
      "  23: %whos\n",
      "  24: hist\n",
      "  25: %hist\n",
      "  26: %hist -n\n"
     ]
    }
   ],
   "source": [
    "%hist -n\n",
    "\n"
   ]
  },
  {
   "cell_type": "markdown",
   "metadata": {},
   "source": [
    "### this is markdown\n",
    "\n",
    "|||\n",
    "|----|---|\n",
    "|hello|goodbye|"
   ]
  },
  {
   "cell_type": "code",
   "execution_count": null,
   "metadata": {},
   "outputs": [],
   "source": []
  }
 ],
 "metadata": {
  "kernelspec": {
   "display_name": "Python 3",
   "language": "python",
   "name": "python3"
  },
  "language_info": {
   "codemirror_mode": {
    "name": "ipython",
    "version": 3
   },
   "file_extension": ".py",
   "mimetype": "text/x-python",
   "name": "python",
   "nbconvert_exporter": "python",
   "pygments_lexer": "ipython3",
   "version": "3.6.4"
  }
 },
 "nbformat": 4,
 "nbformat_minor": 2
}
