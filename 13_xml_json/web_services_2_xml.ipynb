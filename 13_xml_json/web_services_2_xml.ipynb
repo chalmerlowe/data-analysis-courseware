{
 "cells": [
  {
   "cell_type": "markdown",
   "metadata": {},
   "source": [
    "# Welcome to the Dark Art of Coding:\n",
    "## Introduction to Python\n",
    "Web services: XML\n",
    "\n",
    "<img src='../universal_images/dark_art_logo.600px.png' width='300' style=\"float:right\">"
   ]
  },
  {
   "cell_type": "markdown",
   "metadata": {},
   "source": [
    "# Objectives\n",
    "---"
   ]
  },
  {
   "cell_type": "markdown",
   "metadata": {},
   "source": [
    "In this session, students should expect to:\n",
    "\n",
    "* Understand the basics of XML structure\n",
    "* Read in XML files\n",
    "* Write out XML files\n",
    "\n"
   ]
  },
  {
   "cell_type": "markdown",
   "metadata": {},
   "source": [
    "# What is XML\n",
    "---"
   ]
  },
  {
   "cell_type": "markdown",
   "metadata": {},
   "source": [
    "XML is a markup language similar to HTML in format but used to create fully customized markups. You can create elements using **tags**. \n",
    "\n",
    "There are two primary types of elements:\n",
    "\n",
    "* Simple elements\n",
    "* Complex elements"
   ]
  },
  {
   "cell_type": "markdown",
   "metadata": {},
   "source": [
    "## Simple elements\n",
    "\n",
    "Simple elements may only contain text.\n",
    "\n",
    "* they may not contain other tags.\n",
    "* they may not contain attributes."
   ]
  },
  {
   "cell_type": "markdown",
   "metadata": {},
   "source": [
    "## Complex elements\n",
    "\n",
    "Complex elements: \n",
    "\n",
    "* may contain other tags.\n",
    "* may contain attributes.\n"
   ]
  },
  {
   "cell_type": "markdown",
   "metadata": {},
   "source": [
    "This is a snippet of XML:\n",
    "\n",
    "```xml\n",
    "<person>\n",
    "    <name>Bruce Wayne</name>\n",
    "    <phone type=\"cell\">770-090-0552</phone>\n",
    "    <email hide=\"True\"/>\n",
    "</person>\n",
    "```"
   ]
  },
  {
   "cell_type": "markdown",
   "metadata": {},
   "source": [
    "## Tag styles\n",
    "\n",
    "There are two styles of tags:\n",
    "\n",
    "* opening and closing tag pairs: **`<name>`**Bruce Wayne**`</name>`**\n",
    "* self-closing tags: **`<email`** hide=\"True\"**`/>`**\n",
    "    "
   ]
  },
  {
   "cell_type": "markdown",
   "metadata": {},
   "source": [
    "# Let's break it down line by line\n",
    "\n",
    "**First** The entire snippet is encapsulated by a set of tags, in this case the `<person>` tag.\n",
    "\n",
    "```xml\n",
    "<person>\n",
    "    ...\n",
    "</person>\n",
    "```\n",
    "\n",
    "An encapsulating `root` tag is required. Every XML data set has one over-arching tag that holds everything else'\n"
   ]
  },
  {
   "cell_type": "markdown",
   "metadata": {},
   "source": [
    "**Second** this example has a simple element that encapsulates just a small string of text\n",
    "\n",
    "```xml\n",
    "    <name>Bruce Wayne</name>\n",
    "```\n",
    "\n",
    "Tags like this contain a single piece of data and are easy to access, etc.\n"
   ]
  },
  {
   "cell_type": "markdown",
   "metadata": {},
   "source": [
    "**Third** we have an element that includes not only raw text, but also an attribute in the middle of the opening tag.\n",
    "\n",
    "```xml\n",
    "    <phone type=\"cell\">808-867-5309</phone>\n",
    "```\n",
    "\n",
    "As we can see, this is a bit more complex. This tag holds an attribute. An element tag may have as many attributes as you desire. An attribute consists of two parts:\n",
    "\n",
    "* a key:   `type=`\n",
    "* a value: `\"cell\"`\n",
    "\n",
    "One useful part of having attributes on these XML elements is that you can immediately test if an element has a certain attribute value and decide whether or not you want the data inside or if you need to format the data in any way\n",
    "\n",
    "---"
   ]
  },
  {
   "cell_type": "markdown",
   "metadata": {},
   "source": [
    "**Lastly** there is a singular, self-closing tag\n",
    "\n",
    "```xml\n",
    "    <email hide=\"True\"/>\n",
    "```\n",
    "\n",
    "This is a self closing tag. It creates an element that holds no textual data and *only* has attributes. You can tell it's self closing because they put the '/' at the end of the opening tag. This tells whatever program that reads this xml file that it doesn't need to look for a closing tag and that it's finished right then and there"
   ]
  },
  {
   "cell_type": "markdown",
   "metadata": {},
   "source": [
    "# Now for some code to read it all\n",
    "---"
   ]
  },
  {
   "cell_type": "code",
   "execution_count": null,
   "metadata": {
    "collapsed": true
   },
   "outputs": [],
   "source": [
    "# First we import the module we will be using. We also use the 'as'\n",
    "#     keyword so we don't have to refer to our module as this long line\n",
    "\n",
    "import xml.etree.ElementTree as ET"
   ]
  },
  {
   "cell_type": "code",
   "execution_count": null,
   "metadata": {
    "collapsed": true
   },
   "outputs": [],
   "source": [
    "# We have to open an xml file with python using 'rb' to let python know\n",
    "#     we want to read it and to read the bytes and not the text\n",
    "\n",
    "xmlFile = open('exampleFile.xml', 'rb')"
   ]
  },
  {
   "cell_type": "code",
   "execution_count": null,
   "metadata": {
    "collapsed": true
   },
   "outputs": [],
   "source": [
    "# Now we actually parse out the xml using the module we imported earlier\n",
    "# Note how we only have to call for 'ET' instead of 'xml.etree.ElementTree'\n",
    "\n",
    "xmlParsed = ET.parse(xmlFile)"
   ]
  },
  {
   "cell_type": "code",
   "execution_count": null,
   "metadata": {
    "collapsed": true
   },
   "outputs": [],
   "source": [
    "root = xmlParsed.getroot()"
   ]
  },
  {
   "cell_type": "code",
   "execution_count": null,
   "metadata": {},
   "outputs": [],
   "source": [
    "for child in root:\n",
    "    print(child.tag, child.attrib)"
   ]
  },
  {
   "cell_type": "code",
   "execution_count": null,
   "metadata": {},
   "outputs": [],
   "source": [
    "root[0].text"
   ]
  },
  {
   "cell_type": "code",
   "execution_count": null,
   "metadata": {
    "collapsed": true
   },
   "outputs": [],
   "source": [
    "# Once we have our ElementTree object we have access to multiple methods \n",
    "#     to help us extract data of interest\n",
    "\n",
    "tag = xmlParsed.find('name')   # Returns the first matching element of the child elements"
   ]
  },
  {
   "cell_type": "code",
   "execution_count": null,
   "metadata": {},
   "outputs": [],
   "source": [
    "tag.text"
   ]
  },
  {
   "cell_type": "code",
   "execution_count": null,
   "metadata": {},
   "outputs": [],
   "source": [
    "# This is no longer his phone number (sigh).\n",
    "\n",
    "text = xmlParsed.find('phone').text\n",
    "print(text)"
   ]
  },
  {
   "cell_type": "markdown",
   "metadata": {},
   "source": [
    "# Various examples\n",
    "---"
   ]
  },
  {
   "cell_type": "markdown",
   "metadata": {},
   "source": [
    "## Unique list of tags"
   ]
  },
  {
   "cell_type": "code",
   "execution_count": null,
   "metadata": {
    "collapsed": true
   },
   "outputs": [],
   "source": [
    "import xml.etree.ElementTree as ET\n",
    "\n",
    "with open('catalog.xml', 'rb') as data:\n",
    "    xmlParsed = ET.parse(data)"
   ]
  },
  {
   "cell_type": "code",
   "execution_count": null,
   "metadata": {},
   "outputs": [],
   "source": [
    "# These pause here and discuss sets and all the awesome they bring\n",
    "#     to the table.\n",
    "\n",
    "s = set([1, 2, 3, 4, 4, 4, 4, 4])\n",
    "t = set([3, 4, 5, 6, 7, 8, 9])\n",
    "\n"
   ]
  },
  {
   "cell_type": "code",
   "execution_count": null,
   "metadata": {},
   "outputs": [],
   "source": [
    "print(s, t, sep='\\n')\n"
   ]
  },
  {
   "cell_type": "code",
   "execution_count": null,
   "metadata": {},
   "outputs": [],
   "source": [
    "# Sets come with a number of methods that allow some awesome work to be done\n",
    "#     For example, we can look at the elements that are in t that are different\n",
    "#     from the elements in s. (ie. what present only in t and not in s)\n",
    "\n",
    "t.difference(s)\n"
   ]
  },
  {
   "cell_type": "code",
   "execution_count": null,
   "metadata": {},
   "outputs": [],
   "source": [
    "# The iter() function can iterate over all the tags...\n",
    "#     the following snippet can collect and display all the \n",
    "#     unique/deduplicated tags\n",
    "\n",
    "elemList = set()\n",
    "for elem in xmlParsed.iter():\n",
    "    print(elem)\n",
    "    # elemList.add(elem.tag)      # sets automatically dedupe\n",
    "\n",
    "print(elemList)\n"
   ]
  },
  {
   "cell_type": "markdown",
   "metadata": {},
   "source": [
    "## Iterating over tags"
   ]
  },
  {
   "cell_type": "code",
   "execution_count": null,
   "metadata": {
    "collapsed": true
   },
   "outputs": [],
   "source": [
    "titles = xmlParsed.iterfind('book')"
   ]
  },
  {
   "cell_type": "code",
   "execution_count": null,
   "metadata": {},
   "outputs": [],
   "source": [
    "# Extract the attributes from a given tag\n",
    "\n",
    "for title in titles:\n",
    "    print(title.get('id'))"
   ]
  },
  {
   "cell_type": "code",
   "execution_count": null,
   "metadata": {
    "collapsed": true
   },
   "outputs": [],
   "source": [
    "# If we need to extract data associated with nested tags:\n",
    "#     i.e. each book element is a complex element\n",
    "#     and has nested elements such as title and author\n",
    "\n",
    "titles = xmlParsed.iterfind('book/title')"
   ]
  },
  {
   "cell_type": "code",
   "execution_count": null,
   "metadata": {},
   "outputs": [],
   "source": [
    "type(titles)"
   ]
  },
  {
   "cell_type": "code",
   "execution_count": null,
   "metadata": {},
   "outputs": [],
   "source": [
    "for title in titles:\n",
    "    print(title.text)"
   ]
  },
  {
   "cell_type": "code",
   "execution_count": null,
   "metadata": {
    "collapsed": true
   },
   "outputs": [],
   "source": [
    "# Similarly, we can extract the author tags\n",
    "# NOTE: there is a performance difference between findall\n",
    "#       and iterfind.\n",
    "\n",
    "authors = xmlParsed.findall('book/author')"
   ]
  },
  {
   "cell_type": "code",
   "execution_count": null,
   "metadata": {},
   "outputs": [],
   "source": [
    "type(authors)\n",
    "\n",
    "# iterfind\n",
    "# findall"
   ]
  },
  {
   "cell_type": "code",
   "execution_count": null,
   "metadata": {},
   "outputs": [],
   "source": [
    "for name in authors:\n",
    "    name = name.text\n",
    "    lname, fname = name.split(', ')\n",
    "    if len(fname) == 3:\n",
    "        print(name)"
   ]
  },
  {
   "cell_type": "markdown",
   "metadata": {},
   "source": [
    "## Writing to files"
   ]
  },
  {
   "cell_type": "code",
   "execution_count": null,
   "metadata": {
    "collapsed": true
   },
   "outputs": [],
   "source": [
    "for elem in xmlParsed.iter('price'):\n",
    "    price = float(elem.text)\n",
    "    new_price = price + 100.0\n",
    "    elem.text = str(new_price)\n",
    "    \n",
    "xmlParsed.write('output.xml')    "
   ]
  },
  {
   "cell_type": "code",
   "execution_count": null,
   "metadata": {},
   "outputs": [],
   "source": []
  },
  {
   "cell_type": "markdown",
   "metadata": {},
   "source": [
    "# Experience Points!\n",
    "---"
   ]
  },
  {
   "cell_type": "markdown",
   "metadata": {
    "slideshow": {
     "slide_type": "slide"
    }
   },
   "source": [
    "In your **text editor** create a simple script called:\n",
    "\n",
    "```bash\n",
    "my_xml_01.py```\n",
    "\n",
    "Execute your script in the **Jupyter** using the command:\n",
    "\n",
    "```bash\n",
    "run my_xml_01.py```\n",
    "\n",
    "1. Read in the XML file: catalog.xml\n",
    "1. Iterate over all the price tags\n",
    "1. Calculate a new price that is **1.05** times larger \n",
    "   * round to 2 decimal places using the round() function\n",
    "1. Print the new prices to the screen"
   ]
  },
  {
   "cell_type": "markdown",
   "metadata": {},
   "source": [
    "When you complete this exercise, please put your green post-it on your monitor. \n",
    "\n",
    "If you want to continue on at your own-pace, please feel free to do so.\n",
    "\n",
    "<img src='../universal_images/green_sticky.300px.png' width='200' style='float:left'>"
   ]
  },
  {
   "cell_type": "markdown",
   "metadata": {
    "slideshow": {
     "slide_type": "slide"
    }
   },
   "source": [
    "In your **text editor** create a simple script called:\n",
    "\n",
    "```bash\n",
    "my_xml_02.py```\n",
    "\n",
    "Execute your script in the **Jupyter** using the command:\n",
    "\n",
    "```bash\n",
    "run my_xml_02.py```\n",
    "\n",
    "1. Read in the XML file: catalog.xml\n",
    "1. Iterate over all the price tags\n",
    "1. Calculate a new price that is **1.15** times larger \n",
    "   * round to 2 decimal places using the round() function\n",
    "1. Use the new values to overwrite the existing prices\n",
    "1. Write the entire XML tree to a file"
   ]
  },
  {
   "cell_type": "markdown",
   "metadata": {},
   "source": [
    "When you complete this exercise, please put your green post-it on your monitor. \n",
    "\n",
    "If you want to continue on at your own-pace, please feel free to do so.\n",
    "\n",
    "<img src='../universal_images/green_sticky.300px.png' width='200' style='float:left'>"
   ]
  },
  {
   "cell_type": "markdown",
   "metadata": {
    "slideshow": {
     "slide_type": "slide"
    }
   },
   "source": [
    "In your **text editor** create a simple script called:\n",
    "\n",
    "```bash\n",
    "my_xml_03.py```\n",
    "\n",
    "Execute your script in the **Jupyter** using the command:\n",
    "\n",
    "```bash\n",
    "run my_xml_03.py```\n",
    "\n",
    "1. Read in the XML file: catalog.xml\n",
    "1. Iterate over all the price tags\n",
    "1. Use input to allow your user to provide a new price increase\n",
    "1. Create a function to calculate a new price based on the **user input**\n",
    "   * The function should accept and calculate the new price based on the input\n",
    "   * Round to 2 decimal places using the round() function\n",
    "   * Return the new price\n",
    "1. Use the new values to overwrite the existing prices\n",
    "1. Write the entire XML tree to a file"
   ]
  },
  {
   "cell_type": "markdown",
   "metadata": {},
   "source": [
    "When you complete this exercise, please put your green post-it on your monitor. \n",
    "\n",
    "If you want to continue on at your own-pace, please feel free to do so.\n",
    "\n",
    "<img src='../universal_images/green_sticky.300px.png' width='200' style='float:left'>"
   ]
  }
 ],
 "metadata": {
  "kernelspec": {
   "display_name": "Python 3",
   "language": "python",
   "name": "python3"
  },
  "language_info": {
   "codemirror_mode": {
    "name": "ipython",
    "version": 3
   },
   "file_extension": ".py",
   "mimetype": "text/x-python",
   "name": "python",
   "nbconvert_exporter": "python",
   "pygments_lexer": "ipython3",
   "version": "3.6.8"
  }
 },
 "nbformat": 4,
 "nbformat_minor": 2
}
