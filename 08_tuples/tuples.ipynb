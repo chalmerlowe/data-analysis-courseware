{
 "cells": [
  {
   "cell_type": "markdown",
   "metadata": {},
   "source": [
    "# Welcome to the Dark Art of Coding:\n",
    "## Introduction to Python\n",
    "Tuples\n",
    "\n",
    "<img src='../universal_images/dark_art_logo.600px.png' width='300' style=\"float:right\">"
   ]
  },
  {
   "cell_type": "markdown",
   "metadata": {},
   "source": [
    "# Objectives\n",
    "---"
   ]
  },
  {
   "cell_type": "markdown",
   "metadata": {},
   "source": [
    "In this session, students should expect to:\n",
    "\n",
    "* understand how to create a tuple\n",
    "* understand the limitations to using tuples\n",
    "* understand the benefits and primary uses for tuples\n"
   ]
  },
  {
   "cell_type": "markdown",
   "metadata": {},
   "source": [
    "# Tuples\n",
    "---"
   ]
  },
  {
   "cell_type": "markdown",
   "metadata": {},
   "source": [
    "Tuples may be created by using the `tuple()` factory function.\n",
    "\n",
    "Nearly any sequence can be converted to a `tuple` using the `tuple()` factory function.\n",
    "\n",
    "Here, we are converting a `list` literal into a `tuple`."
   ]
  },
  {
   "cell_type": "code",
   "execution_count": null,
   "metadata": {},
   "outputs": [],
   "source": [
    "superhero = tuple(['bruce wayne', 'gotham', 'batman'])\n",
    "superhero"
   ]
  },
  {
   "cell_type": "markdown",
   "metadata": {},
   "source": [
    "It is also possible to create tuples simply using parenthesis AND commas\n",
    "\n",
    "**NOTE**: the comma is **important**, as we will see."
   ]
  },
  {
   "cell_type": "code",
   "execution_count": null,
   "metadata": {
    "collapsed": true
   },
   "outputs": [],
   "source": [
    "sample_tuple = ('diana', )\n",
    "not_a_tuple = ('bruce')"
   ]
  },
  {
   "cell_type": "markdown",
   "metadata": {},
   "source": [
    "Let's use the `type()` function to confirm each object's datatype. "
   ]
  },
  {
   "cell_type": "code",
   "execution_count": null,
   "metadata": {},
   "outputs": [],
   "source": [
    "print(type(sample_tuple), sample_tuple)\n",
    "print(type(not_a_tuple), not_a_tuple)"
   ]
  },
  {
   "cell_type": "markdown",
   "metadata": {},
   "source": [
    "Tuples, like lists, can include:\n",
    "* strings (`str`)\n",
    "* integers (`int`)\n",
    "* floats (`float`)\n",
    "* and nested objects like `lists`, `dicts` and other `tuples`"
   ]
  },
  {
   "cell_type": "code",
   "execution_count": null,
   "metadata": {},
   "outputs": [],
   "source": [
    "heroine = ('diana prince', 42, ['golden lasso', 'bracelets'], 42)\n",
    "heroine"
   ]
  },
  {
   "cell_type": "markdown",
   "metadata": {},
   "source": [
    "If we just want one item from a tuple we access it using the same index model that we saw with strings, lists, and dicts:\n",
    "\n",
    "`object[subscript]`"
   ]
  },
  {
   "cell_type": "code",
   "execution_count": null,
   "metadata": {},
   "outputs": [],
   "source": [
    "heroine[0]"
   ]
  },
  {
   "cell_type": "code",
   "execution_count": null,
   "metadata": {},
   "outputs": [],
   "source": [
    "heroine[2][1]"
   ]
  },
  {
   "cell_type": "markdown",
   "metadata": {},
   "source": [
    "# tuple methods\n",
    "---"
   ]
  },
  {
   "cell_type": "markdown",
   "metadata": {},
   "source": [
    "Methods like append, extend, aren't available in `tuples`\n",
    "In fact, there are **only two** methods for `tuples`:\n",
    "\n",
    "* `T.count()`\n",
    "* `T.index()`\n",
    "\n"
   ]
  },
  {
   "cell_type": "markdown",
   "metadata": {},
   "source": [
    "`tuples` are very similar to `lists` however they're a lot simpler. \n",
    "\n",
    "There is a reason for this... `tuples` are intended to be **immutable**\n",
    "\n",
    "This makes `tuples` a lot faster and easier for Python to create and evaluate etc.\n",
    "\n",
    "On the surface, they can't be changed once created, thus you can use them in places where Python requires immutable objects, i.e. as **keys** to dictionaries\n",
    "\n",
    "Keys in dictionaries need to be **hashable** and mutable objects are not hashable in Python. Only immutable objects can be hashed.\n",
    "\n",
    "Hashable objects can be parsed via a mathematical algorithm to produce a single unique value. There are some computer science nuances behind this that we won't cover in this class."
   ]
  },
  {
   "cell_type": "markdown",
   "metadata": {},
   "source": [
    "Let's look at the output of each of these methods:"
   ]
  },
  {
   "cell_type": "code",
   "execution_count": null,
   "metadata": {},
   "outputs": [],
   "source": [
    "heroine.index('diana prince')"
   ]
  },
  {
   "cell_type": "code",
   "execution_count": null,
   "metadata": {},
   "outputs": [],
   "source": [
    "heroine.count(42)"
   ]
  },
  {
   "cell_type": "markdown",
   "metadata": {},
   "source": [
    "# use as a dictionary key\n",
    "---"
   ]
  },
  {
   "cell_type": "markdown",
   "metadata": {},
   "source": [
    "We assert that `tuples` can be used as keys in a dictionary, let's test that.\n",
    "\n",
    "We'll create two pairs, and attempt to use them as unique identifiers in a dictionary (i.e. a dictionary of names versus secret identities.)\n",
    "\n",
    "We'll create a potential key that contains a first name and last name as individual elements in a `list` and as individual elements in a `tuple`."
   ]
  },
  {
   "cell_type": "code",
   "execution_count": null,
   "metadata": {
    "collapsed": true
   },
   "outputs": [],
   "source": [
    "list_key = ['bruce', 'wayne']\n",
    "tuple_key = ('selina', 'kyle')"
   ]
  },
  {
   "cell_type": "code",
   "execution_count": null,
   "metadata": {},
   "outputs": [],
   "source": [
    "# When we attempt to use a mutable value (i.e. a list) as a key in our dictionary:\n",
    "#     Python balks.\n",
    "\n",
    "characters = {list_key: 'batman'}"
   ]
  },
  {
   "cell_type": "code",
   "execution_count": null,
   "metadata": {},
   "outputs": [],
   "source": [
    "# Using a tuple, Python successfully adds this item to the dictionary\n",
    "\n",
    "characters = {tuple_key: 'catwoman'}\n",
    "characters"
   ]
  },
  {
   "cell_type": "markdown",
   "metadata": {},
   "source": [
    "Because the key is a `tuple`, we need to use whole `tuple` as the key when using the bracket syntax."
   ]
  },
  {
   "cell_type": "code",
   "execution_count": null,
   "metadata": {},
   "outputs": [],
   "source": [
    "characters[('selina', 'kyle')]"
   ]
  },
  {
   "cell_type": "markdown",
   "metadata": {},
   "source": [
    "`Tuples` are not new to us... one of the dictionary methods returns a sequence of `tuples`:"
   ]
  },
  {
   "cell_type": "code",
   "execution_count": null,
   "metadata": {},
   "outputs": [],
   "source": [
    "sampleDict = {'key_1':'value',\n",
    "              'key_7':'value',\n",
    "              'key_3':'value',\n",
    "              'key_6':'value',\n",
    "              'key_5':'value',\n",
    "              'key_4':'value',\n",
    "              'key_2':'value',\n",
    "             }\n",
    "\n",
    "\n",
    "sampleDict.items()\n",
    "\n",
    "for item in sampleDict.items():\n",
    "    print(item)"
   ]
  },
  {
   "cell_type": "markdown",
   "metadata": {},
   "source": [
    "# Experience Points!\n",
    "---"
   ]
  },
  {
   "cell_type": "markdown",
   "metadata": {},
   "source": [
    "In **Jupyter** do each of the following:\n",
    "\n",
    "Task | Sample Object(s)\n",
    ":---|:---\n",
    "Assign the label `my_age` to a tuple with **one** item | Your age (or the age you want to be)\n",
    "Use the `type()` function to confirm you have made a tuple | \n",
    "Assign the label `microbe` to a tuple that holds three values (ie. `name`, `size`, `shape`) | `amoeba`, 4, `rod`  \n",
    "Assign the label `car` to a tuple that has two scalar values and a third list object (imagine you are trying store the kind of information outlined in the next three rows)|\n",
    "* number of doors (ie. 2 or 4) | 2\n",
    "* manual (i.e. True or False) | `True` \n",
    "* three colors (ie. exterior, interior, trim) | `[black`, `red`, `black]`\n",
    "\n",
    "For each `tuple` you make, print the `tuple` to the screen "
   ]
  },
  {
   "cell_type": "markdown",
   "metadata": {},
   "source": [
    "When you complete this exercise, please put your green post-it on your monitor. \n",
    "\n",
    "If you want to continue on at your own-pace, please feel free to do so.\n",
    "\n",
    "<img src='../universal_images/green_sticky.300px.png' width='200' style='float:left'>"
   ]
  },
  {
   "cell_type": "code",
   "execution_count": null,
   "metadata": {
    "collapsed": true
   },
   "outputs": [],
   "source": []
  },
  {
   "cell_type": "markdown",
   "metadata": {},
   "source": [
    "## Builtin: `sorted()`"
   ]
  },
  {
   "cell_type": "markdown",
   "metadata": {},
   "source": [
    "There is a builtin function in Python called `sorted()` which helps us in many ways.\n",
    "\n",
    "Let's explore the sorted function..."
   ]
  },
  {
   "cell_type": "markdown",
   "metadata": {},
   "source": [
    "If you remember `lists` had many many methods for changing things on-the-fly and in place\n",
    "\n",
    "One of those `list` methods was `.sort()`\n",
    "\n",
    "`Tuples` are immutable and do not have a builtin `.sort()` method, but if you need to get the elements of a `tuple` in sorted order, you can use the builtin `sorted()` function, with caveats...\n",
    "\n",
    "Let's start by refreshing our memory on what superhero contains:"
   ]
  },
  {
   "cell_type": "code",
   "execution_count": null,
   "metadata": {},
   "outputs": [],
   "source": [
    "print(superhero)"
   ]
  },
  {
   "cell_type": "markdown",
   "metadata": {},
   "source": [
    "If we call the `sorted()` function, we can return a `list` that contains the elements stored in the superhero `tuple` \n",
    "\n",
    "**NOTE** the visual cues that remind us that this is a `list`: `[` and `]`"
   ]
  },
  {
   "cell_type": "code",
   "execution_count": null,
   "metadata": {},
   "outputs": [],
   "source": [
    "sorted_superheroes = sorted(superhero)\n",
    "print(sorted_superheroes)"
   ]
  },
  {
   "cell_type": "markdown",
   "metadata": {},
   "source": [
    "While `sorted()` returns a `list`, we already know how to convert `lists` into `tuples`...\n",
    "\n",
    "We can nest the `sorted()` function in the `tuple` function to convert the list back into a now sorted `tuple`.\n",
    "\n",
    "**NOTE** the visual cues that remind us that this is a `tuple`: `(`, `the comma: ,`, and `)`\n"
   ]
  },
  {
   "cell_type": "code",
   "execution_count": null,
   "metadata": {},
   "outputs": [],
   "source": [
    "tupled_superheroes = tuple(sorted(superhero))\n",
    "print(tupled_superheroes)"
   ]
  },
  {
   "cell_type": "markdown",
   "metadata": {},
   "source": [
    "# Experience Points!\n",
    "---"
   ]
  },
  {
   "cell_type": "markdown",
   "metadata": {},
   "source": [
    "Research the `sorted()` function and answer the following questions:\n",
    "\n",
    "* what can be sorted by the `sorted()` function?\n",
    "* what does the `sorted()` function return?\n",
    "* what does `key` allow you to do?\n",
    "* what is the default setting for `reverse`?\n",
    "* what type of function is `sorted()`?\n"
   ]
  },
  {
   "cell_type": "markdown",
   "metadata": {},
   "source": [
    "When you complete this exercise, please put your green post-it on your monitor. \n",
    "\n",
    "If you want to continue on at your own-pace, please feel free to do so.\n",
    "\n",
    "<img src='../universal_images/green_sticky.300px.png' width='200' style='float:left'>"
   ]
  },
  {
   "cell_type": "code",
   "execution_count": null,
   "metadata": {
    "collapsed": true
   },
   "outputs": [],
   "source": [
    "sorted?"
   ]
  },
  {
   "cell_type": "markdown",
   "metadata": {},
   "source": [
    "# Comparisons"
   ]
  },
  {
   "cell_type": "markdown",
   "metadata": {},
   "source": [
    "Imagine we want to compare a sequence of items in `tuples`\n",
    "\n",
    "\n",
    "If we ask if one `tuple` is 'greater' than the other, Python will check your `tuples`, item by item, until it can identify an element that is greater than the corresponding element in the other `tuple`.\n",
    "\n",
    "I.E. it parses elements in pairs UNTIL it finds a pair where one item is greater than or less than the other."
   ]
  },
  {
   "cell_type": "code",
   "execution_count": null,
   "metadata": {},
   "outputs": [],
   "source": [
    "(1, 2, 2) > (1, 2, 3)\n",
    "\n",
    "# 1 == 1\n",
    "# 2 == 2\n",
    "# 2  < 3"
   ]
  },
  {
   "cell_type": "code",
   "execution_count": null,
   "metadata": {},
   "outputs": [],
   "source": [
    "(5, 3, 2000) > (5, 1, 1)"
   ]
  },
  {
   "cell_type": "markdown",
   "metadata": {},
   "source": [
    "Reminder: something very cool we can do is called `tuple` unpacking\n",
    "    \n",
    "We can assign multiple values to multiple variables at once."
   ]
  },
  {
   "cell_type": "code",
   "execution_count": null,
   "metadata": {
    "collapsed": true
   },
   "outputs": [],
   "source": [
    "name, day, age = ('Stephen', 'Wednesday', 42)"
   ]
  },
  {
   "cell_type": "markdown",
   "metadata": {},
   "source": [
    "And now we can evaluate those variables independently"
   ]
  },
  {
   "cell_type": "code",
   "execution_count": null,
   "metadata": {},
   "outputs": [],
   "source": [
    "print(type(name), name)\n",
    "print(type(day), day)\n",
    "print(type(age), age)"
   ]
  },
  {
   "cell_type": "markdown",
   "metadata": {},
   "source": [
    "# Namedtuples\n",
    "---"
   ]
  },
  {
   "cell_type": "markdown",
   "metadata": {},
   "source": [
    "`Namedtuples` are a mechanism for creating specialized tuples with\n",
    "* names\n",
    "* named attributes"
   ]
  },
  {
   "cell_type": "markdown",
   "metadata": {},
   "source": [
    "`Namedtuples` are accessible from the `collections` module\n",
    "\n",
    "When calling the `namedtuple()` factory function, we provide the\n",
    "\n",
    "* name of the type of namedtuple\n",
    "* and the names of each of the fields/attributes"
   ]
  },
  {
   "cell_type": "code",
   "execution_count": null,
   "metadata": {
    "collapsed": true
   },
   "outputs": [],
   "source": [
    "from collections import namedtuple\n",
    "\n",
    "Heroine = namedtuple('Heroine', ['firstname', 'lastname'])\n",
    "\n",
    "# NOTE: you do not need to have the label match the type (Heroine = 'Heroine\")\n",
    "#       but it is very common to see this in books, etc."
   ]
  },
  {
   "cell_type": "markdown",
   "metadata": {},
   "source": [
    "Let's make our first object based on our new Heroine template"
   ]
  },
  {
   "cell_type": "code",
   "execution_count": null,
   "metadata": {
    "collapsed": true
   },
   "outputs": [],
   "source": [
    "heroine = Heroine('diana', 'prince')"
   ]
  },
  {
   "cell_type": "markdown",
   "metadata": {},
   "source": [
    "We see that it really is modeled after the Heroine `namedtuple` and the datatype is a `Heroine` object available from our main script"
   ]
  },
  {
   "cell_type": "code",
   "execution_count": null,
   "metadata": {},
   "outputs": [],
   "source": [
    "type(heroine)"
   ]
  },
  {
   "cell_type": "markdown",
   "metadata": {},
   "source": [
    "And amazingly, awesomely, astonishingly... we can access the individual fields **by name**"
   ]
  },
  {
   "cell_type": "code",
   "execution_count": null,
   "metadata": {},
   "outputs": [],
   "source": [
    "heroine.lastname"
   ]
  },
  {
   "cell_type": "code",
   "execution_count": null,
   "metadata": {},
   "outputs": [],
   "source": [
    "heroine.firstname"
   ]
  },
  {
   "cell_type": "markdown",
   "metadata": {},
   "source": [
    "Using tab completion to examine the available attributes yields all the normal tuple methods and our new attributes:\n",
    "\n",
    "`.count()`\n",
    "\n",
    "`.firstname`\n",
    "\n",
    "`.index()`\n",
    "\n",
    "`.lastname`\n"
   ]
  },
  {
   "cell_type": "code",
   "execution_count": null,
   "metadata": {},
   "outputs": [],
   "source": [
    "heroine."
   ]
  },
  {
   "cell_type": "markdown",
   "metadata": {},
   "source": [
    "# Experience Points!\n",
    "---"
   ]
  },
  {
   "cell_type": "markdown",
   "metadata": {},
   "source": [
    "In your **text editor** create a simple script called:\n",
    "\n",
    "```bash\n",
    "my_tuples_01.py```\n",
    "\n",
    "Execute your script in the **Jupyter** using the command:\n",
    "\n",
    "```bash\n",
    "run my_tuples_01.py```\n",
    "\n",
    "In your script, add code that does the following:\n",
    "\n",
    "1. Import the `namedtuple` function from the `collections` module\n",
    "1. Assign the label `Automobile` to a namedtuple with a type and a list of attributes:\n",
    "    1. type = `Automobile`\n",
    "    1. these attributes: `number_of_doors`, `manual`, `colors`\n",
    "1. Assign the label `my_car` to an object created with your new `Automobile` template\n",
    "    1. include arguments to be assigned to each of the attributes in your namedtuple\n",
    "       * 4 doors\n",
    "       * True\n",
    "       * ['black', 'red', 'black']\n",
    "1. Print the `namedtuple` to the screen "
   ]
  },
  {
   "cell_type": "markdown",
   "metadata": {},
   "source": [
    "When you complete this exercise, please put your green post-it on your monitor. \n",
    "\n",
    "If you want to continue on at your own-pace, please feel free to do so.\n",
    "\n",
    "<img src='../universal_images/green_sticky.300px.png' width='200' style='float:left'>"
   ]
  }
 ],
 "metadata": {
  "kernelspec": {
   "display_name": "Python 3",
   "language": "python",
   "name": "python3"
  },
  "language_info": {
   "codemirror_mode": {
    "name": "ipython",
    "version": 3
   },
   "file_extension": ".py",
   "mimetype": "text/x-python",
   "name": "python",
   "nbconvert_exporter": "python",
   "pygments_lexer": "ipython3",
   "version": "3.6.8"
  }
 },
 "nbformat": 4,
 "nbformat_minor": 2
}
