{
 "cells": [
  {
   "cell_type": "markdown",
   "metadata": {},
   "source": [
    "# Welcome to the Dark Art of Coding:\n",
    "## Introduction to Python\n",
    "Comma separated value (CSV) files\n",
    "\n",
    "<img src='../universal_images/dark_art_logo.600px.png' width='300' style=\"float:right\">"
   ]
  },
  {
   "cell_type": "markdown",
   "metadata": {},
   "source": [
    "# Objectives\n",
    "---"
   ]
  },
  {
   "cell_type": "markdown",
   "metadata": {},
   "source": [
    "In this session, we will look at handling files based on Comma Separated Values (CSV).\n",
    "\n",
    "Students should expect to:\n",
    "\n",
    "* Open CSVs manually, using straight Python\n",
    "* Open CSVs using the `csv` module"
   ]
  },
  {
   "cell_type": "markdown",
   "metadata": {},
   "source": [
    "# Manually opening CSVs with straight Python\n",
    "---"
   ]
  },
  {
   "cell_type": "markdown",
   "metadata": {},
   "source": [
    "In their simplest form, CSVs can be opened/processed just like regular text files. This is generally only successful if the CSV is well-formed and uniformly consistent throughout. "
   ]
  },
  {
   "cell_type": "code",
   "execution_count": 1,
   "metadata": {
    "collapsed": true
   },
   "outputs": [
    {
     "name": "stdout",
     "output_type": "stream",
     "text": [
      "Date Volume\n",
      "2/29/2008 23860500\n",
      "2/28/2008 30113200\n",
      "2/27/2008 27664100\n",
      "2/26/2008 26013000\n",
      "2/25/2008 32470600\n",
      "2/22/2008 26157800\n",
      "2/21/2008 34494000\n",
      "2/20/2008 29274700\n"
     ]
    }
   ],
   "source": [
    "file = open('folder/yahoo_prices_short.csv', 'r')\n",
    "\n",
    "for line in file:\n",
    "    fields = line.rstrip().split(',')\n",
    "    print(fields[0], fields[5])           \n",
    "    \n",
    "# Having a header row is not quite what we want...    \n",
    "    "
   ]
  },
  {
   "cell_type": "code",
   "execution_count": 2,
   "metadata": {
    "collapsed": true
   },
   "outputs": [
    {
     "name": "stdout",
     "output_type": "stream",
     "text": [
      "2/29/2008 23860500\n",
      "2/28/2008 30113200\n",
      "2/27/2008 27664100\n",
      "2/26/2008 26013000\n",
      "2/25/2008 32470600\n",
      "2/22/2008 26157800\n",
      "2/21/2008 34494000\n",
      "2/20/2008 29274700\n"
     ]
    }
   ],
   "source": [
    "file = open('folder/yahoo_prices_short.csv')\n",
    "file.readline()        # Date,Open,High,Low,Close,Volume,Adj Close\n",
    "\n",
    "for line in file:\n",
    "    fields = line.strip().split(',')\n",
    "    print(fields[0], fields[5])           \n",
    "\n",
    "# this is great, but is of limited utility in terms of data analysis..."
   ]
  },
  {
   "cell_type": "markdown",
   "metadata": {},
   "source": [
    "## Detour: several builtin functions: `max()` and `min()`"
   ]
  },
  {
   "cell_type": "code",
   "execution_count": 16,
   "metadata": {
    "collapsed": true
   },
   "outputs": [
    {
     "name": "stdout",
     "output_type": "stream",
     "text": [
      "Max:\n"
     ]
    },
    {
     "data": {
      "text/plain": [
       "42"
      ]
     },
     "execution_count": 16,
     "metadata": {},
     "output_type": "execute_result"
    }
   ],
   "source": [
    "# A pair of built-in functions may help: max() & min()\n",
    "# given a random list of integers\n",
    "\n",
    "random_list = [1, 2, 3, 4, 42]\n",
    "print('Max:')\n",
    "max(random_list)"
   ]
  },
  {
   "cell_type": "code",
   "execution_count": 13,
   "metadata": {
    "collapsed": true
   },
   "outputs": [
    {
     "name": "stdout",
     "output_type": "stream",
     "text": [
      "Min:\n"
     ]
    },
    {
     "data": {
      "text/plain": [
       "1"
      ]
     },
     "execution_count": 13,
     "metadata": {},
     "output_type": "execute_result"
    }
   ],
   "source": [
    "print('Min:')\n",
    "min(random_list)"
   ]
  },
  {
   "cell_type": "code",
   "execution_count": 9,
   "metadata": {
    "collapsed": true
   },
   "outputs": [
    {
     "name": "stdout",
     "output_type": "stream",
     "text": [
      "34494000 23860500\n"
     ]
    }
   ],
   "source": [
    "file = open('folder/yahoo_prices_short.csv')\n",
    "file.readline()\n",
    "\n",
    "volumes = list()              # volumes = [] also works.\n",
    "\n",
    "for line in file:\n",
    "    fields = line.strip().split(',')\n",
    "    volumes.append(int(fields[5]))\n",
    "    \n",
    "print(max(volumes), min(volumes))    "
   ]
  },
  {
   "cell_type": "code",
   "execution_count": 17,
   "metadata": {
    "collapsed": true
   },
   "outputs": [
    {
     "name": "stdout",
     "output_type": "stream",
     "text": [
      "34494000 23860500\n"
     ]
    }
   ],
   "source": [
    "# Sometimes, even though it introduces more lines of \n",
    "#     code, we may choose to introduce intermediary\n",
    "#     variable names, simply to improve the readability\n",
    "#     of the code.\n",
    "\n",
    "file = open('folder/yahoo_prices_short.csv')\n",
    "file.readline()\n",
    "\n",
    "volumes = list()              # volumes = [] also works.\n",
    "\n",
    "for line in file:\n",
    "    fields = line.strip().split(',')\n",
    "    \n",
    "    volume = int(fields[5])        # we add this line for readability\n",
    "    volumes.append(volume)\n",
    "\n",
    "print(max(volumes), min(volumes))    \n"
   ]
  },
  {
   "cell_type": "markdown",
   "metadata": {},
   "source": [
    "# Experience Points!"
   ]
  },
  {
   "cell_type": "markdown",
   "metadata": {},
   "source": [
    "In your **text editor** create a simple script called:\n",
    "\n",
    "```bash\n",
    "my_csv_01.py```\n",
    "\n",
    "Execute your script in **Jupyter** using the command:\n",
    "\n",
    "```bash\n",
    "run my_csv_01.py```\n",
    "\n",
    "I suggest that as you add each feature to your script that you run it right away to test it incrementally. \n",
    "\n",
    "Task | Sample Object(s)\n",
    ":---|---\n",
    "1. open the file `yahoo_prices_short.csv` and label it with a suitable filehandle| `fin` OR `infile` OR `stocks`\n",
    "1. create a list to hold adjusted closing values for the stocks|`adjusted_close`\n",
    "1. parse each row for the value in the `Adj Close` column|\n",
    "1. convert each value to a float| `float()`\n",
    "3. `append()` each value to the `adjusted_close` list|\n",
    "4. `print()` the maximum and minimum values|`max()` & `min()`"
   ]
  },
  {
   "cell_type": "markdown",
   "metadata": {},
   "source": [
    "<img src='../universal_images/green_sticky.300px.png' width='200' style='float:left'>"
   ]
  },
  {
   "cell_type": "markdown",
   "metadata": {},
   "source": [
    "# Opening CSVs with the csv module\n",
    "---"
   ]
  },
  {
   "cell_type": "markdown",
   "metadata": {},
   "source": [
    "## Classic example of what can go wrong!\n",
    "\n",
    "As noted earlier, manual, pure-Python parsing of CSVs only works if the CSV is well-formed and consistent throughout. Let's look at what happens when we attempt to parse a CSV, that has some oddities OR unexpected conditions."
   ]
  },
  {
   "cell_type": "code",
   "execution_count": 18,
   "metadata": {
    "collapsed": true
   },
   "outputs": [
    {
     "name": "stdout",
     "output_type": "stream",
     "text": [
      "APPL,Apple,27.49,28.41,27.5,27.78,23860500,27.78\n",
      "Num of fields: 8\n",
      "The fields: ['APPL', 'Apple', '27.49', '28.41', '27.5', '27.78', '23860500', '27.78']\n",
      "------------------------------------------------------------\n",
      "C,Citigroup,27.98,28.82,27.96,28.15,30113200,28.15\n",
      "Num of fields: 8\n",
      "The fields: ['C', 'Citigroup', '27.98', '28.82', '27.96', '28.15', '30113200', '28.15']\n",
      "------------------------------------------------------------\n",
      "GOOG,Google,30.45,29.81,28.36,30.18,27664100,28.46\n",
      "Num of fields: 8\n",
      "The fields: ['GOOG', 'Google', '30.45', '29.81', '28.36', '30.18', '27664100', '28.46']\n",
      "------------------------------------------------------------\n",
      "HOG,\"Harley-Davidson, Inc.\",28.48,30.9,27.98,28.48,52354100,28.31\n",
      "Num of fields: 9\n",
      "The fields: ['HOG', '\"Harley-Davidson', ' Inc.\"', '28.48', '30.9', '27.98', '28.48', '52354100', '28.31']\n",
      "------------------------------------------------------------\n",
      "MMM,3m,30.64,27.70,29.11,28.64,82354200,29.74\n",
      "Num of fields: 8\n",
      "The fields: ['MMM', '3m', '30.64', '27.70', '29.11', '28.64', '82354200', '29.74']\n",
      "------------------------------------------------------------\n",
      "M,\"Macy's\",29.7,26.32,28.16,30.3,72371982,28.12\n",
      "Num of fields: 8\n",
      "The fields: ['M', '\"Macy\\'s\"', '29.7', '26.32', '28.16', '30.3', '72371982', '28.12']\n",
      "------------------------------------------------------------\n",
      "MSFT,Microsoft,26.13,26.75,26.101,25.51,12365478,29.50\n",
      "Num of fields: 8\n",
      "The fields: ['MSFT', 'Microsoft', '26.13', '26.75', '26.101', '25.51', '12365478', '29.50']\n",
      "------------------------------------------------------------\n",
      "WAG,Walgreens,26.63,26.51,28.47,28.33,81271452,26.29\n",
      "Num of fields: 8\n",
      "The fields: ['WAG', 'Walgreens', '26.63', '26.51', '28.47', '28.33', '81271452', '26.29']\n",
      "------------------------------------------------------------\n"
     ]
    }
   ],
   "source": [
    "with open('folder/stocks.csv') as filein:\n",
    "    filein.readline()           # \"Stock Symbol\",\"Stock Name\",Open,High,Low,Close,Volume,Adj Close\n",
    "    \n",
    "    for line in filein:\n",
    "        line = line.strip()\n",
    "        print(line)\n",
    "        fields = line.split(',')\n",
    "        print('Num of fields:', len(fields))\n",
    "        print('The fields:', fields)\n",
    "        print('-' * 60)"
   ]
  },
  {
   "cell_type": "markdown",
   "metadata": {},
   "source": [
    "If we go looking for the **High** stock value...shown in BLUE.\n",
    "\n",
    "We end up getting a single **Open** value associated with Harley Davidson\n",
    "\n",
    "\n",
    "<pre>\n",
    "Stock Symbol,Stock Name,<strong>Open,High</strong>,Low,Close,Volume,Adj Close\n",
    "\n",
    "APPL,Apple,27.49,<strong><span style=\"color:blue\">28.41</span></strong>,27.5,27.78,23860500,27.78\n",
    "C,Citigroup,27.98,<strong><span style=\"color:blue\">28.82</span></strong>,27.96,28.15,30113200,28.15\n",
    "GOOG,Google,30.45,<strong><span style=\"color:blue\">29.81</span></strong>,28.36,30.18,27664100,28.46\n",
    "HOG,\"Harley-Davidson, Inc.\",<strong><span style=\"color:red\">28.48</span></strong>,30.9,27.98,28.48,52354100,28.31\n",
    "MMM,3m,30.64,<strong><span style=\"color:blue\">27.70</span></strong>,29.11,28.64,82354200,29.74\n",
    "M,\"Macy's\",29.7,<strong><span style=\"color:blue\">26.32</span></strong>,28.16,30.3,72371982,28.12\n",
    "MSFT,Microsoft,26.13,<strong><span style=\"color:blue\">26.75</span></strong>,26.101,25.51,12365478,29.50\n",
    "WAG,Walgreens,26.63,<strong><span style=\"color:blue\">26.51</span></strong>,28.47,28.33,81271452,26.29</pre>"
   ]
  },
  {
   "cell_type": "code",
   "execution_count": null,
   "metadata": {
    "collapsed": true
   },
   "outputs": [],
   "source": [
    "with open('folder/stocks.csv') as filein:\n",
    "    filein.readline()\n",
    "    open_prices = []            # using list() OR [] is acceptable\n",
    "    \n",
    "    for line in filein:\n",
    "        line = line.strip().split(',')\n",
    "        \n",
    "        symbol = line[0]\n",
    "        name = line[1]\n",
    "        high = line[3]\n",
    "        \n",
    "        open_prices.append(float(high))\n",
    "        \n",
    "        print(symbol, name, high)\n",
    "\n",
    "print()        \n",
    "print('Max:', max(open_prices))\n",
    "    \n",
    "# Max 'High' value SHOULD have been 30.9 for Harley-Davidson\n",
    "# Oooops."
   ]
  },
  {
   "cell_type": "markdown",
   "metadata": {},
   "source": [
    "## Let's do it right..."
   ]
  },
  {
   "cell_type": "code",
   "execution_count": null,
   "metadata": {
    "collapsed": true
   },
   "outputs": [],
   "source": [
    "import csv                          # The csv module provides more flexibility and tools than \n",
    "                                    # opening the file with straight Python\n",
    "\n",
    "file = open('folder/stocks.csv')\n",
    "file.readline()    \n",
    "\n",
    "csv_stocks = csv.reader(file)       # produces a \"reader\" object that parses rows\n",
    "                                    # the way you expect, out of the box\n",
    "                                    #     it defaults to comma separator\n",
    "                                    #     it understands quoted fields\n",
    "\n",
    "for line in csv_stocks:\n",
    "    print(line)"
   ]
  },
  {
   "cell_type": "code",
   "execution_count": null,
   "metadata": {
    "collapsed": true
   },
   "outputs": [],
   "source": [
    "import csv                          \n",
    "file = open('folder/stocks.csv')\n",
    "file.readline()    \n",
    "\n",
    "csv_stocks = csv.reader(file)       \n",
    "\n",
    "open_prices = list()\n",
    "\n",
    "for line in csv_stocks:\n",
    "    \n",
    "    # Let's extract key fields from each of the lists\n",
    "    symbol = line[0]\n",
    "    name = line[1]\n",
    "    high = line[3]\n",
    "    \n",
    "    open_prices.append(high)\n",
    "    print(symbol, name, high)\n",
    "    \n",
    "print('\\nMax:', max(open_prices))   # NOTICE the '\\n' character\n",
    "file.close()"
   ]
  },
  {
   "cell_type": "markdown",
   "metadata": {},
   "source": [
    "# Experience Points!"
   ]
  },
  {
   "cell_type": "markdown",
   "metadata": {},
   "source": [
    "In your **text editor** create a simple script called:\n",
    "\n",
    "```bash\n",
    "my_csv_02.py```\n",
    "\n",
    "Execute your script in **Jupyter** using the command:\n",
    "\n",
    "```bash\n",
    "run my_csv_02.py```\n",
    "\n",
    "I suggest that as you add each feature to your script that you run it right away to test it incrementally. \n",
    "\n",
    "Task | Sample Object(s)\n",
    ":---|---\n",
    "1. open the file `stocks.csv` and label it with a suitable filehandle| `fin` OR `infile` OR `stocks`\n",
    "1. parse each row for the values in the `Stock Symbol`, `High` and `Low` column|`stock`, `low`, `high`\n",
    "1. convert each value to a `float()`|\n",
    "3. calculate the difference between the `high` and `low`| `diff`\n",
    "4. `print()` the values of `stock` and `diff`| `stock`, `diff`"
   ]
  },
  {
   "cell_type": "markdown",
   "metadata": {},
   "source": [
    "<img src='../universal_images/green_sticky.300px.png' width='200' style='float:left'>"
   ]
  },
  {
   "cell_type": "code",
   "execution_count": null,
   "metadata": {
    "collapsed": true
   },
   "outputs": [],
   "source": []
  },
  {
   "cell_type": "code",
   "execution_count": null,
   "metadata": {
    "collapsed": true
   },
   "outputs": [],
   "source": [
    "# Let's take a quick look at the raw data in this CSV...\n",
    "\n",
    "%cat folder/stocks.csv"
   ]
  },
  {
   "cell_type": "code",
   "execution_count": null,
   "metadata": {
    "collapsed": true
   },
   "outputs": [],
   "source": [
    "# Next, let's take a quick look at the raw data in this file with \n",
    "#     tab separated values (TSV)...\n",
    "\n",
    "%cat folder/stocks.tsv"
   ]
  },
  {
   "cell_type": "code",
   "execution_count": null,
   "metadata": {
    "collapsed": true
   },
   "outputs": [],
   "source": [
    "import csv                          \n",
    "\n",
    "file = open('folder/stocks.tsv')\n",
    "file.readline()                     # \"Stock Symbol\" \"Stock Name\" Open High Low Close Volume \"Adj Close\"\n",
    "\n",
    "tsv_stocks = csv.reader(file, \n",
    "                        delimiter='\\t', \n",
    "                        quotechar=\"'\",\n",
    "                        escapechar=\"\\\\\")                        \n",
    "                                    # csv.reader takes several arguments here\n",
    "                                    #     the filehandle\n",
    "                                    #     a delimiter character \n",
    "                                    #     a quote character to encapsulate any \n",
    "                                    #     delimiters\n",
    "                                    #     an escape character\n",
    "\n",
    "open_prices = list()\n",
    "\n",
    "for line in tsv_stocks:\n",
    "    symbol, name, _open, high, low, close, volume, adjclose = line\n",
    "    open_prices.append(_open)\n",
    "    print(symbol, name, _open)\n",
    "\n",
    "print('\\nMax:', max(open_prices))\n",
    "file.close()"
   ]
  },
  {
   "cell_type": "markdown",
   "metadata": {},
   "source": [
    "# Experience Points!"
   ]
  },
  {
   "cell_type": "markdown",
   "metadata": {},
   "source": [
    "In your **text editor** create a simple script called:\n",
    "\n",
    "```bash\n",
    "my_csv_03.py```\n",
    "\n",
    "Execute your script in **Jupyter** using the command:\n",
    "\n",
    "```bash\n",
    "run my_csv_03.py```\n",
    "\n",
    "I suggest that as you add each feature to your script that you run it right away to test it incrementally. \n",
    "\n",
    "Task | Sample Object(s)\n",
    ":---|---\n",
    "1. open the file `stocks.csv` and label it with a suitable filehandle| `fin` OR `infile` OR `stocks`\n",
    "1. parse each row for the values in the `Stock Symbol`, `High`, and `Low` columns|`stock`, `low`, `high`\n",
    "1. convert each value to a `float()`|\n",
    "3. calculate the difference between the `high` and `low`| `diff`\n",
    "4. `print()` the values of `stock` and `diff`| `stock`, `diff`"
   ]
  },
  {
   "cell_type": "markdown",
   "metadata": {},
   "source": [
    "When you finish this exercise, please post your Green Sticky.\n",
    "\n",
    "<img src='../universal_images/green_sticky.300px.png' width='200' style='float:left'>"
   ]
  },
  {
   "cell_type": "code",
   "execution_count": null,
   "metadata": {
    "collapsed": true
   },
   "outputs": [],
   "source": [
    "# If you're going to read a bunch of CSVs with the same style of formatting then you can\n",
    "# make a \"dialect\" which saves some of your arguments\n",
    "\n",
    "file = open('folder/stocks.tsv')\n",
    "csv.register_dialect('tsvDialect', delimiter='\\t', quotechar=\"'\", escapechar=\"\\\\\")\n",
    "\n",
    "tsvinput = csv.reader(file, 'tsvDialect')\n",
    "\n",
    "for line in tsvinput:\n",
    "    print(line)"
   ]
  },
  {
   "cell_type": "code",
   "execution_count": null,
   "metadata": {
    "collapsed": true
   },
   "outputs": [],
   "source": []
  },
  {
   "cell_type": "code",
   "execution_count": null,
   "metadata": {
    "collapsed": true
   },
   "outputs": [],
   "source": [
    "import csv                          \n",
    "csv.register_dialect('tsvDialect', delimiter='\\t', quotechar=\"'\", escapechar=\"\\\\\")\n",
    "\n",
    "filein = open('folder/stocks.tsv')\n",
    "fileout = open('folder/stocks_slim.csv', 'w')\n",
    "filein.readline()                     # \"Stock Symbol\",\"Stock Name\",Open,High,Low,Close,Volume,Adj Close\n",
    "\n",
    "tsv_stocks = csv.reader(filein, 'tsvDialect')\n",
    "stocks_slim = csv.writer(fileout, quotechar='\"')\n",
    "\n",
    "for line in tsv_stocks:\n",
    "    print(line)\n",
    "    symbol, name, _open, high, low, close, volume, adjclose = line\n",
    "    output = [name, symbol, close]\n",
    "    stocks_slim.writerow(output)\n",
    "\n",
    "filein.close()\n",
    "fileout.close()\n",
    "    "
   ]
  },
  {
   "cell_type": "markdown",
   "metadata": {},
   "source": [
    "# Experience points\n",
    "---"
   ]
  },
  {
   "cell_type": "markdown",
   "metadata": {},
   "source": [
    "The following problems combine a number fo features from our previous discussions, such as:\n",
    "* creating functions\n",
    "* reading CSVs\n",
    "* processing strings\n",
    "* indexing lists\n",
    "* converting values from one datatype to another"
   ]
  },
  {
   "cell_type": "markdown",
   "metadata": {},
   "source": [
    "## Problem 0\n",
    "\n",
    "In your **text editor** create a simple script called:\n",
    "\n",
    "```bash\n",
    "my_csv_prob_0.py```\n",
    "\n",
    "Execute your script in **Jupyter** using the command:\n",
    "\n",
    "```bash\n",
    "run my_csv_prob_0.py```\n",
    "---\n",
    "\n",
    "This problem uses the file: `folder/log_file_1000.csv`, which has the following columns:\n",
    "\n",
    "`name,email,fm_ip,to_ip,date,lat,long,payload`\n",
    "\n",
    "You will create a script to extract user IDs (UID) from email addresses and pair them with latitude and longitude values from each row in the file. \n",
    "\n",
    "1. Start by creating a function that when given an email address can extract and return the UID (i.e. if given<br>\n",
    "**ballen@ jleague.org**, will return:  **ballen**)\n",
    "1. Open the file `folder/log_file_1000.csv` AND label it with a suitable filehandle\n",
    "1. Use the `csv` module to read the data from the file (don't forget to import the module!)\n",
    "1. Parse each row of the CSV.\n",
    "1. For each row, call your function AND provide as an argument the email address from that row.\n",
    "1. `print()` the UID returned by your function and print the latitude and longitude from that row\n"
   ]
  },
  {
   "cell_type": "markdown",
   "metadata": {},
   "source": [
    "<img src='../universal_images/green_sticky.300px.png' width='200' style='float:left'>"
   ]
  },
  {
   "cell_type": "code",
   "execution_count": null,
   "metadata": {
    "collapsed": true
   },
   "outputs": [],
   "source": []
  },
  {
   "cell_type": "markdown",
   "metadata": {},
   "source": [
    "## Problem 1\n",
    "\n",
    "In your **text editor** create a simple script called:\n",
    "\n",
    "```bash\n",
    "my_csv_prob_1.py```\n",
    "\n",
    "Execute your script in **Jupyter** using the command:\n",
    "\n",
    "```bash\n",
    "run my_csv_prob_1.py```\n",
    "---\n",
    "\n",
    "This problem uses the file: `folder/log_file_1000.csv`, which has the following columns:\n",
    "\n",
    "`name,email,fm_ip,to_ip,date,lat,long,payload`\n",
    "\n",
    "You will create a script to extract the:\n",
    "* `to IP addresses`\n",
    "* `from IP addresses`\n",
    "* `name`\n",
    "* `date` \n",
    "\n",
    "\n",
    "1. Create a function that when given an IP address will return `True` if the IP address is part of the `75.0.0.0/8` network (For simplicity, check if the first three characters are `\"75.\"`) >>> **see NOTE: below**.\n",
    "1. Open the file `folder/log_file_1000.csv` AND label it with a suitable filehandle\n",
    "1. Use the `csv` module to read the data from the file (don't forget to import the module)\n",
    "1. For each row, call your function AND give it the `from IP address` from that row. Similarly call your function and give it the `to IP address` from that row.\n",
    "1. `print()` the `name`, `from IP`, `to IP` and `date` for only those rows where an IP address falls into the `75.0.0.0/8` network.\n",
    "\n",
    "\n",
    "* NOTE: there are way better ways to process IP addresses, this is greatly simplified. see the `ipaddress module`\n"
   ]
  },
  {
   "cell_type": "markdown",
   "metadata": {},
   "source": [
    "When you finish this exercise, please post your Green Sticky.\n",
    "\n",
    "<img src='../universal_images/green_sticky.300px.png' width='200' style='float:left'>"
   ]
  },
  {
   "cell_type": "code",
   "execution_count": null,
   "metadata": {},
   "outputs": [],
   "source": []
  },
  {
   "cell_type": "markdown",
   "metadata": {},
   "source": [
    "## Problem 2\n",
    "\n",
    "In your **text editor** create a simple script called:\n",
    "\n",
    "```bash\n",
    "my_csv_prob_2.py```\n",
    "\n",
    "Execute your script in **Jupyter** using the command:\n",
    "\n",
    "```bash\n",
    "run my_csv_prob_2.py```\n",
    "---\n",
    "\n",
    "This problem uses the file: `folder/log_file_1000.csv`, which has the following columns:\n",
    "\n",
    "`name,email,fm_ip,to_ip,date,lat,long,payload`\n",
    "\n",
    "You will create a script to extract the:\n",
    "\n",
    "* `latitude`\n",
    "* `longitude`\n",
    "* `date`\n",
    "\n",
    "\n",
    "1. Create a function that when given two text values (`latitude` and `longitude`) returns two modified numeric values: \n",
    "   1. Convert each text value to a `float()`\n",
    "   1. Use the `round()` function to round the float to two decimal places\n",
    "1. Open the file `folder/log_file_1000.csv` AND label it with a suitable filehandle\n",
    "1. Use the `csv` module to read the data from the file (don't forget to import the module)\n",
    "1. For each row, call your function AND give it the lat and long values\n",
    "1. `print()` the `date` and the `latitude` and `longitude`.\n"
   ]
  },
  {
   "cell_type": "markdown",
   "metadata": {},
   "source": [
    "When you finish this exercise, please post your Green Sticky.\n",
    "\n",
    "<img src='../universal_images/green_sticky.300px.png' width='200' style='float:left'>"
   ]
  },
  {
   "cell_type": "code",
   "execution_count": null,
   "metadata": {},
   "outputs": [],
   "source": []
  },
  {
   "cell_type": "markdown",
   "metadata": {},
   "source": [
    "## Problem 3\n",
    "\n",
    "In your **text editor** create a simple script called:\n",
    "\n",
    "```bash\n",
    "my_csv_prob_3.py```\n",
    "\n",
    "Execute your script in **Jupyter** using the command:\n",
    "\n",
    "```bash\n",
    "run my_csv_prob_3.py```\n",
    "---\n",
    "\n",
    "This problem uses the file: `folder/yahoo_price_short.csv`, which has the following columns:\n",
    "\n",
    "`date, open, high, low, close, volume, adj_close`\n",
    "\n",
    "You will create a script to extract the:\n",
    "* `date`\n",
    "* `volume`\n",
    "\n",
    "\n",
    "1. Create a function that when given one text value (`volume`) returns one value: \n",
    "   1. Convert the text value to an integer\n",
    "   1. Divide the value by `1,000,000`\n",
    "   1. Use the round() function to round to one decimal place\n",
    "   1. Convert the float to a string and concatenate with an `M` to convert the value to a human-readable form (i.e. 28345623 becomes 28.3M)\n",
    "   1. Return the human-readable `volume`\n",
    "1. Open the file `folder/yahoo_price_short.csv` AND label it with a suitable filehandle\n",
    "1. Use the `csv` module to read the data from the file (don't forget to import the module)\n",
    "1. For each row, call your function AND give it the `volume` as an argument\n",
    "1. Print the `date` and `volume` in human-readable form."
   ]
  },
  {
   "cell_type": "markdown",
   "metadata": {},
   "source": [
    "When you finish this exercise, please post your Green Sticky.\n",
    "\n",
    "<img src='../universal_images/green_sticky.300px.png' width='200' style='float:left'>"
   ]
  },
  {
   "cell_type": "code",
   "execution_count": null,
   "metadata": {},
   "outputs": [],
   "source": []
  },
  {
   "cell_type": "markdown",
   "metadata": {},
   "source": [
    "## Problem 4\n",
    "\n",
    "In your **text editor** create a simple script called:\n",
    "\n",
    "```bash\n",
    "my_csv_prob_4.py```\n",
    "\n",
    "Execute your script in **Jupyter** using the command:\n",
    "\n",
    "```bash\n",
    "run my_csv_prob_4.py```\n",
    "---\n",
    "\n",
    "This problem uses the file: `folder/yahoo_price_short.csv`, which has the following columns:\n",
    "\n",
    "`date, open, high, low, close, volume, adj_close`\n",
    "\n",
    "You will create a script to extract the:\n",
    "* `date`\n",
    "* `volume`\n",
    "\n",
    "1. Create a function that when given one text value (`date`) returns one value: \n",
    "   1. Split the text and extract the day\n",
    "   1. Return the `day` of the month (i.e. mm/dd/yyyy >>> 2/29/2008 >>> 29)\n",
    "1. Open the file `folder/yahoo_price_short.csv` AND label it with a suitable filehandle\n",
    "1. Use the `csv` module to read the data from the file (don't forget to import the module)\n",
    "1. For each row, extract the `volume`\n",
    "1. For the row with the highest `volume`, calculate the `day` of the month associated with that row, using your function\n",
    "1. `print()` the `day` of the month with the highest `volume` and the value associated with the `volume`"
   ]
  },
  {
   "cell_type": "markdown",
   "metadata": {},
   "source": [
    "When you finish this exercise, please post your Green Sticky.\n",
    "\n",
    "<img src='../universal_images/green_sticky.300px.png' width='200' style='float:left'>"
   ]
  },
  {
   "cell_type": "code",
   "execution_count": null,
   "metadata": {},
   "outputs": [],
   "source": []
  },
  {
   "cell_type": "markdown",
   "metadata": {},
   "source": [
    "\n",
    "\n",
    "\n",
    "\n",
    "\n",
    "\n"
   ]
  },
  {
   "cell_type": "markdown",
   "metadata": {},
   "source": [
    "# Solutions:\n",
    "---"
   ]
  },
  {
   "cell_type": "markdown",
   "metadata": {},
   "source": [
    "## Problem 0\n",
    "\n",
    "This problem uses the file: `folder/log_file_1000.csv`, which has the following columns:\n",
    "\n",
    "`name,email,fm_ip,to_ip,date,lat,long,payload`\n",
    "\n",
    "You will create a script to extract user IDs (UID) from email addresses and pair them with latitude and longitude values from each row in the file. \n",
    "\n",
    "1. Start by creating a function that when given an email address can extract and return the UID (i.e. if given<br>\n",
    "**ballen@ jleague.org**, will return:  **ballen**)\n",
    "1. Open the file `folder/log_file_1000.csv` AND label it with a suitable filehandle\n",
    "1. Use the `csv` module to read the data from the file (don't forget to import the module!)\n",
    "1. Parse each row of the CSV.\n",
    "1. For each row, call your function AND provide as an argument the email address from that row.\n",
    "1. `print()` the UID returned by your function and print the latitude and longitude from that row"
   ]
  },
  {
   "cell_type": "code",
   "execution_count": null,
   "metadata": {
    "collapsed": true
   },
   "outputs": [],
   "source": [
    "import csv\n",
    "\n",
    "def get_uid(email):\n",
    "    uid = email.split('@')[0]\n",
    "    return uid\n",
    "\n",
    "fin = open('folder/log_file_1000.csv')\n",
    "logs = csv.reader(fin)\n",
    "\n",
    "for fields in logs:\n",
    "    \n",
    "    name, email, fmip, toip, date, lat, long, payload = fields\n",
    "    uid = get_uid(email)\n",
    "    print(uid, lat, long)"
   ]
  },
  {
   "cell_type": "markdown",
   "metadata": {},
   "source": [
    "## Problem 1\n",
    "\n",
    "This problem uses the file: `folder/log_file_1000.csv`, which has the following columns:\n",
    "\n",
    "`name,email,fm_ip,to_ip,date,lat,long,payload`\n",
    "\n",
    "You will create a script to extract the:\n",
    "* `to IP addresses`\n",
    "* `from IP addresses`\n",
    "* `name`\n",
    "* `date` \n",
    "\n",
    "\n",
    "1. Create a function that when given an IP address will return `True` if the IP address is part of the `75.0.0.0/8` network (For simplicity, check if the first three characters are `\"75.\"`) >>> **see NOTE: below**.\n",
    "1. Open the file `folder/log_file_1000.csv` AND label it with a suitable filehandle\n",
    "1. Use the `csv` module to read the data from the file (don't forget to import the module)\n",
    "1. For each row, call your function AND give it the `from IP address` from that row. Similarly call your function and give it the `to IP address` from that row.\n",
    "1. `print()` the `name`, `from IP`, `to IP` and `date` for only those rows where an IP address falls into the `75.0.0.0/8` network.\n",
    "\n",
    "\n",
    "* NOTE: there are way better ways to process IP addresses, this is greatly simplified. see the `ipaddress module`\n"
   ]
  },
  {
   "cell_type": "code",
   "execution_count": null,
   "metadata": {
    "collapsed": true
   },
   "outputs": [],
   "source": [
    "import csv\n",
    "\n",
    "def ip75(ipaddress):\n",
    "    return ipaddress.startswith('75.')\n",
    "\n",
    "fin = open('folder/log_file_1000.csv')\n",
    "\n",
    "logs = csv.reader(fin)\n",
    "\n",
    "for fields in logs:\n",
    "    \n",
    "    # barry allen,ballen@jleague.org,155.130.121.215,75.122.133.241,2016-02-08T21:44:41,49.8316,8.01485,764272    \n",
    "    name, email, fmip, toip, date, lat, long, payload = fields\n",
    "    if ip75(fmip) or ip75(toip):\n",
    "        print(name, fmip, toip)"
   ]
  },
  {
   "cell_type": "markdown",
   "metadata": {},
   "source": [
    "## Problem 2\n",
    "\n",
    "This problem uses the file: `folder/log_file_1000.csv`, which has the following columns:\n",
    "\n",
    "`name,email,fm_ip,to_ip,date,lat,long,payload`\n",
    "\n",
    "You will create a script to extract the:\n",
    "\n",
    "* `latitude`\n",
    "* `longitude`\n",
    "* `date`\n",
    "\n",
    "\n",
    "1. Create a function that when given two text values (`latitude` and `longitude`) returns two modified numeric values: \n",
    "   1. Convert each text value to a `float()`\n",
    "   1. Use the `round()` function to round the float to two decimal places\n",
    "1. Open the file `folder/log_file_1000.csv` AND label it with a suitable filehandle\n",
    "1. Use the `csv` module to read the data from the file (don't forget to import the module)\n",
    "1. For each row, call your function AND give it the lat and long values\n",
    "1. `print()` the `date` and the `latitude` and `longitude`.\n"
   ]
  },
  {
   "cell_type": "code",
   "execution_count": null,
   "metadata": {
    "collapsed": true
   },
   "outputs": [],
   "source": [
    "import csv\n",
    "\n",
    "def geoConverter(lat, long):\n",
    "    lat = round(float(lat), 2)\n",
    "    long = round(float(long), 2)\n",
    "    return lat, long\n",
    "\n",
    "with open(\"folder/log_file_1000.csv\") as fin:\n",
    "    logs = csv.reader(fin)\n",
    "    \n",
    "    for line in logs:\n",
    "        name, email, fmip, toip, date, lat, long, payload = line\n",
    "        lat, long = geoConverter(lat, long)\n",
    "        print(date, lat, long)  "
   ]
  },
  {
   "cell_type": "markdown",
   "metadata": {},
   "source": [
    "## Problem 3\n",
    "\n",
    "This problem uses the file: `folder/yahoo_price_short.csv`, which has the following columns:\n",
    "\n",
    "`date, open, high, low, close, volume, adj_close`\n",
    "\n",
    "You will create a script to extract the:\n",
    "* `date`\n",
    "* `volume`\n",
    "\n",
    "\n",
    "1. Create a function that when given one text value (`volume`) returns one value: \n",
    "   1. Convert the text value to an integer\n",
    "   1. Divide the value by `1,000,000`\n",
    "   1. Use the round() function to round to one decimal place\n",
    "   1. Convert the float to a string and concatenate with an `M` to convert the value to a human-readable form (i.e. 28345623 becomes 28.3M)\n",
    "   1. Return the human-readable `volume`\n",
    "1. Open the file `folder/yahoo_price_short.csv` AND label it with a suitable filehandle\n",
    "1. Use the `csv` module to read the data from the file (don't forget to import the module)\n",
    "1. For each row, call your function AND give it the `volume` as an argument\n",
    "1. Print the `date` and `volume` in human-readable form."
   ]
  },
  {
   "cell_type": "code",
   "execution_count": null,
   "metadata": {
    "collapsed": true
   },
   "outputs": [],
   "source": [
    "import csv\n",
    "\n",
    "def human(txt):\n",
    "    num = int(txt)/1000000\n",
    "    num = round(num, 1)\n",
    "    return str(num) + 'M'\n",
    "    \n",
    "with open(\"folder/yahoo_prices_short.csv\") as fin:\n",
    "    fin.readline()\n",
    "    logs = csv.reader(fin)\n",
    "    \n",
    "    for line in logs:\n",
    "        date, _open, high, low, close, volume, adj_close = line\n",
    "        print(date, human(volume))"
   ]
  },
  {
   "cell_type": "markdown",
   "metadata": {},
   "source": [
    "## Problem 4\n",
    "\n",
    "This problem uses the file: `folder/yahoo_price_short.csv`, which has the following columns:\n",
    "\n",
    "`date, open, high, low, close, volume, adj_close`\n",
    "\n",
    "You will create a script to extract the:\n",
    "* `date`\n",
    "* `volume`\n",
    "\n",
    "1. Create a function that when given one text value (`date`) returns one value: \n",
    "   1. Split the text and extract the day\n",
    "   1. Return the `day` of the month (i.e. mm/dd/yyyy >>> 2/29/2008 >>> 29)\n",
    "1. Open the file `folder/yahoo_price_short.csv` AND label it with a suitable filehandle\n",
    "1. Use the `csv` module to read the data from the file (don't forget to import the module)\n",
    "1. For each row, extract the `volume`\n",
    "1. For the row with the highest `volume`, calculate the `day` of the month associated with that row, using your function\n",
    "1. `print()` the `day` of the month with the highest `volume` and the value associated with the `volume`"
   ]
  },
  {
   "cell_type": "code",
   "execution_count": null,
   "metadata": {
    "collapsed": true
   },
   "outputs": [],
   "source": [
    "import csv\n",
    "\n",
    "def dayFromDate(date):\n",
    "    return date.split('/')[1]\n",
    "    \n",
    "with open(\"folder/yahoo_prices_short.csv\") as fin:\n",
    "    fin.readline()\n",
    "    logs = csv.reader(fin)\n",
    "    \n",
    "    highest_vol = 0\n",
    "    \n",
    "    for line in logs:\n",
    "        date, _open, high, low, close, volume, adj_close = line\n",
    "        volume = int(volume)\n",
    "        if volume > highest_vol:\n",
    "            highest_vol = volume\n",
    "            day = dayFromDate(date)\n",
    "        \n",
    "        \n",
    "    print(day, highest_vol)\n"
   ]
  }
 ],
 "metadata": {
  "anaconda-cloud": {},
  "celltoolbar": "Slideshow",
  "kernelspec": {
   "display_name": "Python 3",
   "language": "python",
   "name": "python3"
  },
  "language_info": {
   "codemirror_mode": {
    "name": "ipython",
    "version": 3
   },
   "file_extension": ".py",
   "mimetype": "text/x-python",
   "name": "python",
   "nbconvert_exporter": "python",
   "pygments_lexer": "ipython3",
   "version": "3.6.8"
  }
 },
 "nbformat": 4,
 "nbformat_minor": 2
}
