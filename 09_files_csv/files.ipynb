{
 "cells": [
  {
   "cell_type": "markdown",
   "metadata": {
    "slideshow": {
     "slide_type": "slide"
    }
   },
   "source": [
    "# Welcome to the Dark Art of Coding:\n",
    "## Introduction to Python\n",
    "Reading and writing to files\n",
    "\n",
    "<img src='../universal_images/dark_art_logo.600px.png' width='300' style=\"float:right\">"
   ]
  },
  {
   "cell_type": "markdown",
   "metadata": {},
   "source": [
    "# Objectives\n",
    "\n",
    "* Opening and closing files\n",
    "* Reading .txt files and basic .csv files\n"
   ]
  },
  {
   "cell_type": "markdown",
   "metadata": {},
   "source": [
    "# File handling\n",
    "---"
   ]
  },
  {
   "cell_type": "code",
   "execution_count": null,
   "metadata": {
    "collapsed": true
   },
   "outputs": [],
   "source": [
    "# We start off by opening the file using the open()\n",
    "# function and assigning a label as a filehandle\n",
    "\n",
    "fin = open('../universal_datasets/carroll.txt')"
   ]
  },
  {
   "cell_type": "code",
   "execution_count": null,
   "metadata": {
    "collapsed": true
   },
   "outputs": [],
   "source": [
    "# How do you find out which methods exist for filehandles?\n",
    "# Use tab-completion\n",
    "\n",
    "fin."
   ]
  },
  {
   "cell_type": "markdown",
   "metadata": {},
   "source": [
    "# File handles\n",
    "These are what Python uses to refer to files and the methods associated with files. File handles provide access to the following, and more:\n",
    "\n",
    "* A **cursor** or **pointer** used to read and write from the file\n",
    "* The ability to iterate over the file\n",
    "* The ability to read from the file in various ways\n",
    "* The current location of the cursor\n",
    "* The ability to move the pointer\n"
   ]
  },
  {
   "cell_type": "markdown",
   "metadata": {},
   "source": [
    "## Reading in data\n"
   ]
  },
  {
   "cell_type": "code",
   "execution_count": null,
   "metadata": {
    "collapsed": true
   },
   "outputs": [],
   "source": [
    "# One method to read in data is using the read() method.\n",
    "\n",
    "text = fin.read()\n",
    "print(text)"
   ]
  },
  {
   "cell_type": "code",
   "execution_count": null,
   "metadata": {
    "collapsed": true,
    "slideshow": {
     "slide_type": "fragment"
    }
   },
   "outputs": [],
   "source": [
    "# When you finish interacting with a file, it is important that\n",
    "#     you close() the file.\n",
    "# I liken it to \n",
    "#     Putting your toys away, when you are done with them.\n",
    "\n",
    "fin.close()"
   ]
  },
  {
   "cell_type": "code",
   "execution_count": null,
   "metadata": {
    "collapsed": true
   },
   "outputs": [],
   "source": [
    "fin.read()"
   ]
  },
  {
   "cell_type": "markdown",
   "metadata": {},
   "source": [
    "## Writing out data"
   ]
  },
  {
   "cell_type": "code",
   "execution_count": null,
   "metadata": {
    "collapsed": true
   },
   "outputs": [],
   "source": [
    "# The process for opening a file for writing is very similar\n",
    "#     to opening a file for reading... with one exception...\n",
    "\n",
    "fout = open('../universal_datasets/output.txt', 'w')      # NOTE the 'w' to open the\n",
    "                                                          #     file for writing purposes"
   ]
  },
  {
   "cell_type": "code",
   "execution_count": null,
   "metadata": {
    "collapsed": true
   },
   "outputs": [],
   "source": [
    "# To write to the file, we use the .write() method\n",
    "# The .write() method takes a string as an argument\n",
    "#     and writes that string to the filesystem.\n",
    "\n",
    "fout.write('''Batman:\n",
    "The Dark Knight\n",
    "Returns''')\n",
    "\n",
    "# In this case, since we use a multi-line string, Python will\n",
    "#     write the entire string, newline characters and all\n"
   ]
  },
  {
   "cell_type": "code",
   "execution_count": null,
   "metadata": {
    "collapsed": true,
    "slideshow": {
     "slide_type": "slide"
    }
   },
   "outputs": [],
   "source": [
    "# Of course, when we finish with our file, we call the \n",
    "#     .close() method.\n",
    "\n",
    "fout.close()\n",
    "\n",
    "# Now, you can navigate to the ../universal_datasets in your file explorer and confirm:\n",
    "#     * the file exists\n",
    "#     * the content is present"
   ]
  },
  {
   "cell_type": "markdown",
   "metadata": {},
   "source": [
    "## Where does Python write to?"
   ]
  },
  {
   "cell_type": "markdown",
   "metadata": {},
   "source": [
    "**Short answer**: where you tell it to\n",
    "\n",
    "**Longer answer**: \n",
    "    \n",
    "* Python literally writes where you tell it\n",
    "* Understanding directory structures on the command line is critical\n",
    "* The **easiest solution for beginners** is put the script and data in the same ../universal_datasets\n",
    "* OR, like these scripts, put the data in an adjacent folder"
   ]
  },
  {
   "cell_type": "markdown",
   "metadata": {},
   "source": [
    "# Experience Points!\n",
    "---"
   ]
  },
  {
   "cell_type": "markdown",
   "metadata": {},
   "source": [
    "In **Jupyter** do each of the following:\n",
    "\n",
    "Task | Sample Object(s)\n",
    ":---|---\n",
    "Assign the label `filein` to the results of the `open()` function for this file | `names.txt`\n",
    "Assign the label `content` to the results of the `read()` function | `.read()`\n",
    "Print the `content` | `print()`\n",
    "Close `filein` when you are done | `.close()`"
   ]
  },
  {
   "cell_type": "markdown",
   "metadata": {},
   "source": [
    "<img src='../universal_images/green_sticky.300px.png' width='200' style='float:left'>"
   ]
  },
  {
   "cell_type": "code",
   "execution_count": null,
   "metadata": {
    "collapsed": true
   },
   "outputs": [],
   "source": [
    "# Possible Solution\n",
    "\n",
    "filein = open('../universal_datasets/names.txt')\n",
    "content = filein.read()\n",
    "print(content)\n",
    "filein.close()"
   ]
  },
  {
   "cell_type": "markdown",
   "metadata": {},
   "source": [
    "# Chaining functions during a reading operation\n",
    "---"
   ]
  },
  {
   "cell_type": "code",
   "execution_count": null,
   "metadata": {
    "collapsed": true,
    "slideshow": {
     "slide_type": "fragment"
    }
   },
   "outputs": [],
   "source": [
    "# It is not uncommon to chain functions together when all you really need\n",
    "#     is the text.\n",
    "\n",
    "text = open('../universal_datasets/carroll.txt').read()\n",
    "print(text)\n",
    "\n",
    "# Compare this to the previous \n",
    "\n",
    "# fin = open('../universal_datasets/carroll.txt')\n",
    "# text = fin.read()\n",
    "# print(text)"
   ]
  },
  {
   "cell_type": "code",
   "execution_count": null,
   "metadata": {
    "collapsed": true
   },
   "outputs": [],
   "source": [
    "# What happens when we attempt to open a file that doesn't exist?\n",
    "\n",
    "file = open('../universal_datasets/not_here.txt')"
   ]
  },
  {
   "cell_type": "code",
   "execution_count": null,
   "metadata": {
    "collapsed": true
   },
   "outputs": [],
   "source": [
    "# We can use try/except to do things we think might bring up errors without stopping the program\n",
    "\n",
    "try:\n",
    "    file = open('not_here.txt')\n",
    "except:\n",
    "    print('FILE NOT FOUND')"
   ]
  },
  {
   "cell_type": "markdown",
   "metadata": {
    "slideshow": {
     "slide_type": "subslide"
    }
   },
   "source": [
    "# Four primary means of reading in data:\n",
    "---\n",
    "\n",
    "```python\n",
    "* `read()`                     # reads the file in as a single string\n",
    "* `readline()`                 # reads in one line at a time\n",
    "* `readlines()`                # reads in all lines, as separate strings in a list \n",
    "* `for line in <filehandle>:`  # iterates over each line, one at a time\n",
    "```\n",
    "\n",
    "We have seen **`read()`** in action, let's see some of the others in action.\n",
    "\n",
    "Take a moment to the look at the data for the file `../universal_datasets/log_file.header.txt` in a text editor"
   ]
  },
  {
   "cell_type": "markdown",
   "metadata": {},
   "source": [
    "## `.readline()`"
   ]
  },
  {
   "cell_type": "code",
   "execution_count": null,
   "metadata": {
    "collapsed": true
   },
   "outputs": [],
   "source": [
    "# .readline() reads in a single line.\n",
    "\n",
    "data = open('../universal_datasets/log_file.header.txt')\n",
    "line = data.readline()\n",
    "\n",
    "print(line)"
   ]
  },
  {
   "cell_type": "code",
   "execution_count": null,
   "metadata": {
    "collapsed": true
   },
   "outputs": [],
   "source": [
    "# For clarity's sake, be aware that there is a difference between\n",
    "#     how an evaluated string displays compared to a printed string\n",
    "\n",
    "line"
   ]
  },
  {
   "cell_type": "code",
   "execution_count": null,
   "metadata": {
    "collapsed": true
   },
   "outputs": [],
   "source": [
    "# Repeating .readline() will read in another line\n",
    "\n",
    "next_line = data.readline()\n",
    "\n",
    "print(next_line)"
   ]
  },
  {
   "cell_type": "code",
   "execution_count": null,
   "metadata": {
    "collapsed": true
   },
   "outputs": [],
   "source": [
    "# Personally, my most frequent use of .readline() is when\n",
    "#     reading headers from files\n",
    "\n",
    "# This allows us to parse column headers AND/OR simply get the \n",
    "#     header row out of the way."
   ]
  },
  {
   "cell_type": "markdown",
   "metadata": {},
   "source": [
    "## `.readlines()`"
   ]
  },
  {
   "cell_type": "code",
   "execution_count": null,
   "metadata": {
    "collapsed": true
   },
   "outputs": [],
   "source": [
    "# .readlines() reads in all the lines AND stores the data as a \n",
    "#     list of strings\n",
    "\n",
    "data = open('../universal_datasets/log_file.header.txt')\n",
    "list_of_lines = data.readlines()\n",
    "\n",
    "print(list_of_lines)"
   ]
  },
  {
   "cell_type": "markdown",
   "metadata": {},
   "source": [
    "**NOTE**: each string includes the newline character at the end of the text string."
   ]
  },
  {
   "cell_type": "markdown",
   "metadata": {},
   "source": [
    "## `for line in <filehandle>:`"
   ]
  },
  {
   "cell_type": "code",
   "execution_count": null,
   "metadata": {
    "collapsed": true
   },
   "outputs": [],
   "source": [
    "# One of the most useful approaches for handling lines in files\n",
    "#     is using for loops.\n",
    "\n",
    "data = open('../universal_datasets/log_file.header.txt')\n",
    "\n",
    "for line in data:\n",
    "    print(line)"
   ]
  },
  {
   "cell_type": "code",
   "execution_count": null,
   "metadata": {
    "collapsed": true
   },
   "outputs": [],
   "source": [
    "# A sample of how this could be used...\n",
    "\n",
    "data = open('../universal_datasets/log_file.header.txt')\n",
    "\n",
    "header = data.readline()\n",
    "\n",
    "for line in data:\n",
    "    if 'kara' in line:\n",
    "        print(line)\n",
    "    else:\n",
    "        print('N/A')"
   ]
  },
  {
   "cell_type": "markdown",
   "metadata": {},
   "source": [
    "**NOTE**: each string includes the newline character at the end of the text string."
   ]
  },
  {
   "cell_type": "markdown",
   "metadata": {},
   "source": [
    "# Experience Points!\n",
    "---"
   ]
  },
  {
   "cell_type": "markdown",
   "metadata": {},
   "source": [
    "In your **text editor** create a simple script called:\n",
    "\n",
    "```bash\n",
    "my_files_01.py```\n",
    "\n",
    "Execute your script in **Jupyter** using the command:\n",
    "\n",
    "```bash\n",
    "run my_files_01.py```\n",
    "\n",
    "I suggest that as you add each feature to your script that you run it right away to test it incrementally. \n",
    "\n",
    "Task | Sample Object(s)\n",
    ":---|---\n",
    "Assign the label `my_csv` to the results of the `open()` function for this file | `log_file_1000.csv`\n",
    "| NOTE: the above file is in the directory called `../universal_datasets`\n",
    "Use a `for` loop to read in the text | `for line in <filehandle>`\n",
    "Print only lines that have this ip address: `220.211.18.31` on them  | `print()`\n",
    "Close `my_csv` when you are done | `.close()`"
   ]
  },
  {
   "cell_type": "markdown",
   "metadata": {},
   "source": [
    "<img src='../universal_images/green_sticky.300px.png' width='200' style='float:left'>"
   ]
  },
  {
   "cell_type": "code",
   "execution_count": null,
   "metadata": {
    "collapsed": true
   },
   "outputs": [],
   "source": [
    "# Possible solution\n",
    "\n",
    "my_csv = open('../universal_datasets/log_file_1000.csv')\n",
    "\n",
    "for line in my_csv:\n",
    "    if '220.211.18.31' in line:\n",
    "        print(line)\n",
    "\n",
    "my_csv.close()        "
   ]
  },
  {
   "cell_type": "markdown",
   "metadata": {},
   "source": [
    "# do overs and more...\n",
    "---"
   ]
  },
  {
   "cell_type": "code",
   "execution_count": null,
   "metadata": {
    "collapsed": true
   },
   "outputs": [],
   "source": [
    "# Let's look at our previous data file again...\n",
    "\n",
    "for line in data:\n",
    "    print(line)\n",
    "    \n",
    "# When executing this code, nothing happpened!    "
   ]
  },
  {
   "cell_type": "code",
   "execution_count": null,
   "metadata": {
    "collapsed": true
   },
   "outputs": [],
   "source": [
    "# One way to do a do-over is to simply reread the file from scratch\n",
    "\n",
    "data = open('../universal_datasets/log_file.header.txt')"
   ]
  },
  {
   "cell_type": "code",
   "execution_count": null,
   "metadata": {
    "collapsed": true
   },
   "outputs": [],
   "source": [
    "for line in data:\n",
    "    print(line)"
   ]
  },
  {
   "cell_type": "markdown",
   "metadata": {},
   "source": [
    "# reading less than a full line\n",
    "---"
   ]
  },
  {
   "cell_type": "code",
   "execution_count": null,
   "metadata": {
    "collapsed": true
   },
   "outputs": [],
   "source": [
    "# Try a new file...\n",
    "\n",
    "data = open('../universal_datasets/bytes.txt')\n",
    "\n",
    "# this time, let's read one byte, instead of the whole line\n",
    "\n",
    "byte = data.read(1)\n",
    "print('First byte:', byte)"
   ]
  },
  {
   "cell_type": "code",
   "execution_count": null,
   "metadata": {
    "collapsed": true
   },
   "outputs": [],
   "source": [
    "# The file handle maintains the pointer and \n",
    "#     knows where we left off in the file.\n",
    "\n",
    "twobytes = data.read(2)\n",
    "print('Two bytes: ', twobytes)"
   ]
  },
  {
   "cell_type": "code",
   "execution_count": null,
   "metadata": {
    "collapsed": true
   },
   "outputs": [],
   "source": [
    "# The next three bytes:\n",
    "\n",
    "threebytes = data.read(3)\n",
    "print('Four bytes:', threebytes)"
   ]
  },
  {
   "cell_type": "code",
   "execution_count": null,
   "metadata": {
    "collapsed": true
   },
   "outputs": [],
   "source": [
    "# The next four bytes\n",
    "\n",
    "fourbytes = data.read(4)\n",
    "print('Four bytes:', fourbytes)"
   ]
  },
  {
   "cell_type": "code",
   "execution_count": null,
   "metadata": {
    "collapsed": true
   },
   "outputs": [],
   "source": [
    "# .readline() doesn't necessarily start at the beginning of \n",
    "#     the line... it picks up where it left off and goes to \n",
    "#     the end of the current line.\n",
    "\n",
    "print('Remainder: ', data.readline())"
   ]
  },
  {
   "cell_type": "code",
   "execution_count": null,
   "metadata": {
    "collapsed": true
   },
   "outputs": [],
   "source": [
    "# The next time we call .readline(), it carries on\n",
    "#     as we expect.\n",
    "\n",
    "print('Readline:  ', data.readline())"
   ]
  },
  {
   "cell_type": "code",
   "execution_count": null,
   "metadata": {
    "collapsed": true
   },
   "outputs": [],
   "source": [
    "# The file handle pointer switches seamlessly between\n",
    "#     using readline() or other reading mechanisms and\n",
    "#     for loops\n",
    "\n",
    "for line in data:\n",
    "    print('For loop:', line)\n"
   ]
  },
  {
   "cell_type": "markdown",
   "metadata": {},
   "source": [
    "# moving your pointer to a specific location\n",
    "---"
   ]
  },
  {
   "cell_type": "code",
   "execution_count": null,
   "metadata": {
    "collapsed": true
   },
   "outputs": [],
   "source": [
    "# Since the file handle uses a pointer, we don't have\n",
    "#     to reread the file ... we can just rewind the file\n",
    "#     using .seek()\n",
    "\n",
    "data.seek(7)\n",
    "\n",
    "# Read just one byte (the first byte in the file)\n",
    "byte = data.read(1)\n",
    "print('Back at the beginning:', byte)\n",
    "\n",
    "# getting fancy\n",
    "print('Two bytes:'.rjust(22), data.read(2))"
   ]
  },
  {
   "cell_type": "code",
   "execution_count": null,
   "metadata": {
    "collapsed": true
   },
   "outputs": [],
   "source": [
    "# But where are we? in the file...\n",
    "#     .tell() will let you know what byte you are about to \n",
    "#     read.\n",
    "\n",
    "print(data.tell())\n",
    "\n",
    "print(data.read(3))\n",
    "\n",
    "print(data.tell())"
   ]
  },
  {
   "cell_type": "markdown",
   "metadata": {},
   "source": [
    "# Let's do some work!\n",
    "---"
   ]
  },
  {
   "cell_type": "code",
   "execution_count": null,
   "metadata": {
    "collapsed": true
   },
   "outputs": [],
   "source": [
    "data = open('../universal_datasets/names.txt')\n",
    "\n",
    "lineNum = 0                # This is a counter ... can we do better?\n",
    "\n",
    "for line in data:\n",
    "    lineNum += 1\n",
    "    if line.startswith('S'):\n",
    "        print(lineNum, line)"
   ]
  },
  {
   "cell_type": "markdown",
   "metadata": {},
   "source": [
    "# Pesky newline characters\n",
    "---"
   ]
  },
  {
   "cell_type": "markdown",
   "metadata": {},
   "source": [
    "Files typically have more than one line\n",
    "\n",
    "There's a special character used to indicate a newline in Python: `'\\n'`\n",
    "\n",
    "This character can be tricky. It shows up at the end of every line whether we read in data:\n",
    "\n",
    "* line by line\n",
    "* all at once\n",
    "\n",
    "The easiest way to get rid of this is the with the `.rstrip()` method"
   ]
  },
  {
   "cell_type": "code",
   "execution_count": null,
   "metadata": {
    "collapsed": true
   },
   "outputs": [],
   "source": [
    "# As an example... without stripping...\n",
    "\n",
    "print('my string of text\\n')\n",
    "print('line two')"
   ]
  },
  {
   "cell_type": "code",
   "execution_count": null,
   "metadata": {
    "collapsed": true
   },
   "outputs": [],
   "source": [
    "# As an example... with stripping\n",
    "\n",
    "print('my string of text\\n'.rstrip())\n",
    "print('line two')"
   ]
  },
  {
   "cell_type": "code",
   "execution_count": null,
   "metadata": {},
   "outputs": [],
   "source": [
    "'selina' == 'selina\\n'.rstrip()"
   ]
  },
  {
   "cell_type": "code",
   "execution_count": null,
   "metadata": {
    "collapsed": true
   },
   "outputs": [],
   "source": [
    "# Let's parse the names.txt file for any row that \n",
    "#     has the name Selina\n",
    "\n",
    "data = open('../universal_datasets/names.txt')\n",
    "\n",
    "for index, line in enumerate(data, 1):\n",
    "    if line.startswith('S'):\n",
    "        cleanline = line.rstrip() # Let's get rid of that pesky newline\n",
    "        print(index, cleanline)"
   ]
  },
  {
   "cell_type": "markdown",
   "metadata": {},
   "source": [
    "# OK, so maybe real work\n",
    "---\n",
    "\n"
   ]
  },
  {
   "cell_type": "code",
   "execution_count": null,
   "metadata": {},
   "outputs": [],
   "source": [
    "isinstance('95', (str, int))"
   ]
  },
  {
   "cell_type": "code",
   "execution_count": null,
   "metadata": {
    "collapsed": true
   },
   "outputs": [],
   "source": [
    "data = open('../universal_datasets/nums.txt')\n",
    "\n",
    "for line in data:\n",
    "    line = line.strip()\n",
    "    num = int(line)\n",
    "    if num > 90:\n",
    "    \n",
    "        print(\"{}\\t{}\".format(num, num/100))"
   ]
  },
  {
   "cell_type": "markdown",
   "metadata": {},
   "source": [
    "# Writing to files\n",
    "---"
   ]
  },
  {
   "cell_type": "code",
   "execution_count": null,
   "metadata": {
    "collapsed": true
   },
   "outputs": [],
   "source": [
    "# A sample of writing to files: don't forget the 'w'\n",
    "\n",
    "fout = open('../universal_datasets/buffer.txt', 'w')"
   ]
  },
  {
   "cell_type": "code",
   "execution_count": null,
   "metadata": {
    "collapsed": true
   },
   "outputs": [],
   "source": [
    "for number in range(200000):\n",
    "    \n",
    "    # WARNING: .write() only takes strings \n",
    "    #     but range only produces integers, so we have to convert on the fly\n",
    "\n",
    "    output = str(number)\n",
    "    fout.write(output)\n",
    "    \n",
    "print('done')    "
   ]
  },
  {
   "cell_type": "code",
   "execution_count": null,
   "metadata": {
    "collapsed": true
   },
   "outputs": [],
   "source": [
    "# This Step is optional, but important\n",
    "#     IF you need to leave the file open,\n",
    "#     but want to flush the buffer in memory\n",
    "\n",
    "fout.flush()"
   ]
  },
  {
   "cell_type": "code",
   "execution_count": null,
   "metadata": {
    "collapsed": true
   },
   "outputs": [],
   "source": [
    "fout.close()"
   ]
  },
  {
   "cell_type": "code",
   "execution_count": null,
   "metadata": {
    "collapsed": true
   },
   "outputs": [],
   "source": [
    "fileout = open('../universal_datasets/numbers.txt', 'w')\n",
    "\n",
    "for number in range(10):\n",
    "    \n",
    "    # WARNING: .write() only takes strings    \n",
    "    # NOTE: .write() does NOT include a '\\n' (newline)\n",
    "    #     by default, you must add one on.\n",
    "\n",
    "    output = str(number) + '\\n'\n",
    "    fileout.write(output)\n",
    "    \n",
    "print('done') \n",
    "fileout.close()"
   ]
  },
  {
   "cell_type": "markdown",
   "metadata": {},
   "source": [
    "# Experience Points!"
   ]
  },
  {
   "cell_type": "markdown",
   "metadata": {},
   "source": [
    "In your **text editor** create a simple script called:\n",
    "\n",
    "```bash\n",
    "my_files_02.py```\n",
    "\n",
    "Execute your script in **Jupyter** using the command:\n",
    "\n",
    "```bash\n",
    "run my_files_02.py```\n",
    "\n",
    "I suggest that as you add each feature to your script that you run it right away to test it incrementally. \n",
    "\n",
    "Task | Sample Object(s)\n",
    ":---|---\n",
    "Assign the label `my_output` to the results of the `open()` function for this file: use the `w` flag | `results.txt`\n",
    "Start a `while True` loop|\n",
    "Assign a label, `output`, to the result of an `input()` function| `Name one of your favorite foods? `\n",
    "Check whether `output` is equal to the string: `exit` |\n",
    "IF NOT, `.write()` the content of `output` to the file|\n",
    "IF EQUAL, `break` out of the `while` loop|\n",
    "When the loop finishes, `.close()` the file.|\n"
   ]
  },
  {
   "cell_type": "code",
   "execution_count": null,
   "metadata": {
    "collapsed": true
   },
   "outputs": [],
   "source": [
    "# Possible solution\n",
    "\n",
    "my_output = open('../universal_datasets/results.txt', 'w')\n",
    "\n",
    "while True:\n",
    "    output = input('Name one of your favorite foods? ')\n",
    "    if output == 'exit':\n",
    "        break\n",
    "    else:    \n",
    "        my_output.write(output + '\\n')\n",
    "\n",
    "my_output.close()    "
   ]
  },
  {
   "cell_type": "markdown",
   "metadata": {},
   "source": [
    "# Experience Points!"
   ]
  },
  {
   "cell_type": "markdown",
   "metadata": {},
   "source": [
    "In your **text editor** create a simple script called:\n",
    "\n",
    "```bash\n",
    "my_files_03.py```\n",
    "\n",
    "Execute your script in the **Jupyter** using the command:\n",
    "\n",
    "```bash\n",
    "run my_files_03.py```\n",
    "\n",
    "I suggest that as you add each feature to your script that you run it right away to test it incrementally. \n",
    "\n",
    "Task | Sample Object(s)\n",
    ":---|---\n",
    "1. open the file `log_file_1000.csv`|\n",
    "2. examine the file contents|\n",
    "3. one line has 'SELINA' capitalized.|\n",
    "4. `print()` that line and the associated line number of the line where `SELINA` is capitalized|"
   ]
  },
  {
   "cell_type": "markdown",
   "metadata": {},
   "source": [
    "<img src='../universal_images/green_sticky.300px.png' width='200' style='float:left'>"
   ]
  },
  {
   "cell_type": "code",
   "execution_count": null,
   "metadata": {
    "collapsed": true
   },
   "outputs": [],
   "source": [
    "# Possible solution\n",
    "\n",
    "fin = open('../universal_datasets/log_file_1000.csv')\n",
    "\n",
    "count = 0\n",
    "for line in fin:\n",
    "    count += 1\n",
    "    if 'SELINA' in line:\n",
    "        print('Corrupt line:', count, line)\n",
    "\n",
    "print('Total lines:', count)"
   ]
  },
  {
   "cell_type": "code",
   "execution_count": null,
   "metadata": {
    "collapsed": true
   },
   "outputs": [],
   "source": []
  }
 ],
 "metadata": {
  "anaconda-cloud": {},
  "kernelspec": {
   "display_name": "Python 3",
   "language": "python",
   "name": "python3"
  },
  "language_info": {
   "codemirror_mode": {
    "name": "ipython",
    "version": 3
   },
   "file_extension": ".py",
   "mimetype": "text/x-python",
   "name": "python",
   "nbconvert_exporter": "python",
   "pygments_lexer": "ipython3",
   "version": "3.6.8"
  }
 },
 "nbformat": 4,
 "nbformat_minor": 2
}
