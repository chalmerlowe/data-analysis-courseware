{
 "cells": [
  {
   "cell_type": "markdown",
   "metadata": {
    "slideshow": {
     "slide_type": "slide"
    }
   },
   "source": [
    "# Welcome to the Dark Art of Coding:\n",
    "## Introduction to Python\n",
    "Strings\n",
    "\n",
    "<img src='../universal_images/dark_art_logo.600px.png' width='300' style=\"float:right\">"
   ]
  },
  {
   "cell_type": "markdown",
   "metadata": {
    "slideshow": {
     "slide_type": "slide"
    }
   },
   "source": [
    "# Objectives\n",
    "---"
   ]
  },
  {
   "cell_type": "markdown",
   "metadata": {
    "slideshow": {
     "slide_type": "slide"
    }
   },
   "source": [
    "In this session, students should expect to:\n",
    "\n",
    "* Learn to create strings\n",
    "* Learn to perform basic manipulations on strings...\n",
    "* Explore using string methods\n"
   ]
  },
  {
   "cell_type": "markdown",
   "metadata": {
    "slideshow": {
     "slide_type": "slide"
    }
   },
   "source": [
    "<h1>What is a string?</h1>\n",
    "<img src='02_images/pearl_necklace.jpg'>\n",
    "\n",
    "Photo by <a href=\"https://www.flickr.com/photos/tiararama/3530304167\">tiarama</a><br>\n",
    "Attribution http://creativecommons.org/licenses/by-nd/4.0/\n"
   ]
  },
  {
   "cell_type": "markdown",
   "metadata": {
    "slideshow": {
     "slide_type": "slide"
    }
   },
   "source": [
    "# Strings\n",
    "---"
   ]
  },
  {
   "cell_type": "code",
   "execution_count": null,
   "metadata": {
    "slideshow": {
     "slide_type": "slide"
    }
   },
   "outputs": [],
   "source": [
    "# Using single quotes\n",
    "\n",
    "phrase = 'python rocks'\n",
    "print(phrase)           # print() displays the value on the \"screen\" and\n",
    "                        #     and will not display the quotes\n",
    "                        #\n",
    "phrase                  # in Jupyter/IPython, leaving off the print() function\n",
    "                        #     simply evaluates the variable and displays it as\n",
    "                        #     a string, with quotes \n",
    "                        #\n",
    "                        # NOTE: this evaluation processes all the lines in the cell,\n",
    "                        #     but only shows the evaluation results for the last line."
   ]
  },
  {
   "cell_type": "code",
   "execution_count": null,
   "metadata": {
    "slideshow": {
     "slide_type": "slide"
    }
   },
   "outputs": [],
   "source": [
    "# Using double quotes is also fine (but physically harder to type)\n",
    "\n",
    "phrase = \"python rocks\"\n",
    "           \n",
    "phrase                  "
   ]
  },
  {
   "cell_type": "code",
   "execution_count": null,
   "metadata": {},
   "outputs": [],
   "source": [
    "# A pair of quotes with nothing between them is still a string.\n",
    "#     It has all the qualities of any other string.\n",
    "#     It is generally referred to as an EMPTY string.\n",
    "\n",
    "empty = ''\n",
    "empty"
   ]
  },
  {
   "cell_type": "code",
   "execution_count": null,
   "metadata": {
    "slideshow": {
     "slide_type": "slide"
    }
   },
   "outputs": [],
   "source": [
    "# Watch out if mixing apostrophes and single quotes\n",
    "\n",
    "apostrophe = 'You've written code'\n",
    "\n",
    "# NOTE: Please don't ignore error messages.\n",
    "# Reading them is a skill like any other.\n",
    "# Practice reading them, even if they feel like ελληνικά (Greek)"
   ]
  },
  {
   "cell_type": "code",
   "execution_count": null,
   "metadata": {
    "slideshow": {
     "slide_type": "fragment"
    }
   },
   "outputs": [],
   "source": [
    "# Using double quotes to encapsulate the single quote\n",
    "#     solves this problem\n",
    "\n",
    "apostrophe = \"You've written code\"\n",
    "apostrophe"
   ]
  },
  {
   "cell_type": "code",
   "execution_count": null,
   "metadata": {
    "slideshow": {
     "slide_type": "fragment"
    }
   },
   "outputs": [],
   "source": [
    "# Using a backwards slash to \"escape\" the apostrophe also works\n",
    "\n",
    "escape = 'You\\'ve written code'\n",
    "escape"
   ]
  },
  {
   "cell_type": "code",
   "execution_count": null,
   "metadata": {},
   "outputs": [],
   "source": [
    "# Numbers encapsulated by quotes are still strings:\n",
    "\n",
    "num = '42'\n",
    "num"
   ]
  },
  {
   "cell_type": "code",
   "execution_count": null,
   "metadata": {},
   "outputs": [],
   "source": [
    "# To convert a numeric string to an integer\n",
    "integer_form = int('42')\n",
    "integer_form"
   ]
  },
  {
   "cell_type": "code",
   "execution_count": null,
   "metadata": {},
   "outputs": [],
   "source": [
    "# Or convert a numeric string to a float\n",
    "\n",
    "float_form = float('42')\n",
    "float_form"
   ]
  },
  {
   "cell_type": "markdown",
   "metadata": {},
   "source": [
    "# Escape characters\n",
    "---"
   ]
  },
  {
   "cell_type": "markdown",
   "metadata": {
    "slideshow": {
     "slide_type": "slide"
    }
   },
   "source": [
    "Character  | Displays\n",
    "----------|----------\n",
    "\\'        | Single quote\n",
    "\\\"        | Double quote\n",
    "\\t        | Tab \n",
    "\\n        | Newline (line break, return character)\n",
    "\\\\\\\\        | Backslash"
   ]
  },
  {
   "cell_type": "code",
   "execution_count": null,
   "metadata": {
    "slideshow": {
     "slide_type": "slide"
    }
   },
   "outputs": [],
   "source": [
    "# Printing using a newline escape character\n",
    "#     enables you to put content on separate lines\n",
    "\n",
    "print(\"Python\\nPython 3\\nPython 3.6\")\n",
    "\n",
    "# NOTE: there are better solutions that we will explore soon."
   ]
  },
  {
   "cell_type": "code",
   "execution_count": null,
   "metadata": {
    "slideshow": {
     "slide_type": "slide"
    }
   },
   "outputs": [],
   "source": [
    "# Raw strings let you preserve a string \"as is\"\n",
    "#    escape slashes and all\n",
    "\n",
    "print(r'You\\'re gonna be a great programmer!')"
   ]
  },
  {
   "cell_type": "markdown",
   "metadata": {},
   "source": [
    "# Experience Points!\n",
    "---"
   ]
  },
  {
   "cell_type": "markdown",
   "metadata": {},
   "source": [
    "In **Jupyter** do each of the following:\n",
    "\n",
    "Task | Sample Object(s)\n",
    ":---|:---\n",
    "Create a string with your first name, a tab, your last name and a newline in it; `print()` the string | `\\t`, `\\n`\n",
    "Create a string with a word, three tabs, and a word in it; `print()` the string | `\\t\\t\\t`\n",
    "Create a string with a single quote in it; `print()` the string | `'`\n",
    "Recreate the same string using an alternate method|"
   ]
  },
  {
   "cell_type": "markdown",
   "metadata": {},
   "source": [
    "When you complete this exercise, please put your green post-it on your monitor. \n",
    "\n",
    "If you want to continue on at your own-pace, please feel free to do so.\n",
    "\n",
    "<img src='../universal_images/green_sticky.300px.png' width='200' style='float:left'>"
   ]
  },
  {
   "cell_type": "markdown",
   "metadata": {},
   "source": [
    "# Multi-line strings\n",
    "---"
   ]
  },
  {
   "cell_type": "code",
   "execution_count": null,
   "metadata": {
    "slideshow": {
     "slide_type": "slide"
    }
   },
   "outputs": [],
   "source": [
    "# Multi-line strings: using triple quotes (either ' OR \")\n",
    "#     preserve natural newlines and leading spaces, etc.\n",
    "\n",
    "print(\"\"\"Multi-line Strings!\n",
    "\n",
    "multi-line strings will preserve\n",
    "    the nuances\n",
    "        including the newlines and leading spaces and \n",
    "\n",
    "yes, you're still gonna be a great programmer!\n",
    "\n",
    "\"\"\")"
   ]
  },
  {
   "cell_type": "code",
   "execution_count": null,
   "metadata": {
    "collapsed": true,
    "slideshow": {
     "slide_type": "slide"
    }
   },
   "outputs": [],
   "source": [
    "# One great place to use multi-line quotes is as the \n",
    "#     first string in a function. This string is\n",
    "#     automatically used by Python as the documentation\n",
    "#     or Docstring for your function.\n",
    "\n",
    "def getRandomNumber():\n",
    "    '''This function returns a random number\n",
    "    \n",
    "    chosen by fair dice roll.\n",
    "    guaranteed to be random.\n",
    "    \n",
    "    hat tip to http://xkcd.com/221/'''\n",
    "    return 4"
   ]
  },
  {
   "cell_type": "code",
   "execution_count": null,
   "metadata": {},
   "outputs": [],
   "source": [
    "# Shift-Tab allows you to access help documentation for objects, functions,\n",
    "#     and for modules, etc.\n",
    "# Place your cursor in the name of the object and press Shift+Tab:\n",
    "\n",
    "getRandomNumber"
   ]
  },
  {
   "cell_type": "code",
   "execution_count": null,
   "metadata": {
    "slideshow": {
     "slide_type": "slide"
    }
   },
   "outputs": [],
   "source": [
    "help(getRandomNumber)"
   ]
  },
  {
   "cell_type": "markdown",
   "metadata": {
    "slideshow": {
     "slide_type": "slide"
    }
   },
   "source": [
    "## xkcd\n",
    "<img src='02_images/random_number.png'>\n",
    "\n",
    "Attribution http://xkcd.com/221/"
   ]
  },
  {
   "cell_type": "markdown",
   "metadata": {},
   "source": [
    "# Indexing and slicing\n",
    "---"
   ]
  },
  {
   "cell_type": "markdown",
   "metadata": {},
   "source": [
    "## Indexing"
   ]
  },
  {
   "cell_type": "markdown",
   "metadata": {},
   "source": [
    "Each character in a string has an index:\n",
    "Indexes start at zero (0)\n",
    "\n",
    "```Python\n",
    "language = 'P  Y  T  H  O  N'\n",
    "            0  1  2  3  4  5\n",
    "```"
   ]
  },
  {
   "cell_type": "markdown",
   "metadata": {},
   "source": [
    "Indexes also exist counting backwards from the end:\n",
    "\n",
    "NOTE: reverse indexing starts counting at -1.\n",
    "\n",
    "\n",
    "```Python\n",
    "language = 'P  Y  T  H  O  N'\n",
    "            0  1  2  3  4  5\n",
    "           -6 -5 -4 -3 -2 -1 \n",
    "```"
   ]
  },
  {
   "cell_type": "code",
   "execution_count": null,
   "metadata": {
    "slideshow": {
     "slide_type": "slide"
    }
   },
   "outputs": [],
   "source": [
    "# To reference a specific character in a string, you\n",
    "#     simply use bracket notation and the index\n",
    "#     of the character you are interested in.\n",
    "\n",
    "phrase = 'Pyladies!'\n",
    "phrase[0]"
   ]
  },
  {
   "cell_type": "code",
   "execution_count": null,
   "metadata": {
    "slideshow": {
     "slide_type": "fragment"
    }
   },
   "outputs": [],
   "source": [
    "phrase[8]"
   ]
  },
  {
   "cell_type": "code",
   "execution_count": null,
   "metadata": {
    "slideshow": {
     "slide_type": "fragment"
    }
   },
   "outputs": [],
   "source": [
    "# To capture a COPY of that character for use, you can assign a label \n",
    "\n",
    "letter_e = phrase[-3]\n",
    "letter_e"
   ]
  },
  {
   "cell_type": "markdown",
   "metadata": {},
   "source": [
    "## Slicing"
   ]
  },
  {
   "cell_type": "code",
   "execution_count": null,
   "metadata": {
    "slideshow": {
     "slide_type": "fragment"
    }
   },
   "outputs": [],
   "source": [
    "# To reference more than one character, you \n",
    "#     use the same bracketed notation and a \n",
    "#     * starting index\n",
    "#     * ending index\n",
    "#     separated by a colon (:)\n",
    "# WARNING: Python, slices up to, but NOT including the\n",
    "#          last index.\n",
    "\n",
    "print(phrase[2:8])"
   ]
  },
  {
   "cell_type": "markdown",
   "metadata": {},
   "source": [
    "## The backstory to indexing and slicing\n",
    "\n",
    "Why **zero indexing**?\n",
    "\n",
    "Why the principle of **'up to but not including'**?\n",
    "\n",
    "[See the rationale by Djikstra](https://www.cs.utexas.edu/users/EWD/ewd08xx/EWD831.PDF)   \n",
    "\n",
    "History buff?\n",
    "\n",
    "[Learn more about one of the greats in Computer History](https://en.wikipedia.org/wiki/Edsger_W._Dijkstra)"
   ]
  },
  {
   "cell_type": "code",
   "execution_count": null,
   "metadata": {
    "slideshow": {
     "slide_type": "fragment"
    }
   },
   "outputs": [],
   "source": [
    "# You can used negative numbers as the start OR end index\n",
    "\n",
    "phrase[-7:-1]"
   ]
  },
  {
   "cell_type": "markdown",
   "metadata": {},
   "source": [
    "You can mix and match negative and positive indexes\n",
    "\n",
    "```Python\n",
    "  phrase = 'P  y  l  a  d  i  e  s  !'\n",
    "            0  1  2  3  4  5  6  7  8\n",
    "           -9 -8 -7 -6 -5 -4 -3 -2 -1\n",
    "                  ^                 ^\n",
    "```"
   ]
  },
  {
   "cell_type": "code",
   "execution_count": null,
   "metadata": {},
   "outputs": [],
   "source": [
    "phrase[2:-1]"
   ]
  },
  {
   "cell_type": "code",
   "execution_count": null,
   "metadata": {
    "slideshow": {
     "slide_type": "fragment"
    }
   },
   "outputs": [],
   "source": [
    "# Leaving the index on either side of the colon blank\n",
    "#     defaults to \n",
    "#     * 0 (zero) before the colon\n",
    "#     * the end of the string after the colon\n",
    "#     NOTE: this potentially 'unexpected behavior' for the ending index\n",
    "\n",
    "print(phrase[:])\n"
   ]
  },
  {
   "cell_type": "code",
   "execution_count": null,
   "metadata": {
    "slideshow": {
     "slide_type": "fragment"
    }
   },
   "outputs": [],
   "source": [
    "# This shortcut is a common way used to create copies...\n",
    "\n",
    "new_phrase = phrase[:]\n",
    "new_phrase\n"
   ]
  },
  {
   "cell_type": "markdown",
   "metadata": {},
   "source": [
    "# Exceeding bounds\n",
    "---"
   ]
  },
  {
   "cell_type": "code",
   "execution_count": null,
   "metadata": {},
   "outputs": [],
   "source": [
    "# If you attempt to exceed the index bounds when accessing a \n",
    "#     specific character, you will get an error condition:\n",
    "#     'index out of range'\n",
    "\n",
    "print(phrase[9000])"
   ]
  },
  {
   "cell_type": "markdown",
   "metadata": {},
   "source": [
    "# Experience Points!\n",
    "---"
   ]
  },
  {
   "cell_type": "markdown",
   "metadata": {},
   "source": [
    "In your **text editor** create a simple script called:\n",
    "\n",
    "```bash\n",
    "my_strings_01.py```\n",
    "\n",
    "Execute your script in **Jupyter** using the command:\n",
    "\n",
    "```bash\n",
    "run my_strings_01.py```\n",
    "\n",
    "I suggest that as you add each feature to your script that you run it right away to test it incrementally.\n",
    "\n",
    "1. Assign the label `myname` to a string with your first and last names\n",
    "1. Assign the label `shortname` to a **slice** of `myname` that has all letters **except** the first and last letters\n",
    "1. `print()` `shortname` to the screen\n",
    "1. Assign the label `multi` to a string that is multi-line. Include in the multi-line string the following items (one per line): your name, your favorite food, your favorite song'"
   ]
  },
  {
   "cell_type": "markdown",
   "metadata": {},
   "source": [
    "When you complete this exercise, please put your green post-it on your monitor. \n",
    "\n",
    "If you want to continue on at your own-pace, please feel free to do so.\n",
    "\n",
    "<img src='../universal_images/green_sticky.300px.png' width='200' style='float:left'>"
   ]
  },
  {
   "cell_type": "markdown",
   "metadata": {},
   "source": [
    "# Finding the length of a string\n",
    "---"
   ]
  },
  {
   "cell_type": "code",
   "execution_count": null,
   "metadata": {},
   "outputs": [],
   "source": [
    "# to find the length of a string, Python has a builtin function used\n",
    "# to determine the length of objects\n",
    "# NOTE: for strings, it simply returns the number of characters\n",
    "\n",
    "len(phrase)"
   ]
  },
  {
   "cell_type": "markdown",
   "metadata": {},
   "source": [
    "# Parsing each character, one at a time\n",
    "---"
   ]
  },
  {
   "cell_type": "markdown",
   "metadata": {},
   "source": [
    "A common operation in computing is to access the individual characters of a string. Python simplifies this process dramatically via the use of the `for element in object:` statement.\n",
    "\n",
    "`object` is generally any Python object that contains a sequence of things.\n",
    "\n",
    "`element` is a target variable and can be called any name that makes sense to you in the context.\n",
    "\n",
    "Here, we want to parse letters in a phrase so we call the target variable `letter`. \n",
    "\n",
    "We will go into depth on for loops in a future lesson."
   ]
  },
  {
   "cell_type": "code",
   "execution_count": null,
   "metadata": {},
   "outputs": [],
   "source": [
    "for letter in phrase:\n",
    "    print(letter) "
   ]
  },
  {
   "cell_type": "markdown",
   "metadata": {},
   "source": [
    "# `in` as a logical operator\n",
    "---"
   ]
  },
  {
   "cell_type": "markdown",
   "metadata": {
    "slideshow": {
     "slide_type": "slide"
    }
   },
   "source": [
    "Python includes the keyword `in` as a logical operator that allows you to test a string to see if a substring is present anywhere in the string.\n"
   ]
  },
  {
   "cell_type": "code",
   "execution_count": null,
   "metadata": {
    "slideshow": {
     "slide_type": "slide"
    }
   },
   "outputs": [],
   "source": [
    "# For example:\n",
    "\n",
    "'Py' in phrase"
   ]
  },
  {
   "cell_type": "code",
   "execution_count": null,
   "metadata": {
    "slideshow": {
     "slide_type": "slide"
    }
   },
   "outputs": [],
   "source": [
    "# The `in` test is case-sensitive\n",
    "\n",
    "'py' in phrase"
   ]
  },
  {
   "cell_type": "code",
   "execution_count": null,
   "metadata": {},
   "outputs": [],
   "source": [
    "result = 'ladies' in phrase\n",
    "result"
   ]
  },
  {
   "cell_type": "markdown",
   "metadata": {
    "slideshow": {
     "slide_type": "fragment"
    }
   },
   "source": [
    "### DANGER WILL ROBINSON: beware of empty strings\n",
    "\n",
    "WARNING: the empty string `''` is ALWAYS considered to be present in a string"
   ]
  },
  {
   "cell_type": "code",
   "execution_count": null,
   "metadata": {
    "slideshow": {
     "slide_type": "fragment"
    }
   },
   "outputs": [],
   "source": [
    "'' in phrase"
   ]
  },
  {
   "cell_type": "markdown",
   "metadata": {
    "slideshow": {
     "slide_type": "fragment"
    }
   },
   "source": [
    "Python also includes a `not` keyword. The `not` keyword is used a logical operator to negate a `True` or `False` value (we will talk more about `True` and `False` later).\n",
    "\n",
    "It is also used to negate the `in` logical operator.\n",
    "\n",
    "Here we test whether OR not the string `Fortran` is contained within the `str` `phrase`"
   ]
  },
  {
   "cell_type": "code",
   "execution_count": null,
   "metadata": {
    "slideshow": {
     "slide_type": "fragment"
    }
   },
   "outputs": [],
   "source": [
    "'Fortran' not in phrase"
   ]
  },
  {
   "cell_type": "markdown",
   "metadata": {},
   "source": [
    "# Experience Points!\n",
    "---"
   ]
  },
  {
   "cell_type": "markdown",
   "metadata": {},
   "source": [
    "In your **text editor** create a simple script called:\n",
    "\n",
    "```bash\n",
    "my_strings_02.py```\n",
    "\n",
    "Execute your script in **Jupyter** using the command:\n",
    "\n",
    "```bash\n",
    "run my_strings_02.py```\n",
    "\n",
    "I suggest that as you add each feature to your script that you run it right away to test it incrementally.\n",
    "\n",
    "1. Assign the label `myhobby` to a string with the name of your favorite hobby\n",
    "1. Assign the label `length` to the result of using the `len()` function to calculate the length of the string referenced by `myhobby`\n",
    "1. Parse the string referenced by `myhobby` using a `for loop` and print each character to the screen, one at a time.\n",
    "1. Assign a label `result` to a **conditional test** to see if the string `python` is present in `myhobby`\n",
    "1. `print()` the `result` to the screen "
   ]
  },
  {
   "cell_type": "markdown",
   "metadata": {},
   "source": [
    "When you complete this exercise, please put your green post-it on your monitor. \n",
    "\n",
    "If you want to continue on at your own-pace, please feel free to do so.\n",
    "\n",
    "<img src='../universal_images/green_sticky.300px.png' width='200' style='float:left'>"
   ]
  },
  {
   "cell_type": "markdown",
   "metadata": {},
   "source": [
    "# Comparisons\n",
    "---"
   ]
  },
  {
   "cell_type": "code",
   "execution_count": null,
   "metadata": {
    "collapsed": true
   },
   "outputs": [],
   "source": [
    "term1 = 'Python'\n",
    "term2 = 'python'"
   ]
  },
  {
   "cell_type": "code",
   "execution_count": null,
   "metadata": {},
   "outputs": [],
   "source": [
    "# Python interprets string equality based on \n",
    "#     case sensitivity:\n",
    "#     Thus 'Python' and 'python' are different\n",
    "\n",
    "\n",
    "term1 == term2"
   ]
  },
  {
   "cell_type": "code",
   "execution_count": null,
   "metadata": {},
   "outputs": [],
   "source": [
    "# Python accounts for lexigraphical order (loosely alphabetical order)\n",
    "#     when determining whether a string comes before or\n",
    "#     after another string\n",
    "\n",
    "\n",
    "term3 = 'abcde'\n",
    "term4 = 'abcdz'"
   ]
  },
  {
   "cell_type": "code",
   "execution_count": null,
   "metadata": {
    "collapsed": true
   },
   "outputs": [],
   "source": [
    "term3 < term4"
   ]
  },
  {
   "cell_type": "code",
   "execution_count": null,
   "metadata": {},
   "outputs": [],
   "source": [
    "# lexigraphical order puts capital letters first\n",
    "\n",
    "word1 = 'pyladies'\n",
    "word2 = 'Pyladies'\n",
    "\n",
    "word1 < word2"
   ]
  },
  {
   "cell_type": "markdown",
   "metadata": {},
   "source": [
    "Lexigraphical order, what?\n",
    "---"
   ]
  },
  {
   "cell_type": "markdown",
   "metadata": {},
   "source": [
    "In mathematics and computer science, lexigraphical order is an assigned order over a sequence of items (ie. letters, digits, symbols or commands).\n",
    "\n",
    "Collections of characters have been created to be used by computers. The two most frequently used are American Standard Code for Information Interchange (ASCII) OR Unicode (in fact, Unicode includes all the ASCII characters as the first set of Unicode characters.)\n",
    "\n",
    "This is a summary of the ASCII characters.\n",
    "When this collection was created, each character was given a numerical order... \n",
    "\n",
    "NOTICE: **numbers** (characters 48 to 57) come before **uppercase** letters (characters 65 to 90) which come before **lowercase** letters (characters 97 to 122)."
   ]
  },
  {
   "cell_type": "markdown",
   "metadata": {},
   "source": [
    "<img src='02_images/ascii-0-127.gif' width='600'>\n",
    "\n",
    "Attribution: [ascii chart: http://www.jimprice.com/ascii-0-127.gif](http://www.jimprice.com/ascii-0-127.gif)"
   ]
  },
  {
   "cell_type": "markdown",
   "metadata": {
    "slideshow": {
     "slide_type": "slide"
    }
   },
   "source": [
    "# Object Methods\n",
    "## >>> particularly string methods\n",
    "---\n",
    "\n",
    "Objects in Python are associated with a programming paradigm called \"Object Oriented Programming\".\n",
    "\n",
    "Each object has attributes and behaviors associated with it, even if it is not inherently obvious at first. We will discuss this many times in the future. \n",
    "\n",
    "* **Attributes**: Learning what attributes are available will help you discover details about the objects you create\n",
    "* **Behaviors**: Understanding what behaviors your objects can exhibit will enable you to write efficient and effective code. Behaviors are often called methods OR functions\n",
    "\n",
    "Strings are no exception.\n",
    "\n",
    "Attributes and behaviours are accessed via dot.notation:\n",
    "\n",
    "```python\n",
    "phrase.some_attribute\n",
    "phrase.some_behaviour()```\n",
    "\n",
    "Attributes are accessed using the `name_of_the_object.name_of_the_attribute`\n",
    "\n",
    "Behaviours are accessed similarly, but because they are methods/functions, they need to be **called** by using the **parenthesis**.\n",
    "\n",
    "**All** functions/methods can be referenced without the parenthesis, but to actually make them execute, you must call them using the parenthesis.\n"
   ]
  },
  {
   "cell_type": "code",
   "execution_count": null,
   "metadata": {
    "collapsed": true
   },
   "outputs": [],
   "source": [
    "phrase = 'Pyladies!'"
   ]
  },
  {
   "cell_type": "code",
   "execution_count": null,
   "metadata": {
    "slideshow": {
     "slide_type": "slide"
    }
   },
   "outputs": [],
   "source": [
    "# Every string in Python is also an object\n",
    "\n",
    "phrase"
   ]
  },
  {
   "cell_type": "code",
   "execution_count": null,
   "metadata": {
    "slideshow": {
     "slide_type": "fragment"
    }
   },
   "outputs": [],
   "source": [
    "# Strings in Python come with behaviors such as the \n",
    "#     .upper() method which makes a copy of the string\n",
    "#     and converts it to uppercase.\n",
    "\n",
    "phrase.upper()"
   ]
  },
  {
   "cell_type": "code",
   "execution_count": null,
   "metadata": {
    "slideshow": {
     "slide_type": "fragment"
    }
   },
   "outputs": [],
   "source": [
    "# Strings in Python come with behaviors such as the \n",
    "#     .lower() method which makes a copy of the string\n",
    "#     and converts it to lowercase.\n",
    "\n",
    "phrase.lower()"
   ]
  },
  {
   "cell_type": "markdown",
   "metadata": {},
   "source": [
    "Generically referencing strings:\n",
    "\n",
    "The generic version of a string is called `str` so in help documentation or tutorials, you may see string methods or attributes prefixed by str. Similarly, a single `S` may be used as an examplar:\n",
    "\n",
    "```python\n",
    "str.upper()\n",
    "str.lower()\n",
    "S.upper()\n",
    "S.lower()\n",
    "```"
   ]
  },
  {
   "cell_type": "markdown",
   "metadata": {
    "slideshow": {
     "slide_type": "slide"
    }
   },
   "source": [
    "## Real-life use case"
   ]
  },
  {
   "cell_type": "markdown",
   "metadata": {
    "slideshow": {
     "slide_type": "slide"
    }
   },
   "source": [
    "One very common place where `str.upper()` or `str.lower()` is used is in normalizing inputs for easy comparison.\n",
    "\n",
    "In the following example, you don't know if your user will input with all **CAPS**, all **lowercase**, or **MiXeD CaSe**... so comparing their input to your test string becomes very difficult. A common technique is to normalize both the input value and the test value to either uppercase OR lowercase.\n",
    "\n",
    "Here, we chose lowercase."
   ]
  },
  {
   "cell_type": "code",
   "execution_count": null,
   "metadata": {
    "slideshow": {
     "slide_type": "slide"
    }
   },
   "outputs": [],
   "source": [
    "choice = input('Who is your favorite superhero? ')\n",
    "\n",
    "# by normalizing the input value to lowercase, we can easily compare it to our lowercase test.\n",
    "\n",
    "if choice.lower() == 'selina kyle':\n",
    "    print('I like Catwoman, too')\n",
    "else:\n",
    "    print(\"Catwoman is better!\")"
   ]
  },
  {
   "cell_type": "markdown",
   "metadata": {},
   "source": [
    "# Finding an index\n",
    "---"
   ]
  },
  {
   "cell_type": "markdown",
   "metadata": {},
   "source": [
    "Sometimes we want to know: \n",
    "\n",
    "* whether a character is present in a string\n",
    "* where that character may be found\n",
    "\n",
    "We will look at `phrase.find()` and leave it as an exercise for the student to research `phrase.index()`"
   ]
  },
  {
   "cell_type": "code",
   "execution_count": null,
   "metadata": {},
   "outputs": [],
   "source": [
    "sentence = 'Python Rox'\n",
    "sentence"
   ]
  },
  {
   "cell_type": "markdown",
   "metadata": {},
   "source": [
    "If we want to find where the `t` string is located, we can use the `.find()` function."
   ]
  },
  {
   "cell_type": "code",
   "execution_count": null,
   "metadata": {},
   "outputs": [],
   "source": [
    "sentence.find('t')\n",
    "\n",
    "# P y t h o n   R o x\n",
    "# 0 1 2 3 4 5 6 7 8 9"
   ]
  },
  {
   "cell_type": "markdown",
   "metadata": {},
   "source": [
    "If we want to find where the `o` string is located, we can use the `.find()` function.\n",
    "\n",
    "NOTE: this only shows us the location of the FIRST 'o'"
   ]
  },
  {
   "cell_type": "code",
   "execution_count": null,
   "metadata": {},
   "outputs": [],
   "source": [
    "sentence.find('o')\n",
    "\n",
    "# P y t h o n   R o x\n",
    "# 0 1 2 3 4 5 6 7 8 9"
   ]
  },
  {
   "cell_type": "markdown",
   "metadata": {},
   "source": [
    "As you begin to use methods and functions, I highly recommend that you read the help documentation. Let's do that with the `.find()` method:"
   ]
  },
  {
   "cell_type": "code",
   "execution_count": null,
   "metadata": {
    "collapsed": true
   },
   "outputs": [],
   "source": [
    "sentence.find?"
   ]
  },
  {
   "cell_type": "code",
   "execution_count": null,
   "metadata": {},
   "outputs": [],
   "source": [
    "# To continue processing the string to find other examples\n",
    "#     of the character 'o', we can start the search\n",
    "#     ONE character up, from where the last character was found.\n",
    "\n",
    "sentence.find('o', 5)\n",
    "\n",
    "# P y t h o n   R o x\n",
    "# 0 1 2 3 4 5 6 7 8 9"
   ]
  },
  {
   "cell_type": "code",
   "execution_count": null,
   "metadata": {},
   "outputs": [],
   "source": [
    "# To automate such processing users often use a placeholder \n",
    "#     variable to help identify where to start the next search\n",
    "\n",
    "start = sentence.find('o')\n",
    "print(start)\n",
    "subsequent = sentence.find('o', start + 1)\n",
    "print(subsequent)\n",
    "\n",
    "# P y t h o n   R o x\n",
    "# 0 1 2 3 4 5 6 7 8 9"
   ]
  },
  {
   "cell_type": "markdown",
   "metadata": {},
   "source": [
    "# Testing string characteristics\n",
    "---"
   ]
  },
  {
   "cell_type": "markdown",
   "metadata": {
    "slideshow": {
     "slide_type": "slide"
    }
   },
   "source": [
    "There are methods to test for characteristics:\n",
    "\n",
    "These type of methods often start with:\n",
    "\n",
    "`.is*` i.e. \n",
    "\n",
    "* `.isupper()`\n",
    "* `.islower()`"
   ]
  },
  {
   "cell_type": "code",
   "execution_count": null,
   "metadata": {
    "slideshow": {
     "slide_type": "slide"
    }
   },
   "outputs": [],
   "source": [
    "heroine = 'CATWOMAN'\n",
    "heroine.isupper()"
   ]
  },
  {
   "cell_type": "code",
   "execution_count": null,
   "metadata": {
    "slideshow": {
     "slide_type": "fragment"
    }
   },
   "outputs": [],
   "source": [
    "heroine_mixed = 'CaTwOmAn'\n",
    "\n",
    "heroine_mixed.islower()"
   ]
  },
  {
   "cell_type": "code",
   "execution_count": null,
   "metadata": {
    "collapsed": true
   },
   "outputs": [],
   "source": [
    "# How do you find out which methods exist for strings.\n",
    "# Use tab-completion\n",
    "\n",
    "sentence."
   ]
  },
  {
   "cell_type": "markdown",
   "metadata": {
    "slideshow": {
     "slide_type": "slide"
    }
   },
   "source": [
    "Method | Purpose\n",
    "-------|--------\n",
    ".isalpha()     | Verifies whether ALL the characters are alphabetic\n",
    ".isalnum()     | Verifies whether ALL the characters are alphabetic or numeric\n",
    ".isdecimal()     | Verifies whether ALL the characters are numerical\n",
    ".isspace()     | Verifies whether ALL the characters are whitespace (\\t, \\n, ' ', etc)\n",
    ".istitle()     | Verifies whether the string is in 'Title Case'"
   ]
  },
  {
   "cell_type": "code",
   "execution_count": null,
   "metadata": {
    "slideshow": {
     "slide_type": "fragment"
    }
   },
   "outputs": [],
   "source": [
    "# NOTE: even string literals that have not been assigned a label\n",
    "#       have the same methods and attributes associated with\n",
    "#       them.\n",
    "\n",
    "'bullwhip'.islower()"
   ]
  },
  {
   "cell_type": "code",
   "execution_count": null,
   "metadata": {
    "slideshow": {
     "slide_type": "fragment"
    }
   },
   "outputs": [],
   "source": [
    "# NOTE: numerical characters in a string DO NOT have a sense\n",
    "#       of upper or lowercase.\n",
    "\n",
    "'42'.isupper()"
   ]
  },
  {
   "cell_type": "code",
   "execution_count": null,
   "metadata": {
    "slideshow": {
     "slide_type": "slide"
    }
   },
   "outputs": [],
   "source": [
    "# As noted above, str is the base class (i.e. blueprint) for \n",
    "#     all string objects, so we can use str.<methodname> to search for help on a particular method.\n",
    "\n",
    "help(str.isspace)"
   ]
  },
  {
   "cell_type": "code",
   "execution_count": null,
   "metadata": {
    "collapsed": true,
    "slideshow": {
     "slide_type": "slide"
    }
   },
   "outputs": [],
   "source": [
    "# any str object will have exactly the same methods\n",
    "\n",
    "help(heroine.isspace)"
   ]
  },
  {
   "cell_type": "markdown",
   "metadata": {
    "slideshow": {
     "slide_type": "slide"
    }
   },
   "source": [
    "## .join(), .split(), .startswith() and .endswith()\n",
    "\n",
    "Method | Purpose\n",
    "------------------|--------\n",
    ".join()     | Combine all the elements of a sequence (like a `list`) using the string\n",
    ".split()     | Separate the string into substrings by splitting on a given string\n",
    ".startswith()     | Verifies whether the string STARTS with a given substring\n",
    ".endswith()     | Verifies whether the string ENDS with a given substring"
   ]
  },
  {
   "cell_type": "markdown",
   "metadata": {},
   "source": [
    "### .split()"
   ]
  },
  {
   "cell_type": "code",
   "execution_count": null,
   "metadata": {},
   "outputs": [],
   "source": [
    "address = 'bishop street|honolulu|hawaii'\n",
    "\n",
    "# To split this into short strings, we give the .split() method a substring to split on...\n",
    "\n",
    "results = address.split('|')\n",
    "print(results)\n",
    "\n",
    "# NOTE: \n",
    "#     * the substring is removed completely\n",
    "#     * the output is always a list\n",
    "#     * visually, you can tell you are looking at a list by the square brackets at each end: [ ]"
   ]
  },
  {
   "cell_type": "markdown",
   "metadata": {},
   "source": [
    "Remember:\n",
    "\n",
    "It never hurts to learn more about new functions you learn!\n",
    "\n",
    "And it never hurts to test the things that you learn."
   ]
  },
  {
   "cell_type": "code",
   "execution_count": null,
   "metadata": {
    "collapsed": true
   },
   "outputs": [],
   "source": [
    "str.split?"
   ]
  },
  {
   "cell_type": "markdown",
   "metadata": {},
   "source": [
    "### .join()"
   ]
  },
  {
   "cell_type": "markdown",
   "metadata": {},
   "source": [
    "If you have a sequence of strings, such as the results list we just created, you can join them together using the .join() method."
   ]
  },
  {
   "cell_type": "code",
   "execution_count": null,
   "metadata": {},
   "outputs": [],
   "source": [
    "new_string = ','.join(results)\n",
    "print(new_string)"
   ]
  },
  {
   "cell_type": "markdown",
   "metadata": {},
   "source": [
    "### .endswith(), .startswith()"
   ]
  },
  {
   "cell_type": "markdown",
   "metadata": {},
   "source": [
    "Python also provides for the ability to test whether a string starts with or ends with a particular character OR series of characters."
   ]
  },
  {
   "cell_type": "code",
   "execution_count": null,
   "metadata": {},
   "outputs": [],
   "source": [
    "vehicle = 'batmobile'"
   ]
  },
  {
   "cell_type": "code",
   "execution_count": null,
   "metadata": {},
   "outputs": [],
   "source": [
    "vehicle.startswith('bat')"
   ]
  },
  {
   "cell_type": "code",
   "execution_count": null,
   "metadata": {},
   "outputs": [],
   "source": [
    "vehicle.endswith('MOBILE')"
   ]
  },
  {
   "cell_type": "markdown",
   "metadata": {},
   "source": [
    "### .center(), .rjust(), .ljust()\n",
    "\n",
    "These methods create new string based on the original string that contains a given number of characters. Depending on the method called, the new string may contain the original string on the left edge, the center, OR the right edge."
   ]
  },
  {
   "cell_type": "markdown",
   "metadata": {
    "slideshow": {
     "slide_type": "subslide"
    }
   },
   "source": [
    "Method | Purpose\n",
    "-------|--------\n",
    ".center()     | Center the string in a field of given width\n",
    ".rjust()     | Right justify the string in a field of given width\n",
    ".ljust()     | Left justify the string in a field of given width\n"
   ]
  },
  {
   "cell_type": "code",
   "execution_count": null,
   "metadata": {},
   "outputs": [],
   "source": [
    "# In this case, I include the asterixes simply to bookend the field so you can\n",
    "#     see that it really made a field of the desired width\n",
    "\n",
    "print('*', 'aloha'.center(40), '*')"
   ]
  },
  {
   "cell_type": "markdown",
   "metadata": {},
   "source": [
    "## Real-life use case"
   ]
  },
  {
   "cell_type": "code",
   "execution_count": null,
   "metadata": {},
   "outputs": [],
   "source": [
    "# Presume you want to create a header for a set of data composed of \n",
    "#     three columns: Date, Name, and Address\n",
    "# If you know the width of your columns, you can put the column name and the \n",
    "#     data into fields of the correct width and display it in an organized fashion.\n",
    "\n",
    "\n",
    "print('Date'.ljust(13), 'Name'.center(20), 'Address'.rjust(20))\n",
    "print('20190223'.ljust(13), 'Dark Lord of Python'.center(20), 'Oahu, Hawaii'.rjust(20))"
   ]
  },
  {
   "cell_type": "markdown",
   "metadata": {
    "slideshow": {
     "slide_type": "subslide"
    }
   },
   "source": [
    "### .strip(), .rstrip(), .lstrip()\n",
    "\n",
    "Method | Purpose\n",
    "-------|--------\n",
    ".strip()     | Remove all the given characters from the string (on both ends)\n",
    ".rstrip()     | Remove all the given characters from the right end of the string \n",
    ".lstrip()     | Remove all the given characters from the left end of the string"
   ]
  },
  {
   "cell_type": "code",
   "execution_count": null,
   "metadata": {
    "collapsed": true
   },
   "outputs": [],
   "source": [
    "str.strip?\n"
   ]
  },
  {
   "cell_type": "code",
   "execution_count": null,
   "metadata": {},
   "outputs": [],
   "source": [
    "# The following string has many newlines at each end, which need to be removed OR stripped.\n",
    "\n",
    "newline_str = '\\n\\n\\n\\n\\n\\n*this string\\nhas\\nnewlines and stars*\\n\\n\\n\\n\\n\\n'\n",
    "print(newline_str)\n",
    "\n",
    "# NOTICE: the swaths of whitespace before and after."
   ]
  },
  {
   "cell_type": "code",
   "execution_count": null,
   "metadata": {},
   "outputs": [],
   "source": [
    "# The .strip() function automagically removes all whitespace characters\n",
    "\n",
    "clean_version = newline_str.strip()\n",
    "print(clean_version)"
   ]
  },
  {
   "cell_type": "markdown",
   "metadata": {},
   "source": [
    "## What is whitespace in Python?\n",
    "\n",
    "|Name|Representation|\n",
    "|----|----|\n",
    "|Tab|`\\t`|\n",
    "|Newline|`\\n`|\n",
    "|Space|` `|\n",
    "|Carriage Return|`\\r`|\n"
   ]
  },
  {
   "cell_type": "markdown",
   "metadata": {},
   "source": [
    "# Experience Points!\n",
    "---"
   ]
  },
  {
   "cell_type": "markdown",
   "metadata": {},
   "source": [
    "In your **text editor** create a simple script called:\n",
    "\n",
    "```bash\n",
    "my_strings_03.py```\n",
    "\n",
    "Execute your script in **Jupyter** using the command:\n",
    "\n",
    "```bash\n",
    "run my_strings_03.py```\n",
    "\n",
    "I suggest that as you add each feature to your script that you run it right away to test it incrementally.\n",
    "\n",
    "1. Assign the label `myname` to a string with your first and last names separated by a comma\n",
    "1. Assign a label `names` to the result of splitting (using `.split()`) the variable `myname` based on a comma\n",
    "1. Print `names`\n",
    "1. Assign a label `pipe` to the result of joining (using `.join()` and the `\\` character) the terms in `names` into a single string.\n",
    "1. Print `pipe`\n",
    "1. Test whether `myname` is ALL uppercase: IF you don't remember which method to use, research string functions.\n",
    "1. Create a field 60 characters wide and right justify your full name in the field: IF you don't remember which method to use, research string functions.\n"
   ]
  },
  {
   "cell_type": "markdown",
   "metadata": {},
   "source": [
    "When you complete this exercise, please put your green post-it on your monitor. \n",
    "\n",
    "If you want to continue on at your own-pace, please feel free to do so.\n",
    "\n",
    "<img src='../universal_images/green_sticky.300px.png' width='200' style='float:left'>"
   ]
  },
  {
   "cell_type": "markdown",
   "metadata": {
    "slideshow": {
     "slide_type": "slide"
    }
   },
   "source": [
    "# String Formatting\n",
    "\n",
    "Method | Purpose\n",
    "-------|--------\n",
    ".format()     | return a formatted version of a string"
   ]
  },
  {
   "cell_type": "code",
   "execution_count": null,
   "metadata": {
    "slideshow": {
     "slide_type": "slide"
    }
   },
   "outputs": [],
   "source": [
    "help(str.format)"
   ]
  },
  {
   "cell_type": "code",
   "execution_count": null,
   "metadata": {
    "slideshow": {
     "slide_type": "slide"
    }
   },
   "outputs": [],
   "source": [
    "boilerplate = '''Catwoman is a complex character with many plot lines. Several women have\n",
    "used the name Catwoman, including: {}, {}, and {}.\n",
    "'''.format('Selina Kyle', 'Holly Robinson', 'Eiko Hasigawa')\n",
    "\n",
    "print(boilerplate)"
   ]
  },
  {
   "cell_type": "code",
   "execution_count": null,
   "metadata": {
    "slideshow": {
     "slide_type": "slide"
    }
   },
   "outputs": [],
   "source": [
    "positionals = '{1} {0}'.format('last', 'first')\n",
    "\n",
    "print(positionals)"
   ]
  },
  {
   "cell_type": "code",
   "execution_count": null,
   "metadata": {
    "slideshow": {
     "slide_type": "slide"
    }
   },
   "outputs": [],
   "source": [
    "headline = '''In a battle of the superheroes between {0} and {1},\n",
    "in this round, {0} clearly came out on top, getting away with \n",
    "the jewels. {0} snuck away in the dark of night.'''.format('Catwoman', 'Batman')\n",
    "\n",
    "print(headline)"
   ]
  },
  {
   "cell_type": "code",
   "execution_count": null,
   "metadata": {
    "slideshow": {
     "slide_type": "slide"
    }
   },
   "outputs": [],
   "source": [
    "# Alignment\n",
    "\n",
    "left_align = '{:20}'.format('Selina')\n",
    "print(left_align)\n",
    "\n",
    "left_align = '{:<20}'.format('Selina')\n",
    "print(left_align)\n",
    "\n",
    "right_align = '{:>20}'.format('Holly')\n",
    "print(right_align)\n",
    "\n",
    "center_align = '{:^20}'.format('Eiko')\n",
    "print(center_align)"
   ]
  },
  {
   "cell_type": "code",
   "execution_count": null,
   "metadata": {
    "slideshow": {
     "slide_type": "slide"
    }
   },
   "outputs": [],
   "source": [
    "# Padding\n",
    "\n",
    "left_pad = '{:*<20}'.format('Selina')\n",
    "print(left_pad)\n",
    "\n",
    "right_pad = '{:_>20}'.format('Kyle')\n",
    "print(right_pad)"
   ]
  },
  {
   "cell_type": "code",
   "execution_count": null,
   "metadata": {
    "slideshow": {
     "slide_type": "slide"
    }
   },
   "outputs": [],
   "source": [
    "# Truncation\n",
    "\n",
    "trunc = '{:.6}'.format('Selina Kyle')\n",
    "print(trunc)\n",
    "\n",
    "# Combining them all together\n",
    "\n",
    "trunc_pad = '{:->20.6}'.format('Selina Kyle')\n",
    "print(trunc_pad)"
   ]
  },
  {
   "cell_type": "code",
   "execution_count": null,
   "metadata": {
    "slideshow": {
     "slide_type": "slide"
    }
   },
   "outputs": [],
   "source": [
    "# Numbers\n",
    "\n",
    "print('{:d}'.format(42))\n",
    "\n",
    "print('{:f}'.format(2.71))\n",
    "\n",
    "print('{:20d}'.format(42))\n",
    "\n",
    "print('{:6.2f}'.format(2.718281828459045))\n",
    "\n",
    "print('{:+d}'.format(42))\n",
    "\n",
    "print('{:d}'.format(-42))"
   ]
  },
  {
   "cell_type": "code",
   "execution_count": null,
   "metadata": {
    "slideshow": {
     "slide_type": "slide"
    }
   },
   "outputs": [],
   "source": [
    "# Named Placeholders\n",
    "\n",
    "name = '{first} {last}'.format(first='Selina', last='Kyle')\n",
    "\n",
    "print(name)"
   ]
  },
  {
   "cell_type": "markdown",
   "metadata": {
    "slideshow": {
     "slide_type": "slide"
    }
   },
   "source": [
    "# Want to learn more?\n",
    "\n",
    "In years past, this website has been a go-to for me...\n",
    "\n",
    "https://pyformat.info"
   ]
  },
  {
   "cell_type": "markdown",
   "metadata": {},
   "source": [
    "# Experience Points!\n",
    "---"
   ]
  },
  {
   "cell_type": "markdown",
   "metadata": {},
   "source": [
    "In your **text editor** create a simple script called:\n",
    "\n",
    "```bash\n",
    "my_strings_04.py```\n",
    "\n",
    "Execute your script in **Jupyter** using the command:\n",
    "\n",
    "```bash\n",
    "run my_strings_04.py```\n",
    "\n",
    "I suggest that as you add each feature to your script that you run it right away to test it incrementally.\n",
    "\n",
    "1. Assign a label `boilerplate` to a boilerplate string that provides placeholders to put your favorite food and song: `\"My favorite food is ___ and my favorite song is ___\"`\n",
    "1. Use the `.format()` method of this string to provide the name of:\n",
    "    1. Your favorite food\n",
    "    1. Your favorite song"
   ]
  },
  {
   "cell_type": "markdown",
   "metadata": {},
   "source": [
    "When you complete this exercise, please put your green post-it on your monitor. \n",
    "\n",
    "If you want to continue on at your own-pace, please feel free to do so.\n",
    "\n",
    "<img src='../universal_images/green_sticky.300px.png' width='200' style='float:left'>"
   ]
  },
  {
   "cell_type": "markdown",
   "metadata": {},
   "source": [
    "# The new \"hotness\": f-strings\n",
    "---"
   ]
  },
  {
   "cell_type": "markdown",
   "metadata": {},
   "source": [
    "`f-strings` are rapidly becoming my new favorite way to do strings. \n",
    "\n",
    "NOTE:  This only works on Python 3.6+"
   ]
  },
  {
   "cell_type": "code",
   "execution_count": null,
   "metadata": {},
   "outputs": [],
   "source": [
    "title = 'dark lord'\n",
    "language = 'python'\n",
    "\n",
    "f'chalmer is the {title} of {language}'"
   ]
  },
  {
   "cell_type": "markdown",
   "metadata": {},
   "source": [
    "f-strings not only allow the easy incorporation of variables into boilerplate, just as the `.format()` method does, they also allow for Python expressions and Python function calls to be incorporated into the final string output \"on-the-fly\"."
   ]
  },
  {
   "cell_type": "code",
   "execution_count": null,
   "metadata": {},
   "outputs": [],
   "source": [
    "name = 'Chalmer'\n",
    "number = 21\n",
    "\n",
    "# NOTE:\n",
    "#     * we include the name.upper() function call\n",
    "#     * we include the math expression number * 2\n",
    "\n",
    "\n",
    "f'''He said his name is {name.upper()} and his favorite number is {number * 2}.'''"
   ]
  },
  {
   "cell_type": "markdown",
   "metadata": {},
   "source": [
    "For more information, see this page in the Python documentation:\n",
    "\n",
    "[formatted string literals](https://docs.python.org/3/reference/lexical_analysis.html#f-strings)  \n",
    "    "
   ]
  }
 ],
 "metadata": {
  "anaconda-cloud": {},
  "celltoolbar": "Slideshow",
  "kernelspec": {
   "display_name": "Python 3",
   "language": "python",
   "name": "python3"
  },
  "language_info": {
   "codemirror_mode": {
    "name": "ipython",
    "version": 3
   },
   "file_extension": ".py",
   "mimetype": "text/x-python",
   "name": "python",
   "nbconvert_exporter": "python",
   "pygments_lexer": "ipython3",
   "version": "3.6.8"
  }
 },
 "nbformat": 4,
 "nbformat_minor": 2
}
