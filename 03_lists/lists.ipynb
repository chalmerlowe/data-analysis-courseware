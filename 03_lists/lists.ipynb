{
 "cells": [
  {
   "cell_type": "markdown",
   "metadata": {
    "slideshow": {
     "slide_type": "slide"
    }
   },
   "source": [
    "# Welcome to the Dark Art of Coding:\n",
    "## Introduction to Python\n",
    "Lists\n",
    "\n",
    "<img src='../universal_images/dark_art_logo.600px.png' width='300' style=\"float:right\">"
   ]
  },
  {
   "cell_type": "markdown",
   "metadata": {},
   "source": [
    "# Objectives\n",
    "---"
   ]
  },
  {
   "cell_type": "markdown",
   "metadata": {},
   "source": [
    "In this session, students should expect to:\n",
    "\n",
    "* Understand what a Python list is\n",
    "* Use indexing and slicing in lists to extract specific items\n",
    "* Learn which methods are associated with lists\n",
    "* Use representative list methods, such as .append() and .extend()"
   ]
  },
  {
   "cell_type": "markdown",
   "metadata": {
    "slideshow": {
     "slide_type": "-"
    }
   },
   "source": [
    "# What is a list?\n",
    "---"
   ]
  },
  {
   "cell_type": "markdown",
   "metadata": {},
   "source": [
    "* Lists are a collection of objects\n",
    "* Lists may contain any number of objects OR may be empty\n",
    "* They do not need to be defined or initialized beforehand\n",
    "* They may contain any Python object, including other lists\n",
    "* Lists may be assigned a label OR they may be used as constants\n",
    "* Lists may be changed (i.e. they are mutable)"
   ]
  },
  {
   "cell_type": "markdown",
   "metadata": {},
   "source": [
    "# Creating a list literal\n",
    "---"
   ]
  },
  {
   "cell_type": "markdown",
   "metadata": {},
   "source": [
    "One of the most common techniques to create a list is by creating a list literal:\n",
    "\n",
    "Literally typing out the list, using `[` and `]` and separating any elements using a comma."
   ]
  },
  {
   "cell_type": "code",
   "execution_count": 1,
   "metadata": {},
   "outputs": [],
   "source": [
    "sample_a = []                           # empty list\n",
    "sample_b = ['thing_one']                # list with one element\n",
    "sample_c = ['thing_one', 'thing_two']   # list with more than one element"
   ]
  },
  {
   "cell_type": "code",
   "execution_count": 2,
   "metadata": {
    "collapsed": true,
    "slideshow": {
     "slide_type": "-"
    }
   },
   "outputs": [
    {
     "name": "stdout",
     "output_type": "stream",
     "text": [
      "['São Paulo', 'Paris', 'London', 'San Fransokyo']\n"
     ]
    }
   ],
   "source": [
    "cities = ['São Paulo', 'Paris', 'London', 'San Fransokyo']\n",
    "print(cities)"
   ]
  },
  {
   "cell_type": "markdown",
   "metadata": {},
   "source": [
    "# Indexing\n",
    "---"
   ]
  },
  {
   "cell_type": "code",
   "execution_count": 3,
   "metadata": {
    "collapsed": true,
    "slideshow": {
     "slide_type": "-"
    }
   },
   "outputs": [],
   "source": [
    "# Much like strings, lists are indexed, starting at 0.\n",
    "\n",
    "cities = ['São Paulo', 'Paris', 'London', 'San Fransokyo']\n",
    "#             ^           ^        ^         ^\n",
    "#             0           1        2         3\n"
   ]
  },
  {
   "cell_type": "code",
   "execution_count": 4,
   "metadata": {
    "collapsed": true,
    "slideshow": {
     "slide_type": "-"
    }
   },
   "outputs": [],
   "source": [
    "# Again, like strings, lists are also reverse indexed, starting at -1.\n",
    "\n",
    "cities = ['São Paulo', 'Paris', 'London', 'San Fransokyo']\n",
    "#             ^           ^        ^         ^\n",
    "#             0           1        2         3\n",
    "#            -4          -3       -2        -1"
   ]
  },
  {
   "cell_type": "code",
   "execution_count": 5,
   "metadata": {
    "slideshow": {
     "slide_type": "-"
    }
   },
   "outputs": [
    {
     "name": "stdout",
     "output_type": "stream",
     "text": [
      "index 0:  São Paulo\n",
      "index 1:  Paris\n",
      "index 2:  London\n",
      "index -1: San Fransokyo\n"
     ]
    }
   ],
   "source": [
    "# Referencing the name of the list and the index will return the\n",
    "#     value at that index\n",
    "\n",
    "print('index 0: ', cities[0])\n",
    "print('index 1: ', cities[1])\n",
    "print('index 2: ', cities[2])\n",
    "print('index -1:', cities[-1])"
   ]
  },
  {
   "cell_type": "code",
   "execution_count": 6,
   "metadata": {
    "slideshow": {
     "slide_type": "-"
    }
   },
   "outputs": [
    {
     "name": "stdout",
     "output_type": "stream",
     "text": [
      "You traveled to San Fransokyo and London\n"
     ]
    }
   ],
   "source": [
    "# Indexing can be used directly within other Python statements/functions\n",
    "#     ... provided the extracted value is appropriate for \n",
    "#     the statement or function\n",
    "#     Here, each value in the list is a string, so they can be concatenated\n",
    "#     to other strings.     \n",
    "\n",
    "print('You traveled to ' + cities[-1] + ' and ' + cities[2])"
   ]
  },
  {
   "cell_type": "code",
   "execution_count": 7,
   "metadata": {
    "slideshow": {
     "slide_type": "-"
    }
   },
   "outputs": [
    {
     "ename": "TypeError",
     "evalue": "list indices must be integers or slices, not float",
     "output_type": "error",
     "traceback": [
      "\u001b[0;31m---------------------------------------------------------------------------\u001b[0m",
      "\u001b[0;31mTypeError\u001b[0m                                 Traceback (most recent call last)",
      "\u001b[0;32m<ipython-input-7-2b86bfc971ed>\u001b[0m in \u001b[0;36m<module>\u001b[0;34m\u001b[0m\n\u001b[1;32m      1\u001b[0m \u001b[0;31m# Indexing requires integers\u001b[0m\u001b[0;34m\u001b[0m\u001b[0;34m\u001b[0m\u001b[0;34m\u001b[0m\u001b[0m\n\u001b[1;32m      2\u001b[0m \u001b[0;34m\u001b[0m\u001b[0m\n\u001b[0;32m----> 3\u001b[0;31m \u001b[0mcities\u001b[0m\u001b[0;34m[\u001b[0m\u001b[0;36m1.0\u001b[0m\u001b[0;34m]\u001b[0m\u001b[0;34m\u001b[0m\u001b[0;34m\u001b[0m\u001b[0m\n\u001b[0m",
      "\u001b[0;31mTypeError\u001b[0m: list indices must be integers or slices, not float"
     ]
    }
   ],
   "source": [
    "# Indexing requires integers\n",
    "\n",
    "cities[1.0]"
   ]
  },
  {
   "cell_type": "code",
   "execution_count": 8,
   "metadata": {
    "slideshow": {
     "slide_type": "-"
    }
   },
   "outputs": [
    {
     "ename": "IndexError",
     "evalue": "list index out of range",
     "output_type": "error",
     "traceback": [
      "\u001b[0;31m---------------------------------------------------------------------------\u001b[0m",
      "\u001b[0;31mIndexError\u001b[0m                                Traceback (most recent call last)",
      "\u001b[0;32m<ipython-input-8-b98bc854c6e9>\u001b[0m in \u001b[0;36m<module>\u001b[0;34m\u001b[0m\n\u001b[1;32m      2\u001b[0m \u001b[0;31m# the list, Python returns an IndexError.\u001b[0m\u001b[0;34m\u001b[0m\u001b[0;34m\u001b[0m\u001b[0;34m\u001b[0m\u001b[0m\n\u001b[1;32m      3\u001b[0m \u001b[0;34m\u001b[0m\u001b[0m\n\u001b[0;32m----> 4\u001b[0;31m \u001b[0mcities\u001b[0m\u001b[0;34m[\u001b[0m\u001b[0;36m42\u001b[0m\u001b[0;34m]\u001b[0m\u001b[0;34m\u001b[0m\u001b[0;34m\u001b[0m\u001b[0m\n\u001b[0m",
      "\u001b[0;31mIndexError\u001b[0m: list index out of range"
     ]
    }
   ],
   "source": [
    "# Like strings, if our index exceeds the number of elements in \n",
    "# the list, Python returns an IndexError.\n",
    "\n",
    "cities[42]"
   ]
  },
  {
   "cell_type": "code",
   "execution_count": 9,
   "metadata": {
    "collapsed": true,
    "slideshow": {
     "slide_type": "-"
    }
   },
   "outputs": [],
   "source": [
    "# Lists can contain any Python object and unlike many languages, \n",
    "#     you can mix or match items (i.e. heterogenous elements are ok!)\n",
    "# NOTE: despite this, homogeneous elements are the norm...\n",
    "\n",
    "randomStuff = ['name', 7, 'food']"
   ]
  },
  {
   "cell_type": "code",
   "execution_count": 10,
   "metadata": {},
   "outputs": [
    {
     "data": {
      "text/plain": [
       "['name', 7, 'food']"
      ]
     },
     "execution_count": 10,
     "metadata": {},
     "output_type": "execute_result"
    }
   ],
   "source": [
    "randomStuff"
   ]
  },
  {
   "cell_type": "code",
   "execution_count": 11,
   "metadata": {
    "collapsed": true,
    "slideshow": {
     "slide_type": "-"
    }
   },
   "outputs": [],
   "source": [
    "# Nested lists are fine\n",
    "\n",
    "microbe = [['bacteria', 'archaea', 'fungi', 'protists'], \n",
    "           ['single-celled', 'multicellular'],\n",
    "           ['0.3 μm', '0.6 μm', '1.5 μm', '4 μm', '60 μm', '500 μm']]"
   ]
  },
  {
   "cell_type": "code",
   "execution_count": 18,
   "metadata": {},
   "outputs": [
    {
     "data": {
      "text/plain": [
       "'e'"
      ]
     },
     "execution_count": 18,
     "metadata": {},
     "output_type": "execute_result"
    }
   ],
   "source": [
    "microbe[1][0][8]"
   ]
  },
  {
   "cell_type": "code",
   "execution_count": 13,
   "metadata": {
    "slideshow": {
     "slide_type": "-"
    }
   },
   "outputs": [
    {
     "data": {
      "text/plain": [
       "['0.3 μm', '0.6 μm', '1.5 μm', '4 μm', '60 μm', '500 μm']"
      ]
     },
     "execution_count": 13,
     "metadata": {},
     "output_type": "execute_result"
    }
   ],
   "source": [
    "# Accessing elements from sublists is also accomplished \n",
    "# via indexing\n",
    "\n",
    "# Chained indexes are fine.\n",
    "# IF somewhat painful.\n",
    "\n",
    "microbe[2]"
   ]
  },
  {
   "cell_type": "code",
   "execution_count": 14,
   "metadata": {
    "slideshow": {
     "slide_type": "-"
    }
   },
   "outputs": [
    {
     "data": {
      "text/plain": [
       "'1.5 μm'"
      ]
     },
     "execution_count": 14,
     "metadata": {},
     "output_type": "execute_result"
    }
   ],
   "source": [
    "microbe[2][2]"
   ]
  },
  {
   "cell_type": "code",
   "execution_count": 19,
   "metadata": {},
   "outputs": [
    {
     "data": {
      "text/plain": [
       "'μ'"
      ]
     },
     "execution_count": 19,
     "metadata": {},
     "output_type": "execute_result"
    }
   ],
   "source": [
    "# Chained indexes even work down to the string level in\n",
    "#     this example...\n",
    "\n",
    "# QUESTION(s): \n",
    "#     * why?\n",
    "#     * what is happening under the hood?\n",
    "\n",
    "microbe[2][2][4]"
   ]
  },
  {
   "cell_type": "markdown",
   "metadata": {},
   "source": [
    "# Slicing\n",
    "---"
   ]
  },
  {
   "cell_type": "code",
   "execution_count": 20,
   "metadata": {
    "slideshow": {
     "slide_type": "-"
    }
   },
   "outputs": [
    {
     "name": "stdout",
     "output_type": "stream",
     "text": [
      "The original list:\n",
      "['São Paulo', 'Paris', 'London', 'San Fransokyo']\n",
      "------------------------------------------------------------\n",
      "Sliced from 0 up to but NOT including 3:\n",
      "['São Paulo', 'Paris', 'London']\n"
     ]
    }
   ],
   "source": [
    "# Want more items from a list?\n",
    "# use slices...\n",
    "\n",
    "print('The original list:', cities, sep='\\n')\n",
    "print('-' * 60)\n",
    "print('Sliced from 0 up to but NOT including 3:')\n",
    "print(cities[0:3])"
   ]
  },
  {
   "cell_type": "code",
   "execution_count": 21,
   "metadata": {
    "scrolled": true,
    "slideshow": {
     "slide_type": "-"
    }
   },
   "outputs": [
    {
     "name": "stdout",
     "output_type": "stream",
     "text": [
      "Sliced from 0 up to but NOT including 9000:\n",
      "['São Paulo', 'Paris', 'London', 'San Fransokyo']\n"
     ]
    }
   ],
   "source": [
    "# Slice behavior when given a value out of bounds is slightly different\n",
    "#     than index behavior.\n",
    "#     Anything out of bounds is allowed... Python simply returns\n",
    "#     the values up to the last element in the list...\n",
    "\n",
    "print('Sliced from 0 up to but NOT including 9000:')\n",
    "print(cities[0:9000])"
   ]
  },
  {
   "cell_type": "code",
   "execution_count": 22,
   "metadata": {
    "slideshow": {
     "slide_type": "-"
    }
   },
   "outputs": [
    {
     "name": "stdout",
     "output_type": "stream",
     "text": [
      "Sliced from 0 up to but NOT including -1:\n",
      "['São Paulo', 'Paris', 'London']\n"
     ]
    }
   ],
   "source": [
    "# Mixing and matching positive and negative indexes is acceptable\n",
    "\n",
    "print('Sliced from 0 up to but NOT including -1:')\n",
    "print(cities[:-1])"
   ]
  },
  {
   "cell_type": "code",
   "execution_count": 23,
   "metadata": {
    "slideshow": {
     "slide_type": "-"
    }
   },
   "outputs": [
    {
     "name": "stdout",
     "output_type": "stream",
     "text": [
      "Sliced from 0 up to but NOT including 4:\n",
      "['São Paulo', 'Paris', 'London', 'San Fransokyo']\n"
     ]
    }
   ],
   "source": [
    "# The same SHORTCUT used in string indexing applies to list indexing\n",
    "#     You can skip the starting index OR the ending index OR both.\n",
    "\n",
    "print('Sliced from 0 up to but NOT including 4:')\n",
    "print(cities[      :4])"
   ]
  },
  {
   "cell_type": "code",
   "execution_count": 24,
   "metadata": {
    "slideshow": {
     "slide_type": "-"
    }
   },
   "outputs": [
    {
     "name": "stdout",
     "output_type": "stream",
     "text": [
      "['São Paulo', 'Paris', 'London', 'San Fransokyo']\n"
     ]
    }
   ],
   "source": [
    "# this syntax is often used to make a copy of a list\n",
    "\n",
    "cities_copy = cities[:]   \n",
    "print(cities_copy)"
   ]
  },
  {
   "cell_type": "code",
   "execution_count": null,
   "metadata": {},
   "outputs": [],
   "source": [
    "cities[:2]"
   ]
  },
  {
   "cell_type": "code",
   "execution_count": 25,
   "metadata": {},
   "outputs": [
    {
     "data": {
      "text/plain": [
       "['São Paulo', 'London']"
      ]
     },
     "execution_count": 25,
     "metadata": {},
     "output_type": "execute_result"
    }
   ],
   "source": [
    "# Like strings and ranges, we can use increment values in slices\n",
    "# ['São Paulo', 'Paris', 'London', 'San Fransokyo']\n",
    "\n",
    "cities[::2]\n",
    "    "
   ]
  },
  {
   "cell_type": "code",
   "execution_count": 31,
   "metadata": {},
   "outputs": [
    {
     "data": {
      "text/plain": [
       "[1, 1, 1, 1, 1, 1, 1, 1, 1, 1, 1, 1, 1, 1, 1, 1, 1, 1, 1, 1]"
      ]
     },
     "execution_count": 31,
     "metadata": {},
     "output_type": "execute_result"
    }
   ],
   "source": [
    "mylist = [1, 2, 3, 4, 5, 6] * 20\n",
    "mylist[::6]"
   ]
  },
  {
   "cell_type": "code",
   "execution_count": 32,
   "metadata": {
    "slideshow": {
     "slide_type": "-"
    }
   },
   "outputs": [
    {
     "name": "stdout",
     "output_type": "stream",
     "text": [
      "['São Paulo', 'Paris', 'London', 'San Fransokyo']\n",
      "['São Paulo', 'Paris', 'Seoul', 'San Fransokyo']\n"
     ]
    }
   ],
   "source": [
    "# Lists are mutable: we can change them when desired.\n",
    "#     Here we re-assign the index at 2 to a new value stored in memory\n",
    "#     In this case, changing 'London' to 'Seoul'\n",
    "\n",
    "print(cities)\n",
    "cities[2] = 'Seoul'\n",
    "print(cities)"
   ]
  },
  {
   "cell_type": "code",
   "execution_count": 33,
   "metadata": {
    "scrolled": true,
    "slideshow": {
     "slide_type": "-"
    }
   },
   "outputs": [
    {
     "ename": "IndexError",
     "evalue": "list assignment index out of range",
     "output_type": "error",
     "traceback": [
      "\u001b[0;31m---------------------------------------------------------------------------\u001b[0m",
      "\u001b[0;31mIndexError\u001b[0m                                Traceback (most recent call last)",
      "\u001b[0;32m<ipython-input-33-256369b96cd8>\u001b[0m in \u001b[0;36m<module>\u001b[0;34m\u001b[0m\n\u001b[1;32m      1\u001b[0m \u001b[0;31m# Assignment to a list index out of bounds will fail.\u001b[0m\u001b[0;34m\u001b[0m\u001b[0;34m\u001b[0m\u001b[0;34m\u001b[0m\u001b[0m\n\u001b[1;32m      2\u001b[0m \u001b[0;34m\u001b[0m\u001b[0m\n\u001b[0;32m----> 3\u001b[0;31m \u001b[0mcities\u001b[0m\u001b[0;34m[\u001b[0m\u001b[0;36m4\u001b[0m\u001b[0;34m]\u001b[0m \u001b[0;34m=\u001b[0m \u001b[0;34m'food'\u001b[0m\u001b[0;34m\u001b[0m\u001b[0;34m\u001b[0m\u001b[0m\n\u001b[0m\u001b[1;32m      4\u001b[0m \u001b[0mprint\u001b[0m\u001b[0;34m(\u001b[0m\u001b[0mcities\u001b[0m\u001b[0;34m)\u001b[0m\u001b[0;34m\u001b[0m\u001b[0;34m\u001b[0m\u001b[0m\n",
      "\u001b[0;31mIndexError\u001b[0m: list assignment index out of range"
     ]
    }
   ],
   "source": [
    "# Assignment to a list index out of bounds will fail.\n",
    "\n",
    "cities[4] = 'food'\n",
    "print(cities)"
   ]
  },
  {
   "cell_type": "code",
   "execution_count": 36,
   "metadata": {},
   "outputs": [],
   "source": []
  },
  {
   "cell_type": "code",
   "execution_count": null,
   "metadata": {},
   "outputs": [],
   "source": []
  },
  {
   "cell_type": "code",
   "execution_count": null,
   "metadata": {},
   "outputs": [],
   "source": []
  },
  {
   "cell_type": "markdown",
   "metadata": {},
   "source": [
    "# Experience Points!\n",
    "---"
   ]
  },
  {
   "cell_type": "markdown",
   "metadata": {},
   "source": [
    "In **Jupyter** do each of the following:\n",
    "\n",
    "Task | Sample Object(s)\n",
    ":---|:---\n",
    "Assign the label `extensions` to a list of these strings | 'txt', 'rtf', 'csv', 'tsv'\n",
    "`print()` `extensions`|\n",
    "Overwrite the item at index 2 of `extensions` with this string | 'pdf'\n",
    "`print()` `extensions`|\n",
    "Assign the label `nested` to a list that contains two sub-lists| [1, 2, 3, 4]\n",
    ".| [11, 22, 33, 44]\n",
    "`print()` `nested`|\n",
    "Assign a label `nested_copy` to a copy of `nested`|\n",
    "`print()` `nested_copy`|\n",
    "Use chained indexing to index the `0` in the element `60 μm` of the `microbe` object|`microbe`\n"
   ]
  },
  {
   "cell_type": "markdown",
   "metadata": {},
   "source": [
    "When you complete this exercise, please put your green post-it on your monitor. \n",
    "\n",
    "If you want to continue on at your own-pace, please feel free to do so.\n",
    "\n",
    "<img src='../universal_images/green_sticky.300px.png' width='200' style='float:left'>"
   ]
  },
  {
   "cell_type": "code",
   "execution_count": null,
   "metadata": {},
   "outputs": [],
   "source": [
    "extensions = ['txt', 'rtf', 'csv', 'tsv']\n",
    "print(extensions)\n",
    "\n",
    "extensions[2] = 'pdf'\n",
    "print(extensions)\n",
    "\n",
    "nested = [[1, 2, 3, 4],\n",
    "          [11, 22, 33, 44]]\n",
    "print('nested:', nested)\n",
    "\n",
    "nested_copy = nested[:]\n",
    "print('copy  :', nested_copy)\n",
    "\n",
    "print(microbe[2][4][1])"
   ]
  },
  {
   "cell_type": "code",
   "execution_count": 37,
   "metadata": {},
   "outputs": [
    {
     "data": {
      "text/plain": [
       "100000000"
      ]
     },
     "execution_count": 37,
     "metadata": {},
     "output_type": "execute_result"
    }
   ],
   "source": [
    "100_000_000"
   ]
  },
  {
   "cell_type": "markdown",
   "metadata": {},
   "source": [
    "# Miscellaneousness\n",
    "---"
   ]
  },
  {
   "cell_type": "code",
   "execution_count": null,
   "metadata": {
    "slideshow": {
     "slide_type": "-"
    }
   },
   "outputs": [],
   "source": [
    "# To determine the length of a list, we use the builtin function:\n",
    "#     len()\n",
    "\n",
    "len(microbe[2][2])"
   ]
  },
  {
   "cell_type": "code",
   "execution_count": null,
   "metadata": {
    "slideshow": {
     "slide_type": "-"
    }
   },
   "outputs": [],
   "source": [
    "# To confirm that you have a list, we use the builtin function:\n",
    "#     type()\n",
    "\n",
    "type(cities)"
   ]
  },
  {
   "cell_type": "code",
   "execution_count": null,
   "metadata": {
    "slideshow": {
     "slide_type": "-"
    }
   },
   "outputs": [],
   "source": [
    "# Lists can be concatenated using a plus operator...\n",
    "\n",
    "[1, 2, 3] + ['Z', 'Y', 'X']"
   ]
  },
  {
   "cell_type": "code",
   "execution_count": null,
   "metadata": {
    "slideshow": {
     "slide_type": "-"
    }
   },
   "outputs": [],
   "source": [
    "# Lists can be repetitively concatenated using a \n",
    "#     multiplication operator\n",
    "\n",
    "[1, 2, 3] * 4"
   ]
  },
  {
   "cell_type": "code",
   "execution_count": null,
   "metadata": {
    "slideshow": {
     "slide_type": "-"
    }
   },
   "outputs": [],
   "source": [
    "# Lists can be iterated over, using the for loop construct\n",
    "# In this case, this list is considered a list literal.\n",
    "# In addition, there is no label to reference the list.\n",
    "\n",
    "for number in [10, 20, 30, 40]:\n",
    "    print(number)"
   ]
  },
  {
   "cell_type": "code",
   "execution_count": null,
   "metadata": {
    "slideshow": {
     "slide_type": "-"
    }
   },
   "outputs": [],
   "source": [
    "# It is trivial to test for inclusion, using the\n",
    "#     in operator\n",
    "\n",
    "'San Fransokyo' in cities"
   ]
  },
  {
   "cell_type": "code",
   "execution_count": null,
   "metadata": {
    "slideshow": {
     "slide_type": "-"
    }
   },
   "outputs": [],
   "source": [
    "# And for exclusion, using the not operator\n",
    "\n",
    "'Shanghai' not in cities"
   ]
  },
  {
   "cell_type": "code",
   "execution_count": null,
   "metadata": {
    "slideshow": {
     "slide_type": "-"
    }
   },
   "outputs": [],
   "source": [
    "# Here is an example of such a test...\n",
    "\n",
    "fav_food = input('What is your favorite food? ')\n",
    "\n",
    "\n",
    "if fav_food in ['pizza', 'steak', 'ice cream', 'sushi']:\n",
    "\n",
    "    print('You like ' + fav_food + '?')\n",
    "    print('Me too!')\n",
    "\n",
    "else:\n",
    "    print('Well, I suppose that is probably tasty as well!')"
   ]
  },
  {
   "cell_type": "code",
   "execution_count": null,
   "metadata": {},
   "outputs": [],
   "source": [
    "# Making a list of sequential numbers...\n",
    "# In Legacy Python (Python 2), the range() function\n",
    "#     returns a list.\n",
    "# This is NOT true in Python 3. In version 3, range()\n",
    "#     produces a range object that produces new values\n",
    "#     on demand...\n",
    "\n",
    "my_range = range(10)\n",
    "print(type(my_range), my_range)"
   ]
  },
  {
   "cell_type": "code",
   "execution_count": null,
   "metadata": {},
   "outputs": [],
   "source": [
    "# If you want to get a legit list, use the list() factory\n",
    "#     function\n",
    "\n",
    "# list(  whatever you put in here...     )\n",
    "\n",
    "my_list = list(range(10))\n",
    "print(type(my_list), my_list)"
   ]
  },
  {
   "cell_type": "code",
   "execution_count": null,
   "metadata": {},
   "outputs": [],
   "source": [
    "# The list() factory function can convert just\n",
    "#     about ANY sequence to a list object\n",
    "# For example, you can convert each character in a string\n",
    "#     into single character elements stored in a list.\n",
    "\n",
    "# NOTE: the space character is no different than any other character\n",
    "\n",
    "my_chars = list('aloha world')\n",
    "print(my_chars)"
   ]
  },
  {
   "cell_type": "markdown",
   "metadata": {},
   "source": [
    "# Experience Points!\n",
    "---"
   ]
  },
  {
   "cell_type": "markdown",
   "metadata": {},
   "source": [
    "In your **text editor** create a simple script called:\n",
    "\n",
    "```bash\n",
    "my_lists_01.py```\n",
    "\n",
    "Execute your script in **Jupyter** using the command:\n",
    "\n",
    "```bash\n",
    "run my_lists_01.py```\n",
    "\n",
    "\n",
    "Task | Sample Object(s)\n",
    ":---|:---\n",
    "Assign the label `nums` to this list of integers | 42, 13, 7, 9000\n",
    "Assign the label `test_42` to the result of a test to see if 42 is in `nums`|\n",
    "`print()` `test_42`|\n",
    "Assign the label `test_2001` to the result of a test to see if 2001 is in `nums`|\n",
    "`print()` `test_2001`|\n",
    "Assign the label `list_obj` to the result of converting a `range` object to a `list` | range(10, 21)\n",
    "`print()` `list_obj`|\n",
    "\n",
    "\n",
    "\n"
   ]
  },
  {
   "cell_type": "markdown",
   "metadata": {},
   "source": [
    "When you complete this exercise, please put your green post-it on your monitor. \n",
    "\n",
    "If you want to continue on at your own-pace, please feel free to do so.\n",
    "\n",
    "<img src='../universal_images/green_sticky.300px.png' width='200' style='float:left'>"
   ]
  },
  {
   "cell_type": "code",
   "execution_count": null,
   "metadata": {},
   "outputs": [],
   "source": [
    "nums = [1, 13, 42, 9000]\n",
    "\n",
    "test_42 = 42 in nums\n",
    "print('test for 42ness:', test_42)\n",
    "\n",
    "test_2001 = 2001 in nums\n",
    "print('test for 2001ness:', test_2001)\n",
    "\n",
    "list_obj = range(10, 21)\n",
    "\n",
    "print(list(list_obj))\n"
   ]
  },
  {
   "cell_type": "markdown",
   "metadata": {},
   "source": [
    "# Deleting details\n",
    "---"
   ]
  },
  {
   "cell_type": "code",
   "execution_count": null,
   "metadata": {
    "scrolled": true,
    "slideshow": {
     "slide_type": "-"
    }
   },
   "outputs": [],
   "source": [
    "# It is possible to delete specific list items using del:\n",
    "\n",
    "print(cities)\n",
    "print('-' * 60)\n",
    "\n",
    "del cities[1]\n",
    "print(cities)"
   ]
  },
  {
   "cell_type": "code",
   "execution_count": null,
   "metadata": {
    "scrolled": true,
    "slideshow": {
     "slide_type": "-"
    }
   },
   "outputs": [],
   "source": [
    "# We can even delete entire lists using del\n",
    "\n",
    "del cities\n",
    "print(cities)"
   ]
  },
  {
   "cell_type": "markdown",
   "metadata": {},
   "source": [
    "# Enumerating items in a list\n",
    "---"
   ]
  },
  {
   "cell_type": "code",
   "execution_count": null,
   "metadata": {},
   "outputs": [],
   "source": [
    "# When cycling through a list, sometimes you want to \n",
    "#     know the index for an element...\n",
    "#     this is possible using a somewhat convoluted range(len()) \n",
    "#     construct:\n",
    "\n",
    "weapons = ['sword', 'axe', 'bow', 'dagger']\n",
    "\n",
    "for index in range(len(weapons)):\n",
    "    print('Weapon: {}\\t Indexed as {}'.format(weapons[index], index))"
   ]
  },
  {
   "cell_type": "code",
   "execution_count": null,
   "metadata": {
    "slideshow": {
     "slide_type": "slide"
    }
   },
   "outputs": [],
   "source": [
    "# BUT\n",
    "\n",
    "# there is a built-in function enumerate()\n",
    "#     that does this better: \n",
    " \n",
    "for index, weapon in enumerate(weapons):\n",
    "    print('Weapon: {}\\t Indexed as {}'.format(weapon, index))\n",
    "    "
   ]
  },
  {
   "cell_type": "code",
   "execution_count": null,
   "metadata": {
    "slideshow": {
     "slide_type": "slide"
    }
   },
   "outputs": [],
   "source": [
    "# Even better, enumerate allows you to customize the numbering...\n",
    "# If you want to have the index start at a specific number, you can!\n",
    "\n",
    "for index, weapon in enumerate(weapons, 1000):\n",
    "    print('Weapon: {}\\t Indexed as {}'.format(weapon, index))\n",
    "    "
   ]
  },
  {
   "cell_type": "code",
   "execution_count": null,
   "metadata": {
    "slideshow": {
     "slide_type": "slide"
    }
   },
   "outputs": [],
   "source": [
    "# What exactly is happening under the hood?\n",
    "# Enumerate returns a pair of items every time you cycle through the for loop.\n",
    "# The items are produced as a tuple (we will cover tuples later)\n",
    "\n",
    "# Within for loops, tuples can be unpacked into their component parts, \n",
    "#     as we have done in the above examples.\n",
    "\n",
    "for pair in enumerate(weapons):\n",
    "    print(pair)\n",
    "    "
   ]
  },
  {
   "cell_type": "markdown",
   "metadata": {},
   "source": [
    "# Extracting values\n",
    "---"
   ]
  },
  {
   "cell_type": "code",
   "execution_count": null,
   "metadata": {
    "slideshow": {
     "slide_type": "slide"
    }
   },
   "outputs": [],
   "source": [
    "# extracting and naming particular elements of a list\n",
    "#     is often used to make code more readable and maintainable\n",
    "\n",
    "hero = ['Arthur', 'sword', 'England', 'chainmail armor']\n",
    "\n",
    "name = hero[0]\n",
    "weapon = hero[1]\n",
    "country = hero[2]\n",
    "armor = hero[3]\n",
    "\n",
    "print('{} in {} with a {}'.format(name, country, weapon))\n",
    "\n",
    "# This sure beats this unreadable mess here:\n",
    "\n",
    "print('{} in {} with a {}'.format(hero[0], hero[2], hero[1]))\n"
   ]
  },
  {
   "cell_type": "code",
   "execution_count": null,
   "metadata": {
    "slideshow": {
     "slide_type": "fragment"
    }
   },
   "outputs": [],
   "source": [
    "# If the list is short enough, UNPACKING it all in one fell swoop is \n",
    "# often better:\n",
    "\n",
    "hero = ['Arthur', 'sword', 'England', 'chainmail armor']\n",
    "\n",
    "name, weapon, country, armor = hero        # list unpacking (also called tuple unpacking) \n",
    "\n",
    "print('A {} for {} in {}'.format(weapon, name, country))\n",
    "\n",
    "\n",
    "# This is often called tuple or list unpacking\n",
    "#     or unpacking, for short"
   ]
  },
  {
   "cell_type": "code",
   "execution_count": null,
   "metadata": {
    "slideshow": {
     "slide_type": "fragment"
    }
   },
   "outputs": [],
   "source": [
    "# Augmented assignment also works...\n",
    "\n",
    "heroine = ['Diana']\n",
    "heroine *= 4\n",
    "print(heroine)"
   ]
  },
  {
   "cell_type": "markdown",
   "metadata": {},
   "source": [
    "# Experience Points!\n",
    "---"
   ]
  },
  {
   "cell_type": "markdown",
   "metadata": {},
   "source": [
    "In your **text editor** create a simple script called:\n",
    "\n",
    "```bash\n",
    "my_lists_02.py```\n",
    "\n",
    "Execute your script in **Jupyter** using the command:\n",
    "\n",
    "```bash\n",
    "run my_lists_02.py```\n",
    "\n",
    "Task | Sample Object(s)\n",
    ":---|:---\n",
    "Assign a label `biglist` to the concatenation of two smaller lists| [1, 2, 3] and [97, 98, 99]\n",
    "Iterate over `biglist` using `enumerate()` in a `for` loop|\n",
    "`print()` the index and each number from `biglist`|\n"
   ]
  },
  {
   "cell_type": "code",
   "execution_count": null,
   "metadata": {
    "collapsed": true
   },
   "outputs": [],
   "source": []
  },
  {
   "cell_type": "markdown",
   "metadata": {},
   "source": [
    "When you complete this exercise, please put your green post-it on your monitor. \n",
    "\n",
    "If you want to continue on at your own-pace, please feel free to do so.\n",
    "\n",
    "<img src='../universal_images/green_sticky.300px.png' width='200' style='float:left'>"
   ]
  },
  {
   "cell_type": "code",
   "execution_count": null,
   "metadata": {},
   "outputs": [],
   "source": [
    "biglist = [1, 2, 3] + [97, 98, 99]\n",
    "\n",
    "for index, number in enumerate(biglist):\n",
    "    print(index, number)"
   ]
  },
  {
   "cell_type": "code",
   "execution_count": null,
   "metadata": {
    "collapsed": true
   },
   "outputs": [],
   "source": []
  },
  {
   "cell_type": "markdown",
   "metadata": {
    "slideshow": {
     "slide_type": "slide"
    }
   },
   "source": [
    "<h2>Methods!</h2>"
   ]
  },
  {
   "cell_type": "code",
   "execution_count": 2,
   "metadata": {
    "slideshow": {
     "slide_type": "slide"
    }
   },
   "outputs": [],
   "source": [
    "# Methods are the real workhorse for lists and give you \n",
    "#     great power.\n",
    "\n",
    "items = ['sword', 'shield', 'health potion', 'armor', 'boots']"
   ]
  },
  {
   "cell_type": "code",
   "execution_count": 3,
   "metadata": {
    "slideshow": {
     "slide_type": "slide"
    }
   },
   "outputs": [
    {
     "data": {
      "text/plain": [
       "1"
      ]
     },
     "execution_count": 3,
     "metadata": {},
     "output_type": "execute_result"
    }
   ],
   "source": [
    "# If you need to find out the index for an object, you can use the\n",
    "#     .index() function\n",
    "\n",
    "# Let's find out the index for 'shield'\n",
    "\n",
    "items.index('shield')"
   ]
  },
  {
   "cell_type": "markdown",
   "metadata": {
    "slideshow": {
     "slide_type": "slide"
    }
   },
   "source": [
    "## lists have only 11 methods...\n",
    "\n",
    "```python\n",
    "items.append()\n",
    "items.clear()\n",
    "items.copy()\n",
    "items.count()\n",
    "items.extend()\n",
    "items.index()\n",
    "items.insert()\n",
    "items.pop()\n",
    "items.remove()\n",
    "items.reverse()\n",
    "items.sort()\n",
    "```\n",
    "\n",
    "We will look at several, but will leave examination of the remainder as an exercise for the student"
   ]
  },
  {
   "cell_type": "code",
   "execution_count": 4,
   "metadata": {
    "collapsed": true
   },
   "outputs": [],
   "source": [
    "# let's run these and see what they do.\n",
    "# if we have questions about any of them, we can look up the help for any\n",
    "#     given method.\n",
    "\n",
    "items.reverse()"
   ]
  },
  {
   "cell_type": "code",
   "execution_count": 5,
   "metadata": {},
   "outputs": [
    {
     "data": {
      "text/plain": [
       "['boots', 'armor', 'health potion', 'shield', 'sword']"
      ]
     },
     "execution_count": 5,
     "metadata": {},
     "output_type": "execute_result"
    }
   ],
   "source": [
    "items"
   ]
  },
  {
   "cell_type": "code",
   "execution_count": null,
   "metadata": {},
   "outputs": [],
   "source": [
    "items.pop()"
   ]
  },
  {
   "cell_type": "code",
   "execution_count": null,
   "metadata": {},
   "outputs": [],
   "source": [
    "items"
   ]
  },
  {
   "cell_type": "code",
   "execution_count": null,
   "metadata": {},
   "outputs": [],
   "source": [
    "items.pop(0)"
   ]
  },
  {
   "cell_type": "code",
   "execution_count": null,
   "metadata": {},
   "outputs": [],
   "source": [
    "items"
   ]
  },
  {
   "cell_type": "markdown",
   "metadata": {
    "slideshow": {
     "slide_type": "slide"
    }
   },
   "source": [
    "```python\n",
    "help(items.append)\n",
    "\n",
    "L.append(object) -> None -- append object to end\n",
    "```\n",
    "\n",
    "Helpful hints...\n",
    "\n",
    "```\n",
    "* 'L' stands for your variable name\n",
    "* '->' shows what this function returns as a return value\n",
    "* everything after the '--' is the help documentation\n",
    "```"
   ]
  },
  {
   "cell_type": "code",
   "execution_count": null,
   "metadata": {
    "collapsed": true
   },
   "outputs": [],
   "source": [
    "# In the help documentation above, \n",
    "#     what does it mean that the append method returns None?\n",
    "\n",
    "# It results in two things:\n",
    "#     * the list gets changed in place \n",
    "#     * you don't get a copy back of the new, improved list\n",
    "\n",
    "# This leads to confusion regularly... we will talk about that later..."
   ]
  },
  {
   "cell_type": "code",
   "execution_count": null,
   "metadata": {
    "collapsed": true
   },
   "outputs": [],
   "source": [
    "items = ['sword', 'shield', 'health potion', 'armor', 'boots']\n"
   ]
  },
  {
   "cell_type": "code",
   "execution_count": null,
   "metadata": {
    "slideshow": {
     "slide_type": "slide"
    }
   },
   "outputs": [],
   "source": [
    "# Append places an object at the end of the list.\n",
    "\n",
    "items.append('armor')\n",
    "print(items)"
   ]
  },
  {
   "cell_type": "code",
   "execution_count": null,
   "metadata": {
    "slideshow": {
     "slide_type": "slide"
    }
   },
   "outputs": [],
   "source": [
    "# .append() is atomic: any object is appended as is, versus as individual \n",
    "#     elements.\n",
    "\n",
    "items.append(['food', 'map'])\n",
    "print(items)"
   ]
  },
  {
   "cell_type": "code",
   "execution_count": null,
   "metadata": {
    "slideshow": {
     "slide_type": "fragment"
    }
   },
   "outputs": [],
   "source": [
    "# Let's delete that nested list.\n",
    "\n",
    "del items[6]\n",
    "print(items)"
   ]
  },
  {
   "cell_type": "code",
   "execution_count": null,
   "metadata": {
    "scrolled": true,
    "slideshow": {
     "slide_type": "fragment"
    }
   },
   "outputs": [],
   "source": [
    "# .extend(), on the other hand, essentially appends the elements \n",
    "#     of the object, one by one to the end of the list\n",
    "\n",
    "items.extend(['food', 'map'])\n",
    "print(items)"
   ]
  },
  {
   "cell_type": "code",
   "execution_count": null,
   "metadata": {
    "collapsed": true
   },
   "outputs": [],
   "source": [
    "items.extend?"
   ]
  },
  {
   "cell_type": "code",
   "execution_count": null,
   "metadata": {
    "collapsed": true,
    "slideshow": {
     "slide_type": "slide"
    }
   },
   "outputs": [],
   "source": [
    "# let's look at the sort() method:\n",
    "\n",
    "items.sort?"
   ]
  },
  {
   "cell_type": "code",
   "execution_count": null,
   "metadata": {},
   "outputs": [],
   "source": [
    "items.sort()\n",
    "items"
   ]
  },
  {
   "cell_type": "code",
   "execution_count": null,
   "metadata": {},
   "outputs": [],
   "source": [
    "# A sorting KEY allows us to sort by something besides straight\n",
    "#     alphabetical/lexigraphical order.\n",
    "#     i.e. sort by length\n",
    "# NOTE: all the elements are sorted by the number \n",
    "#     of characters\n",
    "\n",
    "myl = ['axx', 'emmm','fmmm', 'gmmm', 'bxx', 'hzzzzzzz']\n",
    "myl.sort(key=len)\n",
    "print(myl)"
   ]
  },
  {
   "cell_type": "code",
   "execution_count": null,
   "metadata": {
    "collapsed": true
   },
   "outputs": [],
   "source": []
  },
  {
   "cell_type": "code",
   "execution_count": null,
   "metadata": {},
   "outputs": [],
   "source": [
    "# If we call the .sort() method, the item gets changed in memory\n",
    "#     ie. it gets changed **in place**.\n",
    "\n",
    "items.sort(key=len, reverse=True)\n",
    "print(items)"
   ]
  },
  {
   "cell_type": "markdown",
   "metadata": {},
   "source": [
    "# What could go wrong?\n",
    "---"
   ]
  },
  {
   "cell_type": "code",
   "execution_count": null,
   "metadata": {},
   "outputs": [],
   "source": [
    "# It is a very common error for students AND pros\n",
    "#     to do this:"
   ]
  },
  {
   "cell_type": "code",
   "execution_count": null,
   "metadata": {},
   "outputs": [],
   "source": [
    "name = 'dark lord'\n",
    "name = name.upper()\n",
    "name\n",
    "\n",
    "# Which seems to be somewhat intuitive and delivers what they want..."
   ]
  },
  {
   "cell_type": "code",
   "execution_count": null,
   "metadata": {},
   "outputs": [],
   "source": [
    "# But using a very similar syntax with lists fails them...\n",
    "\n",
    "# make a copy of items for this example...\n",
    "\n",
    "items2 = items[:]\n",
    "items2 = items2.sort()\n",
    "\n",
    "# The sort() method sorts in place AND does not return a new list...\n",
    "#     instead, it returns a default value of None to basically\n",
    "#     say that its job is complete.\n",
    "\n",
    "print(items2)\n"
   ]
  },
  {
   "cell_type": "code",
   "execution_count": null,
   "metadata": {
    "collapsed": true
   },
   "outputs": [],
   "source": [
    "# Append does not return a copy of the list...\n",
    "#     it changes the list in places and\n",
    "#     also returns the value None.\n",
    "\n",
    "# make a copy of items for this example...\n",
    "\n",
    "items3 = items[:]\n",
    "items3 = items3.append(object)\n",
    "print(items3)"
   ]
  },
  {
   "cell_type": "code",
   "execution_count": null,
   "metadata": {
    "scrolled": true
   },
   "outputs": [],
   "source": [
    "# Which then leads to pain... If you don't know what happened\n",
    "#    behind the scenes... A moment ago, we overwrote \n",
    "#    items3 and set the value to None, so when we \n",
    "#    try to then call a list function on the object...\n",
    "#    like .extend()... you get a the following.\n",
    "\n",
    "\n",
    "\n",
    "items3 = items3.extend(['a', 'b'])\n",
    "\n",
    "# In each case above, you end up converting items\n",
    "#     to point to the value None \n",
    "#     AND when you want to refer to your list again\n",
    "#     you will find it is gone.\n",
    "\n",
    "# You get an Error that looks similar to this:\n",
    "\n",
    "#     AttributeError: 'NoneType' object has no attribute 'extend'"
   ]
  },
  {
   "cell_type": "code",
   "execution_count": null,
   "metadata": {
    "collapsed": true,
    "slideshow": {
     "slide_type": "fragment"
    }
   },
   "outputs": [],
   "source": [
    "# NOTE: remember... .sort() does its work in\n",
    "#     ascii-betical (or lexigraphical) order"
   ]
  },
  {
   "cell_type": "markdown",
   "metadata": {
    "slideshow": {
     "slide_type": "subslide"
    }
   },
   "source": [
    "ID:|Char:|ID:|Char:|ID:|Char:|ID:|Char\n",
    "---|-----|---|-----|---|-----|---|-----\n",
    "033| !   |048| 0   |065| A   |097| a\n",
    "034| \"   |049| 1   |066| B   |098| b\n",
    "036| $   |050| 2   |067| C   |099| c\n",
    "039| '   |051| 3   |068| D   |100| d\n",
    "040| (   |052| 4   |069| E   |101| e\n",
    "041| )   |053| 5   |---| ... |---| ...\n",
    "043| +   |054| 6   |087| W   |119| w\n",
    "044| ,   |055| 7   |088| X   |120| x\n",
    "045| -   |056| 8   |089| Y   |121| y\n",
    "046| .   |057| 9   |090| Z   |122| z"
   ]
  },
  {
   "cell_type": "code",
   "execution_count": null,
   "metadata": {
    "slideshow": {
     "slide_type": "subslide"
    }
   },
   "outputs": [],
   "source": [
    "# We often have upper and lower case values and we might\n",
    "#     want them alphabetized regardless of case...\n",
    "#     A classic way to do this, is to normalize them to \n",
    "#     uppercase solely for the purpose of sorting\n",
    "# The actual values do not get modified.\n",
    "\n",
    "junk = ['a', 'b', 'C', 'd', 'E', '1', '2']\n",
    "junk.sort(key=str.upper)\n",
    "print(junk)\n",
    "\n",
    "print('-' * 60)\n",
    "\n",
    "junk.sort()\n",
    "print(junk)"
   ]
  },
  {
   "cell_type": "markdown",
   "metadata": {},
   "source": [
    "# Experience Points!\n",
    "---"
   ]
  },
  {
   "cell_type": "markdown",
   "metadata": {},
   "source": [
    "In your **text editor** create a simple script called:\n",
    "\n",
    "```bash\n",
    "my_lists_03.py```\n",
    "\n",
    "Execute your script in **Jupyter** using the command:\n",
    "\n",
    "```bash\n",
    "run my_lists_03.py```\n",
    "\n",
    "Task | Sample Object(s)\n",
    ":---|:---\n",
    "Assign a label `alphalist` to the concatenation of two smaller lists| ['a', 'b', 'c']\n",
    ".|['x', 'y', 'z']\n",
    "`.append()` a nested list to `alphalist`| ['o', 'p', 'q']\n",
    "`del` the sublist you just nested|\n",
    "`.extend()` `alphalist` with this list| ['G', 'g', 'G']\n",
    "`.sort()` `alphalist` using this key: | `str.upper`\n",
    "|\n"
   ]
  },
  {
   "cell_type": "code",
   "execution_count": null,
   "metadata": {},
   "outputs": [],
   "source": [
    "alphalist = ['a', 'b', 'c'] + ['x', 'y', 'z']\n",
    "alphalist.append(['o', 'p', 'q'])\n",
    "print(alphalist)\n",
    "\n",
    "del alphalist[6]\n",
    "alphalist.extend(['G', 'g', 'G'])\n",
    "print(alphalist)\n",
    "\n",
    "alphalist.sort(key=str.lower)\n",
    "print(alphalist)"
   ]
  },
  {
   "cell_type": "markdown",
   "metadata": {},
   "source": [
    "When you complete this exercise, please put your green post-it on your monitor. \n",
    "\n",
    "If you want to continue on at your own-pace, please feel free to do so.\n",
    "\n",
    "<img src='../universal_images/green_sticky.300px.png' width='200' style='float:left'>"
   ]
  },
  {
   "cell_type": "markdown",
   "metadata": {},
   "source": [
    "# Creating lists from delimited strings\n",
    "---"
   ]
  },
  {
   "cell_type": "markdown",
   "metadata": {},
   "source": [
    "Here are a couple of tips and tricks that can help you out by combining what we have learned from strings to create lists quickly"
   ]
  },
  {
   "cell_type": "code",
   "execution_count": null,
   "metadata": {},
   "outputs": [],
   "source": [
    "# Many folks will come across strings delimited by commas and will\n",
    "#     get used to separating the items at the commas using the\n",
    "#     .split() method found on strings\n",
    "# This creates a list.\n",
    "\n",
    "del_string = 'bruce,selina,kara,clark,diana'\n",
    "heroes = del_string.split(',')\n",
    "print(heroes)"
   ]
  },
  {
   "cell_type": "code",
   "execution_count": null,
   "metadata": {},
   "outputs": [],
   "source": [
    "# IF you need to create a list of strings in a hurry, a common \n",
    "#     technique used by Pythonistas\n",
    "#     * that is easier to type than a list literal\n",
    "#     * is generally readable\n",
    "# For example, rather than typing: ['batman', 'superman', 'aquaman', 'robin', 'catwoman']\n",
    "#     with all the commas, all the quotes, etc\n",
    "\n",
    "aliases = 'batman superman aquaman robin catwoman'\n",
    "my_heroes = aliases.split(' ')\n",
    "print(my_heroes)"
   ]
  },
  {
   "cell_type": "code",
   "execution_count": null,
   "metadata": {},
   "outputs": [],
   "source": [
    "# If you only need to split off a subset of elements, you can use the\n",
    "#     maxsplit argument\n",
    "\n",
    "\n",
    "aliases2 = 'catwoman robin aquaman superman batman'\n",
    "my_heroes = aliases2.split(maxsplit=3)\n",
    "print(my_heroes)"
   ]
  },
  {
   "cell_type": "code",
   "execution_count": null,
   "metadata": {
    "collapsed": true
   },
   "outputs": [],
   "source": [
    "# Reminder: default is to split on any whitespace (\\n, \\t,  , \\r)\n",
    "\n",
    "aliases2 = 'catwoman\\nrobin     aquaman\\tsuperman batman'\n",
    "my_heroes = aliases2.split()      \n",
    "                           \n",
    "print(my_heroes)"
   ]
  },
  {
   "cell_type": "code",
   "execution_count": null,
   "metadata": {},
   "outputs": [],
   "source": []
  }
 ],
 "metadata": {
  "anaconda-cloud": {},
  "celltoolbar": "Slideshow",
  "kernelspec": {
   "display_name": "Python 3",
   "language": "python",
   "name": "python3"
  },
  "language_info": {
   "codemirror_mode": {
    "name": "ipython",
    "version": 3
   },
   "file_extension": ".py",
   "mimetype": "text/x-python",
   "name": "python",
   "nbconvert_exporter": "python",
   "pygments_lexer": "ipython3",
   "version": "3.6.8"
  }
 },
 "nbformat": 4,
 "nbformat_minor": 2
}
