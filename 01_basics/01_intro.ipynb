{
 "cells": [
  {
   "cell_type": "markdown",
   "metadata": {
    "slideshow": {
     "slide_type": "slide"
    }
   },
   "source": [
    "# WELCOME TO THE DARK ART OF CODING\n",
    "## Introduction to Python\n",
    "\n",
    "<img src='../universal_images/dark_art_logo.600px.png' width='300' style=\"float:right\">\n",
    "\n",
    "### Chalmer Lowe\n",
    "\n",
    "---"
   ]
  },
  {
   "cell_type": "markdown",
   "metadata": {
    "slideshow": {
     "slide_type": "slide"
    }
   },
   "source": [
    "# Agenda\n",
    "---"
   ]
  },
  {
   "cell_type": "markdown",
   "metadata": {
    "slideshow": {
     "slide_type": "slide"
    }
   },
   "source": [
    "* Administrivia: restrooms, food, wifi\n",
    "* Class structure\n",
    "* Why Python?\n",
    "* How to learn programming\n",
    "* Details on MY favorite book for beginners\n",
    "* Today's learning objectives"
   ]
  },
  {
   "cell_type": "markdown",
   "metadata": {
    "slideshow": {
     "slide_type": "subslide"
    }
   },
   "source": [
    "# Class Structure\n",
    "---"
   ]
  },
  {
   "cell_type": "markdown",
   "metadata": {
    "slideshow": {
     "slide_type": "subslide"
    }
   },
   "source": [
    "* Partner up\n",
    "* Lectures, demos and hands-on\n",
    "* In-class coding/mentoring\n",
    "* **\"Help me\"** post-its and **\"I'm Done\"** post-its\n",
    "\n",
    "<br>\n",
    "<br>\n",
    "\n",
    "<img src='../universal_images/red_sticky.600px.png' width='200'><img src='../universal_images/green_sticky.300px.png' width='225' >\n"
   ]
  },
  {
   "cell_type": "markdown",
   "metadata": {
    "slideshow": {
     "slide_type": "subslide"
    }
   },
   "source": [
    "# Why Python?\n",
    "---\n",
    "\n",
    "A brief history...\n"
   ]
  },
  {
   "cell_type": "markdown",
   "metadata": {
    "slideshow": {
     "slide_type": "subslide"
    }
   },
   "source": [
    "<img src='01_images/python_users.png'>"
   ]
  },
  {
   "cell_type": "markdown",
   "metadata": {
    "slideshow": {
     "slide_type": "subslide"
    }
   },
   "source": [
    "<h1>What is it used for?</h1>\n",
    "<ul>\n",
    "<li>System administration</li>\n",
    "<li>Web development</li>\n",
    "<li>App development</li>\n",
    "<li>Computer-generated graphics</li>\n",
    "<li>Data science</li>\n",
    "<li>Data visualization</li>\n",
    "<li>and more</li>\n",
    "</ul>"
   ]
  },
  {
   "cell_type": "markdown",
   "metadata": {
    "slideshow": {
     "slide_type": "subslide"
    }
   },
   "source": [
    "<h1>Pros and Cons</h1> \n",
    "<ul>\n",
    "<li>Benefits</li>\n",
    "<li>Disadvantages</li>\n",
    "</ul>"
   ]
  },
  {
   "cell_type": "markdown",
   "metadata": {
    "slideshow": {
     "slide_type": "slide"
    }
   },
   "source": [
    "# How to learn\n",
    "<img src='01_images/changing_stuff.jpg' width='350'>\n"
   ]
  },
  {
   "cell_type": "markdown",
   "metadata": {
    "slideshow": {
     "slide_type": "subslide"
    }
   },
   "source": [
    "# How to learn, part 2\n",
    "\n",
    "### Projects\n",
    "  * Find something that you are **so passionate about**, that you can't wait to get back to writing code!\n",
    "  * Examples: website, app, script, DIY project, etc\n",
    "  * Hackathons\n",
    "\n",
    "### Puzzles\n",
    "  * See the Sample Puzzles folder\n",
    "  * [Dark Art of Coding puzzle ideas...](https://darkartofcoding.com/learning-resources/learning-resources-puzzles/)\n",
    "\n",
    "### A learning resource (book, classes, videos, etc)\n",
    "  * www.pyvideo.org  >>> years of videos from every major Python conference\n",
    "  * [Dark Art of Coding book ideas...](https://darkartofcoding.com/learning-resources/learning-resources-books/)\n",
    "\n",
    "### Games, competitions, etc\n",
    "  * Local hackathons\n",
    "  * Local programming competitions\n",
    "  * Meetups\n",
    "\n",
    "### Documentation/help files\n",
    "  * The Python Documentation is a great place to learn more\n",
    "  * We will help you get past some of the hurdles!\n",
    "\n",
    "### Most important! \n",
    "  * Write code!\n"
   ]
  },
  {
   "cell_type": "markdown",
   "metadata": {
    "slideshow": {
     "slide_type": "subslide"
    }
   },
   "source": [
    "# Watch out for this!\n",
    "<img src='01_images/anxiety-boredom-3.png' width='600'>"
   ]
  },
  {
   "cell_type": "markdown",
   "metadata": {
    "slideshow": {
     "slide_type": "subslide"
    }
   },
   "source": [
    "# And this!\n",
    "\n",
    "Do not give up."
   ]
  },
  {
   "cell_type": "markdown",
   "metadata": {
    "slideshow": {
     "slide_type": "slide"
    }
   },
   "source": [
    "<h1>My favorite book!</h1>\n",
    "\n",
    "<ul>\n",
    "    <li><a href='http://www.amazon.com/Automate-Boring-Stuff-Python-Programming-ebook/dp/B00WJ049VU/ref=dp_kinw_strp_1'>Automate the Boring Stuff with Python</a></li>\n",
    "    <li>You can learn more about many of the topics in this class from the book</li>\n",
    "        <ul>\n",
    "            <li>Chaps. 1-6 >>> the basics</li>\n",
    "            <li>Select Topics from Chaps. 7-18 >>> automating things</li>\n",
    "        </ul>\n",
    "</ul>"
   ]
  },
  {
   "cell_type": "markdown",
   "metadata": {
    "slideshow": {
     "slide_type": "slide"
    }
   },
   "source": [
    "# Today's main objectives\n",
    "---\n",
    "\n",
    "You will be able to:\n",
    "<ul>\n",
    "    <li>Explain the benefits of using Jupyter as your Python environment</li>\n",
    "    <li>Use Jupyter Lab and Jupyter Notebooks to execute code</li>\n",
    "    <li>Use a text editor to create scripts and Jupyter to execute the script</li>\n",
    "    <li>List several main operators and their order of precedence</li>\n",
    "    <li>List several key data types</li>\n",
    "    <li>List several builtin functions</li>\n",
    "    <li>Find help for yourself on how to use those functions</li>\n",
    "</ul>"
   ]
  },
  {
   "cell_type": "code",
   "execution_count": null,
   "metadata": {},
   "outputs": [],
   "source": []
  }
 ],
 "metadata": {
  "anaconda-cloud": {},
  "celltoolbar": "Slideshow",
  "kernelspec": {
   "display_name": "Python 3",
   "language": "python",
   "name": "python3"
  },
  "language_info": {
   "codemirror_mode": {
    "name": "ipython",
    "version": 3
   },
   "file_extension": ".py",
   "mimetype": "text/x-python",
   "name": "python",
   "nbconvert_exporter": "python",
   "pygments_lexer": "ipython3",
   "version": "3.6.8"
  }
 },
 "nbformat": 4,
 "nbformat_minor": 2
}
