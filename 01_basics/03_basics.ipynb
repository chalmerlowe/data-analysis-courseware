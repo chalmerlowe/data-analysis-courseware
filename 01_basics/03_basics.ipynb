{
 "cells": [
  {
   "cell_type": "markdown",
   "metadata": {
    "slideshow": {
     "slide_type": "slide"
    }
   },
   "source": [
    "# Welcome to the Dark Art of Coding:\n",
    "## Introduction to Python\n",
    "Basics\n",
    "\n",
    "Operators, `str`, `int`, `float`, basic builtins, comments\n",
    "\n",
    "<img src='../universal_images/logos.3.600.wide.png' height='250' width='300' style=\"float:right\">"
   ]
  },
  {
   "cell_type": "markdown",
   "metadata": {
    "slideshow": {
     "slide_type": "slide"
    }
   },
   "source": [
    "# Today's main objectives\n",
    "\n",
    "You will be able to:\n",
    "\n",
    "* List several main operators and their order of precedence\n",
    "* List several key data types\n",
    "* List several builtin functions\n",
    "* Find help for yourself on how to use those functions"
   ]
  },
  {
   "cell_type": "markdown",
   "metadata": {},
   "source": [
    "# Entering Python code in Jupyter cells\n",
    "---"
   ]
  },
  {
   "cell_type": "markdown",
   "metadata": {},
   "source": [
    "If you enter a line of code into a Jupyter cell and press:\n",
    "**Shift + Enter**\n",
    "\n",
    "* the cell will execute the code\n",
    "* the cell will display the representation of that execution/evaluation **for the last line in the cell**\n",
    "* the notebook focus will shift to the following cell"
   ]
  },
  {
   "cell_type": "markdown",
   "metadata": {},
   "source": [
    "In this case, the 4 will be evaluated and the representation of that evaluation will be displayed, i.e. Jupyter will show you a 4."
   ]
  },
  {
   "cell_type": "code",
   "execution_count": null,
   "metadata": {
    "collapsed": true,
    "slideshow": {
     "slide_type": "slide"
    }
   },
   "outputs": [],
   "source": [
    "4"
   ]
  },
  {
   "cell_type": "markdown",
   "metadata": {},
   "source": [
    "If you enter a line of code into a Jupyter cell and press: **Ctrl + Enter**\n",
    "\n",
    "* the cell will execute the code\n",
    "* the cell will display the representation of that execution/evaluation **for the last line in the cell**\n",
    "* the notebook focus will stay in the same cell\n",
    "\n",
    "Similarly, this simple addition will also be evaluated:"
   ]
  },
  {
   "cell_type": "code",
   "execution_count": null,
   "metadata": {
    "collapsed": true,
    "slideshow": {
     "slide_type": "slide"
    }
   },
   "outputs": [],
   "source": [
    "5 + 6"
   ]
  },
  {
   "cell_type": "markdown",
   "metadata": {},
   "source": [
    "# Operators\n",
    "---"
   ]
  },
  {
   "cell_type": "markdown",
   "metadata": {
    "slideshow": {
     "slide_type": "slide"
    }
   },
   "source": [
    "Python operators allow for calculations between one or more operands. At face value, Python operators mirror exactly what you would expect from a mathematical operator (i.e. 2 + 2 equals 4). As we will soon see, Python provides additional capablities when using operators (via a principal called *overloading*) to enable some powerful data processing capabilities above and beyond just numerical calculations.\n",
    "\n",
    "A sample of operators is below.\n",
    "\n",
    "| Operator   | Operation     | Example   | Result   |\n",
    "|:----------:|:--------------|----------:|---------:|\n",
    "|**          |Exponent       | 2 ** 4    | 16       |\n",
    "|*           |Multiplication | 3 * 4     | 12       |\n",
    "|/           |Division       | 12 / 4    | 3        |\n",
    "|+           |Addition       | 3 + 3     | 6        |\n",
    "|-           |Subtraction    | 8 - 4     | 4        |\n"
   ]
  },
  {
   "cell_type": "markdown",
   "metadata": {
    "slideshow": {
     "slide_type": "fragment"
    }
   },
   "source": [
    "The order of operations matches the order used in mathematics.\n",
    "Parentheticals can be used to override precedence.\n",
    "\n",
    "You might remember from math class:\n",
    "\n",
    "parentheticals -> exponents -> multiplication | division -> addition | subtraction \n",
    "\n",
    "Which is often taught using the mnemonic: **PEMDAS**\n"
   ]
  },
  {
   "cell_type": "markdown",
   "metadata": {
    "slideshow": {
     "slide_type": "fragment"
    }
   },
   "source": [
    "## Order of operations\n",
    "\n",
    "The order of these operations matter:\n",
    "\n",
    "Because of the order of operations, division occurs prior to the addition\n",
    "\n",
    "This is the same as `1 + (2 / 3) => 1.66666...`"
   ]
  },
  {
   "cell_type": "code",
   "execution_count": null,
   "metadata": {
    "collapsed": true,
    "slideshow": {
     "slide_type": "fragment"
    }
   },
   "outputs": [],
   "source": [
    "1 + 2 / 3"
   ]
  },
  {
   "cell_type": "markdown",
   "metadata": {
    "slideshow": {
     "slide_type": "fragment"
    }
   },
   "source": [
    "To force the addition to occur first, you can wrap it in parenthesis\n",
    "\n",
    "`(1 + 2) / 3 => 1.0`"
   ]
  },
  {
   "cell_type": "code",
   "execution_count": null,
   "metadata": {
    "collapsed": true,
    "slideshow": {
     "slide_type": "fragment"
    }
   },
   "outputs": [],
   "source": [
    "(1 + 2) / 3"
   ]
  },
  {
   "cell_type": "markdown",
   "metadata": {
    "slideshow": {
     "slide_type": "slide"
    }
   },
   "source": [
    "Below is a more sophisticated example of order of precedence:"
   ]
  },
  {
   "cell_type": "code",
   "execution_count": null,
   "metadata": {
    "collapsed": true,
    "slideshow": {
     "slide_type": "slide"
    }
   },
   "outputs": [],
   "source": [
    "((4 - 1) * (4 + 1)) / (7 - 2)  "
   ]
  },
  {
   "cell_type": "markdown",
   "metadata": {
    "slideshow": {
     "slide_type": "fragment"
    }
   },
   "source": [
    "To help clarify, see this step-by-step walk-through of order of precedence\n",
    "\n",
    "```\n",
    "((4 - 1) * (4 + 1)) / (7 - 2)\n",
    "((4 - 1) * (4 + 1)) / 5\n",
    "(3 * (4 + 1)) / 5\n",
    "(3 * 5) / 5\n",
    "15 / 5\n",
    "3\n",
    "```"
   ]
  },
  {
   "cell_type": "markdown",
   "metadata": {
    "slideshow": {
     "slide_type": "slide"
    }
   },
   "source": [
    "NOTE: Failure to have two operands will result in an error."
   ]
  },
  {
   "cell_type": "code",
   "execution_count": null,
   "metadata": {
    "collapsed": true,
    "slideshow": {
     "slide_type": "slide"
    }
   },
   "outputs": [],
   "source": [
    "42 -"
   ]
  },
  {
   "cell_type": "markdown",
   "metadata": {},
   "source": [
    "# Experience Points\n",
    "---"
   ]
  },
  {
   "cell_type": "markdown",
   "metadata": {},
   "source": [
    "## Complete the following exercises:\n",
    "\n",
    "In **Jupyter** use each of the operators below to create calculations using the numbers provided. \n",
    "\n",
    "\n",
    "|Task|Operator| Operands |\n",
    "|---|---|---|\n",
    "|1.| \\** | 3 and 5 |\n",
    "|2.|\\* | 2 and 3  | \n",
    "|3.| / |  6 and 3 |\n",
    "|4.| \\+ | 8 and 2 | \n",
    "|5.| \\- | 9 and 4 |\n",
    "\n",
    "\n",
    "**BONUS**: Try to combine operators and operands to create more complicated calculations, using parenthesis "
   ]
  },
  {
   "cell_type": "markdown",
   "metadata": {},
   "source": [
    "When you complete this exercise, please put your green post-it on your monitor. \n",
    "\n",
    "If you want to continue on at your own-pace, please feel free to do so.\n",
    "\n",
    "<img src='../universal_images/green_sticky.300px.png' width='200' style='float:left'>"
   ]
  },
  {
   "cell_type": "markdown",
   "metadata": {
    "slideshow": {
     "slide_type": "slide"
    }
   },
   "source": [
    "# Basic Data Types\n",
    "\n",
    "Data Type | Examples | Name\n",
    "----------|----------|-------\n",
    "Integers  |  -10, 0, 1, 2, 3 | int\n",
    "Floating point numbers | -10.0, 0.0, 1.1, 2.1, 3.7 | float\n",
    "Strings   | 'x', 'aloha', 'world', 'PyHawaii', '42', '5.55' | str"
   ]
  },
  {
   "cell_type": "markdown",
   "metadata": {
    "slideshow": {
     "slide_type": "slide"
    }
   },
   "source": [
    "It is possible to concatenate two strings (`str`) using the plus (`+`) operator\n",
    "\n",
    "This use of the plus operator to \"add\" text strings together is an example of operator overloading (using an operator for multiple purposes).\n"
   ]
  },
  {
   "cell_type": "code",
   "execution_count": null,
   "metadata": {
    "collapsed": true,
    "slideshow": {
     "slide_type": "slide"
    }
   },
   "outputs": [],
   "source": [
    "'Aloha' + 'World'"
   ]
  },
  {
   "cell_type": "markdown",
   "metadata": {
    "slideshow": {
     "slide_type": "slide"
    }
   },
   "source": [
    "Attempting to concatenate a `str` and an `int` will result in an error.\n",
    "\n",
    "Overloading only goes so far."
   ]
  },
  {
   "cell_type": "code",
   "execution_count": null,
   "metadata": {
    "collapsed": true,
    "slideshow": {
     "slide_type": "slide"
    }
   },
   "outputs": [],
   "source": [
    "'Py' + 7"
   ]
  },
  {
   "cell_type": "markdown",
   "metadata": {
    "slideshow": {
     "slide_type": "slide"
    }
   },
   "source": [
    "The multiplication operator (\\*) is overloaded, similarly:\n",
    "    \n",
    "It is possible to 'multiply' OR repeat a `str` using the '*' operator"
   ]
  },
  {
   "cell_type": "code",
   "execution_count": null,
   "metadata": {
    "collapsed": true,
    "slideshow": {
     "slide_type": "slide"
    }
   },
   "outputs": [],
   "source": [
    "'-' * 60"
   ]
  },
  {
   "cell_type": "markdown",
   "metadata": {
    "slideshow": {
     "slide_type": "fragment"
    }
   },
   "source": [
    "Attempting to multiply two strings (str) will result in an error"
   ]
  },
  {
   "cell_type": "code",
   "execution_count": null,
   "metadata": {
    "collapsed": true,
    "slideshow": {
     "slide_type": "fragment"
    }
   },
   "outputs": [],
   "source": [
    "'Py' * 'Hawaii'"
   ]
  },
  {
   "cell_type": "markdown",
   "metadata": {},
   "source": [
    "# Experience Points\n",
    "---"
   ]
  },
  {
   "cell_type": "markdown",
   "metadata": {},
   "source": [
    "## Complete the following exercises:\n",
    "\n",
    "In **Jupyter** create the following data types (for the numbers, use various operators to do **math**).\n",
    "\n",
    "Data type | Values\n",
    "----|----\n",
    "integers | `-10, 0, and 42`\n",
    "floating point numbers | `-10.0, 0.1, 42.0, and 3.7`\n",
    "strings | `'x', 'aloha', and 'Dark art of coding'`\n",
    "\n",
    "\n",
    "## Complete the following exercises:\n",
    "\n",
    "In **Jupyter** complete the following exercises to explore operator overloading (feel free to swap out alternate values as you desire):\n",
    "\n",
    "Task | Operator | Operands \n",
    "----------|:----------:|-----\n",
    "concatenate  | + | 'diana' and 'prince'\n",
    "multiply | * | 'kara' and 10"
   ]
  },
  {
   "cell_type": "markdown",
   "metadata": {},
   "source": [
    "<img src='../universal_images/green_sticky.300px.png' width='200' style='float:left'>"
   ]
  },
  {
   "cell_type": "markdown",
   "metadata": {},
   "source": [
    "# Variables\n",
    "---"
   ]
  },
  {
   "cell_type": "code",
   "execution_count": null,
   "metadata": {
    "collapsed": true,
    "slideshow": {
     "slide_type": "slide"
    }
   },
   "outputs": [],
   "source": [
    "ip_addresses = 101\n",
    "ip_addresses"
   ]
  },
  {
   "cell_type": "code",
   "execution_count": null,
   "metadata": {
    "collapsed": true,
    "slideshow": {
     "slide_type": "fragment"
    }
   },
   "outputs": [],
   "source": [
    "ip_addresses + 10"
   ]
  },
  {
   "cell_type": "code",
   "execution_count": null,
   "metadata": {
    "collapsed": true,
    "slideshow": {
     "slide_type": "fragment"
    }
   },
   "outputs": [],
   "source": [
    "hosts = 5\n",
    "ip_addresses + hosts"
   ]
  },
  {
   "cell_type": "code",
   "execution_count": null,
   "metadata": {
    "collapsed": true,
    "slideshow": {
     "slide_type": "slide"
    }
   },
   "outputs": [],
   "source": [
    "hostname = 'bruces_laptop'\n",
    "vehicle = 'batmobile'"
   ]
  },
  {
   "cell_type": "markdown",
   "metadata": {
    "slideshow": {
     "slide_type": "fragment"
    }
   },
   "source": [
    "## Valid variable names\n",
    "\n",
    "There are several options available in terms of how you craft Python variable names... any of the following are allowed.\n",
    "\n",
    "```\n",
    "name              # lower case\n",
    "className         # camelCase\n",
    "class_name        # snake_case\n",
    "_name             # leading underscore\n",
    "NAME              # ALL CAPS\n",
    "nam3              # letters and numbers (NOTE: can't start with a number)\n",
    "```\n",
    "\n",
    "The following is NOT allowed:\n",
    "```\n",
    "3kans             # No leading numbers\n",
    "```\n"
   ]
  },
  {
   "cell_type": "markdown",
   "metadata": {},
   "source": [
    "# Experience Points\n",
    "---"
   ]
  },
  {
   "cell_type": "markdown",
   "metadata": {},
   "source": [
    "## Complete the following exercises:\n",
    "\n",
    "In **Jupyter** create a series of variables as listed below (feel free to swap out alternate values as you desire):\n",
    "\n",
    "\n",
    "Variable label | Variable value\n",
    "----------|----------\n",
    "age  | 42 \n",
    "tool | 'nikto' \n",
    "name | 'bruce wayne'\n",
    "alias | 'batman'\n",
    "os | 'OS X'\n",
    "pi | 3.14"
   ]
  },
  {
   "cell_type": "markdown",
   "metadata": {},
   "source": [
    "<img src='../universal_images/green_sticky.300px.png' width='200' style='float:left'>"
   ]
  },
  {
   "cell_type": "markdown",
   "metadata": {
    "slideshow": {
     "slide_type": "slide"
    }
   },
   "source": [
    "# Builtin Functions\n",
    "---"
   ]
  },
  {
   "cell_type": "markdown",
   "metadata": {
    "slideshow": {
     "slide_type": "slide"
    }
   },
   "source": [
    "## Python comes with a collection of functions to help you handle common tasks\n",
    "\n",
    "### So, what are functions?\n",
    "\n",
    "Functions are common in Python, as we will learn. This introduction is gonna be very limited, as we will dive much more deeply into functions at a later time.\n",
    "\n",
    "For now, functions are:\n",
    "\n",
    "* short self-contained snippets of code\n",
    "* typically designed to solve a single problem or related set of problems\n",
    "* often accept inputs and produce outputs (but aren't required to do so)\n",
    "* referred to by name"
   ]
  },
  {
   "cell_type": "code",
   "execution_count": null,
   "metadata": {
    "collapsed": true,
    "slideshow": {
     "slide_type": "slide"
    }
   },
   "outputs": [],
   "source": [
    "print('Aloha Hawaii')\n",
    "print()\n",
    "print('How old are you?')                        "
   ]
  },
  {
   "cell_type": "code",
   "execution_count": null,
   "metadata": {
    "collapsed": true,
    "slideshow": {
     "slide_type": "slide"
    }
   },
   "outputs": [],
   "source": [
    "help(print)"
   ]
  },
  {
   "cell_type": "markdown",
   "metadata": {
    "slideshow": {
     "slide_type": "slide"
    }
   },
   "source": [
    "Based on the help documentation, let's make note of some **semi-standard conventions**. You will find:\n",
    "\n",
    "1. **Basic usage** is outlined near the top\n",
    "1. All the **possible arguments** are listed with any **default values**\n",
    "1. Ellipsis, in this case means you can have as many values as you like\n",
    "1. Items with default values are **essentially optional**\n",
    "\n",
    "\n",
    "    Help on built-in function print in module builtins:\n",
    "\n",
    "    print(...)\n",
    "        print(value, ..., sep=' ', end='\\n', file=sys.stdout, flush=False)\n",
    "\n",
    "        Prints the values to a stream, or to sys.stdout by default.\n",
    "        Optional keyword arguments:\n",
    "        file:  a file-like object (stream); defaults to the current sys.stdout.\n",
    "        sep:   string inserted between values, default a space.\n",
    "        end:   string appended after the last value, default a newline.\n",
    "        flush: whether to forcibly flush the stream.\n"
   ]
  },
  {
   "cell_type": "markdown",
   "metadata": {},
   "source": [
    "NOTE: When using Jupyter (or IPython), there is an easier syntax to get help: \n",
    "\n",
    "You can type the name of a function, followed by a question mark and execute the cell. This will show an augmented help display similar to the one produced by the `dir()` function.\n",
    "\n",
    "`print?`"
   ]
  },
  {
   "cell_type": "code",
   "execution_count": null,
   "metadata": {},
   "outputs": [],
   "source": [
    "print?"
   ]
  },
  {
   "cell_type": "markdown",
   "metadata": {
    "slideshow": {
     "slide_type": "slide"
    }
   },
   "source": [
    "## input()\n",
    "\n",
    "The `input()` function allows you to accept inputs from your user.\n",
    "\n",
    "If can be used with OR without a string argument as a prompt, as shown below:\n"
   ]
  },
  {
   "cell_type": "code",
   "execution_count": null,
   "metadata": {
    "collapsed": true,
    "slideshow": {
     "slide_type": "slide"
    }
   },
   "outputs": [],
   "source": [
    "food = input()"
   ]
  },
  {
   "cell_type": "code",
   "execution_count": null,
   "metadata": {
    "collapsed": true,
    "slideshow": {
     "slide_type": "slide"
    }
   },
   "outputs": [],
   "source": [
    "my_favorite_food = input('What is your favorite food? ')"
   ]
  },
  {
   "cell_type": "markdown",
   "metadata": {
    "slideshow": {
     "slide_type": "slide"
    }
   },
   "source": [
    "## print()"
   ]
  },
  {
   "cell_type": "markdown",
   "metadata": {
    "slideshow": {
     "slide_type": "slide"
    }
   },
   "source": [
    "The `print()` function, as we have seen, can display a string representation of an object or the value of a variable.\n",
    "\n",
    "The `print()` function can display the results of operations, as well as simple strings or string representations of variables OR objects.\n",
    "\n",
    "Here, the string within the `print()` function is a concatenation of the literal string and the variable output by the `input()` function we used above."
   ]
  },
  {
   "cell_type": "code",
   "execution_count": null,
   "metadata": {
    "collapsed": true,
    "slideshow": {
     "slide_type": "slide"
    }
   },
   "outputs": [],
   "source": [
    "print('I also love: ' + my_favorite_food)"
   ]
  },
  {
   "cell_type": "markdown",
   "metadata": {
    "slideshow": {
     "slide_type": "slide"
    }
   },
   "source": [
    "## len()\n",
    "\n",
    "The `len()` function displays the length of a Python object (if that object has a length characteristic OR if one can be calculated). Examples include:\n",
    "\n",
    "* the number of characters in a string\n",
    "* the number of items in a list\n",
    "* the number of key/value pairs in a dictionary\n",
    "* many, many more...\n",
    "\n",
    "(I know we haven't talked about lists OR dictionaries yet. We will! The principal here is that `len()` enables us to determine the length of many Python objects."
   ]
  },
  {
   "cell_type": "code",
   "execution_count": null,
   "metadata": {
    "collapsed": true,
    "slideshow": {
     "slide_type": "slide"
    }
   },
   "outputs": [],
   "source": [
    "len('PyHawaii')"
   ]
  },
  {
   "cell_type": "code",
   "execution_count": null,
   "metadata": {
    "collapsed": true,
    "slideshow": {
     "slide_type": "fragment"
    }
   },
   "outputs": [],
   "source": [
    "len(my_favorite_food)"
   ]
  },
  {
   "cell_type": "markdown",
   "metadata": {
    "slideshow": {
     "slide_type": "slide"
    }
   },
   "source": [
    "## str()\n",
    "\n",
    "Strings (often called `str` based on the factory function that can be used to create them) are sequences of characters. If you have an object that is not a `str` but you want to convert it OR cast it to become a `str`, you can do so with the `str()` function. A common example is to convert an integer into a `str`."
   ]
  },
  {
   "cell_type": "code",
   "execution_count": null,
   "metadata": {
    "collapsed": true,
    "slideshow": {
     "slide_type": "slide"
    }
   },
   "outputs": [],
   "source": [
    "str(5)"
   ]
  },
  {
   "cell_type": "code",
   "execution_count": null,
   "metadata": {
    "collapsed": true,
    "scrolled": true,
    "slideshow": {
     "slide_type": "fragment"
    }
   },
   "outputs": [],
   "source": [
    "str(-42)"
   ]
  },
  {
   "cell_type": "markdown",
   "metadata": {
    "slideshow": {
     "slide_type": "slide"
    }
   },
   "source": [
    "## int()\n",
    "\n",
    "Integers can be created using the `int()` function. If you have a value, such as a `str` that you want to convert OR cast to an integer, the `int()` function can do it."
   ]
  },
  {
   "cell_type": "code",
   "execution_count": null,
   "metadata": {
    "collapsed": true,
    "slideshow": {
     "slide_type": "slide"
    }
   },
   "outputs": [],
   "source": [
    "int('-42')"
   ]
  },
  {
   "cell_type": "markdown",
   "metadata": {
    "slideshow": {
     "slide_type": "slide"
    }
   },
   "source": [
    "Let's look at another help documentation:\n",
    "\n",
    "* **Basic usage** outlined near the top\n",
    "* Slightly different way to show usage and **optional elements**\n",
    "* x is **optional** in the first usage pattern\n",
    "* x is **required** in the second usage pattern\n",
    "* **'->'** indicates that the function returns a value, which can be saved for later\n",
    "\n",
    "\n",
    "    class int(object)\n",
    "     |  int(x=0) -> integer\n",
    "     |  int(x, base=10) -> integer\n",
    "     |\n",
    "     |  Convert a number or string to an integer, or return 0 if no arguments\n",
    "     |  are given.  If x is a number, return x.__int__().  For floating point\n",
    "     |  numbers, this truncates towards zero.\n",
    "     |\n",
    "     |  If x is not a number or if base is given, then x must be a string,\n",
    "     |  bytes, or bytearray instance representing an integer literal in the\n",
    "     |  given base.  The literal can be preceded by '+' or '-' and be surrounded\n",
    "     |  by whitespace.  The base defaults to 10.  Valid bases are 0 and 2-36.\n",
    "     |  Base 0 means to interpret the base from the string as an integer literal.\n",
    "     |  int('0b100', base=0)\n",
    "     |  4"
   ]
  },
  {
   "cell_type": "markdown",
   "metadata": {
    "slideshow": {
     "slide_type": "fragment"
    }
   },
   "source": [
    "The `int()` function will truncate decimal numbers down."
   ]
  },
  {
   "cell_type": "code",
   "execution_count": null,
   "metadata": {
    "collapsed": true,
    "slideshow": {
     "slide_type": "fragment"
    }
   },
   "outputs": [],
   "source": [
    "int(42.11)"
   ]
  },
  {
   "cell_type": "code",
   "execution_count": null,
   "metadata": {
    "collapsed": true,
    "slideshow": {
     "slide_type": "fragment"
    }
   },
   "outputs": [],
   "source": [
    "int(41.95)"
   ]
  },
  {
   "cell_type": "markdown",
   "metadata": {
    "slideshow": {
     "slide_type": "slide"
    }
   },
   "source": [
    "## float()\n",
    "\n",
    "The `float()` function will convert values into floats (i.e. decimal numbers)."
   ]
  },
  {
   "cell_type": "code",
   "execution_count": null,
   "metadata": {
    "collapsed": true,
    "slideshow": {
     "slide_type": "slide"
    }
   },
   "outputs": [],
   "source": [
    "float('42.11')"
   ]
  },
  {
   "cell_type": "code",
   "execution_count": null,
   "metadata": {
    "collapsed": true,
    "slideshow": {
     "slide_type": "fragment"
    }
   },
   "outputs": [],
   "source": [
    "float('41.0')"
   ]
  },
  {
   "cell_type": "markdown",
   "metadata": {},
   "source": [
    "## How do you get a list of all builtin functions:\n",
    "\n",
    "You can use the `dir(__builtins__)` function to lookup the following:\n",
    "\n",
    "* all the builtin functions\n",
    "* all the builtin errors (more on this later)\n",
    "* datatypes such as `False`, `True` and `None` (more on these later)\n",
    "* several other items that we won't cover here...\n",
    "\n",
    "The output of this function will show you all of these values in **lexigraphical order** ... meaning terms that start with an uppercase letter will be first and alphabetized and any terms that start with a lowercase letter will come last and will be alphabetized.\n",
    "\n",
    "For our purposes, we will focus on just the lowercase items at the end of the list."
   ]
  },
  {
   "cell_type": "code",
   "execution_count": null,
   "metadata": {},
   "outputs": [],
   "source": [
    "dir(__builtins__)"
   ]
  },
  {
   "cell_type": "markdown",
   "metadata": {},
   "source": [
    "As a reminder, you can learn more about any builtin function using Jupyter's question mark based help functionality."
   ]
  },
  {
   "cell_type": "code",
   "execution_count": null,
   "metadata": {},
   "outputs": [],
   "source": [
    "len?"
   ]
  },
  {
   "cell_type": "code",
   "execution_count": null,
   "metadata": {},
   "outputs": [],
   "source": []
  },
  {
   "cell_type": "markdown",
   "metadata": {
    "slideshow": {
     "slide_type": "slide"
    }
   },
   "source": [
    "## Nuances about comparing datatypes...\n",
    "\n",
    "Python allows you to compare elements of the same datatype (i.e. compare integers to integers OR float to float). It generally doesn't let you compare different datatypes, unless that comparison makes sense...\n",
    "\n",
    "Comparing an `int` to a `str` doesn't work..."
   ]
  },
  {
   "cell_type": "code",
   "execution_count": null,
   "metadata": {
    "collapsed": true,
    "slideshow": {
     "slide_type": "slide"
    }
   },
   "outputs": [],
   "source": [
    "13 == '13'"
   ]
  },
  {
   "cell_type": "markdown",
   "metadata": {},
   "source": [
    "But comparing a `float` to an `int` does work..."
   ]
  },
  {
   "cell_type": "code",
   "execution_count": null,
   "metadata": {
    "collapsed": true,
    "slideshow": {
     "slide_type": "fragment"
    }
   },
   "outputs": [],
   "source": [
    "13.0 == 13"
   ]
  },
  {
   "cell_type": "markdown",
   "metadata": {},
   "source": [
    "# Comments\n",
    "---"
   ]
  },
  {
   "cell_type": "markdown",
   "metadata": {},
   "source": [
    "There are three commonly accepted ways to create comments in Python.\n",
    "\n",
    "NOTE: Python **ignores ALL comments**.\n",
    "\n",
    "### Line starting with a hashtag    \n",
    "    \n",
    "```python    \n",
    "# comment: blah, blah, blah\n",
    "```\n",
    "\n",
    "### Text on any line, following a hashtag\n",
    "\n",
    "```python\n",
    "print('hello')      # comment: generally focused on the content of that line\n",
    "```\n",
    "\n",
    "### Text contained in triple quotes.\n",
    "\n",
    "```python\n",
    "'''\n",
    "multiline\n",
    "comment\n",
    "blah\n",
    "blah\n",
    "blah\n",
    "'''\n",
    "```"
   ]
  },
  {
   "cell_type": "markdown",
   "metadata": {},
   "source": [
    "# Experience Points\n",
    "---"
   ]
  },
  {
   "cell_type": "markdown",
   "metadata": {},
   "source": [
    "## Complete the following exercises:"
   ]
  },
  {
   "cell_type": "markdown",
   "metadata": {},
   "source": [
    "In your **text editor** create a simple script called `my_basics.py` to do each of the following steps.\n",
    "\n",
    "Execute your script in **Jupyter** using the command `run my_basics.py`.\n",
    "\n",
    "I suggest that as you add each feature to your script that you run it right away to test it incrementally. \n",
    "\n",
    "1. Include a **comment** indicating your name and date.\n",
    "\n",
    "1. `print()` your **name** \n",
    "\n",
    "1. `print()` a **blank line**\n",
    "\n",
    "1. Convert a numeric string (i.e. '13') to an integer AND assign the label: `myinteger`.\n",
    "\n",
    "1. `print()` the variable `myinteger`.\n",
    "\n",
    "1. Use `input()` to prompt for your first name AND assign the label: `fname`.\n",
    "\n",
    "1. Calculate the length of `fname` AND assign the label: `length`.\n",
    "\n",
    "1. `print()` the variable `length`.\n",
    "\n",
    "1. Convert a negative number to a str AND assign the label: `neg_number`.\n",
    "\n",
    "1. Convert a float to an integer AND assign the label: `flt_number`.\n",
    "\n",
    "1. `print()` the variable `neg_number`\n",
    "\n",
    "1. `print()` the variable `flt_number` \n",
    "\n",
    "1. Test two strings, `selina kyle` and `harleen quinzel`, for equality AND assign the result the label: `comparison`.\n",
    "\n",
    "1. `print()` the variable `comparison`.\n",
    "\n",
    "**SOLUTION**: a script with the solution to this exercise is included with this notebook, called: `soln_my_basics.py`"
   ]
  },
  {
   "cell_type": "markdown",
   "metadata": {},
   "source": [
    "<img src='../universal_images/green_sticky.300px.png' width='200' style='float:left'>"
   ]
  }
 ],
 "metadata": {
  "anaconda-cloud": {},
  "celltoolbar": "Slideshow",
  "kernelspec": {
   "display_name": "Python 3",
   "language": "python",
   "name": "python3"
  },
  "language_info": {
   "codemirror_mode": {
    "name": "ipython",
    "version": 3
   },
   "file_extension": ".py",
   "mimetype": "text/x-python",
   "name": "python",
   "nbconvert_exporter": "python",
   "pygments_lexer": "ipython3",
   "version": "3.6.8"
  }
 },
 "nbformat": 4,
 "nbformat_minor": 2
}
