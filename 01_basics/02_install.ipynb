{
 "cells": [
  {
   "cell_type": "markdown",
   "metadata": {
    "slideshow": {
     "slide_type": "slide"
    }
   },
   "source": [
    "# Welcome to the Dark Art of Coding:\n",
    "## Introduction to Python\n",
    "Installation\n",
    "\n",
    "<img src='../universal_images/dark_art_logo.600px.png' height='250' width='300' style=\"float:right\">"
   ]
  },
  {
   "cell_type": "markdown",
   "metadata": {
    "slideshow": {
     "slide_type": "slide"
    }
   },
   "source": [
    "# Agenda\n",
    "* Install miniconda\n",
    "* Create a virtual environment\n",
    "* Install desired software in the virtual environment"
   ]
  },
  {
   "cell_type": "markdown",
   "metadata": {},
   "source": [
    "# miniconda by Anaconda\n",
    "---"
   ]
  },
  {
   "cell_type": "markdown",
   "metadata": {},
   "source": [
    "<img src='01_images/Anaconda_Logo.png' width='300'>\n",
    "\n",
    "* Installs Python\n",
    "* Provides easy access to hundreds of Python and non-Python libraries\n",
    "* `conda` is a general package manager and virtual environment manager\n",
    "* We will use `pandas`, `numpy`, `scipy`, `matplotlib`, `jupyterlab` and `notebooks` and more"
   ]
  },
  {
   "cell_type": "markdown",
   "metadata": {},
   "source": [
    "# Jupyter\n",
    "---"
   ]
  },
  {
   "cell_type": "markdown",
   "metadata": {},
   "source": [
    "<img src='01_images/jupyter.png' width='350'>\n",
    "\n",
    "* Free and open source interactive notebooks and extensions\n",
    "* Enables live code, equations, visualizations and narrative text\n",
    "* Built to work seamlessly with data science libraries\n",
    "* Enables object introspection\n",
    "* Provides a view into your work history\n",
    "* Provides tab completion\n",
    "* Offers an extensible system of ‘magic’ commands\n",
    "* Provides access to the system shell\n",
    "* Offers integrated access to the `Python` debugger and the Python profiler\n",
    "* Incorporates IPython and all the benefits\n",
    "\n"
   ]
  },
  {
   "cell_type": "markdown",
   "metadata": {},
   "source": [
    "# Python Development Environments\n",
    "---\n",
    "\n",
    "## Our starting point\n",
    "\n",
    "* JupyterLab and Jupyter Notebooks\n",
    "* Text editor\n",
    "\n",
    "## Good in a pinch\n",
    "\n",
    "* Python on the command prompt & any old text editor\n",
    "\n",
    "## Integrated Development Environments/Text Editors on steroids\n",
    "\n",
    "* PyCharm\n",
    "* Visual Studio Code (Microsoft)\n",
    "* Atom (GitHub)\n",
    "* Spyder\n",
    "* Wingware\n",
    "* Eclipse with PyDev"
   ]
  },
  {
   "cell_type": "markdown",
   "metadata": {},
   "source": [
    "# Hands-on: Installing Tools\n",
    "---"
   ]
  },
  {
   "cell_type": "markdown",
   "metadata": {},
   "source": [
    "## `miniconda`\n",
    "\n",
    "For this class, we will\n",
    "\n",
    "* be using **Python version 3.x (prolly 3.6 or thereabouts)** \n",
    "* be installing and using a number of packages/libraries, including: **matplotlib**, **jupyterlab**, **jupyter notebook**, and more...\n",
    "\n",
    "The version of Python you normally use and already have installed on your computer may be different from the one we use. The libraries you already have installed may also be very different from what we will use. \n",
    "\n",
    "To minimize conflicts AND to help ensure that for troubleshooting purposes, everyone is on pretty close to the same page for their personal learning environments, we will download and install the `conda` package manager found in the `miniconda` install guide.\n",
    "\n",
    "1. In the directions, if given a choice between `miniconda` and `Anaconda`, use the `miniconda` installer, because it is a much smaller and far quicker install. `Anaconda` is a collection of 260+ libraries that you may not need, so avoid that for now.\n",
    "1. Use a **Python 3** version of `conda`.\n",
    "1. Create a virtual environment to separate the software and libraries we install for the purposes of the class from the software/libraries you may already have installed.\n",
    "1. **IF** you already have `miniconda` OR `Anaconda` installed, you do **NOT** need to reinstall. Simply skip to the step below: **Testing your install**"
   ]
  },
  {
   "cell_type": "markdown",
   "metadata": {},
   "source": [
    "### `miniconda` installation process\n",
    "\n",
    "To install `miniconda`, follow the instructions below for your operating system:"
   ]
  },
  {
   "cell_type": "markdown",
   "metadata": {},
   "source": [
    "#### <img src=\"../universal_images/windows_icon.jpg\" width=\"24\" height=\"24\" style=\"float:left\"> &nbsp;&nbsp;Windows\n",
    "\n",
    "\n",
    "1. [Download the installer](https://conda.io/miniconda.html)\n",
    "1. Double-click the `.exe` file.\n",
    "1. Follow the instructions on the screen. \n",
    "1. If you are unsure about any setting, accept the defaults. You can change them later.\n",
    "1. When installation is finished, a new Command Prompt window opens. If it does not open, in the Start menu, select Anaconda Prompt.\n",
    "\n",
    "---"
   ]
  },
  {
   "cell_type": "markdown",
   "metadata": {},
   "source": [
    "#### <img src=\"../universal_images/mac_icon.png\" width=\"24\" height=\"24\" style=\"float:left\"> &nbsp;&nbsp;Mac\n",
    "\n",
    "1. [Download the installer](https://conda.io/miniconda.html)\n",
    "1. Open a terminal window\n",
    "1. Type the following on your `bash` the command prompt: \n",
    "```bash\n",
    "$ bash Miniconda3-latest-MacOSX-x86_64.sh\n",
    "```\n",
    "1. Follow the prompts on the installer screens. \n",
    "1. If you are unsure about any setting, accept the defaults. You can change them later.\n",
    "1. To make the changes take effect, **close and then re-open your terminal window**.\n",
    "\n",
    "---"
   ]
  },
  {
   "cell_type": "markdown",
   "metadata": {},
   "source": [
    "#### <img src=\"../universal_images/linux_icon.jpg\" width=\"20\" height=\"24\" style=\"float:left\"> &nbsp;&nbsp;Linux\n",
    "\n",
    "1. [Download the installer](https://conda.io/miniconda.html)\n",
    "1. Open a terminal window\n",
    "1. Type\n",
    "```bash\n",
    "$ bash Miniconda3-latest-Linux-x86_64.sh\n",
    "```\n",
    "1. Follow the prompts on the installer screens.\n",
    "1. If you are unsure about any setting, accept the defaults. You can change them later.\n",
    "1. To make the changes take effect, **close and then re-open your terminal window**.\n",
    "\n",
    "---"
   ]
  },
  {
   "cell_type": "markdown",
   "metadata": {},
   "source": [
    "### Testing your install\n",
    "\n",
    "To confirm that the `conda` package manager that miniconda creates has been installed correctly:\n",
    "\n",
    "#### <img src=\"../universal_images/windows_icon.jpg\" width=\"24\" height=\"24\"> &nbsp;&nbsp;Windows:\n",
    "\n",
    "Open an **Anaconda Prompt** and type:\n",
    "\n",
    "```Bash\n",
    "(base) C:\\ conda list\n",
    "```\n",
    "\n",
    "#### <img src=\"../universal_images/mac_icon.png\" width=\"24\" height=\"24\"> &nbsp;&nbsp;Mac/ <img src=\"../universal_images/linux_icon.jpg\" width=\"20\" height=\"24\"> &nbsp;&nbsp;Linux:\n",
    "\n",
    "Open a **command prompt/terminal** and type:\n",
    "\n",
    "```bash\n",
    "$ conda list\n",
    "```\n",
    "\n",
    "If `conda` is installed properly, you will see a summary of the packages installed by `conda`, that looks something like the following\n",
    "\n",
    "**NOTE**: this has been simplified for clarity, your screen may have different files listed:\n",
    "\n",
    "```bash\n",
    "    $ conda list\n",
    "    # packages in environment at /Users/tonystark/miniconda3:\n",
    "    #\n",
    "    conda                     4.3.14                   py35_0\n",
    "    conda-env                 2.6.0                         0\n",
    "    ipython                   5.3.0                    py35_0\n",
    "    pip                       8.1.2                    py35_0\n",
    "    python                    3.5.2                         0\n",
    "    readline                  6.2                           2\n",
    "    setuptools                23.0.0                   py35_0\n",
    "    simplegeneric             0.8.1                    py35_1\n",
    "    six                       1.10.0                   py35_0\n",
    "```\n",
    "\n",
    "For more information on using `conda`, try these resources:\n",
    "\n",
    "[Using conda](https://conda.io/projects/conda/en/latest/user-guide/getting-started.html): A tutorial on how to use conda\n",
    "\n",
    "[conda cheatsheet](https://conda.io/projects/conda/en/latest/user-guide/cheatsheet.html): A cheatsheet of the most common conda commands\n"
   ]
  },
  {
   "cell_type": "markdown",
   "metadata": {},
   "source": [
    "# Virtual Environments\n",
    "\n",
    "Python virtual environments create an isolated environment (much like a sandbox) for Python projects. This:\n",
    "\n",
    "* enables you to create a standalone environment for each of your projects\n",
    "* means each project can have separate dependencies, regardless of dependencies any other project might have\n",
    "* minimizes conflicts between one project and another in terms of: \n",
    "  0. Python versions\n",
    "  1. Versions of other libraries that your project might depend upon"
   ]
  },
  {
   "cell_type": "markdown",
   "metadata": {},
   "source": [
    "## Using `miniconda` to create a virtualenv\n",
    "\n",
    "Presuming you have `conda` installed, the following command will enable you to create your first virtual environment.\n",
    "\n",
    "In an **Anaconda Prompt** OR in a **Mac/Linux terminal** navigate to a folder on your computer that you want your class projects to be kept in. In that folder, run the following commands:\n",
    "\n",
    "```bash\n",
    "$ mkdir darkart\n",
    "$ cd darkart\n",
    "$ conda create -y -n darkartenv python=3\n",
    "```"
   ]
  },
  {
   "cell_type": "markdown",
   "metadata": {},
   "source": [
    "# Using your new virtual environment\n",
    "---"
   ]
  },
  {
   "cell_type": "markdown",
   "metadata": {},
   "source": [
    "## Activating a virtualenv"
   ]
  },
  {
   "cell_type": "markdown",
   "metadata": {},
   "source": [
    "To activate your new virtualenv, run the appropriate command for your operating system:\n",
    "\n",
    "<img src=\"../universal_images/mac_icon.png\" width=\"24\" height=\"24\" style=\"float:left\"> <img src=\"../universal_images/linux_icon.jpg\" width=\"20\" height=\"24\" style=\"float:left\">   &nbsp;&nbsp; **Mac/Linux**\n",
    "\n",
    "```bash\n",
    "$ conda activate darkartenv\n",
    "```\n",
    "\n",
    "<img src=\"../universal_images/windows_icon.jpg\" width=\"24\" height=\"24\" style=\"float:left\"> &nbsp;&nbsp; **Windows**\n",
    "\n",
    "```bat\n",
    "C:\\> activate darkartenv\n",
    "```"
   ]
  },
  {
   "cell_type": "markdown",
   "metadata": {},
   "source": [
    "Activation has several side effects:\n",
    "\n",
    "* It temporarily changes your **$PATH variable** so calls to the Python interpreter (and similar commands) will look first in the virtualenv's `bin/` directory.\n",
    "* It temporarily changes your **shell prompt** to show which virtualenv you are using. Your prompt will likely look something like this, with the name of your virtualenv in parenthesis in front of the prompt:\n",
    "\n",
    "<img src=\"../universal_images/mac_icon.png\" width=\"24\" height=\"24\" style=\"float:left\"> <img src=\"../universal_images/linux_icon.jpg\" width=\"20\" height=\"24\" style=\"float:left\">   &nbsp;&nbsp; **Mac/Linux**\n",
    "```bash\n",
    "(darkartenv) $\n",
    "```\n",
    "\n",
    "<img src=\"../universal_images/windows_icon.jpg\" width=\"24\" height=\"24\" style=\"float:left\"> &nbsp;&nbsp; **Windows**: \n",
    "\n",
    "```bat\n",
    "(darkartenv) C:\\>\n",
    "```"
   ]
  },
  {
   "cell_type": "markdown",
   "metadata": {},
   "source": [
    "## Installing additional packages\n",
    "\n",
    "Install some additional package(s) to your virtual environment:\n",
    "\n",
    "```bash\n",
    "(darkartenv) $ conda install -y jupyterlab pandas matplotlib\n",
    "```"
   ]
  },
  {
   "cell_type": "markdown",
   "metadata": {},
   "source": [
    "# Download the class content from GitHub\n",
    "---\n",
    "\n",
    "There are several options for this next step..."
   ]
  },
  {
   "cell_type": "markdown",
   "metadata": {},
   "source": [
    "## Simple download\n",
    "If you don't have `git` installed and/or aren't comfortable with cloning git repositories, do the following:\n",
    "\n",
    "1. Use your browser to go to the following URL: http://bit.ly/jarvis_II\n",
    "1. Ensure that you are on the chalmerlowe/jarvis_II GitHub repository\n",
    "1. Click on the **Clone or Download** button\n",
    "1. Click on the **Download ZIP** button and save the file (OR move it after it downloads) to the folder you just made: `darkart`\n",
    "<br />\n",
    "<img src=\"01_images/git_download.png\" width=\"450\">\n",
    "1. Unzip the contents of the ZIP file into your `darkart` directory\n",
    "1. On the command prompt, type the following:\n",
    "```bash\n",
    "(darkartenv) $ cd jarvis_II-master\n",
    "```"
   ]
  },
  {
   "cell_type": "markdown",
   "metadata": {},
   "source": [
    "## Git users\n",
    "If you are comfortable with cloning git repos, feel free to do the following:\n",
    "\n",
    "1. Ensure that you are in the `darkart` directory\n",
    "1. Type the following command on the command prompt:\n",
    "```bash\n",
    "(darkartenv) $ git clone https://github.com/chalmerlowe/jarvis_II.git\n",
    "(darkartenv) $ cd jarvis_II\n",
    "```"
   ]
  },
  {
   "cell_type": "markdown",
   "metadata": {},
   "source": [
    "Testing the JupyterLab Install\n",
    "---"
   ]
  },
  {
   "cell_type": "markdown",
   "metadata": {},
   "source": [
    "Load Jupyter Lab from the command line, which will open a tab in your browser and display the Jupyter Lab environment, using the following command.\n",
    "\n",
    "```bash\n",
    "(darkartenv) $ jupyter lab \n",
    "```\n",
    "\n",
    "You should see something similar in appearance, to this...\n",
    "\n",
    "<img src=\"./01_images/first_look.png\" width=\"600\">"
   ]
  },
  {
   "cell_type": "markdown",
   "metadata": {},
   "source": [
    "When you complete this exercise, please put your green post-it on your monitor. \n",
    "\n",
    "If you want to continue on at your own-pace, please feel free to do so.\n",
    "\n",
    "<img src='../universal_images/green_sticky.300px.png' width='200' style='float:left'>"
   ]
  },
  {
   "cell_type": "markdown",
   "metadata": {},
   "source": [
    "# Deep Dive\n",
    "---"
   ]
  },
  {
   "cell_type": "markdown",
   "metadata": {},
   "source": [
    "## About `miniconda` vs `Anaconda`:\n",
    "\n",
    "**`Miniconda`** is produced by [Anaconda](https://www.anaconda.com/) and gives you access to a wide variety of libraries used to perform data analytics (including, but not limited to `numpy, pandas, bokeh, matplotlib, jupyterlab, jupyter notebooks, IPython, scikit learn`, etc). Miniconda focuses on letting you pick and choose the libraries you want.\n",
    "\n",
    "The **`Anaconda`** package, is also produced by Anaconda, AND installs by default, about 260+ data analysis libraries in one fell swoop. If you prefer to install Anaconda instead of miniconda, that is fine, just be forewarned that it can take a **considerable amount of time** AND a **lot of space** on your harddrive.\n",
    "\n",
    "Both `miniconda` and `anaconda` install the `conda` package manager.\n"
   ]
  },
  {
   "cell_type": "markdown",
   "metadata": {},
   "source": [
    "## What is a virtual environment?\n",
    "\n",
    "Virtual environments (also called virtualenvs) are tools used to keep projects separate, especially in terms of keeping different Python versions separate and different library versions separate. Virtualenvs prevent Python's `site packages` folder  from getting disorganized and cluttered AND prevents problems that arise when one project needs `version x.x` of a library but another project needs `version y.y` of the same library. At their core, virtualenvs are glorified directories that use scripts and metadata to organize and control the environment. You are allowed to have an unlimited number of virtualenvs. And as you will see, they are very easy to create using various command line tools, such as `conda`.\n",
    "\n",
    "## When should we use a virtual environment?\n",
    "\n",
    "As noted above, anytime you have more than one project and there is a possibility of conflicts between your libraries, it is a good time to use a virtualenv. Having said that, many programmers use virtual environments for **all but the most trivial** programming tasks. Especially for beginners, using virtualenvs early on in your learning career will build a valuable skill AND help eliminate sneaky bugs related to version discrepancies. Bugs that can be hard to diagnose.\n",
    "\n",
    "\n",
    "## Creating a virtual environment?\n",
    "\n",
    "Let's break down the install command to see what it is doing:\n",
    "\n",
    "`conda` runs the conda program/package manager.\n",
    "\n",
    "`create` tells it to create a virtualenv\n",
    "\n",
    "`-y` tells `conda` to accept default options\n",
    "\n",
    "`-n` identifies the name of the virtualenv, in this case, `darkartenv`\n",
    "\n",
    "`python=3` tells conda that you want to install Python version 3 in this virtualenv\n",
    "\n",
    "**NOTE**: `conda` will default to the most recent version of Python. If you need to select a specific minor version of Python, use the following syntax:\n",
    "\n",
    "`python=3.2`\n",
    "\n",
    "`conda` will prepare to install Python and any dependencies that Python relies upon. It will display output similar to the following. \n",
    "\n",
    "    $ conda create -y -n darkartenv python=3\n",
    "    Fetching package metadata .......\n",
    "    Solving package specifications: ..........\n",
    "    \n",
    "    Package plan for installation in environment /Users/tonystark/miniconda3/envs/darkartenv:\n",
    "    \n",
    "    The following packages will be downloaded:\n",
    "    \n",
    "        package                    |            build\n",
    "        ---------------------------|-----------------\n",
    "        openssl-1.0.2k             |                1         3.0 MB\n",
    "        python-3.6.0               |                0        11.7 MB\n",
    "        setuptools-27.2.0          |           py36_0         523 KB\n",
    "        wheel-0.29.0               |           py36_0          87 KB\n",
    "        pip-9.0.1                  |           py36_1         1.7 MB\n",
    "        ------------------------------------------------------------\n",
    "                                               Total:        17.0 MB\n",
    "    \n",
    "    The following NEW packages will be INSTALLED:\n",
    "    \n",
    "        openssl:    1.0.2k-1\n",
    "        pip:        9.0.1-py36_1\n",
    "        python:     3.6.0-0\n",
    "        readline:   6.2-2\n",
    "        setuptools: 27.2.0-py36_0\n",
    "        sqlite:     3.13.0-0\n",
    "        tk:         8.5.18-0\n",
    "        wheel:      0.29.0-py36_0\n",
    "        xz:         5.2.2-1\n",
    "        zlib:       1.2.8-3\n",
    "        \n",
    "        \n",
    "## Installing additional packages\n",
    "\n",
    "When you need to install additional package(s) to your virtual environment, conda allows you to do so:\n",
    "\n",
    "```bash\n",
    "(darkartenv) $ conda install -y jupyterlab pandas matplotlib\n",
    "```\n",
    "\n",
    "Breaking down the steps:\n",
    "\n",
    "`conda` runs the conda program/package manager.\n",
    "\n",
    "`install` tells it to add additional packages to the virtual environment\n",
    "\n",
    "`-y` tells `conda` to accept default options\n",
    "\n",
    "`jupyterlab pandas matplotlib` tells conda that you want to install these packages in your virtual environment.\n",
    "\n",
    "\n"
   ]
  },
  {
   "cell_type": "markdown",
   "metadata": {},
   "source": [
    "## I already use `pip (or pipenv or virtualenv, etc)`... is `conda` necessary?\n",
    "\n",
    "`conda` is a general purpose package manager with the added ability to create virtual environments. `conda` can install libraries associated with a wide variety of programming languages, etc.\n",
    "\n",
    "`pip` was designed to be a Python package manager. \n",
    "\n",
    "In data science and scientific computing, a number of non-Python libraries are used in the background. `conda` was designed to resolve issues associated with installing non-Python libraries into your development environment, a task that `pip` is not equipped to handle."
   ]
  }
 ],
 "metadata": {
  "anaconda-cloud": {},
  "kernelspec": {
   "display_name": "Python 3",
   "language": "python",
   "name": "python3"
  },
  "language_info": {
   "codemirror_mode": {
    "name": "ipython",
    "version": 3
   },
   "file_extension": ".py",
   "mimetype": "text/x-python",
   "name": "python",
   "nbconvert_exporter": "python",
   "pygments_lexer": "ipython3",
   "version": "3.6.8"
  }
 },
 "nbformat": 4,
 "nbformat_minor": 2
}
