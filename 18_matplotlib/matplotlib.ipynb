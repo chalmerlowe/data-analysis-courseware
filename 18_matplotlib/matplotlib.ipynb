{
 "cells": [
  {
   "cell_type": "markdown",
   "metadata": {},
   "source": [
    "# Welcome to the Dark Art of Coding:\n",
    "## Introduction to Python\n",
    "graphing with matplotlib\n",
    "\n",
    "<img src='../images/dark_art_logo.600px.png' width='300' style=\"float:right\">"
   ]
  },
  {
   "cell_type": "markdown",
   "metadata": {},
   "source": [
    "# Prerequisites:\n",
    "\n",
    "* pandas\n",
    "* matplotlib\n",
    "* numpy\n",
    "\n",
    "IF you don't already have these installed in your virtual environment, **activate your virtualenv** and **conda install** them:\n",
    "\n",
    "```bash\n",
    "conda install pandas numpy matplotlib\n",
    "```"
   ]
  },
  {
   "cell_type": "code",
   "execution_count": null,
   "metadata": {
    "collapsed": true
   },
   "outputs": [],
   "source": [
    "# generate a horizontal bar chart\n",
    "# (based on an example from the matplotlib website...)\n",
    "# http://matplotlib.org/1.2.1/examples/pylab_examples/barh_demo.html"
   ]
  },
  {
   "cell_type": "code",
   "execution_count": null,
   "metadata": {
    "collapsed": true
   },
   "outputs": [],
   "source": [
    "import numpy as np\n",
    "import matplotlib.pyplot as plt\n",
    "import pandas as pd"
   ]
  },
  {
   "cell_type": "code",
   "execution_count": null,
   "metadata": {
    "collapsed": true
   },
   "outputs": [],
   "source": [
    "# we'll use pandas to read in some data, but we'll only keep one of the columns\n",
    "\n",
    "df = pd.read_csv('../universal_datasets/log_file.csv', names=['name',\n",
    "                                                  'email',\n",
    "                                                  'fmip',\n",
    "                                                  'toip',\n",
    "                                                  'date',\n",
    "                                                  'lat',\n",
    "                                                  'long',\n",
    "                                                  'payload'],\n",
    "                                            usecols=['name'])"
   ]
  },
  {
   "cell_type": "code",
   "execution_count": null,
   "metadata": {
    "collapsed": true
   },
   "outputs": [],
   "source": [
    "# to generate this graph, we are gonna make up\n",
    "# a set of random numbers between \n",
    "# 42 and 48.5"
   ]
  },
  {
   "cell_type": "code",
   "execution_count": null,
   "metadata": {
    "collapsed": true
   },
   "outputs": [],
   "source": [
    "# NOTE:\n",
    "#     0) the function len(df) returns the number of rows in df\n",
    "#     1) np.random.rand yields numbers between [0 and 1].\n",
    "#\n",
    "\n",
    "df['fan_rating'] = 42 + 6.5 * np.random.rand(len(df))"
   ]
  },
  {
   "cell_type": "code",
   "execution_count": null,
   "metadata": {},
   "outputs": [],
   "source": [
    "df"
   ]
  },
  {
   "cell_type": "code",
   "execution_count": null,
   "metadata": {
    "collapsed": true
   },
   "outputs": [],
   "source": [
    "# as a first step, let's clean up the data by dropping\n",
    "# duplicate rows using these rules/parameters:\n",
    "#     0) check whether there is a duplicate in a given column\n",
    "#     1) keep only the last value of any duplicates\n",
    "#        (default is to take the first)\n",
    "#     2) replace the dataframe with our new deduplicated version"
   ]
  },
  {
   "cell_type": "code",
   "execution_count": null,
   "metadata": {
    "collapsed": true
   },
   "outputs": [],
   "source": [
    "df.drop_duplicates(subset='name', inplace=True, keep='last')\n"
   ]
  },
  {
   "cell_type": "code",
   "execution_count": null,
   "metadata": {},
   "outputs": [],
   "source": [
    "df"
   ]
  },
  {
   "cell_type": "code",
   "execution_count": null,
   "metadata": {
    "collapsed": true
   },
   "outputs": [],
   "source": [
    "# let's convert the content of the name column from\n",
    "# first & last to just first name\n",
    "# we do this by generating a function to do \n",
    "# the conversion on a single value"
   ]
  },
  {
   "cell_type": "code",
   "execution_count": null,
   "metadata": {
    "collapsed": true
   },
   "outputs": [],
   "source": [
    "def fname_only(full_name):\n",
    "    # change\n",
    "    fname = full_name.split(' ')[0]\n",
    "    return fname"
   ]
  },
  {
   "cell_type": "code",
   "execution_count": null,
   "metadata": {
    "collapsed": true
   },
   "outputs": [],
   "source": [
    "# the map() function associated with dataframe columns maps\n",
    "# the named function against\n",
    "# every item in every row of the given column\n",
    "# NOTE:\n",
    "#     Remember, pandas has several ways to refer to columns:\n",
    "#     0) when creating a new column, you must use bracket\n",
    "#        syntax: df['<colname>']\n",
    "#     1) to refer to an existing column, you are free to use either\n",
    "#        bracket syntax OR dot notation syntax: df.<colname>\n",
    "#        I find the dot notation easier to type, so defer\n",
    "#        to it when possible"
   ]
  },
  {
   "cell_type": "code",
   "execution_count": null,
   "metadata": {},
   "outputs": [],
   "source": [
    "df['fname'] = df['name'].map(fname_only)"
   ]
  },
  {
   "cell_type": "code",
   "execution_count": null,
   "metadata": {},
   "outputs": [],
   "source": [
    "df"
   ]
  },
  {
   "cell_type": "code",
   "execution_count": null,
   "metadata": {
    "collapsed": true
   },
   "outputs": [],
   "source": [
    "# lastly, let's extract just the values out of\n",
    "#     the fname column.\n",
    "# this is a list-like object and will be used \n",
    "#     as the names for our horizontal bars later."
   ]
  },
  {
   "cell_type": "code",
   "execution_count": null,
   "metadata": {
    "collapsed": true
   },
   "outputs": [],
   "source": [
    "people = df['fname'].values"
   ]
  },
  {
   "cell_type": "code",
   "execution_count": null,
   "metadata": {},
   "outputs": [],
   "source": [
    "type(people)"
   ]
  },
  {
   "cell_type": "code",
   "execution_count": null,
   "metadata": {},
   "outputs": [],
   "source": [
    "people"
   ]
  },
  {
   "cell_type": "code",
   "execution_count": null,
   "metadata": {
    "collapsed": true
   },
   "outputs": [],
   "source": [
    "# now we can put together a sequence that will\n",
    "# store the y position values. we'll use np.arange to\n",
    "# create an array of sequential values based on\n",
    "# the length of the people array\n",
    "# this will be used as a set of temporary names\n",
    "# for our horizontal bars...\n",
    "# ultimately, we will replace it with real names...\n",
    "\n",
    "# plus, we will save off the fan rating as a series for use\n",
    "# in the plotting software as the x values"
   ]
  },
  {
   "cell_type": "code",
   "execution_count": null,
   "metadata": {
    "collapsed": true
   },
   "outputs": [],
   "source": [
    "y_pos = np.arange(len(people))\n",
    "\n",
    "performance = df['fan_rating']"
   ]
  },
  {
   "cell_type": "code",
   "execution_count": null,
   "metadata": {
    "collapsed": true
   },
   "outputs": [],
   "source": [
    "# based on this preliminary work, we can generate a\n",
    "# simple horizontal bar chart\n",
    "# we give it y values and x values\n",
    "# and we tell it to show() the plot"
   ]
  },
  {
   "cell_type": "code",
   "execution_count": null,
   "metadata": {},
   "outputs": [],
   "source": [
    "plt.barh(y_pos, performance)\n",
    "plt.show()"
   ]
  },
  {
   "cell_type": "code",
   "execution_count": null,
   "metadata": {
    "collapsed": true
   },
   "outputs": [],
   "source": [
    "# presume we don't like the alignment of the names\n",
    "# against the horizontal bars.\n",
    "# we can align the names to the center of the bars."
   ]
  },
  {
   "cell_type": "code",
   "execution_count": null,
   "metadata": {},
   "outputs": [],
   "source": [
    "plt.barh(y_pos, performance, align='edge')\n",
    "plt.show()"
   ]
  },
  {
   "cell_type": "code",
   "execution_count": null,
   "metadata": {
    "collapsed": true
   },
   "outputs": [],
   "source": [
    "# what if we don't like the dark color? we can revise the color to have a\n",
    "# greater degree of transparency by setting the alpha characteristic"
   ]
  },
  {
   "cell_type": "code",
   "execution_count": null,
   "metadata": {},
   "outputs": [],
   "source": [
    "plt.barh(y_pos, performance, alpha=0.4)\n",
    "plt.show()"
   ]
  },
  {
   "cell_type": "code",
   "execution_count": null,
   "metadata": {
    "collapsed": true
   },
   "outputs": [],
   "source": [
    "# what if we don't like the default color? \n",
    "# we can revise the color as desired\n",
    "# matplotlib has a number of default colors:\n",
    "#     'r' stands for red"
   ]
  },
  {
   "cell_type": "code",
   "execution_count": null,
   "metadata": {},
   "outputs": [],
   "source": [
    "plt.barh(y_pos, performance, align='center', alpha=0.4, color='r')\n",
    "plt.show()"
   ]
  },
  {
   "cell_type": "code",
   "execution_count": null,
   "metadata": {
    "collapsed": true
   },
   "outputs": [],
   "source": [
    "# what if our data comes with some percentage of error?\n",
    "# this can be represented using an xerr parameter.\n",
    "# here, we again use random to generate a random \n",
    "# set of values that we can\n",
    "# then use to generate error bars. \n",
    "# in real life, you would have some\n",
    "# margin for error for all the values."
   ]
  },
  {
   "cell_type": "code",
   "execution_count": null,
   "metadata": {},
   "outputs": [],
   "source": [
    "error = 2 * np.random.rand(len(people))\n",
    "\n",
    "plt.barh(y_pos, performance, xerr=error, \n",
    "        align='center', alpha=0.4, color='r')\n",
    "plt.show()"
   ]
  },
  {
   "cell_type": "code",
   "execution_count": null,
   "metadata": {
    "collapsed": true
   },
   "outputs": [],
   "source": [
    "# this still leaves off info that most of us\n",
    "# would want, in terms of the\n",
    "# people names, title, axis labels, etc."
   ]
  },
  {
   "cell_type": "code",
   "execution_count": null,
   "metadata": {},
   "outputs": [],
   "source": [
    "plt.barh(y_pos, performance, xerr=error, \n",
    "         align='center', alpha=0.4, color='r')\n",
    "\n",
    "plt.yticks(y_pos, people)\n",
    "plt.xlabel('rating')\n",
    "plt.title(\"Estimated Justice League's Fan Ratings\")\n"
   ]
  },
  {
   "cell_type": "code",
   "execution_count": null,
   "metadata": {},
   "outputs": [],
   "source": [
    "plt.savefig('hbar.png')\n",
    "plt.show()"
   ]
  },
  {
   "cell_type": "code",
   "execution_count": null,
   "metadata": {},
   "outputs": [],
   "source": [
    "\n"
   ]
  },
  {
   "cell_type": "code",
   "execution_count": null,
   "metadata": {
    "collapsed": true
   },
   "outputs": [],
   "source": [
    "# creating a histogram with some additional features\n",
    "# (based heavily on an example from the matplotlib website...)\n",
    "# http://matplotlib.org/1.2.1/examples/api/histogram_demo.html\n",
    "\n",
    "# In addition to the basic histogram, this demo shows a few optional\n",
    "# features:\n",
    "#     * setting the number of data bins\n",
    "#     * the ''normed'' flag, which normalizes bin heights so that the\n",
    "#       integral of the histogram is 1. the resulting histogram is a\n",
    "#       probability density\n",
    "#     * setting the face color of the bars\n",
    "#     * setting the opacity (alpha value)\n",
    "\n",
    "# As always, we start by importing the appropriate libraries"
   ]
  },
  {
   "cell_type": "code",
   "execution_count": null,
   "metadata": {
    "collapsed": true
   },
   "outputs": [],
   "source": [
    "import numpy as np\n",
    "import matplotlib.mlab as mlab\n",
    "import matplotlib.pyplot as plt"
   ]
  },
  {
   "cell_type": "code",
   "execution_count": null,
   "metadata": {
    "collapsed": true
   },
   "outputs": [],
   "source": [
    "# we define some of the characteristics of our distribution:\n",
    "mu = 100       # mean of the distribution\n",
    "sigma = 15     # standard deviation of the distribution"
   ]
  },
  {
   "cell_type": "code",
   "execution_count": null,
   "metadata": {
    "collapsed": true
   },
   "outputs": [],
   "source": [
    "# np.random.randn creates a random array of values taken from a\n",
    "# standard normal distribution\n",
    "# we can transform the distribution by multiplying the values by sigma and\n",
    "# by adding the mean mu"
   ]
  },
  {
   "cell_type": "code",
   "execution_count": null,
   "metadata": {},
   "outputs": [],
   "source": [
    "x = mu + sigma * np.random.randn(10000)\n",
    "print(x)"
   ]
  },
  {
   "cell_type": "code",
   "execution_count": null,
   "metadata": {
    "collapsed": true
   },
   "outputs": [],
   "source": [
    "# we set a specific number of bins that we will group our values into..."
   ]
  },
  {
   "cell_type": "code",
   "execution_count": null,
   "metadata": {
    "collapsed": true
   },
   "outputs": [],
   "source": [
    "num_bins = 50"
   ]
  },
  {
   "cell_type": "code",
   "execution_count": null,
   "metadata": {
    "collapsed": true
   },
   "outputs": [],
   "source": [
    "# next we create the data for the histogram\n",
    "# n = values (height) for each bar of the histogram\n",
    "# bins = the indicators that demarck the bins\n",
    "# patches = are the rectangle objects that represent each bar"
   ]
  },
  {
   "cell_type": "code",
   "execution_count": null,
   "metadata": {},
   "outputs": [],
   "source": [
    "n, bins, patches = plt.hist(x, num_bins, normed=1,\n",
    "                            facecolor='green', alpha=0.5)\n",
    "print(n)\n",
    "print(bins)\n",
    "# print(patches)\n",
    "# for item in patches:\n",
    "#     print(item)\n",
    "\n",
    "plt.show()"
   ]
  },
  {
   "cell_type": "code",
   "execution_count": null,
   "metadata": {
    "collapsed": true
   },
   "outputs": [],
   "source": [
    "# from here, we can add a 'best fit' line...\n",
    "# the normal probability density function (pdf) helps to answer the question:\n",
    "# \"how common are samples at a given value?'"
   ]
  },
  {
   "cell_type": "code",
   "execution_count": null,
   "metadata": {},
   "outputs": [],
   "source": [
    "n, bins, patches = plt.hist(x, num_bins,\n",
    "                            normed=1, \n",
    "                            facecolor='green',\n",
    "                            alpha=0.5)\n",
    "\n",
    "y = mlab.normpdf(bins, mu, sigma)\n",
    "plt.plot(bins, y, 'r--')\n",
    "\n",
    "plt.show()"
   ]
  },
  {
   "cell_type": "code",
   "execution_count": null,
   "metadata": {},
   "outputs": [],
   "source": [
    "# And let's add some labels...\n",
    "\n",
    "n, bins, patches = plt.hist(x, num_bins, normed=1,\n",
    "                            facecolor='blue', alpha=0.7)\n",
    "y = mlab.normpdf(bins, mu, sigma)\n",
    "plt.plot(bins, y, 'k--')\n",
    "\n",
    "plt.xlabel('Smarts')\n",
    "plt.ylabel('Probability')\n",
    "\n",
    "plt.show()"
   ]
  },
  {
   "cell_type": "code",
   "execution_count": null,
   "metadata": {
    "collapsed": true
   },
   "outputs": [],
   "source": [
    "# the opening '$\\' and the closing '$' tags in the following commands enable you to\n",
    "# include italics in the title"
   ]
  },
  {
   "cell_type": "code",
   "execution_count": null,
   "metadata": {},
   "outputs": [],
   "source": [
    "n, bins, patches = plt.hist(x, num_bins, normed=1,\n",
    "                            facecolor='red', alpha=0.5)\n",
    "y = mlab.normpdf(bins, mu, sigma)\n",
    "plt.plot(bins, y, 'ro')\n",
    "plt.xlabel('Smarts')\n",
    "plt.ylabel('Probability')\n",
    "\n",
    "plt.title(r'Histogram of IQ: $\\mu=100$, $\\sigma=15$')\n",
    "\n",
    "plt.show()"
   ]
  },
  {
   "cell_type": "code",
   "execution_count": null,
   "metadata": {},
   "outputs": [],
   "source": [
    "n, bins, patches = plt.hist(x, num_bins, normed=1,\n",
    "                            facecolor='blue', alpha=0.5)\n",
    "y = mlab.normpdf(bins, mu, sigma)\n",
    "plt.plot(bins, y, 'r--')\n",
    "plt.xlabel('Smarts')\n",
    "plt.ylabel('Probability')\n",
    "plt.title(r'Histogram of IQ: $\\mu=100$, $\\sigma=15$')\n",
    "\n",
    "plt.show()\n",
    "\n",
    "plt.savefig('hist.png')"
   ]
  },
  {
   "cell_type": "code",
   "execution_count": null,
   "metadata": {
    "collapsed": true
   },
   "outputs": [],
   "source": [
    "# generate a scatter plot\n",
    "# (based heavily on an example from the matplotlib website...)\n",
    "# http://matplotlib.org/examples/shapes_and_collections/scatter_demo.html"
   ]
  },
  {
   "cell_type": "code",
   "execution_count": null,
   "metadata": {
    "collapsed": true
   },
   "outputs": [],
   "source": [
    "import numpy as np\n",
    "import matplotlib.pyplot as plt\n",
    "import pandas as pd"
   ]
  },
  {
   "cell_type": "code",
   "execution_count": null,
   "metadata": {
    "collapsed": true
   },
   "outputs": [],
   "source": [
    "# Let's read in a csv via pandas but keep only two of the columns"
   ]
  },
  {
   "cell_type": "code",
   "execution_count": null,
   "metadata": {
    "collapsed": true
   },
   "outputs": [],
   "source": [
    "df = pd.read_csv('../universal_datasets/log_file_1000.csv', names=['name',\n",
    "                                                   'email',\n",
    "                                                   'fmip',\n",
    "                                                   'toip',\n",
    "                                                   'date',\n",
    "                                                   'lat',\n",
    "                                                   'long',\n",
    "                                                   'payload'],\n",
    "                                            nrows=35,\n",
    "                                            usecols=['lat', 'long'])"
   ]
  },
  {
   "cell_type": "code",
   "execution_count": null,
   "metadata": {
    "collapsed": true
   },
   "outputs": [],
   "source": [
    "# next, let's create two arrays from the lat and long columns"
   ]
  },
  {
   "cell_type": "code",
   "execution_count": null,
   "metadata": {},
   "outputs": [],
   "source": [
    "df"
   ]
  },
  {
   "cell_type": "code",
   "execution_count": null,
   "metadata": {
    "collapsed": true
   },
   "outputs": [],
   "source": [
    "latitudes = df['lat']\n",
    "longitudes = df['long']"
   ]
  },
  {
   "cell_type": "code",
   "execution_count": null,
   "metadata": {
    "collapsed": true
   },
   "outputs": [],
   "source": [
    "# here we calculate the length of one of the arrays\n",
    "\n",
    "count = len(latitudes)"
   ]
  },
  {
   "cell_type": "code",
   "execution_count": null,
   "metadata": {
    "collapsed": true
   },
   "outputs": [],
   "source": [
    "# we'll use numpy to create a random collections of numbers for use in defining colors\n",
    "# of the circles in our scatterplot"
   ]
  },
  {
   "cell_type": "code",
   "execution_count": null,
   "metadata": {
    "collapsed": true
   },
   "outputs": [],
   "source": [
    "colors = np.random.rand(count)"
   ]
  },
  {
   "cell_type": "code",
   "execution_count": null,
   "metadata": {
    "collapsed": true
   },
   "outputs": [],
   "source": [
    "# this step creates a random set of areas based on a radiuses from 0 to 20\n",
    "# we can imagine that this is indicative of a the frequency of communications OR\n",
    "# something similarly awesome and nerdy like that.\n",
    "# np.pi gives us pi to 15 decimal places\n",
    "# np.random.rand gives us random numbers from 0 to 1"
   ]
  },
  {
   "cell_type": "code",
   "execution_count": null,
   "metadata": {
    "collapsed": true
   },
   "outputs": [],
   "source": [
    "areas = np.pi * (20 * np.random.rand(count))**2"
   ]
  },
  {
   "cell_type": "code",
   "execution_count": null,
   "metadata": {
    "collapsed": true
   },
   "outputs": [],
   "source": [
    "# generate the scatter plot"
   ]
  },
  {
   "cell_type": "code",
   "execution_count": null,
   "metadata": {},
   "outputs": [],
   "source": [
    "plt.scatter(latitudes, longitudes, s=areas, c=colors) #, alpha=0.4)"
   ]
  },
  {
   "cell_type": "code",
   "execution_count": null,
   "metadata": {
    "collapsed": true
   },
   "outputs": [],
   "source": [
    "# we chose to create stand alone variables (latitude, longitude) but these are not\n",
    "# required... we can just as happily read in directly from df.lat or df.long:\n",
    "# plt.scatter(df.lat, df.long, s=area, c=colors, alpha=0.4)"
   ]
  },
  {
   "cell_type": "code",
   "execution_count": null,
   "metadata": {},
   "outputs": [],
   "source": [
    "plt.savefig('scatter.png')\n",
    "plt.show()"
   ]
  },
  {
   "cell_type": "code",
   "execution_count": null,
   "metadata": {
    "collapsed": true
   },
   "outputs": [],
   "source": [
    "plt.savefig?"
   ]
  }
 ],
 "metadata": {
  "kernelspec": {
   "display_name": "Python 3",
   "language": "python",
   "name": "python3"
  },
  "language_info": {
   "codemirror_mode": {
    "name": "ipython",
    "version": 3
   },
   "file_extension": ".py",
   "mimetype": "text/x-python",
   "name": "python",
   "nbconvert_exporter": "python",
   "pygments_lexer": "ipython3",
   "version": "3.6.8"
  }
 },
 "nbformat": 4,
 "nbformat_minor": 2
}
