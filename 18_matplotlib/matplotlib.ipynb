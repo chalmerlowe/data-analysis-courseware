{
 "cells": [
  {
   "cell_type": "markdown",
   "metadata": {},
   "source": [
    "# Welcome to the Dark Art of Coding:\n",
    "## Introduction to Python\n",
    "graphing with matplotlib\n",
    "\n",
    "<img src='../images/dark_art_logo.600px.png' width='300' style=\"float:right\">"
   ]
  },
  {
   "cell_type": "markdown",
   "metadata": {},
   "source": [
    "# Prerequisites:\n",
    "\n",
    "* pandas\n",
    "* matplotlib\n",
    "* numpy\n",
    "\n",
    "IF you don't already have these installed in your virtual environment, **activate your virtualenv** and **conda install** them:\n",
    "\n",
    "```bash\n",
    "conda install pandas numpy matplotlib\n",
    "```"
   ]
  },
  {
   "cell_type": "code",
   "execution_count": null,
   "metadata": {
    "collapsed": true
   },
   "outputs": [],
   "source": [
    "# generate a horizontal bar chart\n",
    "# (based on an example from the matplotlib website...)\n",
    "# http://matplotlib.org/1.2.1/examples/pylab_examples/barh_demo.html"
   ]
  },
  {
   "cell_type": "code",
   "execution_count": 1,
   "metadata": {
    "collapsed": true
   },
   "outputs": [],
   "source": [
    "import numpy as np\n",
    "import matplotlib.pyplot as plt\n",
    "import pandas as pd"
   ]
  },
  {
   "cell_type": "code",
   "execution_count": 23,
   "metadata": {
    "collapsed": true
   },
   "outputs": [],
   "source": [
    "# we'll use pandas to read in some data, but we'll only keep one of the columns\n",
    "\n",
    "df = pd.read_csv('../universal_datasets/log_file.csv', names=['name',\n",
    "                                                  'email',\n",
    "                                                  'fmip',\n",
    "                                                  'toip',\n",
    "                                                  'date',\n",
    "                                                  'lat',\n",
    "                                                  'long',\n",
    "                                                  'payload'],\n",
    "                                            usecols=['name'])"
   ]
  },
  {
   "cell_type": "code",
   "execution_count": 24,
   "metadata": {
    "collapsed": true
   },
   "outputs": [],
   "source": [
    "# to generate this graph, we are gonna make up\n",
    "# a set of random numbers between \n",
    "# 42 and 48.5"
   ]
  },
  {
   "cell_type": "code",
   "execution_count": 25,
   "metadata": {
    "collapsed": true
   },
   "outputs": [],
   "source": [
    "# NOTE:\n",
    "#     0) the function len(df) returns the number of rows in df\n",
    "#     1) np.random.rand yields numbers between [0 and 1].\n",
    "#\n",
    "\n",
    "df['fan_rating'] = 42 + 6.5 * np.random.rand(len(df))"
   ]
  },
  {
   "cell_type": "code",
   "execution_count": 26,
   "metadata": {},
   "outputs": [
    {
     "data": {
      "text/html": [
       "<div>\n",
       "<style scoped>\n",
       "    .dataframe tbody tr th:only-of-type {\n",
       "        vertical-align: middle;\n",
       "    }\n",
       "\n",
       "    .dataframe tbody tr th {\n",
       "        vertical-align: top;\n",
       "    }\n",
       "\n",
       "    .dataframe thead th {\n",
       "        text-align: right;\n",
       "    }\n",
       "</style>\n",
       "<table border=\"1\" class=\"dataframe\">\n",
       "  <thead>\n",
       "    <tr style=\"text-align: right;\">\n",
       "      <th></th>\n",
       "      <th>name</th>\n",
       "      <th>fan_rating</th>\n",
       "    </tr>\n",
       "  </thead>\n",
       "  <tbody>\n",
       "    <tr>\n",
       "      <th>0</th>\n",
       "      <td>barry allen</td>\n",
       "      <td>45.826457</td>\n",
       "    </tr>\n",
       "    <tr>\n",
       "      <th>1</th>\n",
       "      <td>barbara gordon</td>\n",
       "      <td>44.831572</td>\n",
       "    </tr>\n",
       "    <tr>\n",
       "      <th>2</th>\n",
       "      <td>kyle rayner</td>\n",
       "      <td>44.400826</td>\n",
       "    </tr>\n",
       "    <tr>\n",
       "      <th>3</th>\n",
       "      <td>dinah lance</td>\n",
       "      <td>47.516717</td>\n",
       "    </tr>\n",
       "    <tr>\n",
       "      <th>4</th>\n",
       "      <td>arthur curry</td>\n",
       "      <td>42.966105</td>\n",
       "    </tr>\n",
       "    <tr>\n",
       "      <th>5</th>\n",
       "      <td>kara zor-el</td>\n",
       "      <td>47.212457</td>\n",
       "    </tr>\n",
       "    <tr>\n",
       "      <th>6</th>\n",
       "      <td>kara zor-el</td>\n",
       "      <td>47.921201</td>\n",
       "    </tr>\n",
       "    <tr>\n",
       "      <th>7</th>\n",
       "      <td>hal jordan</td>\n",
       "      <td>46.081912</td>\n",
       "    </tr>\n",
       "    <tr>\n",
       "      <th>8</th>\n",
       "      <td>kara zor-el</td>\n",
       "      <td>46.600265</td>\n",
       "    </tr>\n",
       "    <tr>\n",
       "      <th>9</th>\n",
       "      <td>john constantine</td>\n",
       "      <td>45.034924</td>\n",
       "    </tr>\n",
       "  </tbody>\n",
       "</table>\n",
       "</div>"
      ],
      "text/plain": [
       "               name  fan_rating\n",
       "0       barry allen   45.826457\n",
       "1    barbara gordon   44.831572\n",
       "2       kyle rayner   44.400826\n",
       "3       dinah lance   47.516717\n",
       "4      arthur curry   42.966105\n",
       "5       kara zor-el   47.212457\n",
       "6       kara zor-el   47.921201\n",
       "7        hal jordan   46.081912\n",
       "8       kara zor-el   46.600265\n",
       "9  john constantine   45.034924"
      ]
     },
     "execution_count": 26,
     "metadata": {},
     "output_type": "execute_result"
    }
   ],
   "source": [
    "df"
   ]
  },
  {
   "cell_type": "code",
   "execution_count": 27,
   "metadata": {
    "collapsed": true
   },
   "outputs": [],
   "source": [
    "# as a first step, let's clean up the data by dropping\n",
    "# duplicate rows using these rules/parameters:\n",
    "#     0) check whether there is a duplicate in a given column\n",
    "#     1) keep only the last value of any duplicates\n",
    "#        (default is to take the first)\n",
    "#     2) replace the dataframe with our new deduplicated version"
   ]
  },
  {
   "cell_type": "code",
   "execution_count": 28,
   "metadata": {
    "collapsed": true
   },
   "outputs": [],
   "source": [
    "df.drop_duplicates(subset='name', inplace=True, keep='last')\n"
   ]
  },
  {
   "cell_type": "code",
   "execution_count": 29,
   "metadata": {},
   "outputs": [
    {
     "data": {
      "text/html": [
       "<div>\n",
       "<style scoped>\n",
       "    .dataframe tbody tr th:only-of-type {\n",
       "        vertical-align: middle;\n",
       "    }\n",
       "\n",
       "    .dataframe tbody tr th {\n",
       "        vertical-align: top;\n",
       "    }\n",
       "\n",
       "    .dataframe thead th {\n",
       "        text-align: right;\n",
       "    }\n",
       "</style>\n",
       "<table border=\"1\" class=\"dataframe\">\n",
       "  <thead>\n",
       "    <tr style=\"text-align: right;\">\n",
       "      <th></th>\n",
       "      <th>name</th>\n",
       "      <th>fan_rating</th>\n",
       "    </tr>\n",
       "  </thead>\n",
       "  <tbody>\n",
       "    <tr>\n",
       "      <th>0</th>\n",
       "      <td>barry allen</td>\n",
       "      <td>45.826457</td>\n",
       "    </tr>\n",
       "    <tr>\n",
       "      <th>1</th>\n",
       "      <td>barbara gordon</td>\n",
       "      <td>44.831572</td>\n",
       "    </tr>\n",
       "    <tr>\n",
       "      <th>2</th>\n",
       "      <td>kyle rayner</td>\n",
       "      <td>44.400826</td>\n",
       "    </tr>\n",
       "    <tr>\n",
       "      <th>3</th>\n",
       "      <td>dinah lance</td>\n",
       "      <td>47.516717</td>\n",
       "    </tr>\n",
       "    <tr>\n",
       "      <th>4</th>\n",
       "      <td>arthur curry</td>\n",
       "      <td>42.966105</td>\n",
       "    </tr>\n",
       "    <tr>\n",
       "      <th>7</th>\n",
       "      <td>hal jordan</td>\n",
       "      <td>46.081912</td>\n",
       "    </tr>\n",
       "    <tr>\n",
       "      <th>8</th>\n",
       "      <td>kara zor-el</td>\n",
       "      <td>46.600265</td>\n",
       "    </tr>\n",
       "    <tr>\n",
       "      <th>9</th>\n",
       "      <td>john constantine</td>\n",
       "      <td>45.034924</td>\n",
       "    </tr>\n",
       "  </tbody>\n",
       "</table>\n",
       "</div>"
      ],
      "text/plain": [
       "               name  fan_rating\n",
       "0       barry allen   45.826457\n",
       "1    barbara gordon   44.831572\n",
       "2       kyle rayner   44.400826\n",
       "3       dinah lance   47.516717\n",
       "4      arthur curry   42.966105\n",
       "7        hal jordan   46.081912\n",
       "8       kara zor-el   46.600265\n",
       "9  john constantine   45.034924"
      ]
     },
     "execution_count": 29,
     "metadata": {},
     "output_type": "execute_result"
    }
   ],
   "source": [
    "df"
   ]
  },
  {
   "cell_type": "code",
   "execution_count": 9,
   "metadata": {
    "collapsed": true
   },
   "outputs": [],
   "source": [
    "# let's convert the content of the name column from\n",
    "# first & last to just first name\n",
    "# we do this by generating a function to do \n",
    "# the conversion on a single value"
   ]
  },
  {
   "cell_type": "code",
   "execution_count": 30,
   "metadata": {
    "collapsed": true
   },
   "outputs": [],
   "source": [
    "def fname_only(full_name):\n",
    "    # change\n",
    "    fname = full_name.split(' ')[0]\n",
    "    return fname"
   ]
  },
  {
   "cell_type": "code",
   "execution_count": 31,
   "metadata": {
    "collapsed": true
   },
   "outputs": [],
   "source": [
    "# the map() function associated with dataframe columns maps\n",
    "# the named function against\n",
    "# every item in every row of the given column\n",
    "# NOTE:\n",
    "#     Remember, pandas has several ways to refer to columns:\n",
    "#     0) when creating a new column, you must use bracket\n",
    "#        syntax: df['<colname>']\n",
    "#     1) to refer to an existing column, you are free to use either\n",
    "#        bracket syntax OR dot notation syntax: df.<colname>\n",
    "#        I find the dot notation easier to type, so defer\n",
    "#        to it when possible"
   ]
  },
  {
   "cell_type": "code",
   "execution_count": 32,
   "metadata": {},
   "outputs": [],
   "source": [
    "df['fname'] = df['name'].map(fname_only)"
   ]
  },
  {
   "cell_type": "code",
   "execution_count": 33,
   "metadata": {},
   "outputs": [
    {
     "data": {
      "text/html": [
       "<div>\n",
       "<style scoped>\n",
       "    .dataframe tbody tr th:only-of-type {\n",
       "        vertical-align: middle;\n",
       "    }\n",
       "\n",
       "    .dataframe tbody tr th {\n",
       "        vertical-align: top;\n",
       "    }\n",
       "\n",
       "    .dataframe thead th {\n",
       "        text-align: right;\n",
       "    }\n",
       "</style>\n",
       "<table border=\"1\" class=\"dataframe\">\n",
       "  <thead>\n",
       "    <tr style=\"text-align: right;\">\n",
       "      <th></th>\n",
       "      <th>name</th>\n",
       "      <th>fan_rating</th>\n",
       "      <th>fname</th>\n",
       "    </tr>\n",
       "  </thead>\n",
       "  <tbody>\n",
       "    <tr>\n",
       "      <th>0</th>\n",
       "      <td>barry allen</td>\n",
       "      <td>45.826457</td>\n",
       "      <td>barry</td>\n",
       "    </tr>\n",
       "    <tr>\n",
       "      <th>1</th>\n",
       "      <td>barbara gordon</td>\n",
       "      <td>44.831572</td>\n",
       "      <td>barbara</td>\n",
       "    </tr>\n",
       "    <tr>\n",
       "      <th>2</th>\n",
       "      <td>kyle rayner</td>\n",
       "      <td>44.400826</td>\n",
       "      <td>kyle</td>\n",
       "    </tr>\n",
       "    <tr>\n",
       "      <th>3</th>\n",
       "      <td>dinah lance</td>\n",
       "      <td>47.516717</td>\n",
       "      <td>dinah</td>\n",
       "    </tr>\n",
       "    <tr>\n",
       "      <th>4</th>\n",
       "      <td>arthur curry</td>\n",
       "      <td>42.966105</td>\n",
       "      <td>arthur</td>\n",
       "    </tr>\n",
       "    <tr>\n",
       "      <th>7</th>\n",
       "      <td>hal jordan</td>\n",
       "      <td>46.081912</td>\n",
       "      <td>hal</td>\n",
       "    </tr>\n",
       "    <tr>\n",
       "      <th>8</th>\n",
       "      <td>kara zor-el</td>\n",
       "      <td>46.600265</td>\n",
       "      <td>kara</td>\n",
       "    </tr>\n",
       "    <tr>\n",
       "      <th>9</th>\n",
       "      <td>john constantine</td>\n",
       "      <td>45.034924</td>\n",
       "      <td>john</td>\n",
       "    </tr>\n",
       "  </tbody>\n",
       "</table>\n",
       "</div>"
      ],
      "text/plain": [
       "               name  fan_rating    fname\n",
       "0       barry allen   45.826457    barry\n",
       "1    barbara gordon   44.831572  barbara\n",
       "2       kyle rayner   44.400826     kyle\n",
       "3       dinah lance   47.516717    dinah\n",
       "4      arthur curry   42.966105   arthur\n",
       "7        hal jordan   46.081912      hal\n",
       "8       kara zor-el   46.600265     kara\n",
       "9  john constantine   45.034924     john"
      ]
     },
     "execution_count": 33,
     "metadata": {},
     "output_type": "execute_result"
    }
   ],
   "source": [
    "df"
   ]
  },
  {
   "cell_type": "code",
   "execution_count": 14,
   "metadata": {
    "collapsed": true
   },
   "outputs": [],
   "source": [
    "# lastly, let's extract just the values out of\n",
    "#     the fname column.\n",
    "# this is a list-like object and will be used \n",
    "#     as the names for our horizontal bars later."
   ]
  },
  {
   "cell_type": "code",
   "execution_count": 34,
   "metadata": {
    "collapsed": true
   },
   "outputs": [],
   "source": [
    "people = df['fname'].values"
   ]
  },
  {
   "cell_type": "code",
   "execution_count": 35,
   "metadata": {},
   "outputs": [
    {
     "data": {
      "text/plain": [
       "numpy.ndarray"
      ]
     },
     "execution_count": 35,
     "metadata": {},
     "output_type": "execute_result"
    }
   ],
   "source": [
    "type(people)"
   ]
  },
  {
   "cell_type": "code",
   "execution_count": 36,
   "metadata": {},
   "outputs": [
    {
     "data": {
      "text/plain": [
       "array(['barry', 'barbara', 'kyle', 'dinah', 'arthur', 'hal', 'kara',\n",
       "       'john'], dtype=object)"
      ]
     },
     "execution_count": 36,
     "metadata": {},
     "output_type": "execute_result"
    }
   ],
   "source": [
    "people"
   ]
  },
  {
   "cell_type": "code",
   "execution_count": 37,
   "metadata": {
    "collapsed": true
   },
   "outputs": [],
   "source": [
    "# now we can put together a sequence that will\n",
    "# store the y position values. we'll use np.arange to\n",
    "# create an array of sequential values based on\n",
    "# the length of the people array\n",
    "# this will be used as a set of temporary names\n",
    "# for our horizontal bars...\n",
    "# ultimately, we will replace it with real names...\n",
    "\n",
    "# plus, we will save off the fan rating as a series for use\n",
    "# in the plotting software as the x values"
   ]
  },
  {
   "cell_type": "code",
   "execution_count": 38,
   "metadata": {
    "collapsed": true
   },
   "outputs": [],
   "source": [
    "y_pos = np.arange(len(people))\n",
    "\n",
    "performance = df['fan_rating']"
   ]
  },
  {
   "cell_type": "code",
   "execution_count": 39,
   "metadata": {
    "collapsed": true
   },
   "outputs": [],
   "source": [
    "# based on this preliminary work, we can generate a\n",
    "# simple horizontal bar chart\n",
    "# we give it y values and x values\n",
    "# and we tell it to show() the plot"
   ]
  },
  {
   "cell_type": "code",
   "execution_count": 40,
   "metadata": {},
   "outputs": [
    {
     "data": {
      "image/png": "[encoded data removed]",
      "text/plain": [
       "<Figure size 432x288 with 1 Axes>"
      ]
     },
     "metadata": {
      "needs_background": "light"
     },
     "output_type": "display_data"
    }
   ],
   "source": [
    "plt.barh(y_pos, performance)\n",
    "plt.show()"
   ]
  },
  {
   "cell_type": "code",
   "execution_count": 41,
   "metadata": {
    "collapsed": true
   },
   "outputs": [],
   "source": [
    "# presume we don't like the alignment of the names\n",
    "# against the horizontal bars.\n",
    "# we can align the names to the center of the bars."
   ]
  },
  {
   "cell_type": "code",
   "execution_count": 42,
   "metadata": {},
   "outputs": [
    {
     "data": {
      "image/png": "[encoded data removed]",
      "text/plain": [
       "<Figure size 432x288 with 1 Axes>"
      ]
     },
     "metadata": {
      "needs_background": "light"
     },
     "output_type": "display_data"
    }
   ],
   "source": [
    "plt.barh(y_pos, performance, align='edge')\n",
    "plt.show()"
   ]
  },
  {
   "cell_type": "code",
   "execution_count": 43,
   "metadata": {
    "collapsed": true
   },
   "outputs": [],
   "source": [
    "# what if we don't like the dark color? we can revise the color to have a\n",
    "# greater degree of transparency by setting the alpha characteristic"
   ]
  },
  {
   "cell_type": "code",
   "execution_count": 44,
   "metadata": {},
   "outputs": [
    {
     "data": {
      "image/png": "[encoded data removed]",
      "text/plain": [
       "<Figure size 432x288 with 1 Axes>"
      ]
     },
     "metadata": {
      "needs_background": "light"
     },
     "output_type": "display_data"
    }
   ],
   "source": [
    "plt.barh(y_pos, performance, alpha=0.4)\n",
    "plt.show()"
   ]
  },
  {
   "cell_type": "code",
   "execution_count": 45,
   "metadata": {
    "collapsed": true
   },
   "outputs": [],
   "source": [
    "# what if we don't like the default color? \n",
    "# we can revise the color as desired\n",
    "# matplotlib has a number of default colors:\n",
    "#     'r' stands for red"
   ]
  },
  {
   "cell_type": "code",
   "execution_count": 46,
   "metadata": {},
   "outputs": [
    {
     "data": {
      "image/png": "[encoded data removed]",
      "text/plain": [
       "<Figure size 432x288 with 1 Axes>"
      ]
     },
     "metadata": {
      "needs_background": "light"
     },
     "output_type": "display_data"
    }
   ],
   "source": [
    "plt.barh(y_pos, performance, align='center', alpha=0.4, color='r')\n",
    "plt.show()"
   ]
  },
  {
   "cell_type": "code",
   "execution_count": 47,
   "metadata": {
    "collapsed": true
   },
   "outputs": [],
   "source": [
    "# what if our data comes with some percentage of error?\n",
    "# this can be represented using an xerr parameter.\n",
    "# here, we again use random to generate a random \n",
    "# set of values that we can\n",
    "# then use to generate error bars. \n",
    "# in real life, you would have some\n",
    "# margin for error for all the values."
   ]
  },
  {
   "cell_type": "code",
   "execution_count": 48,
   "metadata": {},
   "outputs": [
    {
     "data": {
      "image/png": "[encoded data removed]",
      "text/plain": [
       "<Figure size 432x288 with 1 Axes>"
      ]
     },
     "metadata": {
      "needs_background": "light"
     },
     "output_type": "display_data"
    }
   ],
   "source": [
    "error = 2 * np.random.rand(len(people))\n",
    "\n",
    "plt.barh(y_pos, performance, xerr=error, \n",
    "        align='center', alpha=0.4, color='r')\n",
    "plt.show()"
   ]
  },
  {
   "cell_type": "code",
   "execution_count": 49,
   "metadata": {
    "collapsed": true
   },
   "outputs": [],
   "source": [
    "# this still leaves off info that most of us\n",
    "# would want, in terms of the\n",
    "# people names, title, axis labels, etc."
   ]
  },
  {
   "cell_type": "code",
   "execution_count": 50,
   "metadata": {},
   "outputs": [
    {
     "data": {
      "text/plain": [
       "Text(0.5, 1.0, \"Estimated Justice League's Fan Ratings\")"
      ]
     },
     "execution_count": 50,
     "metadata": {},
     "output_type": "execute_result"
    },
    {
     "data": {
      "image/png": "[encoded data removed]",
      "text/plain": [
       "<Figure size 432x288 with 1 Axes>"
      ]
     },
     "metadata": {
      "needs_background": "light"
     },
     "output_type": "display_data"
    }
   ],
   "source": [
    "plt.barh(y_pos, performance, xerr=error, \n",
    "         align='center', alpha=0.4, color='r')\n",
    "\n",
    "plt.yticks(y_pos, people)\n",
    "plt.xlabel('rating')\n",
    "plt.title(\"Estimated Justice League's Fan Ratings\")\n"
   ]
  },
  {
   "cell_type": "code",
   "execution_count": 51,
   "metadata": {},
   "outputs": [
    {
     "data": {
      "text/plain": [
       "<Figure size 432x288 with 0 Axes>"
      ]
     },
     "metadata": {},
     "output_type": "display_data"
    }
   ],
   "source": [
    "plt.savefig('hbar.png')\n",
    "plt.show()"
   ]
  },
  {
   "cell_type": "code",
   "execution_count": null,
   "metadata": {},
   "outputs": [],
   "source": [
    "\n"
   ]
  },
  {
   "cell_type": "code",
   "execution_count": 52,
   "metadata": {
    "collapsed": true
   },
   "outputs": [],
   "source": [
    "# creating a histogram with some additional features\n",
    "# (based heavily on an example from the matplotlib website...)\n",
    "# http://matplotlib.org/1.2.1/examples/api/histogram_demo.html\n",
    "\n",
    "# In addition to the basic histogram, this demo shows a few optional\n",
    "# features:\n",
    "#     * setting the number of data bins\n",
    "#     * the ''normed'' flag, which normalizes bin heights so that the\n",
    "#       integral of the histogram is 1. the resulting histogram is a\n",
    "#       probability density\n",
    "#     * setting the face color of the bars\n",
    "#     * setting the opacity (alpha value)\n",
    "\n",
    "# As always, we start by importing the appropriate libraries"
   ]
  },
  {
   "cell_type": "code",
   "execution_count": 53,
   "metadata": {
    "collapsed": true
   },
   "outputs": [],
   "source": [
    "import numpy as np\n",
    "import matplotlib.mlab as mlab\n",
    "import matplotlib.pyplot as plt"
   ]
  },
  {
   "cell_type": "code",
   "execution_count": 54,
   "metadata": {
    "collapsed": true
   },
   "outputs": [],
   "source": [
    "# we define some of the characteristics of our distribution:\n",
    "mu = 100       # mean of the distribution\n",
    "sigma = 15     # standard deviation of the distribution"
   ]
  },
  {
   "cell_type": "code",
   "execution_count": 55,
   "metadata": {
    "collapsed": true
   },
   "outputs": [],
   "source": [
    "# np.random.randn creates a random array of values taken from a\n",
    "# standard normal distribution\n",
    "# we can transform the distribution by multiplying the values by sigma and\n",
    "# by adding the mean mu"
   ]
  },
  {
   "cell_type": "code",
   "execution_count": 56,
   "metadata": {},
   "outputs": [
    {
     "name": "stdout",
     "output_type": "stream",
     "text": [
      "[133.13811785  63.77985645  89.22665449 ...  86.19067799  98.21351691\n",
      "  95.61678308]\n"
     ]
    }
   ],
   "source": [
    "x = mu + sigma * np.random.randn(10000)\n",
    "print(x)"
   ]
  },
  {
   "cell_type": "code",
   "execution_count": 57,
   "metadata": {
    "collapsed": true
   },
   "outputs": [],
   "source": [
    "# we set a specific number of bins that we will group our values into..."
   ]
  },
  {
   "cell_type": "code",
   "execution_count": 58,
   "metadata": {
    "collapsed": true
   },
   "outputs": [],
   "source": [
    "num_bins = 50"
   ]
  },
  {
   "cell_type": "code",
   "execution_count": 59,
   "metadata": {
    "collapsed": true
   },
   "outputs": [],
   "source": [
    "# next we create the data for the histogram\n",
    "# n = values (height) for each bar of the histogram\n",
    "# bins = the indicators that demarck the bins\n",
    "# patches = are the rectangle objects that represent each bar"
   ]
  },
  {
   "cell_type": "code",
   "execution_count": 60,
   "metadata": {},
   "outputs": [
    {
     "name": "stdout",
     "output_type": "stream",
     "text": [
      "[1.43162006e-04 4.77206688e-05 3.34044681e-04 3.34044681e-04\n",
      " 7.63530700e-04 5.72648025e-04 8.58972038e-04 1.86110608e-03\n",
      " 2.81551946e-03 2.86324013e-03 3.72221216e-03 5.63103891e-03\n",
      " 7.15810031e-03 8.44655837e-03 1.03553851e-02 1.19778879e-02\n",
      " 1.45070833e-02 1.67499547e-02 1.74657648e-02 2.05676082e-02\n",
      " 2.36217310e-02 2.48624684e-02 2.61986471e-02 2.61509265e-02\n",
      " 2.71053399e-02 2.49101891e-02 2.77257085e-02 2.26195970e-02\n",
      " 2.22378316e-02 2.10448149e-02 1.75134854e-02 1.69408374e-02\n",
      " 1.53660553e-02 1.25028152e-02 7.73074834e-03 8.54199971e-03\n",
      " 6.53773162e-03 5.48787691e-03 3.34044681e-03 2.81551946e-03\n",
      " 1.95654742e-03 1.28845806e-03 1.28845806e-03 7.63530700e-04\n",
      " 3.81765350e-04 2.86324013e-04 4.29486019e-04 1.90882675e-04\n",
      " 9.54413375e-05 9.54413375e-05]\n",
      "[ 48.93794685  51.0334749   53.12900295  55.224531    57.32005906\n",
      "  59.41558711  61.51111516  63.60664321  65.70217126  67.79769931\n",
      "  69.89322736  71.98875542  74.08428347  76.17981152  78.27533957\n",
      "  80.37086762  82.46639567  84.56192372  86.65745177  88.75297983\n",
      "  90.84850788  92.94403593  95.03956398  97.13509203  99.23062008\n",
      " 101.32614813 103.42167618 105.51720424 107.61273229 109.70826034\n",
      " 111.80378839 113.89931644 115.99484449 118.09037254 120.1859006\n",
      " 122.28142865 124.3769567  126.47248475 128.5680128  130.66354085\n",
      " 132.7590689  134.85459695 136.95012501 139.04565306 141.14118111\n",
      " 143.23670916 145.33223721 147.42776526 149.52329331 151.61882136\n",
      " 153.71434942]\n"
     ]
    },
    {
     "name": "stderr",
     "output_type": "stream",
     "text": [
      "/opt/tljh/user/lib/python3.6/site-packages/matplotlib/axes/_axes.py:6521: MatplotlibDeprecationWarning: \n",
      "The 'normed' kwarg was deprecated in Matplotlib 2.1 and will be removed in 3.1. Use 'density' instead.\n",
      "  alternative=\"'density'\", removal=\"3.1\")\n"
     ]
    },
    {
     "data": {
      "image/png": "[encoded data removed]",
      "text/plain": [
       "<Figure size 432x288 with 1 Axes>"
      ]
     },
     "metadata": {
      "needs_background": "light"
     },
     "output_type": "display_data"
    }
   ],
   "source": [
    "n, bins, patches = plt.hist(x, num_bins, normed=1,\n",
    "                            facecolor='green', alpha=0.5)\n",
    "print(n)\n",
    "print(bins)\n",
    "# print(patches)\n",
    "# for item in patches:\n",
    "#     print(item)\n",
    "\n",
    "plt.show()"
   ]
  },
  {
   "cell_type": "code",
   "execution_count": 61,
   "metadata": {
    "collapsed": true
   },
   "outputs": [],
   "source": [
    "# from here, we can add a 'best fit' line...\n",
    "# the normal probability density function (pdf) helps to answer the question:\n",
    "# \"how common are samples at a given value?'"
   ]
  },
  {
   "cell_type": "code",
   "execution_count": 62,
   "metadata": {},
   "outputs": [
    {
     "name": "stderr",
     "output_type": "stream",
     "text": [
      "/opt/tljh/user/lib/python3.6/site-packages/ipykernel_launcher.py:6: MatplotlibDeprecationWarning: scipy.stats.norm.pdf\n",
      "  \n"
     ]
    },
    {
     "data": {
      "image/png": "[encoded data removed]",
      "text/plain": [
       "<Figure size 432x288 with 1 Axes>"
      ]
     },
     "metadata": {
      "needs_background": "light"
     },
     "output_type": "display_data"
    }
   ],
   "source": [
    "n, bins, patches = plt.hist(x, num_bins,\n",
    "                            normed=1, \n",
    "                            facecolor='green',\n",
    "                            alpha=0.5)\n",
    "\n",
    "y = mlab.normpdf(bins, mu, sigma)\n",
    "plt.plot(bins, y, 'r--')\n",
    "\n",
    "plt.show()"
   ]
  },
  {
   "cell_type": "code",
   "execution_count": 63,
   "metadata": {},
   "outputs": [
    {
     "name": "stderr",
     "output_type": "stream",
     "text": [
      "/opt/tljh/user/lib/python3.6/site-packages/ipykernel_launcher.py:5: MatplotlibDeprecationWarning: scipy.stats.norm.pdf\n",
      "  \"\"\"\n"
     ]
    },
    {
     "data": {
      "image/png": "[encoded data removed]",
      "text/plain": [
       "<Figure size 432x288 with 1 Axes>"
      ]
     },
     "metadata": {
      "needs_background": "light"
     },
     "output_type": "display_data"
    }
   ],
   "source": [
    "# And let's add some labels...\n",
    "\n",
    "n, bins, patches = plt.hist(x, num_bins, normed=1,\n",
    "                            facecolor='blue', alpha=0.7)\n",
    "y = mlab.normpdf(bins, mu, sigma)\n",
    "plt.plot(bins, y, 'k--')\n",
    "\n",
    "plt.xlabel('Smarts')\n",
    "plt.ylabel('Probability')\n",
    "\n",
    "plt.show()"
   ]
  },
  {
   "cell_type": "code",
   "execution_count": 64,
   "metadata": {
    "collapsed": true
   },
   "outputs": [],
   "source": [
    "# the opening '$\\' and the closing '$' tags in the following commands enable you to\n",
    "# include italics in the title"
   ]
  },
  {
   "cell_type": "code",
   "execution_count": 65,
   "metadata": {},
   "outputs": [
    {
     "name": "stderr",
     "output_type": "stream",
     "text": [
      "/opt/tljh/user/lib/python3.6/site-packages/ipykernel_launcher.py:3: MatplotlibDeprecationWarning: scipy.stats.norm.pdf\n",
      "  This is separate from the ipykernel package so we can avoid doing imports until\n"
     ]
    },
    {
     "data": {
      "image/png": "[encoded data removed]",
      "text/plain": [
       "<Figure size 432x288 with 1 Axes>"
      ]
     },
     "metadata": {
      "needs_background": "light"
     },
     "output_type": "display_data"
    }
   ],
   "source": [
    "n, bins, patches = plt.hist(x, num_bins, normed=1,\n",
    "                            facecolor='red', alpha=0.5)\n",
    "y = mlab.normpdf(bins, mu, sigma)\n",
    "plt.plot(bins, y, 'ro')\n",
    "plt.xlabel('Smarts')\n",
    "plt.ylabel('Probability')\n",
    "\n",
    "plt.title(r'Histogram of IQ: $\\mu=100$, $\\sigma=15$')\n",
    "\n",
    "plt.show()"
   ]
  },
  {
   "cell_type": "code",
   "execution_count": 66,
   "metadata": {},
   "outputs": [
    {
     "name": "stderr",
     "output_type": "stream",
     "text": [
      "/opt/tljh/user/lib/python3.6/site-packages/ipykernel_launcher.py:3: MatplotlibDeprecationWarning: scipy.stats.norm.pdf\n",
      "  This is separate from the ipykernel package so we can avoid doing imports until\n"
     ]
    },
    {
     "data": {
      "image/png": "[encoded data removed]",
      "text/plain": [
       "<Figure size 432x288 with 1 Axes>"
      ]
     },
     "metadata": {
      "needs_background": "light"
     },
     "output_type": "display_data"
    },
    {
     "data": {
      "text/plain": [
       "<Figure size 432x288 with 0 Axes>"
      ]
     },
     "metadata": {},
     "output_type": "display_data"
    }
   ],
   "source": [
    "n, bins, patches = plt.hist(x, num_bins, normed=1,\n",
    "                            facecolor='blue', alpha=0.5)\n",
    "y = mlab.normpdf(bins, mu, sigma)\n",
    "plt.plot(bins, y, 'r--')\n",
    "plt.xlabel('Smarts')\n",
    "plt.ylabel('Probability')\n",
    "plt.title(r'Histogram of IQ: $\\mu=100$, $\\sigma=15$')\n",
    "\n",
    "plt.show()\n",
    "\n",
    "plt.savefig('hist.png')"
   ]
  },
  {
   "cell_type": "code",
   "execution_count": 67,
   "metadata": {
    "collapsed": true
   },
   "outputs": [],
   "source": [
    "# generate a scatter plot\n",
    "# (based heavily on an example from the matplotlib website...)\n",
    "# http://matplotlib.org/examples/shapes_and_collections/scatter_demo.html"
   ]
  },
  {
   "cell_type": "code",
   "execution_count": 68,
   "metadata": {
    "collapsed": true
   },
   "outputs": [],
   "source": [
    "import numpy as np\n",
    "import matplotlib.pyplot as plt\n",
    "import pandas as pd"
   ]
  },
  {
   "cell_type": "code",
   "execution_count": 69,
   "metadata": {
    "collapsed": true
   },
   "outputs": [],
   "source": [
    "# Let's read in a csv via pandas but keep only two of the columns"
   ]
  },
  {
   "cell_type": "code",
   "execution_count": 75,
   "metadata": {
    "collapsed": true
   },
   "outputs": [],
   "source": [
    "df = pd.read_csv('../universal_datasets/log_file_1000.csv', names=['name',\n",
    "                                                   'email',\n",
    "                                                   'fmip',\n",
    "                                                   'toip',\n",
    "                                                   'date',\n",
    "                                                   'lat',\n",
    "                                                   'long',\n",
    "                                                   'payload'],\n",
    "                                            nrows=35,\n",
    "                                            usecols=['lat', 'long'])"
   ]
  },
  {
   "cell_type": "code",
   "execution_count": 76,
   "metadata": {
    "collapsed": true
   },
   "outputs": [],
   "source": [
    "# next, let's create two arrays from the lat and long columns"
   ]
  },
  {
   "cell_type": "code",
   "execution_count": 77,
   "metadata": {},
   "outputs": [
    {
     "data": {
      "text/html": [
       "<div>\n",
       "<style scoped>\n",
       "    .dataframe tbody tr th:only-of-type {\n",
       "        vertical-align: middle;\n",
       "    }\n",
       "\n",
       "    .dataframe tbody tr th {\n",
       "        vertical-align: top;\n",
       "    }\n",
       "\n",
       "    .dataframe thead th {\n",
       "        text-align: right;\n",
       "    }\n",
       "</style>\n",
       "<table border=\"1\" class=\"dataframe\">\n",
       "  <thead>\n",
       "    <tr style=\"text-align: right;\">\n",
       "      <th></th>\n",
       "      <th>lat</th>\n",
       "      <th>long</th>\n",
       "    </tr>\n",
       "  </thead>\n",
       "  <tbody>\n",
       "    <tr>\n",
       "      <th>0</th>\n",
       "      <td>49.83160</td>\n",
       "      <td>8.01485</td>\n",
       "    </tr>\n",
       "    <tr>\n",
       "      <th>1</th>\n",
       "      <td>45.10327</td>\n",
       "      <td>11.68293</td>\n",
       "    </tr>\n",
       "    <tr>\n",
       "      <th>2</th>\n",
       "      <td>47.11673</td>\n",
       "      <td>10.35874</td>\n",
       "    </tr>\n",
       "    <tr>\n",
       "      <th>3</th>\n",
       "      <td>46.75616</td>\n",
       "      <td>11.47886</td>\n",
       "    </tr>\n",
       "    <tr>\n",
       "      <th>4</th>\n",
       "      <td>48.59134</td>\n",
       "      <td>12.30683</td>\n",
       "    </tr>\n",
       "    <tr>\n",
       "      <th>5</th>\n",
       "      <td>45.23082</td>\n",
       "      <td>10.90642</td>\n",
       "    </tr>\n",
       "    <tr>\n",
       "      <th>6</th>\n",
       "      <td>48.20129</td>\n",
       "      <td>10.54183</td>\n",
       "    </tr>\n",
       "    <tr>\n",
       "      <th>7</th>\n",
       "      <td>48.85730</td>\n",
       "      <td>9.23887</td>\n",
       "    </tr>\n",
       "    <tr>\n",
       "      <th>8</th>\n",
       "      <td>48.05990</td>\n",
       "      <td>9.97774</td>\n",
       "    </tr>\n",
       "    <tr>\n",
       "      <th>9</th>\n",
       "      <td>46.43865</td>\n",
       "      <td>8.50877</td>\n",
       "    </tr>\n",
       "    <tr>\n",
       "      <th>10</th>\n",
       "      <td>49.73236</td>\n",
       "      <td>11.51376</td>\n",
       "    </tr>\n",
       "    <tr>\n",
       "      <th>11</th>\n",
       "      <td>47.52949</td>\n",
       "      <td>10.77212</td>\n",
       "    </tr>\n",
       "    <tr>\n",
       "      <th>12</th>\n",
       "      <td>47.48082</td>\n",
       "      <td>9.57450</td>\n",
       "    </tr>\n",
       "    <tr>\n",
       "      <th>13</th>\n",
       "      <td>46.87952</td>\n",
       "      <td>7.83721</td>\n",
       "    </tr>\n",
       "    <tr>\n",
       "      <th>14</th>\n",
       "      <td>48.03074</td>\n",
       "      <td>10.41633</td>\n",
       "    </tr>\n",
       "    <tr>\n",
       "      <th>15</th>\n",
       "      <td>47.64781</td>\n",
       "      <td>11.90056</td>\n",
       "    </tr>\n",
       "    <tr>\n",
       "      <th>16</th>\n",
       "      <td>47.30706</td>\n",
       "      <td>8.47864</td>\n",
       "    </tr>\n",
       "    <tr>\n",
       "      <th>17</th>\n",
       "      <td>47.89841</td>\n",
       "      <td>11.66265</td>\n",
       "    </tr>\n",
       "    <tr>\n",
       "      <th>18</th>\n",
       "      <td>46.21873</td>\n",
       "      <td>9.56542</td>\n",
       "    </tr>\n",
       "    <tr>\n",
       "      <th>19</th>\n",
       "      <td>49.55200</td>\n",
       "      <td>11.59746</td>\n",
       "    </tr>\n",
       "    <tr>\n",
       "      <th>20</th>\n",
       "      <td>48.60361</td>\n",
       "      <td>9.28674</td>\n",
       "    </tr>\n",
       "    <tr>\n",
       "      <th>21</th>\n",
       "      <td>45.98007</td>\n",
       "      <td>9.14988</td>\n",
       "    </tr>\n",
       "    <tr>\n",
       "      <th>22</th>\n",
       "      <td>46.15439</td>\n",
       "      <td>8.44537</td>\n",
       "    </tr>\n",
       "    <tr>\n",
       "      <th>23</th>\n",
       "      <td>49.89778</td>\n",
       "      <td>8.25535</td>\n",
       "    </tr>\n",
       "    <tr>\n",
       "      <th>24</th>\n",
       "      <td>47.80911</td>\n",
       "      <td>11.51937</td>\n",
       "    </tr>\n",
       "    <tr>\n",
       "      <th>25</th>\n",
       "      <td>48.37042</td>\n",
       "      <td>11.56378</td>\n",
       "    </tr>\n",
       "    <tr>\n",
       "      <th>26</th>\n",
       "      <td>48.36901</td>\n",
       "      <td>8.26619</td>\n",
       "    </tr>\n",
       "    <tr>\n",
       "      <th>27</th>\n",
       "      <td>49.69216</td>\n",
       "      <td>8.72742</td>\n",
       "    </tr>\n",
       "    <tr>\n",
       "      <th>28</th>\n",
       "      <td>46.68394</td>\n",
       "      <td>10.58863</td>\n",
       "    </tr>\n",
       "    <tr>\n",
       "      <th>29</th>\n",
       "      <td>48.83732</td>\n",
       "      <td>12.12413</td>\n",
       "    </tr>\n",
       "    <tr>\n",
       "      <th>30</th>\n",
       "      <td>49.79903</td>\n",
       "      <td>9.05303</td>\n",
       "    </tr>\n",
       "    <tr>\n",
       "      <th>31</th>\n",
       "      <td>46.75312</td>\n",
       "      <td>12.34015</td>\n",
       "    </tr>\n",
       "    <tr>\n",
       "      <th>32</th>\n",
       "      <td>49.18048</td>\n",
       "      <td>10.75595</td>\n",
       "    </tr>\n",
       "    <tr>\n",
       "      <th>33</th>\n",
       "      <td>45.46586</td>\n",
       "      <td>10.67303</td>\n",
       "    </tr>\n",
       "    <tr>\n",
       "      <th>34</th>\n",
       "      <td>45.45445</td>\n",
       "      <td>11.04130</td>\n",
       "    </tr>\n",
       "  </tbody>\n",
       "</table>\n",
       "</div>"
      ],
      "text/plain": [
       "         lat      long\n",
       "0   49.83160   8.01485\n",
       "1   45.10327  11.68293\n",
       "2   47.11673  10.35874\n",
       "3   46.75616  11.47886\n",
       "4   48.59134  12.30683\n",
       "5   45.23082  10.90642\n",
       "6   48.20129  10.54183\n",
       "7   48.85730   9.23887\n",
       "8   48.05990   9.97774\n",
       "9   46.43865   8.50877\n",
       "10  49.73236  11.51376\n",
       "11  47.52949  10.77212\n",
       "12  47.48082   9.57450\n",
       "13  46.87952   7.83721\n",
       "14  48.03074  10.41633\n",
       "15  47.64781  11.90056\n",
       "16  47.30706   8.47864\n",
       "17  47.89841  11.66265\n",
       "18  46.21873   9.56542\n",
       "19  49.55200  11.59746\n",
       "20  48.60361   9.28674\n",
       "21  45.98007   9.14988\n",
       "22  46.15439   8.44537\n",
       "23  49.89778   8.25535\n",
       "24  47.80911  11.51937\n",
       "25  48.37042  11.56378\n",
       "26  48.36901   8.26619\n",
       "27  49.69216   8.72742\n",
       "28  46.68394  10.58863\n",
       "29  48.83732  12.12413\n",
       "30  49.79903   9.05303\n",
       "31  46.75312  12.34015\n",
       "32  49.18048  10.75595\n",
       "33  45.46586  10.67303\n",
       "34  45.45445  11.04130"
      ]
     },
     "execution_count": 77,
     "metadata": {},
     "output_type": "execute_result"
    }
   ],
   "source": [
    "df"
   ]
  },
  {
   "cell_type": "code",
   "execution_count": 78,
   "metadata": {
    "collapsed": true
   },
   "outputs": [],
   "source": [
    "latitudes = df['lat']\n",
    "longitudes = df['long']"
   ]
  },
  {
   "cell_type": "code",
   "execution_count": 79,
   "metadata": {
    "collapsed": true
   },
   "outputs": [],
   "source": [
    "# here we calculate the length of one of the arrays\n",
    "\n",
    "count = len(latitudes)"
   ]
  },
  {
   "cell_type": "code",
   "execution_count": 80,
   "metadata": {
    "collapsed": true
   },
   "outputs": [],
   "source": [
    "# we'll use numpy to create a random collections of numbers for use in defining colors\n",
    "# of the circles in our scatterplot"
   ]
  },
  {
   "cell_type": "code",
   "execution_count": 81,
   "metadata": {
    "collapsed": true
   },
   "outputs": [],
   "source": [
    "colors = np.random.rand(count)"
   ]
  },
  {
   "cell_type": "code",
   "execution_count": 82,
   "metadata": {
    "collapsed": true
   },
   "outputs": [],
   "source": [
    "# this step creates a random set of areas based on a radiuses from 0 to 20\n",
    "# we can imagine that this is indicative of a the frequency of communications OR\n",
    "# something similarly awesome and nerdy like that.\n",
    "# np.pi gives us pi to 15 decimal places\n",
    "# np.random.rand gives us random numbers from 0 to 1"
   ]
  },
  {
   "cell_type": "code",
   "execution_count": 83,
   "metadata": {
    "collapsed": true
   },
   "outputs": [],
   "source": [
    "areas = np.pi * (20 * np.random.rand(count))**2"
   ]
  },
  {
   "cell_type": "code",
   "execution_count": 84,
   "metadata": {
    "collapsed": true
   },
   "outputs": [],
   "source": [
    "# generate the scatter plot"
   ]
  },
  {
   "cell_type": "code",
   "execution_count": 85,
   "metadata": {},
   "outputs": [
    {
     "data": {
      "text/plain": [
       "<matplotlib.collections.PathCollection at 0x7fc99c292e10>"
      ]
     },
     "execution_count": 85,
     "metadata": {},
     "output_type": "execute_result"
    },
    {
     "data": {
      "image/png": "[encoded data removed]",
      "text/plain": [
       "<Figure size 432x288 with 1 Axes>"
      ]
     },
     "metadata": {
      "needs_background": "light"
     },
     "output_type": "display_data"
    }
   ],
   "source": [
    "plt.scatter(latitudes, longitudes, s=areas, c=colors) #, alpha=0.4)"
   ]
  },
  {
   "cell_type": "code",
   "execution_count": 86,
   "metadata": {
    "collapsed": true
   },
   "outputs": [],
   "source": [
    "# we chose to create stand alone variables (latitude, longitude) but these are not\n",
    "# required... we can just as happily read in directly from df.lat or df.long:\n",
    "# plt.scatter(df.lat, df.long, s=area, c=colors, alpha=0.4)"
   ]
  },
  {
   "cell_type": "code",
   "execution_count": 89,
   "metadata": {},
   "outputs": [
    {
     "data": {
      "text/plain": [
       "<Figure size 432x288 with 0 Axes>"
      ]
     },
     "metadata": {},
     "output_type": "display_data"
    }
   ],
   "source": [
    "plt.savefig('scatter.png')\n",
    "plt.show()"
   ]
  },
  {
   "cell_type": "code",
   "execution_count": null,
   "metadata": {
    "collapsed": true
   },
   "outputs": [],
   "source": [
    "plt.savefig?"
   ]
  }
 ],
 "metadata": {
  "kernelspec": {
   "display_name": "Python 3",
   "language": "python",
   "name": "python3"
  },
  "language_info": {
   "codemirror_mode": {
    "name": "ipython",
    "version": 3
   },
   "file_extension": ".py",
   "mimetype": "text/x-python",
   "name": "python",
   "nbconvert_exporter": "python",
   "pygments_lexer": "ipython3",
   "version": "3.6.8"
  }
 },
 "nbformat": 4,
 "nbformat_minor": 2
}
