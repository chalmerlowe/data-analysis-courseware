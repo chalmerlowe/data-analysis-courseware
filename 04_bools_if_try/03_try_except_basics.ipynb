{
 "cells": [
  {
   "cell_type": "markdown",
   "metadata": {
    "slideshow": {
     "slide_type": "slide"
    }
   },
   "source": [
    "# Welcome to the Dark Art of Coding:\n",
    "## Introduction to Python\n",
    "Try/Except\n",
    "\n",
    "<img src='../universal_images/dark_art_logo.600px.png' width='300' style=\"float:right\">"
   ]
  },
  {
   "cell_type": "markdown",
   "metadata": {
    "slideshow": {
     "slide_type": "slide"
    }
   },
   "source": [
    "# Objectives\n",
    "---"
   ]
  },
  {
   "cell_type": "markdown",
   "metadata": {
    "slideshow": {
     "slide_type": "subslide"
    }
   },
   "source": [
    "* Understand why `if/else` isn't always the answer\n",
    "* Discuss basic error handling syntax\n",
    "* Understand how to get some details about an error\n",
    "* Explore how to handle specific errors types when needed\n",
    "* Understand alternate handling when **no** errors are present\n",
    "* Identify how to perform cleanup/follow-on tasks, regardless of whether errors **do** OR **do not** occur"
   ]
  },
  {
   "cell_type": "markdown",
   "metadata": {},
   "source": [
    "# Errors happen\n",
    "---"
   ]
  },
  {
   "cell_type": "markdown",
   "metadata": {},
   "source": [
    "## When you code, errors will happen\n",
    "\n",
    "For beginners, some of the most common errors you will encounter are:\n",
    "\n",
    "* SyntaxError\n",
    "* TypeError\n",
    "* NameError\n",
    "* KeyError\n",
    "\n",
    "Errors such as these, will crash your Python script, causing your script to end.\n",
    "    "
   ]
  },
  {
   "cell_type": "markdown",
   "metadata": {},
   "source": [
    "## `try/except`\n",
    "\n",
    "At first glance, it might seem reasonable to attempt to identify error conditions using something like an `if/else` statement.\n",
    "\n",
    "To see why that may not be a suitable solution, let's give it a whirl, using the following scenario:\n",
    "\n",
    "We will create three variables, `dob` (date of birth), `year1`, and `year2`. But `year2` is incorrectly stored as a `str`."
   ]
  },
  {
   "cell_type": "code",
   "execution_count": 2,
   "metadata": {
    "collapsed": true,
    "scrolled": true
   },
   "outputs": [],
   "source": [
    "dob = 1990\n",
    "year1 = 2009\n",
    "year2 = '2010'"
   ]
  },
  {
   "cell_type": "markdown",
   "metadata": {},
   "source": [
    "When we run the following code, we will experience an error and the script will crash.\n",
    "\n",
    "The error message is somewhat complicated to read, but starting at the bottom, we see... Python returned a TypeError. We tried to do something and the type of object we used was the wrong object. The error message indicates that we tried to use the wrong type of operands for the minus (-) operator namely we tried to subtract an integer from a string."
   ]
  },
  {
   "cell_type": "code",
   "execution_count": 3,
   "metadata": {
    "collapsed": true,
    "scrolled": true
   },
   "outputs": [
    {
     "ename": "TypeError",
     "evalue": "unsupported operand type(s) for -: 'str' and 'int'",
     "output_type": "error",
     "traceback": [
      "\u001b[0;31m---------------------------------------------------------------------------\u001b[0m",
      "\u001b[0;31mTypeError\u001b[0m                                 Traceback (most recent call last)",
      "\u001b[0;32m<ipython-input-3-3b10a6d1d587>\u001b[0m in \u001b[0;36m<module>\u001b[0;34m\u001b[0m\n\u001b[1;32m      2\u001b[0m     \u001b[0mprint\u001b[0m\u001b[0;34m(\u001b[0m\u001b[0;34m'Customer is adult age'\u001b[0m\u001b[0;34m)\u001b[0m\u001b[0;34m\u001b[0m\u001b[0;34m\u001b[0m\u001b[0m\n\u001b[1;32m      3\u001b[0m \u001b[0;34m\u001b[0m\u001b[0m\n\u001b[0;32m----> 4\u001b[0;31m \u001b[0;32melif\u001b[0m \u001b[0myear2\u001b[0m \u001b[0;34m-\u001b[0m \u001b[0mdob\u001b[0m \u001b[0;34m>=\u001b[0m \u001b[0;36m21\u001b[0m\u001b[0;34m:\u001b[0m\u001b[0;34m\u001b[0m\u001b[0;34m\u001b[0m\u001b[0m\n\u001b[0m\u001b[1;32m      5\u001b[0m     \u001b[0mprint\u001b[0m\u001b[0;34m(\u001b[0m\u001b[0;34m'Customer is adult age'\u001b[0m\u001b[0;34m)\u001b[0m\u001b[0;34m\u001b[0m\u001b[0;34m\u001b[0m\u001b[0m\n\u001b[1;32m      6\u001b[0m \u001b[0;34m\u001b[0m\u001b[0m\n",
      "\u001b[0;31mTypeError\u001b[0m: unsupported operand type(s) for -: 'str' and 'int'"
     ]
    }
   ],
   "source": [
    "if year1 - dob >= 21:\n",
    "    print('Customer is adult age')\n",
    "\n",
    "elif year2 - dob >= 21:\n",
    "    print('Customer is adult age')  \n",
    "    \n",
    "else:\n",
    "    print(\"Customer age unknown\")\n",
    "    "
   ]
  },
  {
   "cell_type": "markdown",
   "metadata": {},
   "source": [
    "Python has a way to protect against such crashes with the `try/except` syntax.\n",
    "\n",
    "```python\n",
    "try:\n",
    "    # <code block>\n",
    "except:\n",
    "    # <code block>\n",
    "```"
   ]
  },
  {
   "cell_type": "markdown",
   "metadata": {},
   "source": [
    "Using the same variables, we see that this time, Python is able to gracefully identify that an error has occurred and respond in an appropriate way."
   ]
  },
  {
   "cell_type": "code",
   "execution_count": 7,
   "metadata": {},
   "outputs": [
    {
     "name": "stdout",
     "output_type": "stream",
     "text": [
      "Customer is adult age\n"
     ]
    }
   ],
   "source": [
    "# Better result using try/except\n",
    "\n",
    "dob = 1990\n",
    "year1 = 2009\n",
    "year2 = 2021\n",
    "\n",
    "try:\n",
    "    if year1 - dob >= 21:\n",
    "        print('Customer is adult age')\n",
    "\n",
    "    elif year2 - dob >= 21:\n",
    "        print('Customer is adult age')\n",
    "\n",
    "except:\n",
    "    print(\"Customer age unknown\")"
   ]
  },
  {
   "cell_type": "markdown",
   "metadata": {},
   "source": [
    "## Specific errors\n",
    "\n",
    "If we have specific errors that we want to except, we can do that...\n",
    "In fact, this is the preferred method of error handling:\n",
    "    \n",
    "```python\n",
    "try:\n",
    "    # <code block>\n",
    "except <err_name> as err:\n",
    "    # <code block>\n",
    "```"
   ]
  },
  {
   "cell_type": "markdown",
   "metadata": {},
   "source": [
    "In the following case, we used the wrong variable name. We used a name that has not been defined yet...\n",
    "\n",
    "We have not created a variable called `date_of_birth`\n",
    "\n",
    "We will see that this error is a `NameError`"
   ]
  },
  {
   "cell_type": "code",
   "execution_count": 8,
   "metadata": {},
   "outputs": [
    {
     "ename": "NameError",
     "evalue": "name 'date_of_birth' is not defined",
     "output_type": "error",
     "traceback": [
      "\u001b[0;31m---------------------------------------------------------------------------\u001b[0m",
      "\u001b[0;31mNameError\u001b[0m                                 Traceback (most recent call last)",
      "\u001b[0;32m<ipython-input-8-0075367a2c74>\u001b[0m in \u001b[0;36m<module>\u001b[0;34m\u001b[0m\n\u001b[1;32m      2\u001b[0m \u001b[0myear2\u001b[0m \u001b[0;34m=\u001b[0m \u001b[0;34m'2010'\u001b[0m\u001b[0;34m\u001b[0m\u001b[0;34m\u001b[0m\u001b[0m\n\u001b[1;32m      3\u001b[0m \u001b[0;34m\u001b[0m\u001b[0m\n\u001b[0;32m----> 4\u001b[0;31m \u001b[0;32mif\u001b[0m \u001b[0myear1\u001b[0m \u001b[0;34m-\u001b[0m \u001b[0mdate_of_birth\u001b[0m \u001b[0;34m>=\u001b[0m \u001b[0;36m21\u001b[0m\u001b[0;34m:\u001b[0m\u001b[0;34m\u001b[0m\u001b[0;34m\u001b[0m\u001b[0m\n\u001b[0m\u001b[1;32m      5\u001b[0m     \u001b[0mprint\u001b[0m\u001b[0;34m(\u001b[0m\u001b[0;34m'Customer is adult age'\u001b[0m\u001b[0;34m)\u001b[0m\u001b[0;34m\u001b[0m\u001b[0;34m\u001b[0m\u001b[0m\n\u001b[1;32m      6\u001b[0m \u001b[0;34m\u001b[0m\u001b[0m\n",
      "\u001b[0;31mNameError\u001b[0m: name 'date_of_birth' is not defined"
     ]
    }
   ],
   "source": [
    "year1 = 2009\n",
    "year2 = '2010'\n",
    "\n",
    "if year1 - date_of_birth >= 21:\n",
    "    print('Customer is adult age')\n",
    "\n",
    "elif year2 - date_of_birth >= 21:\n",
    "    print('Customer is adult age')  \n",
    "    \n",
    "else:\n",
    "    print(\"Customer age unknown\")"
   ]
  },
  {
   "cell_type": "markdown",
   "metadata": {},
   "source": [
    "If we want to ensure that we capture **ALL** `NameErrors` and allow all other errors to crash the system, we can flag for that type of error."
   ]
  },
  {
   "cell_type": "code",
   "execution_count": 9,
   "metadata": {},
   "outputs": [
    {
     "name": "stdout",
     "output_type": "stream",
     "text": [
      "This variable name 'date_of_birth' is not defined yet. You should fix that.\n"
     ]
    }
   ],
   "source": [
    "year1 = 2009\n",
    "year2 = '2010'\n",
    "\n",
    "try:\n",
    "    if year1 - date_of_birth >= 21:\n",
    "        print('Customer is adult age')\n",
    "\n",
    "    elif year2 - date_of_birth >= 21:\n",
    "        print('Customer is adult age')  \n",
    "\n",
    "except NameError as err:\n",
    "    print(\"This variable\", err, \"yet. You should fix that.\")"
   ]
  },
  {
   "cell_type": "markdown",
   "metadata": {},
   "source": [
    "## When no errors occur: `else`\n",
    "\n",
    "There will be cases where no error occurs. There are ways to respond in this case by using the `else` statement\n",
    "\n",
    "```python\n",
    "try:\n",
    "    # <code block>\n",
    "except <err_name> as err:\n",
    "    # <code block>\n",
    "else:\n",
    "    # <code block>\n",
    "```\n",
    "\n",
    "In the following code, we provide integers and strings that can safely be converted to integers and thus the code works properly and without error...\n",
    "\n",
    "And thus, the `else` statement executes as expected."
   ]
  },
  {
   "cell_type": "code",
   "execution_count": 10,
   "metadata": {},
   "outputs": [
    {
     "name": "stdout",
     "output_type": "stream",
     "text": [
      "42\n",
      "42\n",
      "\"else\" statements only happen if no errors occur.\n"
     ]
    }
   ],
   "source": [
    "num1 = 42\n",
    "num2 = '42'\n",
    "\n",
    "try:\n",
    "    print(int(num1))\n",
    "    print(int(num2))\n",
    "except:\n",
    "    print('Something went wrong!')\n",
    "    \n",
    "else:\n",
    "    print('\"else\" statements only happen if no errors occur.')"
   ]
  },
  {
   "cell_type": "markdown",
   "metadata": {},
   "source": [
    "But in the following case, `num3` can't be safely converted to an integer and an error is raised. Since an error was raised, the `else` statement does **NOT** execute."
   ]
  },
  {
   "cell_type": "code",
   "execution_count": 11,
   "metadata": {},
   "outputs": [
    {
     "name": "stdout",
     "output_type": "stream",
     "text": [
      "42\n",
      "42\n",
      "\"except\" statements occur when something goes WRONG!\n"
     ]
    }
   ],
   "source": [
    "num1 = 42\n",
    "num2 = '42'\n",
    "num3 = 'Forty-Two'      # The int() factory function won't be able to\n",
    "                        # convert a 'Forty-Two' string to a number\n",
    "\n",
    "try:\n",
    "    print(int(num1))\n",
    "    print(int(num2))\n",
    "    print(int(num3))    \n",
    "except:\n",
    "    print('\"except\" statements occur when something goes WRONG!')\n",
    "    \n",
    "else:\n",
    "    print('Everything went great!')"
   ]
  },
  {
   "cell_type": "markdown",
   "metadata": {},
   "source": [
    "## Follow-up whether or not an error occurs: `finally`\n",
    "\n",
    "In some cases you will want to follow-up regardless of whether an error occurs.\n",
    "\n",
    "```python\n",
    "try:\n",
    "    # <code block>\n",
    "except <err_name> as err:\n",
    "    # <code block>\n",
    "else:\n",
    "    # <code block>\n",
    "finally:\n",
    "    # <code block>\n",
    "```"
   ]
  },
  {
   "cell_type": "markdown",
   "metadata": {},
   "source": [
    "Lastly, in this case, there is often some follow-on code that you might want to run, regardless of whether an error occurs OR doesn't occur.\n",
    "\n",
    "* Close open files\n",
    "* Close connections to open databases\n",
    "* Document conditions in a log\n"
   ]
  },
  {
   "cell_type": "code",
   "execution_count": 12,
   "metadata": {},
   "outputs": [
    {
     "name": "stdout",
     "output_type": "stream",
     "text": [
      "42\n",
      "42\n",
      "\"except\" statements occur when something goes WRONG!\n",
      "\"finally\" statements happen, regardless of whether errors occur OR not\n"
     ]
    }
   ],
   "source": [
    "num1 = 42\n",
    "num2 = '42'\n",
    "num3 = 'Forty-Two'\n",
    "\n",
    "try:\n",
    "    print(int(num1))\n",
    "    print(int(num2))\n",
    "    print(int(num3))    \n",
    "\n",
    "except:\n",
    "    print('\"except\" statements occur when something goes WRONG!')\n",
    "    \n",
    "else:\n",
    "    print('Everything went great!')\n",
    "    \n",
    "finally:\n",
    "    print('\"finally\" statements happen, regardless of whether errors occur OR not')"
   ]
  },
  {
   "cell_type": "markdown",
   "metadata": {},
   "source": [
    "# Raising your own exceptions: `raise` and `Exception`\n",
    "\n",
    "There will be cases where you want to produce an error condition,\n",
    "but you don't want to use the existing Errors, or the nature of the error is not covered by the existing Errors.\n",
    "\n",
    "The `raise` keyword can cause an exception to be raised (i.e. it can cause your script to crash).\n",
    "\n",
    "The `Exception()` function can allow you to return a suitable error message.\n",
    "\n",
    "NOTE: there is a lot more to be said about the concept of errors, but they are\n",
    "beyond the scope of this conversation."
   ]
  },
  {
   "cell_type": "code",
   "execution_count": 13,
   "metadata": {},
   "outputs": [
    {
     "ename": "Exception",
     "evalue": "Your age does not meet the criteria: it must be between 50 and 60.",
     "output_type": "error",
     "traceback": [
      "\u001b[0;31m---------------------------------------------------------------------------\u001b[0m",
      "\u001b[0;31mException\u001b[0m                                 Traceback (most recent call last)",
      "\u001b[0;32m<ipython-input-13-49f472723631>\u001b[0m in \u001b[0;36m<module>\u001b[0;34m\u001b[0m\n\u001b[1;32m      4\u001b[0m     \u001b[0mprint\u001b[0m\u001b[0;34m(\u001b[0m\u001b[0;34m'Your age is between 50 and 60. Woot!'\u001b[0m\u001b[0;34m)\u001b[0m\u001b[0;34m\u001b[0m\u001b[0;34m\u001b[0m\u001b[0m\n\u001b[1;32m      5\u001b[0m \u001b[0;32melse\u001b[0m\u001b[0;34m:\u001b[0m\u001b[0;34m\u001b[0m\u001b[0;34m\u001b[0m\u001b[0m\n\u001b[0;32m----> 6\u001b[0;31m     \u001b[0;32mraise\u001b[0m \u001b[0mException\u001b[0m\u001b[0;34m(\u001b[0m\u001b[0;34m'Your age does not meet the criteria: it must be between 50 and 60.'\u001b[0m\u001b[0;34m)\u001b[0m\u001b[0;34m\u001b[0m\u001b[0;34m\u001b[0m\u001b[0m\n\u001b[0m",
      "\u001b[0;31mException\u001b[0m: Your age does not meet the criteria: it must be between 50 and 60."
     ]
    }
   ],
   "source": [
    "age = 42\n",
    "\n",
    "if 50 < age <= 60:\n",
    "    print('Your age is between 50 and 60. Woot!')\n",
    "else:\n",
    "    raise Exception('Your age does not meet the criteria: it must be between 50 and 60.')"
   ]
  },
  {
   "cell_type": "markdown",
   "metadata": {},
   "source": [
    "# Where can you find a summary of Python's Errors?\n",
    "\n",
    "[https://docs.python.org/3/library/exceptions.html](https://docs.python.org/3/library/exceptions.html)\n",
    "\n",
    "At the bottom of the page is a list of the builtin error types:\n",
    "\n",
    "```\n",
    "BaseException\n",
    " +-- SystemExit\n",
    " +-- KeyboardInterrupt\n",
    " +-- GeneratorExit\n",
    " +-- Exception\n",
    "      +-- StopIteration\n",
    "      +-- StopAsyncIteration\n",
    "      +-- ArithmeticError\n",
    "      |    +-- FloatingPointError\n",
    "      |    +-- OverflowError\n",
    "      |    +-- ZeroDivisionError\n",
    "      +-- AssertionError\n",
    "      +-- AttributeError\n",
    "      +-- BufferError\n",
    "      +-- EOFError\n",
    "      +-- ImportError\n",
    "           +-- ModuleNotFoundError\n",
    "      +-- LookupError\n",
    "      |    +-- IndexError\n",
    "      |    +-- KeyError\n",
    "      +-- MemoryError\n",
    "      +-- NameError\n",
    "      |    +-- UnboundLocalError\n",
    "      +-- OSError\n",
    "      |    +-- BlockingIOError\n",
    "      |    +-- ChildProcessError\n",
    "      |    +-- ConnectionError\n",
    "      |    |    +-- BrokenPipeError\n",
    "      |    |    +-- ConnectionAbortedError\n",
    "      |    |    +-- ConnectionRefusedError\n",
    "      |    |    +-- ConnectionResetError\n",
    "      |    +-- FileExistsError\n",
    "      |    +-- FileNotFoundError\n",
    "      |    +-- InterruptedError\n",
    "      |    +-- IsADirectoryError\n",
    "      |    +-- NotADirectoryError\n",
    "      |    +-- PermissionError\n",
    "      |    +-- ProcessLookupError\n",
    "      |    +-- TimeoutError\n",
    "      +-- ReferenceError\n",
    "      +-- RuntimeError\n",
    "      |    +-- NotImplementedError\n",
    "      |    +-- RecursionError\n",
    "      +-- SyntaxError\n",
    "      |    +-- IndentationError\n",
    "      |         +-- TabError\n",
    "      +-- SystemError\n",
    "      +-- TypeError\n",
    "      +-- ValueError\n",
    "      |    +-- UnicodeError\n",
    "      |         +-- UnicodeDecodeError\n",
    "      |         +-- UnicodeEncodeError\n",
    "      |         +-- UnicodeTranslateError\n",
    "      +-- Warning\n",
    "           +-- DeprecationWarning\n",
    "           +-- PendingDeprecationWarning\n",
    "           +-- RuntimeWarning\n",
    "           +-- SyntaxWarning\n",
    "           +-- UserWarning\n",
    "           +-- FutureWarning\n",
    "           +-- ImportWarning\n",
    "           +-- UnicodeWarning\n",
    "           +-- BytesWarning\n",
    "           +-- ResourceWarning\n",
    "```"
   ]
  },
  {
   "cell_type": "markdown",
   "metadata": {},
   "source": [
    "# Experience Points!\n",
    "---"
   ]
  },
  {
   "cell_type": "markdown",
   "metadata": {},
   "source": [
    "In your **text editor** create a simple script called `my_try_except.py` to do the following:\n",
    "\n",
    "Execute your script in **Jupyter** using the command `run my_try_except.py`.\n",
    "\n",
    "\n",
    "1. Create **variables**:\n",
    "   1. a variable with the number 500 as an integer AND the label: `microbe_ppm`.\n",
    "   1. a variable with the number 100 as an integer AND the label: `upper_limit`\n",
    "   1. a variable with the number 1000 as a string AND the label: `lethal_limit`\n",
    "   \n",
    "1. Create your **control flow**:\n",
    "   1. create a `try` statement with the following nested `if/elif` statements\n",
    "      1. check if microbe_ppm is less than the upper_limit\n",
    "         1. `print()` this string: 'Patient should show no symptoms'\n",
    "      1. check elif microbe_ppm is greater than the lethal_limit\n",
    "         1. `print()` this string: 'Patient will not survive'\n",
    "   1. create an `except` statement\n",
    "      1. `print()` this string: 'Cannot calculate patient status'"
   ]
  },
  {
   "cell_type": "markdown",
   "metadata": {},
   "source": [
    "When you complete this exercise, please put your green post-it on your monitor. \n",
    "\n",
    "If you want to continue on at your own-pace, please feel free to do so.\n",
    "\n",
    "<img src='../universal_images/green_sticky.300px.png' width='200' style='float:left'>"
   ]
  },
  {
   "cell_type": "code",
   "execution_count": 21,
   "metadata": {},
   "outputs": [
    {
     "name": "stdout",
     "output_type": "stream",
     "text": [
      "42\n",
      "42\n",
      "division by zero\n"
     ]
    }
   ],
   "source": [
    "num1 = 42\n",
    "num2 = '42'\n",
    "#num3 = 'Forty-Two'\n",
    "num4 = 0\n",
    "\n",
    "try:\n",
    "    print(int(num1))\n",
    "    print(int(num2))\n",
    "    # print(int(num3))\n",
    "    print(int(num2)/num4)\n",
    "\n",
    "except (ZeroDivisionError, ValueError) as err:\n",
    "    print(err)\n",
    "    \n",
    "    "
   ]
  },
  {
   "cell_type": "code",
   "execution_count": 22,
   "metadata": {},
   "outputs": [
    {
     "data": {
      "text/plain": [
       "'bob sue bob'"
      ]
     },
     "execution_count": 22,
     "metadata": {},
     "output_type": "execute_result"
    }
   ],
   "source": [
    "'{0} {1} {0}'.format('bob', 'sue')"
   ]
  },
  {
   "cell_type": "code",
   "execution_count": null,
   "metadata": {},
   "outputs": [],
   "source": []
  }
 ],
 "metadata": {
  "anaconda-cloud": {},
  "celltoolbar": "Slideshow",
  "kernelspec": {
   "display_name": "Python 3",
   "language": "python",
   "name": "python3"
  },
  "language_info": {
   "codemirror_mode": {
    "name": "ipython",
    "version": 3
   },
   "file_extension": ".py",
   "mimetype": "text/x-python",
   "name": "python",
   "nbconvert_exporter": "python",
   "pygments_lexer": "ipython3",
   "version": "3.6.8"
  }
 },
 "nbformat": 4,
 "nbformat_minor": 2
}
