{
 "cells": [
  {
   "cell_type": "markdown",
   "metadata": {
    "slideshow": {
     "slide_type": "slide"
    }
   },
   "source": [
    "# Welcome to the Dark Art of Coding:\n",
    "## Introduction to Python\n",
    "Code blocks, flow controls, if / elif / else\n",
    "\n",
    "<img src='../universal_images/dark_art_logo.600px.png' width='300' style=\"float:right\">"
   ]
  },
  {
   "cell_type": "markdown",
   "metadata": {},
   "source": [
    "# Objectives:\n",
    "---"
   ]
  },
  {
   "cell_type": "markdown",
   "metadata": {
    "slideshow": {
     "slide_type": "slide"
    }
   },
   "source": [
    "By the end of this lesson, students should be able to:\n",
    "\n",
    "* Understand and create code blocks\n",
    "* Understand and create simple flow controls (if/elif/else)\n",
    "* Understand and create nested controls\n",
    "* Understand and create two-way controls\n",
    "* Understand and create multiway controls"
   ]
  },
  {
   "cell_type": "markdown",
   "metadata": {},
   "source": [
    "# Code Blocks\n",
    "---"
   ]
  },
  {
   "cell_type": "markdown",
   "metadata": {
    "slideshow": {
     "slide_type": "slide"
    }
   },
   "source": [
    "* Blocks set apart chunks of code\n",
    "* Blocks are started with a **colon** at the end of the first line\n",
    "* Blocks are identified by **indentation** (Usually four **spaces**)\n",
    "* Blocks may contain other nested blocks\n",
    "* Blocks end when the code **'dedents'** back to an outer level\n",
    "\n",
    "**NOTE**: do not use tabs. Set your editor to **replace tabs with spaces**."
   ]
  },
  {
   "cell_type": "markdown",
   "metadata": {
    "slideshow": {
     "slide_type": "fragment"
    }
   },
   "source": [
    "```python\n",
    "block starting line:\n",
    "    indented code\n",
    "    indented code\n",
    "    nested block starting line:\n",
    "        indented code\n",
    "\n",
    "block starting line:\n",
    "    indented code\n",
    "```"
   ]
  },
  {
   "cell_type": "markdown",
   "metadata": {},
   "source": [
    "## Warning:\n",
    "\n",
    "**Tabs vs. Spaces**\n",
    "\n",
    "It is customary in Python to use spaces, four spaces, when indenting code blocks.\n",
    "\n",
    "Often, the **tab key** on your keyboard will create a `tab` character that is four spaces in width.\n",
    "\n",
    "Thus it is very easy to accidentally mix tabs and spaces.\n",
    "\n",
    "Python will balk at code that mixes tabs and spaces.\n",
    "\n",
    "**How to protect yourself**\n",
    "\n",
    "1. Set the preferences in your text editor to always insert spaces when the tab key is pressed\n",
    "1. If you get an error message about mixed tabs/spaces, turn on whitespace visibility in your text editor and look for mismatches similar to the one below.\n",
    "\n",
    "In this particular editor:\n",
    "\n",
    "* four dots is indicative of four spaces\n",
    "* the chevrons are indicative if a tab \n",
    "\n",
    "<img src='./04_images/tabs_vs_spaces.png' width='600' style=\"float:center\">"
   ]
  },
  {
   "cell_type": "markdown",
   "metadata": {},
   "source": [
    "# Flow control\n",
    "---"
   ]
  },
  {
   "cell_type": "markdown",
   "metadata": {
    "slideshow": {
     "slide_type": "slide"
    }
   },
   "source": [
    "There are several ways to control the flow of a program. We will look at various approaches:\n",
    "\n",
    "* an `if` statement\n",
    "* an `if / else` statement\n",
    "* a nested `if` statement\n",
    "* an `if / elif / else` statement\n"
   ]
  },
  {
   "cell_type": "markdown",
   "metadata": {
    "slideshow": {
     "slide_type": "slide"
    }
   },
   "source": [
    "## If statement\n",
    "\n",
    "* `if` keyword\n",
    "* Test condition\n",
    "* Colon\n",
    "* Code block\n",
    "\n",
    "In this example, we have a value that has been set for the variable `weapon`.\n",
    "\n",
    "We will then conduct several tests so our script can decide on a course of action, depending on what that value for `weapon` is.\n"
   ]
  },
  {
   "cell_type": "code",
   "execution_count": 1,
   "metadata": {
    "slideshow": {
     "slide_type": "slide"
    }
   },
   "outputs": [],
   "source": [
    "weapon = 'batarang'"
   ]
  },
  {
   "cell_type": "code",
   "execution_count": 5,
   "metadata": {
    "slideshow": {
     "slide_type": "slide"
    }
   },
   "outputs": [
    {
     "name": "stdout",
     "output_type": "stream",
     "text": [
      "It attacks swiftly\n"
     ]
    }
   ],
   "source": [
    "if weapon == 'batarang':\n",
    "    print('It attacks swiftly')    "
   ]
  },
  {
   "cell_type": "markdown",
   "metadata": {
    "slideshow": {
     "slide_type": "slide"
    }
   },
   "source": [
    "In this next example, we have the same set value for the variable `weapon`, but we will conduct two tests, one after the other."
   ]
  },
  {
   "cell_type": "code",
   "execution_count": 6,
   "metadata": {
    "slideshow": {
     "slide_type": "slide"
    }
   },
   "outputs": [
    {
     "name": "stdout",
     "output_type": "stream",
     "text": [
      "It attacks swiftly\n"
     ]
    }
   ],
   "source": [
    "if weapon == 'batarang':\n",
    "    print('It attacks swiftly')\n",
    "\n",
    "if weapon == 'bat-darts':\n",
    "    print('It has extra range') \n",
    "      \n",
    "# NOTE: both of these tests will run... even though the first test passed"
   ]
  },
  {
   "cell_type": "markdown",
   "metadata": {},
   "source": [
    "What are the pros and cons for the above approach?\n",
    "\n",
    "* Sometimes, it is important to test values for multiple conditions and maybe doing one test after another may be useful.\n",
    "* In other cases, such as this one, these tests are mutually exclusive, so if the first test is successful, there is no need to do the second."
   ]
  },
  {
   "cell_type": "markdown",
   "metadata": {
    "slideshow": {
     "slide_type": "slide"
    }
   },
   "source": [
    "## elif statement\n",
    "\n",
    "\n",
    "* `elif` keyword\n",
    "* Test condition\n",
    "* Colon\n",
    "* Code block\n",
    "\n",
    "In this example, we have a value that has been set for the variable `weapon`.\n",
    "\n",
    "We will then conduct several tests so our script can decide on a course of action, depending on what that value for `weapon` is."
   ]
  },
  {
   "cell_type": "code",
   "execution_count": 9,
   "metadata": {
    "slideshow": {
     "slide_type": "slide"
    }
   },
   "outputs": [
    {
     "name": "stdout",
     "output_type": "stream",
     "text": [
      "It attacks swiftly\n"
     ]
    }
   ],
   "source": [
    "weapon = 'batarang'\n",
    "\n",
    "if weapon == 'batarang':\n",
    "    print('It attacks swiftly')\n",
    "    \n",
    "elif weapon == 'bat-darts':\n",
    "    print('It has extra range')    \n",
    "    \n",
    "# NOTE: both of these tests ran, because the first test resulted in `False` "
   ]
  },
  {
   "cell_type": "markdown",
   "metadata": {
    "slideshow": {
     "slide_type": "slide"
    }
   },
   "source": [
    "Here we give assign the label `weapon` to an alternate value.\n",
    "\n",
    "We will then conduct several tests so our script can decide on a course of action, depending on what that value for `weapon` is."
   ]
  },
  {
   "cell_type": "code",
   "execution_count": null,
   "metadata": {
    "slideshow": {
     "slide_type": "slide"
    }
   },
   "outputs": [],
   "source": [
    "weapon = 'batarang'\n",
    "\n",
    "if weapon == 'batarang':\n",
    "    print('It attacks swiftly')\n",
    "    \n",
    "elif weapon == 'bat-darts':\n",
    "    print('It has extra range')  \n",
    "    \n",
    "# NOTE: this short-circuited after the first test  "
   ]
  },
  {
   "cell_type": "markdown",
   "metadata": {},
   "source": [
    "Short-circuiting your code can be very important as you begin to produce more sophisticated code. If you have a fast and easy to perform test that is likely to succeed often and a very slow and cumbersome test that will only pass once in a great while, it makes sense to order the tests appropriately:\n",
    "\n",
    "```\n",
    "if fast_test == result1:\n",
    "    # do x\n",
    "\n",
    "elif slow_test == result2:\n",
    "    # do y\n",
    "```"
   ]
  },
  {
   "cell_type": "markdown",
   "metadata": {
    "slideshow": {
     "slide_type": "slide"
    }
   },
   "source": [
    "## else statement\n",
    "\n",
    "\n",
    "* `else` keyword\n",
    "* **NO** test condition\n",
    "* Colon\n",
    "* Code block\n",
    "\n",
    "In this example, we have a value that has been set for the variable `weapon`.\n",
    "\n",
    "We will then conduct several tests so our script can decide on a course of action, depending on what that value for `weapon` is.\n",
    "\n",
    "In the end, we have a catch-all `else` statement, if none of the tests pass."
   ]
  },
  {
   "cell_type": "code",
   "execution_count": 10,
   "metadata": {
    "slideshow": {
     "slide_type": "subslide"
    }
   },
   "outputs": [
    {
     "name": "stdout",
     "output_type": "stream",
     "text": [
      "Could not identify the weapon\n"
     ]
    }
   ],
   "source": [
    "weapon = 'bat stungun'\n",
    "\n",
    "if weapon == 'batarang' or weapon == 'batgun' or weapon == 'smoke grenade':\n",
    "    print('It attacks swiftly')\n",
    "\n",
    "elif weapon == 'bat-darts':\n",
    "    print('It has more range')\n",
    "\n",
    "else:\n",
    "    print('Could not identify the weapon')"
   ]
  },
  {
   "cell_type": "markdown",
   "metadata": {
    "slideshow": {
     "slide_type": "slide"
    }
   },
   "source": [
    "For this next example, we will again look at the importance of ordering your tests correctly, not just in terms of fast tests versus slow tests, but in terms of ensuring that you get the correct answer, especially if you have multiple conditions to consider.\n",
    "\n",
    "In addition, in the example, we will use the `input()` method to accept a response from our user.\n",
    "\n",
    "As the user, type **51** into the input field, when asked for input."
   ]
  },
  {
   "cell_type": "code",
   "execution_count": 11,
   "metadata": {
    "slideshow": {
     "slide_type": "slide"
    }
   },
   "outputs": [
    {
     "name": "stdin",
     "output_type": "stream",
     "text": [
      "How many computers have been scanned? (reminder: type 51):  51\n"
     ]
    },
    {
     "name": "stdout",
     "output_type": "stream",
     "text": [
      "More than ten\n"
     ]
    }
   ],
   "source": [
    "# In this example, we will put in 51 when asked for input.\n",
    "\n",
    "hosts = int(input('How many computers have been scanned? (reminder: type 51): '))\n",
    "if hosts < 10:\n",
    "    print('Less than ten')\n",
    "\n",
    "elif hosts >= 10:\n",
    "    print('More than ten')\n",
    "\n",
    "elif hosts >= 50:\n",
    "    print('More than fifty')\n",
    "\n",
    "elif hosts > 500:\n",
    "    print('More than five hundred')\n",
    "    \n",
    "# This doesn't do what we expect... it does not display that we have more than\n",
    "#     50 computers.\n",
    "# Why not?"
   ]
  },
  {
   "cell_type": "markdown",
   "metadata": {
    "slideshow": {
     "slide_type": "subslide"
    }
   },
   "source": [
    "For the next example, we have reordered our tests to correctly capture all the conditions.\n"
   ]
  },
  {
   "cell_type": "code",
   "execution_count": 14,
   "metadata": {
    "slideshow": {
     "slide_type": "subslide"
    }
   },
   "outputs": [
    {
     "name": "stdin",
     "output_type": "stream",
     "text": [
      "How many computers have been scanned? (reminder: type 51):  0\n"
     ]
    },
    {
     "name": "stdout",
     "output_type": "stream",
     "text": [
      "Less than ten or equal to zero\n"
     ]
    }
   ],
   "source": [
    "# Once again, we will put in 51, when asked for input...\n",
    "\n",
    "hosts = int(input('How many computers have been scanned? (reminder: type 51): '))\n",
    "if hosts < 10 or hosts == 0:\n",
    "    print('Less than ten or equal to zero')\n",
    "\n",
    "elif hosts > 500:\n",
    "    print('More than five hundred')\n",
    "\n",
    "elif hosts >= 50:\n",
    "    print('More than fifty')\n",
    "\n",
    "elif hosts >= 10:\n",
    "    print('More than ten')\n",
    "    \n",
    "# This is more like it..."
   ]
  },
  {
   "cell_type": "code",
   "execution_count": 16,
   "metadata": {},
   "outputs": [
    {
     "name": "stdout",
     "output_type": "stream",
     "text": [
      "36.1 ns ± 0.626 ns per loop (mean ± std. dev. of 7 runs, 10000000 loops each)\n"
     ]
    }
   ],
   "source": []
  },
  {
   "cell_type": "markdown",
   "metadata": {},
   "source": [
    "## Nested if statements\n",
    "\n",
    "* `if` keyword\n",
    "* Test condition\n",
    "* Colon\n",
    "* Code block containing a second `if` keyword\n",
    "* Test condition\n",
    "* Colon\n",
    "* More deeply nested code block\n"
   ]
  },
  {
   "cell_type": "markdown",
   "metadata": {},
   "source": [
    "In this example, we will start with a phone number that we want to test for various conditions:\n",
    "\n",
    "* is it 12 characters in length?\n",
    "* if and only if it is 12 characters in length, we then do a secondary check to see if the phone number also contains hyphens"
   ]
  },
  {
   "cell_type": "code",
   "execution_count": 19,
   "metadata": {},
   "outputs": [
    {
     "name": "stdout",
     "output_type": "stream",
     "text": [
      "This phone number appears INVALID\n"
     ]
    }
   ],
   "source": [
    "phone_number = '808-555-121'\n",
    "\n",
    "if len(phone_number) == 12:\n",
    "    if '-' in phone_number:\n",
    "        print(\"This phone number appears valid\")\n",
    "\n",
    "else: \n",
    "    print('This phone number appears INVALID')\n",
    "\n",
    "    \n",
    "# This is more like it..."
   ]
  },
  {
   "cell_type": "markdown",
   "metadata": {},
   "source": [
    "## Nested if statements\n",
    "\n",
    "* `if` keyword\n",
    "* Test condition\n",
    "* Colon\n",
    "* Code block containing a second `if` keyword\n",
    "* Test condition\n",
    "* Colon\n",
    "* More deeply nested code block\n"
   ]
  },
  {
   "cell_type": "markdown",
   "metadata": {},
   "source": [
    "In this example, we will start with a phone number that we want to test for various conditions:\n",
    "\n",
    "* is it 12 characters in length?\n",
    "* if and only if it is 12 characters in length, we then do a secondary check to see if the phone number also contains hyphens"
   ]
  },
  {
   "cell_type": "code",
   "execution_count": null,
   "metadata": {},
   "outputs": [],
   "source": [
    "phone_number = '808-555-1212'\n",
    "\n",
    "if len(phone_number) == 12:\n",
    "    if '-' in phone_number:\n",
    "        print(\"This phone number appears valid\")\n",
    "\n",
    "else: \n",
    "    print('This phone number appears INVALID')\n",
    "\n",
    "    \n",
    "# This is more like it..."
   ]
  },
  {
   "cell_type": "markdown",
   "metadata": {},
   "source": [
    "# Experience Points!\n",
    "---\n"
   ]
  },
  {
   "cell_type": "markdown",
   "metadata": {
    "slideshow": {
     "slide_type": "slide"
    }
   },
   "source": [
    "In your **text editor** create a simple script called if_else.py to do the following:\n",
    "\n",
    "Execute your script in **Jupyter** using the command `run if_else.py`.\n",
    "\n",
    "I suggest that as you add each feature to your script that you run it right away to test it incrementally. \n",
    "\n",
    "1. Create a variable with your first name as a string AND save it with the label: `myfname`.\n",
    "1. Create a variable with your age as an integer AND save it with the label: `myage`.\n",
    "\n",
    "1. Use `input()` to prompt for your first name AND save it with the label: `fname`.\n",
    "1. Create an `if` statement to test whether `fname` is equivalent to `myfname`. \n",
    "1. In the `if` code block: \n",
    "   1. Use `input()` prompt for your age AND save it with the label: `age` \n",
    "   1. NOTE: don't forget to convert the value to an integer.\n",
    "   1. Create a nested `if` statement to do a follow-on test whether `myage` and `age` are equivalent.\n",
    "1. If both tests pass, have the script print: `Your identity has been verified`"
   ]
  },
  {
   "cell_type": "code",
   "execution_count": 21,
   "metadata": {},
   "outputs": [
    {
     "name": "stdin",
     "output_type": "stream",
     "text": [
      "who are you?  darklord\n",
      "how old are you?  42\n"
     ]
    },
    {
     "name": "stdout",
     "output_type": "stream",
     "text": [
      "your identity has been verified.\n"
     ]
    }
   ],
   "source": [
    "myfname = 'darklord'\n",
    "myage = 42\n",
    "\n",
    "fname = input('who are you? ')\n",
    "\n",
    "if fname == myfname:\n",
    "    age = int(input('how old are you? '))\n",
    "    \n",
    "    if myage == age:\n",
    "        print('your identity has been verified.')"
   ]
  },
  {
   "cell_type": "markdown",
   "metadata": {},
   "source": [
    "When you complete this exercise, please put your green post-it on your monitor. \n",
    "\n",
    "If you want to continue on at your own-pace, please feel free to do so.\n",
    "\n",
    "<img src='../universal_images/green_sticky.300px.png' width='200' style='float:left'>"
   ]
  }
 ],
 "metadata": {
  "anaconda-cloud": {},
  "celltoolbar": "Slideshow",
  "kernelspec": {
   "display_name": "Python 3",
   "language": "python",
   "name": "python3"
  },
  "language_info": {
   "codemirror_mode": {
    "name": "ipython",
    "version": 3
   },
   "file_extension": ".py",
   "mimetype": "text/x-python",
   "name": "python",
   "nbconvert_exporter": "python",
   "pygments_lexer": "ipython3",
   "version": "3.6.8"
  }
 },
 "nbformat": 4,
 "nbformat_minor": 2
}
