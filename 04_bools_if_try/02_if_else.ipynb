{
 "cells": [
  {
   "cell_type": "markdown",
   "metadata": {
    "slideshow": {
     "slide_type": "slide"
    }
   },
   "source": [
    "# Welcome to the Dark Art of Coding:\n",
    "## Introduction to Python\n",
    "Code blocks, flow controls, if / elif / else\n",
    "\n",
    "<img src='../universal_images/dark_art_logo.600px.png' width='300' style=\"float:right\">"
   ]
  },
  {
   "cell_type": "markdown",
   "metadata": {},
   "source": [
    "# Objectives:\n",
    "---"
   ]
  },
  {
   "cell_type": "markdown",
   "metadata": {
    "slideshow": {
     "slide_type": "slide"
    }
   },
   "source": [
    "By the end of this lesson, students should be able to:\n",
    "\n",
    "* Understand and create code blocks\n",
    "* Understand and create simple flow controls (if/elif/else)\n",
    "* Understand and create nested controls\n",
    "* Understand and create two-way controls\n",
    "* Understand and create multiway controls"
   ]
  },
  {
   "cell_type": "markdown",
   "metadata": {},
   "source": [
    "# Code Blocks\n",
    "---"
   ]
  },
  {
   "cell_type": "markdown",
   "metadata": {
    "slideshow": {
     "slide_type": "slide"
    }
   },
   "source": [
    "* Blocks set apart chunks of code\n",
    "* Blocks are started with a **colon**\n",
    "* Blocks are identified by **indentation** (Usually four **spaces**)\n",
    "* Blocks may contain other nested blocks\n",
    "* Blocks end when the code **'dedents'** back to a higher level\n",
    "\n",
    "**NOTE** > do not use tabs. Set your editor to **replace tabs with spaces**."
   ]
  },
  {
   "cell_type": "markdown",
   "metadata": {
    "slideshow": {
     "slide_type": "fragment"
    }
   },
   "source": [
    "```python\n",
    "block starting line:\n",
    "    indented code\n",
    "    indented code\n",
    "    nested block starting line:\n",
    "        indented code\n",
    "\n",
    "block starting line:\n",
    "    indented code\n",
    "```"
   ]
  },
  {
   "cell_type": "markdown",
   "metadata": {},
   "source": [
    "## Warning:\n",
    "\n",
    "**Tabs vs. Spaces**\n",
    "\n",
    "It is customary in Python to use spaces, four spaces, when indenting code blocks.\n",
    "\n",
    "Often, the **tab key** on your keyboard will create a `tab` character that is four spaces in width.\n",
    "\n",
    "Thus it is very easy to accidentally mix tabs and spaces.\n",
    "\n",
    "Python will balk at code that mixes tabs and spaces.\n",
    "\n",
    "**How to protect yourself**\n",
    "\n",
    "1. Set the preferences in your text editor to always insert spaces when the tab key is pressed\n",
    "1. If you get an error message about mixed tabs/spaces, turn on whitespace visibility in your text editor and look for mismatches similar to the one below.\n",
    "\n",
    "* four dots is indicative of four spaces\n",
    "* the chevrons are indicative if a tab (in this particular editor)\n",
    "\n",
    "<img src='./04_images/tabs_vs_spaces.png' width='600' style=\"float:center\">"
   ]
  },
  {
   "cell_type": "markdown",
   "metadata": {},
   "source": [
    "# Flow control\n",
    "---"
   ]
  },
  {
   "cell_type": "markdown",
   "metadata": {
    "slideshow": {
     "slide_type": "slide"
    }
   },
   "source": [
    "There are several ways to control the flow of a program. We will look at three of them:\n",
    "\n",
    "* `if`\n",
    "* `if / else`\n",
    "* `if / elif / else`\n"
   ]
  },
  {
   "cell_type": "markdown",
   "metadata": {
    "slideshow": {
     "slide_type": "slide"
    }
   },
   "source": [
    "## If statement\n",
    "\n",
    "<ul>\n",
    "<li><code>if</code> keyword</li>\n",
    "<li>Test condition</li>\n",
    "<li>Colon</li>\n",
    "<li>Code block</li>\n",
    "</ul>"
   ]
  },
  {
   "cell_type": "code",
   "execution_count": null,
   "metadata": {
    "slideshow": {
     "slide_type": "slide"
    }
   },
   "outputs": [],
   "source": [
    "weapon = 'batarang'\n",
    "if weapon == 'batarang':\n",
    "    print('It attacks swiftly')\n",
    "    \n",
    "if weapon == 'bat-darts':\n",
    "    print('It has extra range') \n",
    "    \n",
    "    \n",
    "# NOTE: both of these tests will run... even though the first test passed"
   ]
  },
  {
   "cell_type": "markdown",
   "metadata": {
    "slideshow": {
     "slide_type": "slide"
    }
   },
   "source": [
    "## elif statement\n",
    "\n",
    "\n",
    "* `elif` keyword\n",
    "* Test condition\n",
    "* Colon\n",
    "* Code block\n"
   ]
  },
  {
   "cell_type": "code",
   "execution_count": null,
   "metadata": {
    "slideshow": {
     "slide_type": "slide"
    }
   },
   "outputs": [],
   "source": [
    "weapon = 'bat-darts'\n",
    "if weapon == 'batarang':\n",
    "    print('It attacks swiftly')\n",
    "    \n",
    "elif weapon == 'bat-darts':\n",
    "    print('It has extra range')    \n",
    "    \n",
    "# NOTE: both of these tests ran    "
   ]
  },
  {
   "cell_type": "code",
   "execution_count": null,
   "metadata": {
    "slideshow": {
     "slide_type": "slide"
    }
   },
   "outputs": [],
   "source": [
    "weapon = 'batarang'\n",
    "if weapon == 'batarang':\n",
    "    print('It attacks swiftly')\n",
    "    \n",
    "elif weapon == 'bat-darts':\n",
    "    print('It has extra range')  \n",
    "    \n",
    "# NOTE: this short-circuited after the first test  "
   ]
  },
  {
   "cell_type": "markdown",
   "metadata": {
    "slideshow": {
     "slide_type": "slide"
    }
   },
   "source": [
    "## else statement\n",
    "\n",
    "\n",
    "* `else` keyword\n",
    "* **NO** test condition\n",
    "* Colon\n",
    "* Code block\n"
   ]
  },
  {
   "cell_type": "code",
   "execution_count": null,
   "metadata": {
    "slideshow": {
     "slide_type": "subslide"
    }
   },
   "outputs": [],
   "source": [
    "weapon = 'bat stungun'\n",
    "if weapon == 'batarang':\n",
    "    print('It attacks swiftly')\n",
    "\n",
    "elif weapon == 'bat-darts':\n",
    "    print('It has more range')\n",
    "\n",
    "else:\n",
    "    print('Could not identify the weapon')"
   ]
  },
  {
   "cell_type": "code",
   "execution_count": null,
   "metadata": {
    "slideshow": {
     "slide_type": "slide"
    }
   },
   "outputs": [],
   "source": [
    "# In this example, we will put in 51 when asked for input.\n",
    "\n",
    "hosts = int(input('How many computers have been scanned? '))\n",
    "if hosts < 10:\n",
    "    print('Less than ten')\n",
    "\n",
    "elif hosts >= 10:\n",
    "    print('More than ten')\n",
    "\n",
    "elif hosts >= 50:\n",
    "    print('More than fifty')\n",
    "\n",
    "elif hosts > 500:\n",
    "    print('More than five hundred')\n",
    "    \n",
    "# This doesn't do what we expect...\n",
    "# Why not?"
   ]
  },
  {
   "cell_type": "code",
   "execution_count": null,
   "metadata": {
    "slideshow": {
     "slide_type": "subslide"
    }
   },
   "outputs": [],
   "source": [
    "# Once again, we will put in 51, when asked for input...\n",
    "\n",
    "hosts = int(input('How many computers have been scanned? '))\n",
    "if hosts < 10:\n",
    "    print('Less than ten')\n",
    "\n",
    "elif hosts > 500:\n",
    "    print('More than five hundred')\n",
    "\n",
    "elif hosts >= 50:\n",
    "    print('More than fifty')\n",
    "\n",
    "elif hosts >= 10:\n",
    "    print('More than ten')\n",
    "    \n",
    "# This is more like it..."
   ]
  },
  {
   "cell_type": "markdown",
   "metadata": {},
   "source": [
    "# Experience Points!\n",
    "---\n"
   ]
  },
  {
   "cell_type": "markdown",
   "metadata": {
    "slideshow": {
     "slide_type": "slide"
    }
   },
   "source": [
    "In your **text editor** create a simple script called if_else.py to do the following:\n",
    "\n",
    "Execute your script in **Jupyter** using the command `run if_else.py`.\n",
    "\n",
    "I suggest that as you add each feature to your script that you run it right away to test it incrementally. \n",
    "\n",
    "1. Create a variable with your first name as a string AND save it with the label: `myfname`.\n",
    "1. Create a variable with your age as an integer AND save it with the label: `myage`.\n",
    "\n",
    "1. Use `input()` to prompt for your first name AND save it with the label: `fname`.\n",
    "1. Create an `if` statement to test whether `fname` is equivalent to `myfname`. \n",
    "1. In the `if` code block: \n",
    "   1. Use `input()` prompt for your age AND save it with the label: `age` \n",
    "   1. NOTE: don't forget to convert the value to an integer.\n",
    "   1. Create a nested `if` statement to test whether `myage` and `age` are equivalent.\n",
    "1. If both tests pass, have the script print: `Your identity has been verified`"
   ]
  },
  {
   "cell_type": "markdown",
   "metadata": {},
   "source": [
    "When you complete this exercise, please put your green post-it on your monitor. \n",
    "\n",
    "If you want to continue on at your own-pace, please feel free to do so.\n",
    "\n",
    "<img src='../universal_images/green_sticky.300px.png' width='200' style='float:left'>"
   ]
  },
  {
   "cell_type": "code",
   "execution_count": null,
   "metadata": {
    "collapsed": true
   },
   "outputs": [],
   "source": []
  },
  {
   "cell_type": "code",
   "execution_count": null,
   "metadata": {
    "collapsed": true
   },
   "outputs": [],
   "source": []
  }
 ],
 "metadata": {
  "anaconda-cloud": {},
  "celltoolbar": "Slideshow",
  "kernelspec": {
   "display_name": "Python 3",
   "language": "python",
   "name": "python3"
  },
  "language_info": {
   "codemirror_mode": {
    "name": "ipython",
    "version": 3
   },
   "file_extension": ".py",
   "mimetype": "text/x-python",
   "name": "python",
   "nbconvert_exporter": "python",
   "pygments_lexer": "ipython3",
   "version": "3.6.8"
  }
 },
 "nbformat": 4,
 "nbformat_minor": 2
}
