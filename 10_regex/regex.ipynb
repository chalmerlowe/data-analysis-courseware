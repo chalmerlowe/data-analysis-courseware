{
 "cells": [
  {
   "cell_type": "markdown",
   "metadata": {
    "slideshow": {
     "slide_type": "slide"
    }
   },
   "source": [
    "# Welcome to the Dark Art of Coding:\n",
    "## Introduction to Python\n",
    "regex - Regular Expressions\n",
    "\n",
    "<img src='../universal_images/dark_art_logo.600px.png' width='300' style=\"float:right\">"
   ]
  },
  {
   "cell_type": "markdown",
   "metadata": {
    "slideshow": {
     "slide_type": "slide"
    }
   },
   "source": [
    "In this session, students should expect to:\n",
    "\n",
    "* Understand the types of problems regular expressions are meant to solve\n",
    "* ...and not solve\n",
    "* Understand some of the most common regular expressions"
   ]
  },
  {
   "cell_type": "markdown",
   "metadata": {
    "slideshow": {
     "slide_type": "slide"
    }
   },
   "source": [
    "# What are *Regular Expressions*\n",
    "A regular expression is a special string used for pattern recognition and matching\n",
    "\n",
    "**PLEASE NOTE:** \n",
    "\n",
    "Regular expressions have their own set of syntax as part of a language separate from Python. \n",
    "\n",
    "Some of the syntax used may look similar to Python code but BE CAREFUL. \n",
    "\n",
    "Similarities match the **FORMAT**, but NOT the **FUNCTIONALITY** of Python syntax. \n",
    "\n",
    "`Regex` is different from Python and is used by multitudes of languages and programs."
   ]
  },
  {
   "cell_type": "markdown",
   "metadata": {},
   "source": [
    "*\"Some people, when confronted with a problem, think 'I know, I'll use regular expressions.' Now they have two problems.\"*\n",
    "\n",
    "\\- [Jamie Zawinski](http://regex.info/blog/2006-09-15/247)"
   ]
  },
  {
   "cell_type": "markdown",
   "metadata": {
    "slideshow": {
     "slide_type": "slide"
    }
   },
   "source": [
    "Imagine a typical phone number...\n",
    "\n",
    "**808-123-9876**\n",
    "\n",
    "I could make a function to look at a piece of text and tell me if it matches a phone number pattern.\n",
    "\n",
    "```python\n",
    "def isPhoneNumber(text):\n",
    "    if len(text) != 12:\n",
    "        return False\n",
    "```"
   ]
  },
  {
   "cell_type": "markdown",
   "metadata": {
    "slideshow": {
     "slide_type": "fragment"
    }
   },
   "source": [
    "```python\n",
    "    for i in range(0, 3):\n",
    "        if not text[i].isdecimal():\n",
    "            return False\n",
    "```"
   ]
  },
  {
   "cell_type": "markdown",
   "metadata": {
    "slideshow": {
     "slide_type": "fragment"
    }
   },
   "source": [
    "```python\n",
    "    if text[3] != '-':\n",
    "        return False\n",
    "```"
   ]
  },
  {
   "cell_type": "markdown",
   "metadata": {
    "slideshow": {
     "slide_type": "fragment"
    }
   },
   "source": [
    "```python\n",
    "    for i in range(4, 7):\n",
    "        if not text[i].isdecimal():\n",
    "            return False\n",
    "```"
   ]
  },
  {
   "cell_type": "markdown",
   "metadata": {
    "slideshow": {
     "slide_type": "fragment"
    }
   },
   "source": [
    "```python\n",
    "    if text[7] != '-':\n",
    "        return False\n",
    "```"
   ]
  },
  {
   "cell_type": "markdown",
   "metadata": {
    "slideshow": {
     "slide_type": "fragment"
    }
   },
   "source": [
    "```python\n",
    "    for i in range(8, 12):\n",
    "        if not text[i].isdecimal():\n",
    "            return False\n",
    "```"
   ]
  },
  {
   "cell_type": "markdown",
   "metadata": {
    "slideshow": {
     "slide_type": "fragment"
    }
   },
   "source": [
    "```python\n",
    "    return True\n",
    "```"
   ]
  },
  {
   "cell_type": "code",
   "execution_count": null,
   "metadata": {
    "collapsed": true,
    "slideshow": {
     "slide_type": "subslide"
    }
   },
   "outputs": [],
   "source": [
    "# If we pull this all together, the function looks \n",
    "#     something like this...\n",
    "#     fairly unwieldy\n",
    "\n",
    "def isPhoneNumber(text):\n",
    "    if len(text) != 12:\n",
    "        return False\n",
    "    for i in range(0, 3):\n",
    "        if not text[i].isdecimal():\n",
    "            return False\n",
    "    if text[3] != '-':\n",
    "        return False\n",
    "    for i in range(4, 7):\n",
    "        if not text[i].isdecimal():\n",
    "            return False\n",
    "    if text[7] != '-':\n",
    "        return False\n",
    "    for i in range(8, 12):\n",
    "        if not text[i].isdecimal():\n",
    "            return False\n",
    "    return True"
   ]
  },
  {
   "cell_type": "code",
   "execution_count": null,
   "metadata": {
    "slideshow": {
     "slide_type": "slide"
    }
   },
   "outputs": [],
   "source": [
    "# and when we test it, we find that it is...\n",
    "#     also not robust... it fails at \n",
    "#     detecting alternate versions\n",
    "#     without significant modifications\n",
    "\n",
    "print('Checking against: 465-814-0978')\n",
    "print(isPhoneNumber('465-814-0978'))\n",
    "\n",
    "print('-' * 40)\n",
    "\n",
    "print('Checking against: (808)814-0978')\n",
    "print(isPhoneNumber('(808)814-0978'))\n",
    "\n",
    "print('-' * 40)\n",
    "\n",
    "print('Checking against: not_a_number')\n",
    "print(isPhoneNumber('not_a_number'))\n"
   ]
  },
  {
   "cell_type": "code",
   "execution_count": null,
   "metadata": {
    "slideshow": {
     "slide_type": "subslide"
    }
   },
   "outputs": [],
   "source": [
    "# In addition, if we want to find variants within a larger string\n",
    "#     we have to jump through some hoops to parse the\n",
    "#     string manually in sequential fashion\n",
    "\n",
    "message = 'text me at 123-456-7890. call me at 098-765-4321 OR (808)814-0978'\n",
    "for i in range(len(message)):\n",
    "    # This for loop takes slices of the longer string\n",
    "    #     that start at index 'i' and end 12 characters\n",
    "    #     later and compares the pattern to those chunks\n",
    "    #     one at a time.\n",
    "    \n",
    "    chunk = message[i:i+12]\n",
    "    \n",
    "    if isPhoneNumber(chunk):\n",
    "        print('Found number: ' + chunk)\n",
    "    else:\n",
    "        print('No number found: ' + chunk)"
   ]
  },
  {
   "cell_type": "markdown",
   "metadata": {
    "slideshow": {
     "slide_type": "slide"
    }
   },
   "source": [
    "But wait, what about all these other formats?\n",
    "\n",
    "```\n",
    "456.789.0123\n",
    "\n",
    "(443)554-6655\n",
    "\n",
    "(443) 554-6655\n",
    "\n",
    "098 629 7452\n",
    "\n",
    "1-432-629-7451\n",
    "```"
   ]
  },
  {
   "cell_type": "code",
   "execution_count": null,
   "metadata": {
    "collapsed": true,
    "slideshow": {
     "slide_type": "slide"
    }
   },
   "outputs": [],
   "source": [
    "# Let's start by importing the regular expression module: 're'\n",
    "\n",
    "import re\n",
    "\n",
    "# Next, let's compile a pattern that we can use to find\n",
    "#     very generic phone numbers\n",
    "\n",
    "phonePattern = re.compile(r'\\d\\d\\d-\\d\\d\\d-\\d\\d\\d\\d')\n",
    "             # We use a raw string because typing: r'\\d\\d\\d'\n",
    "             # is easier than typing: '\\\\d\\\\d\\\\d'"
   ]
  },
  {
   "cell_type": "code",
   "execution_count": null,
   "metadata": {},
   "outputs": [],
   "source": [
    "# Let's test phonePattern to see what we got:\n",
    "\n",
    "print(type(phonePattern), phonePattern)"
   ]
  },
  {
   "cell_type": "code",
   "execution_count": null,
   "metadata": {
    "slideshow": {
     "slide_type": "fragment"
    }
   },
   "outputs": [],
   "source": [
    "# Using that pattern, we can compare that pattern\n",
    "#     against a string to see if the pattern appears \n",
    "#     anywhere in the string.\n",
    "\n",
    "matchObj = phonePattern.search('My number is 786-234-6273')\n",
    "\n",
    "# If a match is found, Python creates a Match Object\n",
    "#     which we will label matchObj.\n",
    "#     The Match Object stores attributes about the match\n",
    "#     that re found.\n",
    "#     The easiest way to see what was found is to \n",
    "#     call the .group() function."
   ]
  },
  {
   "cell_type": "code",
   "execution_count": null,
   "metadata": {
    "slideshow": {
     "slide_type": "fragment"
    }
   },
   "outputs": [],
   "source": [
    "print(type(matchObj), matchObj)"
   ]
  },
  {
   "cell_type": "code",
   "execution_count": null,
   "metadata": {
    "slideshow": {
     "slide_type": "fragment"
    }
   },
   "outputs": [],
   "source": [
    "print('found numbers:', matchObj.group())"
   ]
  },
  {
   "cell_type": "markdown",
   "metadata": {},
   "source": [
    "# What is a Match Object?\n",
    "\n",
    "**Match Objects** maintain a record of any matches that were made, as well as some of the details associated with the match. We will explores these in more depth as we go.\n",
    "\n",
    "Match Objects are only returned, if a match is found.\n",
    "\n",
    "If no match is found, then the value `None` is returned. \n",
    "\n",
    "For simple matches, a Match Object has a `.group()` method associated with the object."
   ]
  },
  {
   "cell_type": "code",
   "execution_count": null,
   "metadata": {
    "collapsed": true
   },
   "outputs": [],
   "source": [
    "# Calling the .group() method wil return the entire match\n",
    "\n",
    "matchObj.group()"
   ]
  },
  {
   "cell_type": "markdown",
   "metadata": {},
   "source": [
    "# Capture Groups\n",
    "---"
   ]
  },
  {
   "cell_type": "code",
   "execution_count": null,
   "metadata": {
    "collapsed": true,
    "slideshow": {
     "slide_type": "slide"
    }
   },
   "outputs": [],
   "source": [
    "# Sometimes it is not enough to find a match\n",
    "#     we may want to break up or segregate matches\n",
    "#     into submatches\n",
    "#     This is done using parenthesis to create 'capture groups'\n",
    "\n",
    "#                            |<cg 1>| |<capture grp 2>|\n",
    "\n",
    "phonePattern2 = re.compile(r'(\\d\\d\\d)-(\\d\\d\\d-\\d\\d\\d\\d)')\n",
    "\n",
    "matchObj = phonePattern2.search('My number is 786-234-6273')"
   ]
  },
  {
   "cell_type": "code",
   "execution_count": null,
   "metadata": {},
   "outputs": [],
   "source": [
    "# We can access both the entire match and/or any of the\n",
    "#     submatches / capture groups\n",
    "# To see the entire match, we use .group()\n",
    "\n",
    "print(matchObj.group())"
   ]
  },
  {
   "cell_type": "code",
   "execution_count": null,
   "metadata": {
    "slideshow": {
     "slide_type": "fragment"
    }
   },
   "outputs": [],
   "source": [
    "# By default, the .group() method stores the match as element \n",
    "#     zero, so .group(0) returns the same response.\n",
    "\n",
    "print(matchObj.group(0))"
   ]
  },
  {
   "cell_type": "code",
   "execution_count": null,
   "metadata": {
    "slideshow": {
     "slide_type": "fragment"
    }
   },
   "outputs": [],
   "source": [
    "# .group(1), on the other hand, returns the first capture group\n",
    "#     in this case, the area code.\n",
    "\n",
    "print(matchObj.group(1))"
   ]
  },
  {
   "cell_type": "code",
   "execution_count": null,
   "metadata": {
    "slideshow": {
     "slide_type": "fragment"
    }
   },
   "outputs": [],
   "source": [
    "# .group(2), returns the second capture group\n",
    "#     in this case, the subscriber number.\n",
    "\n",
    "print(matchObj.group(2))"
   ]
  },
  {
   "cell_type": "markdown",
   "metadata": {},
   "source": [
    "The matchObj also retains the index positions (start and stop)\n",
    "    of the match in the original string:\n",
    "\n",
    "```\n",
    "'My number is 786-234-6273'\n",
    " |    |       |          |\n",
    " 0    5      13         24\n",
    "```\n",
    "\n",
    "These index positions are available via the `.span()` method.\n",
    "\n",
    "Remember, Python slices go up to but **do not include** the \n",
    "last index."
   ]
  },
  {
   "cell_type": "code",
   "execution_count": null,
   "metadata": {},
   "outputs": [],
   "source": [
    "matchObj.span()\n",
    "\n",
    "# Blame it all on Dijkstra."
   ]
  },
  {
   "cell_type": "code",
   "execution_count": null,
   "metadata": {},
   "outputs": [],
   "source": [
    "# If you want to get back all the capture groups\n",
    "#     you can call the .groups() method \n",
    "\n",
    "print(matchObj.groups())"
   ]
  },
  {
   "cell_type": "code",
   "execution_count": null,
   "metadata": {
    "slideshow": {
     "slide_type": "fragment"
    }
   },
   "outputs": [],
   "source": [
    "# You can use tuple unpacking to assign\n",
    "#     labels to each capture group, provided you create a\n",
    "#     label for each capture group.\n",
    "\n",
    "\n",
    "areaCode, subscriberNumber = matchObj.groups()\n",
    "\n",
    "print(areaCode)\n",
    "print(subscriberNumber)"
   ]
  },
  {
   "cell_type": "markdown",
   "metadata": {},
   "source": [
    "# Experience Points!\n",
    "---"
   ]
  },
  {
   "cell_type": "markdown",
   "metadata": {},
   "source": [
    "**Part 0**\n",
    "\n",
    "In **Jupyter** do each of the following:\n",
    "\n",
    "Task | Sample Object(s)\n",
    ":---|:---\n",
    "`import` the regex module `re`|\n",
    "`re.compile()` a regex pattern that matches:|\n",
    ".|`12-34-56` OR any similar\n",
    ".|`nn-nn-nn` pattern\n",
    "`pattern.search()` the following string against your pattern|`'Can you find the number 99-66-33?'`\n",
    "Label the result as `matchObj`|\n",
    "`print()` the content of `.group()`|"
   ]
  },
  {
   "cell_type": "markdown",
   "metadata": {},
   "source": [
    "When you complete this exercise, please put your green post-it on your monitor. \n",
    "\n",
    "If you want to continue on at your own-pace, please feel free to do so.\n",
    "\n",
    "<img src='../universal_images/green_sticky.300px.png' width='200' style='float:left'>"
   ]
  },
  {
   "cell_type": "code",
   "execution_count": null,
   "metadata": {
    "collapsed": true
   },
   "outputs": [],
   "source": []
  },
  {
   "cell_type": "markdown",
   "metadata": {
    "slideshow": {
     "slide_type": "slide"
    }
   },
   "source": [
    "**Part 1**\n",
    "\n",
    "In **Jupyter** do each of the following:\n",
    "\n",
    "Task | Sample Object(s)\n",
    ":---|:---\n",
    "`re.compile()` a regex pattern that matches:|\n",
    ".|`123-34-5678` OR any similar\n",
    ".|social security number\n",
    ".|AND\n",
    ".|captures the first three digits\n",
    ".|AND\n",
    ".|the last three digits\n",
    "`pattern.search()` the following string against your pattern|`'which number 23-222-3333 OR 234-33-4455 is an SSN?`\n",
    "Label the result as `matchObj`|\n",
    "`print()` the content of `.group()`|\n",
    "`print()` the content of `.group(0)`|\n",
    "`print()` the content of `.group(1)`|\n",
    "`print()` the content of `.groups()`|\n",
    "`print()` the content of `.span()`|"
   ]
  },
  {
   "cell_type": "markdown",
   "metadata": {},
   "source": [
    "When you complete this exercise, please put your green post-it on your monitor. \n",
    "\n",
    "If you want to continue on at your own-pace, please feel free to do so.\n",
    "\n",
    "<img src='../universal_images/green_sticky.300px.png' width='200' style='float:left'>"
   ]
  },
  {
   "cell_type": "code",
   "execution_count": null,
   "metadata": {
    "collapsed": true
   },
   "outputs": [],
   "source": []
  },
  {
   "cell_type": "code",
   "execution_count": null,
   "metadata": {
    "slideshow": {
     "slide_type": "slide"
    }
   },
   "outputs": [],
   "source": [
    "# What if I want to match literal parenthesis?\n",
    "#     escape them using the '\\' character in a raw string\n",
    "#     the compile module will note them as literal \n",
    "#     parens, NOT capture group parens\n",
    "\n",
    "phoneRegex = re.compile(r'(\\(\\d\\d\\d\\)) (\\d\\d\\d-\\d\\d\\d\\d)')\n",
    "\n",
    "# There is nothing magical about the label matchObj:\n",
    "#     it is often used, but you can use any term you want\n",
    "#     for the Match Object\n",
    "\n",
    "phoneNum = phoneRegex.search('(808) 872-8204')\n",
    "print(phoneNum.groups())"
   ]
  },
  {
   "cell_type": "code",
   "execution_count": null,
   "metadata": {},
   "outputs": [],
   "source": [
    "# It is possible to match multiple patterns:\n",
    "#     Here, the pipe (|) character means OR.\n",
    "\n",
    "multiRegex = re.compile(r'hat|cat')\n",
    "\n",
    "# Note... search looks for only the FIRST match in a string...\n",
    "\n",
    "mObj1 = multiRegex.search('cat in the hat')\n",
    "print(mObj1.group())"
   ]
  },
  {
   "cell_type": "code",
   "execution_count": null,
   "metadata": {
    "slideshow": {
     "slide_type": "slide"
    }
   },
   "outputs": [],
   "source": [
    "# Let's do the same search on a different string to match\n",
    "#     hat instead. \n",
    "\n",
    "mObj2 = multiRegex.search('hat on a cat')\n",
    "print(mObj2.group())"
   ]
  },
  {
   "cell_type": "code",
   "execution_count": null,
   "metadata": {},
   "outputs": [],
   "source": [
    "# parenthesis are often used to group patterns you would like to \n",
    "#     OR together where they are just a part of a longer pattern\n",
    "#     here, we are looking for steel sword OR steel armor OR steel shield\n",
    "#     As before, those parens produce a capture group\n",
    "\n",
    "endRegex = re.compile(r'steel (shield|sword|armor)')\n",
    "mo = endRegex.search('grab the steel armor from the altar')\n",
    "print(mo.group())"
   ]
  },
  {
   "cell_type": "code",
   "execution_count": null,
   "metadata": {
    "slideshow": {
     "slide_type": "fragment"
    }
   },
   "outputs": [],
   "source": [
    "# Let's look at the capture group produced by the parens\n",
    "\n",
    "print(mo.group(1))"
   ]
  },
  {
   "cell_type": "markdown",
   "metadata": {},
   "source": [
    "# `.findall()`\n",
    "---"
   ]
  },
  {
   "cell_type": "code",
   "execution_count": null,
   "metadata": {
    "slideshow": {
     "slide_type": "slide"
    }
   },
   "outputs": [],
   "source": [
    "# For those times when you want to find all instances of \n",
    "#     a pattern, the findall() method is used\n",
    "#     NOTE: findall returns a list NOT a matchObj\n",
    "#     so your options are potentially more limited\n",
    "\n",
    "phoneRegex = re.compile(r'\\d\\d\\d-\\d\\d\\d-\\d\\d\\d\\d')\n",
    "phoneRegex.findall('Home: 726-282-0186, Cell: 873-193-8264')"
   ]
  },
  {
   "cell_type": "code",
   "execution_count": null,
   "metadata": {
    "collapsed": true
   },
   "outputs": [],
   "source": []
  },
  {
   "cell_type": "code",
   "execution_count": null,
   "metadata": {
    "slideshow": {
     "slide_type": "fragment"
    }
   },
   "outputs": [],
   "source": [
    "# In this case, capture groups still have some functionality...\n",
    "#    They break the match into submatches that are parsed out\n",
    "#    into tuples within the list\n",
    "#    One tuple per match\n",
    "\n",
    "phoneRegex = re.compile(r'((\\d\\d\\d)-(\\d\\d\\d)-(\\d\\d\\d\\d))')\n",
    "phoneRegex.findall('Home: 726-282-0186, Cell: 873-193-8264')"
   ]
  },
  {
   "cell_type": "markdown",
   "metadata": {},
   "source": [
    "# method chaining\n",
    "---"
   ]
  },
  {
   "cell_type": "code",
   "execution_count": null,
   "metadata": {
    "collapsed": true
   },
   "outputs": [],
   "source": [
    "# If you need to repeat a character OR string of characters\n",
    "#     OR a character class, you can tell the re module\n",
    "#     how many times to repeat using a number in {}\n",
    "\n",
    "haRegex = re.compile(r'(ha){3}')"
   ]
  },
  {
   "cell_type": "code",
   "execution_count": null,
   "metadata": {
    "collapsed": true,
    "slideshow": {
     "slide_type": "slide"
    }
   },
   "outputs": [],
   "source": [
    "# Also, if you simply need to get the string back, you can\n",
    "#     chain methods:\n",
    "\n",
    "result = haRegex.search('hehahahahahehe').group()\n",
    "print(result)\n",
    "\n",
    "# Instead of:\n",
    "\n",
    "result = haRegex.search('hehahahahahehe')\n",
    "print(result.group(), result.span())"
   ]
  },
  {
   "cell_type": "code",
   "execution_count": null,
   "metadata": {
    "collapsed": true,
    "slideshow": {
     "slide_type": "fragment"
    }
   },
   "outputs": [],
   "source": [
    "# If we want to find any sequence between 3 and 5 units long:\n",
    "#     we can use a range-style notation\n",
    "# WARNING: regex rules ARE NOT Python rules\n",
    "#          within this regex pattern, this will look for\n",
    "#          3 up to AND including 5 repetitions\n",
    "\n",
    "haRegex = re.compile(r'(ha){3,5}')"
   ]
  },
  {
   "cell_type": "code",
   "execution_count": null,
   "metadata": {
    "collapsed": true,
    "slideshow": {
     "slide_type": "subslide"
    }
   },
   "outputs": [],
   "source": [
    "# By default, regex is greedy, meaning if it can find\n",
    "# 3, 4 OR 5 sequence repetitions, it will default to matching\n",
    "# the most it can...\n",
    "\n",
    "haRegex.search('hahahahaha').group()"
   ]
  },
  {
   "cell_type": "code",
   "execution_count": null,
   "metadata": {
    "collapsed": true,
    "slideshow": {
     "slide_type": "fragment"
    }
   },
   "outputs": [],
   "source": [
    "# To alter this behavior, you can tell the regex module\n",
    "#     to be lazy, using the ?\n",
    "#     which will default to the shortest\n",
    "#     string that matches the pattern\n",
    "\n",
    "haRegex = re.compile(r'(ha){3,5}?')\n",
    "haRegex.search('hahahahaha').group()"
   ]
  },
  {
   "cell_type": "markdown",
   "metadata": {},
   "source": [
    "# Special sequences and symbols\n",
    "---"
   ]
  },
  {
   "cell_type": "markdown",
   "metadata": {
    "slideshow": {
     "slide_type": "slide"
    }
   },
   "source": [
    "|Special Sequences |Represents                                      |\n",
    "|:--------------:|:-----------------------------------------------|\n",
    "|\\d              |numeric digits 0-9                              |\n",
    "|\\D              |everything BUT digits 0-9                       |\n",
    "|\\w              |any letter, numeric or underscore character     |\n",
    "|\\W              |everything BUT letters, numerics, or underscores|\n",
    "|\\s              |spaces, tabs, and newline characters            |\n",
    "|\\S              |everything BUT spaces, tabs, and newlines       |"
   ]
  },
  {
   "cell_type": "markdown",
   "metadata": {
    "slideshow": {
     "slide_type": "slide"
    }
   },
   "source": [
    "|Regex symbols    |Their function                                         |\n",
    "|:---------------:|:------------------------------------------------------|\n",
    "|?                |matches zero or one (also drives lazy matching, see below|\n",
    "|\\*               |matches zero or more                                   |\n",
    "|+                |matches one or more                                    |\n",
    "|{n}              |matches exactly n                                      |\n",
    "|{n,}             |matches n or more                                      |\n",
    "|{,m}             |matches 0 to m                                         |\n",
    "|{n,m}            |matches at least n and at most m                       |\n",
    "|{n,m}?, \\*?, +?  |performs a non-greedy(lazy) match                      |\n",
    "|^spam            |the string must begin with spam                        |\n",
    "|spam$            |the string must end with spam                          |\n",
    "|.                |matches any character except newlines                  |\n",
    "|[abc]            |matches any character between the brackets             |\n",
    "|[^abc]           |matches any character but the ones between the brackets|"
   ]
  },
  {
   "cell_type": "code",
   "execution_count": null,
   "metadata": {
    "collapsed": true
   },
   "outputs": [],
   "source": [
    "mo = re.search(r'\\d', 'A1B2C3')\n",
    "mo.group()"
   ]
  },
  {
   "cell_type": "code",
   "execution_count": null,
   "metadata": {
    "collapsed": true
   },
   "outputs": [],
   "source": [
    "re.findall(r'\\d', 'A1B2C3')"
   ]
  },
  {
   "cell_type": "markdown",
   "metadata": {},
   "source": [
    "# Character classes\n",
    "---"
   ]
  },
  {
   "cell_type": "markdown",
   "metadata": {},
   "source": [
    "`\\d` and `\\w` are short cuts for character classes\n",
    "\n",
    "Character classes are patterns composed of specific characters or ranges of characters\n",
    "\n",
    "\n",
    "Task | Sample Object(s)\n",
    ":---|:---\n",
    "`[0-9]` |matches any **single** numeric character\n",
    "`[0-9][0-9]` |matches any **two** numeric characters\n",
    "`[0-9][0-9][a-z]` |matches any **two** numeric characters followed by one lowercase alpha character\n",
    "`[0-9]{3}` |matches any **three** numeric character\n",
    "`[0-9]{2,8}` |matches any **two** to **eight** numeric characters\n",
    "`[a-zA-Z]` |matches any lowercase OR uppercase alpha character\n",
    "`[a-zA-Z_.#]` |matches any lowercase OR uppercase alpha character OR underscore OR literal period or hashtag\n",
    "\n"
   ]
  },
  {
   "cell_type": "markdown",
   "metadata": {},
   "source": [
    "# Experience Points!\n",
    "---"
   ]
  },
  {
   "cell_type": "markdown",
   "metadata": {},
   "source": [
    "In **Jupyter** do each of the following:\n",
    "\n",
    "Task | Sample Object(s)\n",
    ":---|:---\n",
    "`import` the regex module `re`|\n",
    "`re.compile()` a Character Class regex pattern that matches:|\n",
    ".|uppercase letters AND these symbols: @, &, \\*\n",
    ".|repeats the Character Class three to five times|\n",
    "`.findall()` the following string against your pattern|`'Can you find &ME* or @YOU but not )WE'`\n",
    "Label the result as `matchObj`|\n"
   ]
  },
  {
   "cell_type": "markdown",
   "metadata": {},
   "source": [
    "When you complete this exercise, please put your green post-it on your monitor. \n",
    "\n",
    "If you want to continue on at your own-pace, please feel free to do so.\n",
    "\n",
    "<img src='../universal_images/green_sticky.300px.png' width='200' style='float:left'>"
   ]
  },
  {
   "cell_type": "code",
   "execution_count": null,
   "metadata": {
    "collapsed": true
   },
   "outputs": [],
   "source": [
    "import re\n",
    "patt = re.compile(r'[A-Z*&@]{3,5}')\n",
    "\n",
    "matchObj = patt.findall('Can you find &ME* or @YOU but not )WE')\n",
    "\n",
    "print(matchObj)"
   ]
  },
  {
   "cell_type": "markdown",
   "metadata": {},
   "source": [
    "# Flags\n",
    "---"
   ]
  },
  {
   "cell_type": "code",
   "execution_count": null,
   "metadata": {
    "collapsed": true,
    "slideshow": {
     "slide_type": "slide"
    }
   },
   "outputs": [],
   "source": [
    "# Flags\n",
    "\n",
    "re.IGNORECASE\n",
    "re.DOTALL\n",
    "re.VERBOSE"
   ]
  },
  {
   "cell_type": "code",
   "execution_count": null,
   "metadata": {
    "collapsed": true,
    "slideshow": {
     "slide_type": "subslide"
    }
   },
   "outputs": [],
   "source": [
    "helloRegex = re.compile(r'hello', re.IGNORECASE)\n",
    "print(helloRegex.findall('I said \"HELLO!\" to the man after he said hello to me'))"
   ]
  },
  {
   "cell_type": "code",
   "execution_count": null,
   "metadata": {
    "collapsed": true,
    "slideshow": {
     "slide_type": "fragment"
    }
   },
   "outputs": [],
   "source": [
    "# re.I is the equivalent of re.IGNORECASE\n",
    "\n",
    "helloRegex = re.compile(r'hello', re.I)"
   ]
  },
  {
   "cell_type": "code",
   "execution_count": null,
   "metadata": {
    "collapsed": true,
    "slideshow": {
     "slide_type": "slide"
    }
   },
   "outputs": [],
   "source": [
    "# dot (.) will match all characters except a newline\n",
    "# * will repeat the previous pattern multiple times\n",
    "\n",
    "dotallRegex = re.compile(r'.*')\n",
    "print(dotallRegex.search('Batman is love\\nBatman is life').group())"
   ]
  },
  {
   "cell_type": "code",
   "execution_count": null,
   "metadata": {
    "collapsed": true,
    "slideshow": {
     "slide_type": "fragment"
    }
   },
   "outputs": [],
   "source": [
    "# re.DOTALL overrides the except newline clause and \n",
    "#     allows dot (.)  to match even newlines\n",
    "\n",
    "dotallRegex = re.compile(r'.*', re.DOTALL)\n",
    "print(dotallRegex.search('Batman is love\\nBatman is life').group())"
   ]
  },
  {
   "cell_type": "markdown",
   "metadata": {},
   "source": [
    "# Verbose mode\n",
    "---"
   ]
  },
  {
   "cell_type": "code",
   "execution_count": null,
   "metadata": {
    "collapsed": true,
    "slideshow": {
     "slide_type": "slide"
    }
   },
   "outputs": [],
   "source": [
    "phoneRegex = re.compile(r'((\\d{3}|\\(\\d{3}\\))?(\\s|-|\\.)?\\d{3}(\\s|-|\\.)\\d{4}(\\s*(ext|x|ext.)\\s*\\d{2,5})?)')"
   ]
  },
  {
   "cell_type": "code",
   "execution_count": null,
   "metadata": {
    "collapsed": true,
    "slideshow": {
     "slide_type": "subslide"
    }
   },
   "outputs": [],
   "source": [
    "phoneRegex = re.compile(r'''(\n",
    "                            (\\d{3}|\\(\\d{3}\\))?\n",
    "                            (\\s|-|\\.)?          # space OR hyphen OR literal dot (lazy)\n",
    "                            \\d{3}\n",
    "                            (\\s|-|\\.)           # space OR hyphen OR literal dot \n",
    "                            \\d{4}\n",
    "                            (\\s*(ext|x|ext.)\\s*\\d{2,5})?     # variations on extensions\n",
    "                            )''', re.VERBOSE)"
   ]
  },
  {
   "cell_type": "code",
   "execution_count": null,
   "metadata": {
    "collapsed": true
   },
   "outputs": [],
   "source": [
    "phoneRegex.findall('(808) 234-1234 OR 808.234.1234 OR 808-234-1234 ext 42')"
   ]
  },
  {
   "cell_type": "code",
   "execution_count": null,
   "metadata": {
    "collapsed": true,
    "slideshow": {
     "slide_type": "slide"
    }
   },
   "outputs": [],
   "source": [
    "# It is possible to include multiple flags:\n",
    "# Also... be aware that by default, the regex module\n",
    "#     includes the re.UNICODE flag\n",
    "\n",
    "re.compile(r'example string', re.VERBOSE | re.IGNORECASE)"
   ]
  },
  {
   "cell_type": "markdown",
   "metadata": {},
   "source": [
    "# Experience Points!\n",
    "---"
   ]
  },
  {
   "cell_type": "markdown",
   "metadata": {},
   "source": [
    "In your **text editor** create a simple script called:\n",
    "\n",
    "```bash\n",
    "my_regex_01.py```\n",
    "\n",
    "Execute your script in **Jupyter** using the command:\n",
    "\n",
    "```bash\n",
    "run my_regex_01.py```\n",
    "\n",
    "I suggest that as you add each feature to your script that you run it right away to test it incrementally. \n",
    "\n",
    "1. Assign the label `test_one` to this string: `this_address@email.net`\n",
    "1. Assign the label `test_two` to this string: `USERname@aol.org`\n",
    "1. Assign the label `test_three` to this string: `my_thing@com`\n",
    "1. Assign the label `test_four` to this string: `domain.org`\n",
    "1. Assign the label `test_five` to this string: `words.42@website.ly`     \n",
    "1. `.compile()` a regex pattern that will match typical emails:\n",
    "    * text possibly containing letters, numbers, underscores and periods\n",
    "    * followed by an 'at' sign (@)\n",
    "    * followed by generic text \n",
    "    * followed by a period (.)\n",
    "    * followed by two or more letters\n",
    "\n",
    "1. Compare your pattern against each of the test phrases, one by one.\n",
    "1. `print()` the match group()\n",
    "\n",
    "1. Next, go back and edit your pattern to capture:\n",
    "    * the username (username)\n",
    "    * the domain (website.com)\n",
    "    * the top level domain (com)\n",
    "\n",
    "1. `print()` each member of the capture groups (`.group(1)`, `.group(2)`, etc)\n",
    "1. Lastly, create a long test string with multiple emails of your choice and use `.findall()` to find all the example emails."
   ]
  },
  {
   "cell_type": "markdown",
   "metadata": {},
   "source": [
    "When you complete this exercise, please put your green post-it on your monitor. \n",
    "\n",
    "If you want to continue on at your own-pace, please feel free to do so.\n",
    "\n",
    "<img src='../universal_images/green_sticky.300px.png' width='200' style='float:left'>"
   ]
  },
  {
   "cell_type": "code",
   "execution_count": null,
   "metadata": {},
   "outputs": [],
   "source": []
  }
 ],
 "metadata": {
  "anaconda-cloud": {},
  "celltoolbar": "Slideshow",
  "kernelspec": {
   "display_name": "Python 3",
   "language": "python",
   "name": "python3"
  },
  "language_info": {
   "codemirror_mode": {
    "name": "ipython",
    "version": 3
   },
   "file_extension": ".py",
   "mimetype": "text/x-python",
   "name": "python",
   "nbconvert_exporter": "python",
   "pygments_lexer": "ipython3",
   "version": "3.6.8"
  }
 },
 "nbformat": 4,
 "nbformat_minor": 2
}
