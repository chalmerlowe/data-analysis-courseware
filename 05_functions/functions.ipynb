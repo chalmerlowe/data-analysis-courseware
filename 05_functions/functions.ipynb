{
 "cells": [
  {
   "cell_type": "markdown",
   "metadata": {
    "slideshow": {
     "slide_type": "slide"
    }
   },
   "source": [
    "# Welcome to the Dark Art of Coding:\n",
    "## Introduction to Python\n",
    "Functions\n",
    "\n",
    "<img src='../images/dark_art_logo.600px.png' width='300' style=\"float:right\">"
   ]
  },
  {
   "cell_type": "markdown",
   "metadata": {},
   "source": [
    "# Objectives:\n",
    "---"
   ]
  },
  {
   "cell_type": "markdown",
   "metadata": {
    "slideshow": {
     "slide_type": "slide"
    }
   },
   "source": [
    "By the end of this lesson, students should be able to:\n",
    "\n",
    "* Understand when to use a function \n",
    "* Define your own function\n",
    "* Call a function that you have defined\n",
    "* Add parameters to a function definition\n",
    "* Understand the difference between fruitful and non-fruitful functions\n"
   ]
  },
  {
   "cell_type": "markdown",
   "metadata": {
    "slideshow": {
     "slide_type": "slide"
    }
   },
   "source": [
    "# When do you use a function?\n",
    "---"
   ]
  },
  {
   "cell_type": "code",
   "execution_count": null,
   "metadata": {
    "collapsed": true,
    "slideshow": {
     "slide_type": "subslide"
    }
   },
   "outputs": [],
   "source": [
    "# Here, I want to print three things in sequence.\n",
    "\n",
    "print('HP: 100')\n",
    "print('Mana: 50')\n",
    "print('Stamina: 35')"
   ]
  },
  {
   "cell_type": "code",
   "execution_count": null,
   "metadata": {
    "collapsed": true,
    "slideshow": {
     "slide_type": "fragment"
    }
   },
   "outputs": [],
   "source": [
    "# What if I want to print them again later...\n",
    "# Having to re-write the same code is a recipe for disaster\n",
    "# And is anathema to the lazy-programmer\n",
    "\n",
    "print('HP: 100')\n",
    "print('Mana: 50')\n",
    "print('Stamina: 35')"
   ]
  },
  {
   "cell_type": "code",
   "execution_count": null,
   "metadata": {
    "slideshow": {
     "slide_type": "slide"
    }
   },
   "outputs": [],
   "source": [
    "# Let's make a function that prints all three things for us.\n",
    "# Then let's call it (i.e. execute that function)\n",
    "\n",
    "def print_stats():\n",
    "    print('HP: 100')\n",
    "    print('Mana: 50')\n",
    "    print('Stamina: 35')\n",
    "\n",
    "    \n",
    "# ---------------------------------------\n",
    "\n",
    "print_stats()"
   ]
  },
  {
   "cell_type": "code",
   "execution_count": null,
   "metadata": {
    "slideshow": {
     "slide_type": "fragment"
    }
   },
   "outputs": [],
   "source": [
    "# if I want to do this twice... ie. display the stats early in our game\n",
    "# and then later in the game\n",
    "# we simply call it again to display the stats a second time\n",
    "\n",
    "print_stats()\n",
    "# game play continues...\n",
    "print()\n",
    "print('time passes, your hero does some heroing')\n",
    "print('making adventure great again')\n",
    "print()\n",
    "\n",
    "print_stats()"
   ]
  },
  {
   "cell_type": "markdown",
   "metadata": {},
   "source": [
    "# Experience Points!\n",
    "---"
   ]
  },
  {
   "cell_type": "markdown",
   "metadata": {
    "slideshow": {
     "slide_type": "slide"
    }
   },
   "source": [
    "In your **text editor** create a simple script called:\n",
    "\n",
    "```bash\n",
    "my_func_01.py```\n",
    "\n",
    "Execute your script in **Jupyter** using the command:\n",
    "\n",
    "```bash\n",
    "run my_func_01.py```\n",
    "\n",
    "Create a function called `me()` that prints out 3 things:\n",
    "\n",
    "* Your name\n",
    "* Your favorite food\n",
    "* Your favorite color\n",
    "\n",
    "Lastly, call the function, so that it executes when the script is run"
   ]
  },
  {
   "cell_type": "markdown",
   "metadata": {},
   "source": [
    "When you complete this exercise, please put your green post-it on your monitor. \n",
    "\n",
    "If you want to continue on at your own-pace, please feel free to do so.\n",
    "\n",
    "<img src='../images/green_sticky.300px.png' width='200' style='float:left'>"
   ]
  },
  {
   "cell_type": "code",
   "execution_count": null,
   "metadata": {
    "collapsed": true
   },
   "outputs": [],
   "source": []
  },
  {
   "cell_type": "code",
   "execution_count": null,
   "metadata": {
    "slideshow": {
     "slide_type": "subslide"
    }
   },
   "outputs": [],
   "source": [
    "def me():\n",
    "    print('dark lord of python')\n",
    "    print('sushi')\n",
    "    print('purple')\n",
    "    \n",
    "me()    "
   ]
  },
  {
   "cell_type": "markdown",
   "metadata": {
    "slideshow": {
     "slide_type": "slide"
    }
   },
   "source": [
    "# Simplest function with implicit return value\n",
    "\n",
    "\n",
    "<img src='invisible_output_function_black_box.png'>"
   ]
  },
  {
   "cell_type": "code",
   "execution_count": null,
   "metadata": {},
   "outputs": [],
   "source": [
    "def simplest_function():\n",
    "    print('sushi')\n",
    "   \n",
    "return_value = simplest_function()\n",
    "print(\"Return value:\", return_value)\n",
    "\n",
    "# Because this function does not have a return statement,\n",
    "#     it does not explicitly return a value of your choosing, but...\n",
    "#     it implicitly returns a None"
   ]
  },
  {
   "cell_type": "markdown",
   "metadata": {},
   "source": [
    "Functions that do not return an explicit value are often called **void** functions or **non-fruitful**."
   ]
  },
  {
   "cell_type": "markdown",
   "metadata": {
    "slideshow": {
     "slide_type": "fragment"
    }
   },
   "source": [
    "# Function with an explicit return value(s)\n",
    "\n",
    "<img src='no_input_function_black_box.png'>"
   ]
  },
  {
   "cell_type": "code",
   "execution_count": null,
   "metadata": {},
   "outputs": [],
   "source": [
    "def explicit_return():\n",
    "    print('sushi')\n",
    "    return '42'\n",
    "   \n",
    "return_value = explicit_return()\n",
    "print(\"Return value:\", return_value)\n",
    "\n",
    "# This function had a return statement, so it explicitly returns a value"
   ]
  },
  {
   "cell_type": "markdown",
   "metadata": {},
   "source": [
    "Functions that return an explicit value are often called **fruitful** functions."
   ]
  },
  {
   "cell_type": "markdown",
   "metadata": {
    "slideshow": {
     "slide_type": "fragment"
    }
   },
   "source": [
    "# Function with argument(s) and an explicit return value(s)\n",
    "\n",
    "<img src='function_black_box.png'>"
   ]
  },
  {
   "cell_type": "code",
   "execution_count": null,
   "metadata": {},
   "outputs": [],
   "source": [
    "# an example that takes in arguments and returns outputs\n",
    "\n",
    "def with_arguments(food):\n",
    "    print(food)\n",
    "    return 13\n",
    "   \n",
    "return_value = with_arguments('sushi')\n",
    "print(\"Return value:\", return_value)"
   ]
  },
  {
   "cell_type": "code",
   "execution_count": null,
   "metadata": {
    "slideshow": {
     "slide_type": "fragment"
    }
   },
   "outputs": [],
   "source": [
    "# an example with multiple arguments\n",
    "\n",
    "def attack(weapon, strength, armor):\n",
    "    print('You attacked with:', weapon)\n",
    "    print('You used:', strength, 'strength')\n",
    "    print('The enemy has:', armor, 'armor')\n",
    "\n",
    "attack('sword', 5, 10)"
   ]
  },
  {
   "cell_type": "code",
   "execution_count": null,
   "metadata": {
    "slideshow": {
     "slide_type": "subslide"
    }
   },
   "outputs": [],
   "source": [
    "# Another example with an argument, that doesn't use return\n",
    "\n",
    "def welcome(name):\n",
    "    phrase = 'Welcome, your name is: ' + name\n",
    "    print(phrase)\n",
    "\n",
    "# --------------------------------------\n",
    "\n",
    "welcome('dark lord of python')"
   ]
  },
  {
   "cell_type": "code",
   "execution_count": null,
   "metadata": {
    "collapsed": true,
    "slideshow": {
     "slide_type": "fragment"
    }
   },
   "outputs": [],
   "source": [
    "# Another example with an argument, that uses return\n",
    "\n",
    "def welcome(name):\n",
    "    phrase = 'Welcome, your name is: ' + name\n",
    "    return phrase\n",
    "\n",
    "# --------------------------------------\n",
    "\n",
    "greeting = welcome('dark lord of python')\n",
    "\n",
    "# Because we want to capture the return value, we assign it a label for\n",
    "#     later use"
   ]
  },
  {
   "cell_type": "code",
   "execution_count": null,
   "metadata": {},
   "outputs": [],
   "source": [
    "print(greeting)"
   ]
  },
  {
   "cell_type": "code",
   "execution_count": null,
   "metadata": {
    "slideshow": {
     "slide_type": "subslide"
    }
   },
   "outputs": [],
   "source": [
    "# Example with a docstring\n",
    "\n",
    "def double(num):\n",
    "    '''It is customary to comment functions\n",
    "    using documentation strings (or docstrings)\n",
    "    This function doubles any number you give it'''\n",
    "    \n",
    "    num = num * 2\n",
    "    return num\n",
    "\n",
    "double(42)"
   ]
  },
  {
   "cell_type": "code",
   "execution_count": null,
   "metadata": {
    "collapsed": true
   },
   "outputs": [],
   "source": [
    "def exchange(value, rate):\n",
    "    '''This awesome function calculates the exchange result\n",
    "    given a value and a rate'''\n",
    "    \n",
    "    result = value * rate * 1.01\n",
    "    return result\n",
    "\n"
   ]
  },
  {
   "cell_type": "code",
   "execution_count": null,
   "metadata": {},
   "outputs": [],
   "source": [
    "# Using the exchange function, we can call the function over \n",
    "#    and over again with various values.\n",
    "\n",
    "print(exchange(100, 0.95))\n",
    "print(exchange(100, 0.90))\n",
    "print(exchange(100, 0.92))\n",
    "print(exchange(100, 1.05))\n",
    "print(exchange(100, 0.95))\n",
    "print(exchange(100, 2.00))\n",
    "print(exchange(100, 0.89))"
   ]
  },
  {
   "cell_type": "markdown",
   "metadata": {},
   "source": [
    "# Experience Points!\n",
    "---"
   ]
  },
  {
   "cell_type": "markdown",
   "metadata": {},
   "source": [
    "In your **text editor** create a simple script called:\n",
    "\n",
    "```bash\n",
    "my_func_02.py```\n",
    "\n",
    "Execute your script in **Jupyter** using the command:\n",
    "\n",
    "```bash\n",
    "run my_func_02.py```\n",
    "\n",
    "Create a function called:\n",
    "\n",
    "```python\n",
    "microbe_growth()\n",
    "``` \n",
    "\n",
    "that prints out the growth of microbes:\n",
    "\n",
    "* include an argument or parameter labeled: `initial_count`\n",
    "* include an argument labeled: `rate`\n",
    "* return the result of `initial_count` * `rate`\n",
    "* call the function, so that it executes when the script is run\n",
    "* store the returned value in a variable labeled: `projected_population`\n",
    "* print() the value stored in `projected_population`"
   ]
  },
  {
   "cell_type": "markdown",
   "metadata": {},
   "source": [
    "When you complete this exercise, please put your green post-it on your monitor. \n",
    "\n",
    "If you want to continue on at your own-pace, please feel free to do so.\n",
    "\n",
    "<img src='../images/green_sticky.300px.png' width='200' style='float:left'>"
   ]
  },
  {
   "cell_type": "code",
   "execution_count": null,
   "metadata": {
    "collapsed": true
   },
   "outputs": [],
   "source": []
  },
  {
   "cell_type": "code",
   "execution_count": null,
   "metadata": {
    "slideshow": {
     "slide_type": "slide"
    }
   },
   "outputs": [],
   "source": [
    "# In this example, the return statement does not get called...\n",
    "#     IF the weapon is not a sword\n",
    "# so the function resorts to the default return value of None\n",
    "\n",
    "def identify(weapon):\n",
    "    if weapon == 'sword':\n",
    "        return 'It attacks swiftly'\n",
    "    \n",
    "output = identify('dagger')\n",
    "print(output)"
   ]
  },
  {
   "cell_type": "code",
   "execution_count": null,
   "metadata": {
    "slideshow": {
     "slide_type": "subslide"
    }
   },
   "outputs": [],
   "source": [
    "# We can load up functions will all the functionality (pun intended)\n",
    "#     of any set of code...\n",
    "# this functions helps to choose from multiple options.\n",
    "\n",
    "def identify(weapon):\n",
    "    if weapon == 'sword':\n",
    "        return 'It attacks swiftly'\n",
    "    elif weapon == 'spear':\n",
    "        return 'It has extra range'\n",
    "    elif weapon == 'axe':\n",
    "        return 'It deals more damage'\n",
    "    elif weapon == 'dagger':\n",
    "        return 'It has higher critical damage chance'\n",
    "    elif weapon == 'shield':\n",
    "        return 'It has a block damage chance'\n",
    "    return \"Nothin'\"\n",
    "    \n",
    "print(identify('bob'))"
   ]
  },
  {
   "cell_type": "code",
   "execution_count": null,
   "metadata": {
    "slideshow": {
     "slide_type": "fragment"
    }
   },
   "outputs": [],
   "source": [
    "identify('axe')"
   ]
  },
  {
   "cell_type": "code",
   "execution_count": null,
   "metadata": {
    "slideshow": {
     "slide_type": "fragment"
    }
   },
   "outputs": [],
   "source": [
    "identify('spear')"
   ]
  },
  {
   "cell_type": "code",
   "execution_count": null,
   "metadata": {
    "slideshow": {
     "slide_type": "fragment"
    }
   },
   "outputs": [],
   "source": [
    "identify('dagger')"
   ]
  },
  {
   "cell_type": "code",
   "execution_count": null,
   "metadata": {
    "slideshow": {
     "slide_type": "fragment"
    }
   },
   "outputs": [],
   "source": [
    "# NOTE: EVERY function returns a value, even something like print()\n",
    "\n",
    "r_value = print('You are a hero')\n",
    "\n",
    "# While print displays content to the screen, it also has a default\n",
    "# return value of None\n",
    "# Let's us an equality to test that assertion\n",
    "\n",
    "r_value == None"
   ]
  },
  {
   "cell_type": "markdown",
   "metadata": {},
   "source": [
    "## Keyword arguments"
   ]
  },
  {
   "cell_type": "markdown",
   "metadata": {},
   "source": [
    "Let's look at the help `manual` for the print function:\n",
    "\n",
    "`print?`"
   ]
  },
  {
   "cell_type": "code",
   "execution_count": null,
   "metadata": {
    "collapsed": true
   },
   "outputs": [],
   "source": [
    "print?\n"
   ]
  },
  {
   "cell_type": "code",
   "execution_count": null,
   "metadata": {
    "slideshow": {
     "slide_type": "slide"
    }
   },
   "outputs": [],
   "source": [
    "# Some functions come with KEYWORD arguments\n",
    "# \n",
    "\n",
    "print('Health', 'dog', 'cat', 'Wealth', sep='*')              # print('Health', end='\\n')\n",
    "print('Mana')                      # print('Mana', end='\\n')\n",
    "\n",
    "# the magic of keyword arguments is that you don't have to provide input data\n",
    "# UNLESS you want to!\n"
   ]
  },
  {
   "cell_type": "code",
   "execution_count": null,
   "metadata": {
    "slideshow": {
     "slide_type": "fragment"
    }
   },
   "outputs": [],
   "source": [
    "print('Health', end=' >>>\\n')     \n",
    "print('Mana')"
   ]
  },
  {
   "cell_type": "code",
   "execution_count": null,
   "metadata": {
    "slideshow": {
     "slide_type": "fragment"
    }
   },
   "outputs": [],
   "source": [
    "print('Health', 'Mana', 'Stamina', sep=' - ')\n"
   ]
  },
  {
   "cell_type": "code",
   "execution_count": null,
   "metadata": {},
   "outputs": [],
   "source": [
    "# Just like in print(), you have the ability to overwrite default values...\n",
    "#     in your own functions, you can overwrite defaults \n",
    "#     when you call the function.\n",
    "\n",
    "def cur(value, rate=1.5):\n",
    "    return value * rate\n",
    "\n",
    "cur(100, 1.75)"
   ]
  },
  {
   "cell_type": "code",
   "execution_count": null,
   "metadata": {
    "slideshow": {
     "slide_type": "slide"
    }
   },
   "outputs": [],
   "source": [
    "def attack(strength, weapon='sword'):\n",
    "    print(\"Your strength is\", strength, 'and you used a', weapon)\n",
    "    \n",
    "attack('high')\n",
    "\n",
    "# notice, I didn't have to include a weapon..."
   ]
  },
  {
   "cell_type": "code",
   "execution_count": null,
   "metadata": {
    "slideshow": {
     "slide_type": "fragment"
    }
   },
   "outputs": [],
   "source": [
    "attack('low', weapon='spear')"
   ]
  },
  {
   "cell_type": "markdown",
   "metadata": {},
   "source": [
    "# Experience Points!\n",
    "---"
   ]
  },
  {
   "cell_type": "markdown",
   "metadata": {},
   "source": [
    "In your **text editor** create a simple script called:\n",
    "\n",
    "```bash\n",
    "my_func_03.py```\n",
    "\n",
    "Execute your script in **Jupyter** using the command:\n",
    "\n",
    "```bash\n",
    "run my_func_03.py```\n",
    "\n",
    "Modify your previous function called:\n",
    "\n",
    "```python\n",
    "microbe_growth()\n",
    "``` \n",
    "\n",
    "that prints out the growth of microbes:\n",
    "\n",
    "* include an argument or parameter labeled: `initial_count`\n",
    "* include an argument labeled: `rate`\n",
    "* set default value of the `rate` at 1.05\n",
    "* return the result of `initial_count` * `rate`\n",
    "* call the function using the default `rate`, so that it executes when the script is run\n",
    "    * store the returned value in a variable labeled: `projected_population`\n",
    "    * `print()` the value stored in `projected_population`\n",
    "* call the function using a value of 1.35 for the `rate`, so that it executes when the script is run\n",
    "    * store the returned value in a variable labeled: `high_projected_population`\n",
    "    * `print()` the value stored in `high_projected_population`    \n",
    "    "
   ]
  },
  {
   "cell_type": "markdown",
   "metadata": {},
   "source": [
    "When you complete this exercise, please put your green post-it on your monitor. \n",
    "\n",
    "If you want to continue on at your own-pace, please feel free to do so.\n",
    "\n",
    "<img src='../images/green_sticky.300px.png' width='200' style='float:left'>"
   ]
  },
  {
   "cell_type": "code",
   "execution_count": null,
   "metadata": {},
   "outputs": [],
   "source": [
    "# The following are scripts I wrote to solve all the exercise above."
   ]
  },
  {
   "cell_type": "code",
   "execution_count": null,
   "metadata": {
    "collapsed": true
   },
   "outputs": [],
   "source": [
    "%run soln_my_func_01.py"
   ]
  },
  {
   "cell_type": "code",
   "execution_count": null,
   "metadata": {
    "collapsed": true
   },
   "outputs": [],
   "source": [
    "%run soln_my_func_02.py"
   ]
  },
  {
   "cell_type": "code",
   "execution_count": null,
   "metadata": {
    "collapsed": true
   },
   "outputs": [],
   "source": [
    "%run soln_my_func_03.py"
   ]
  },
  {
   "cell_type": "code",
   "execution_count": null,
   "metadata": {},
   "outputs": [],
   "source": []
  }
 ],
 "metadata": {
  "anaconda-cloud": {},
  "celltoolbar": "Slideshow",
  "kernelspec": {
   "display_name": "Python 3",
   "language": "python",
   "name": "python3"
  },
  "language_info": {
   "codemirror_mode": {
    "name": "ipython",
    "version": 3
   },
   "file_extension": ".py",
   "mimetype": "text/x-python",
   "name": "python",
   "nbconvert_exporter": "python",
   "pygments_lexer": "ipython3",
   "version": "3.7.0"
  }
 },
 "nbformat": 4,
 "nbformat_minor": 2
}
