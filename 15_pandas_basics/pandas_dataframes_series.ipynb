{
 "cells": [
  {
   "cell_type": "markdown",
   "metadata": {},
   "source": [
    "# Welcome to the Dark Art of Coding:\n",
    "## Introduction to Python\n",
    "pandas: Series & DataFrames\n",
    "\n",
    "<img src='../universal_images/dark_art_logo.600px.png' width='300' style=\"float:right\">"
   ]
  },
  {
   "cell_type": "markdown",
   "metadata": {},
   "source": [
    "# Objectives\n",
    "---"
   ]
  },
  {
   "cell_type": "markdown",
   "metadata": {},
   "source": [
    "In this session, students should expect to:\n",
    "\n",
    "* understand the purpose and application of `pandas` to data analysis problems\n",
    "* understand how to create and use a `Series`\n",
    "* understand how to create and use a `DataFrame`\n",
    "* explore various simple examples of pandas usage\n"
   ]
  },
  {
   "cell_type": "markdown",
   "metadata": {},
   "source": [
    "# `pandas` basics\n",
    "---"
   ]
  },
  {
   "cell_type": "markdown",
   "metadata": {},
   "source": [
    "**`pandas`** is one of the premier data analysis libraries in the Python ecosystem. It offers high-performance, easy-to-use data structures and data analysis tools enabling you to carry out your entire data analysis workflow.\n",
    "\n",
    "`pandas` is used for:\n",
    "\n",
    "* data analysis/science\n",
    "* financial analysis\n",
    "* data manipulation\n",
    "* data cleansing\n",
    "* data transformation"
   ]
  },
  {
   "cell_type": "markdown",
   "metadata": {},
   "source": [
    "`pandas` has tools to read and write data to and from multiple data formats.\n",
    "\n",
    "It also includes tools that simplify:\n",
    "\n",
    "* grouping data\n",
    "* applying transformations to columns, rows and individual cells\n",
    "* working with dates and times"
   ]
  },
  {
   "cell_type": "markdown",
   "metadata": {},
   "source": [
    "# List vs. Dict vs. Series vs. DataFrame\n",
    "---"
   ]
  },
  {
   "cell_type": "markdown",
   "metadata": {},
   "source": [
    "To help better understand the `pandas` datatypes, it will help to review existing datatypes that you are already familiar with: `list` and `dict`. In this review, we will compare an contrast techniques to access or view data in `list`s and `dict`s."
   ]
  },
  {
   "cell_type": "markdown",
   "metadata": {},
   "source": [
    "## list \n",
    "```python                               \n",
    "mylist = ['A', 'B', 'C']            \n",
    "```\n",
    "\n",
    "**indexable**: \n",
    "\n",
    "`mylist[0]` indexable by integer            \n",
    "\n",
    "**sliceable**: \n",
    "\n",
    "`mylist[0:2]` sliceable by integer\n",
    " "
   ]
  },
  {
   "cell_type": "markdown",
   "metadata": {},
   "source": [
    "## dict\n",
    "```\n",
    "mydict = {'alpha': 1,\n",
    "          'beta': 2,\n",
    "          'gamma': 2}\n",
    "```\n",
    "\n",
    "**indexable**: \n",
    "\n",
    "`mydict['alpha']` indexable by key\n"
   ]
  },
  {
   "cell_type": "markdown",
   "metadata": {},
   "source": [
    "## Series\n",
    "```\n",
    "myseries = Series(['bruce', 'selina', 'kara', 'clark], index=[0, 1, 2, 'three'])\n",
    "\n",
    "          column\n",
    "rows\n",
    "0         'bruce'\n",
    "1         'selina'\n",
    "2         'kara'\n",
    "'three'   'clark'\n",
    "```\n",
    "\n",
    "**indexable**: \n",
    "\n",
    "`myseries[0]` indexable by integer\n",
    "\n",
    "`myseries['three']` indexable by row name\n",
    "\n",
    "**sliceable**:\n",
    "\n",
    "`myseries[0:3]` sliceable by integer                 "
   ]
  },
  {
   "cell_type": "markdown",
   "metadata": {},
   "source": [
    "## DataFrame:\n",
    "```\n",
    "mydataframe = DataFrame(lots of data... we'll show you how to make a dataframe shortly)\n",
    "\n",
    "        col1      col2        col3      age\n",
    "rows\n",
    "0       'bruce'   'wayne'     'M'       42\n",
    "1       'selina'  'kyle'      'F'       34\n",
    "'two'   'kara'    'zor-el'    'F'       27\n",
    "3       'clark'   'kent'      'M'       35\n",
    "```\n",
    "\n",
    "**indexable**\n",
    "\n",
    "`mydataframe['col1']` indexable by column name (can also be indexed by row)\n",
    "\n",
    "`mydataframe[['col1', 'age']]` indexable by multiple column/row indicators"
   ]
  },
  {
   "cell_type": "markdown",
   "metadata": {},
   "source": [
    "# Series\n",
    "---"
   ]
  },
  {
   "cell_type": "code",
   "execution_count": null,
   "metadata": {},
   "outputs": [],
   "source": [
    "# Let's start by making a simple Series.\n",
    "# It is customary to import pandas by the alias: pd\n",
    "\n",
    "import pandas as pd\n",
    "from pandas import Series\n",
    "\n",
    "s = Series([33, 37, 27, 42])\n",
    "\n",
    "# pandas will assign an index automatically starting at \"0\"\n",
    "\n",
    "s"
   ]
  },
  {
   "cell_type": "code",
   "execution_count": null,
   "metadata": {},
   "outputs": [],
   "source": [
    "# We can see that the object is a Series object\n",
    "type(s)"
   ]
  },
  {
   "cell_type": "code",
   "execution_count": null,
   "metadata": {},
   "outputs": [],
   "source": [
    "s[0]"
   ]
  },
  {
   "cell_type": "markdown",
   "metadata": {},
   "source": [
    "So, what's the difference between a `Series` and a `list`?"
   ]
  },
  {
   "cell_type": "code",
   "execution_count": null,
   "metadata": {},
   "outputs": [],
   "source": [
    "l = [33, 37, 27, 42]"
   ]
  },
  {
   "cell_type": "code",
   "execution_count": null,
   "metadata": {},
   "outputs": [],
   "source": [
    "# Let's use tab completion to explore the difference\n",
    "# l.<tab complete>\n",
    "\n",
    "l.\n",
    "\n",
    "# There are 11 methods/attributes associated with lists..."
   ]
  },
  {
   "cell_type": "code",
   "execution_count": null,
   "metadata": {},
   "outputs": [],
   "source": [
    "# s.<tab complete>\n",
    "\n",
    "s.\n",
    "\n",
    "# There are 226 methods/attributes associated with lists...\n",
    "# len(list(attr for attr in dir(s) if not attr.startswith('_')))"
   ]
  },
  {
   "cell_type": "code",
   "execution_count": null,
   "metadata": {},
   "outputs": [],
   "source": [
    "# Series objects can be assigned a name \n",
    "# The index (0, 1, 2...) can also be assigned directly/overwritten.\n",
    "\n",
    "s.name = 'Justice League ages'\n",
    "s.index = ['bruce', 'selina', 'kara', 'clark']\n",
    "\n",
    "s"
   ]
  },
  {
   "cell_type": "code",
   "execution_count": null,
   "metadata": {},
   "outputs": [],
   "source": [
    "s['kara']"
   ]
  },
  {
   "cell_type": "code",
   "execution_count": null,
   "metadata": {},
   "outputs": [],
   "source": [
    "# NOTE: The Series factory function allows you to assign attributes\n",
    "#     such as the index directly.\n",
    "\n",
    "s1 = Series([37, 36, 10, 36],\n",
    "            index=['hal', 'victor', 'diana', 'billy'],\n",
    "            name='More Justice League ages')\n",
    "s1\n",
    "\n",
    "# Generally, any ordered iterable can be used to produce the inputs\n",
    "#     to a Series. We used a list here.\n",
    "#     range(), generators, arrays, are also acceptable inputs."
   ]
  },
  {
   "cell_type": "code",
   "execution_count": null,
   "metadata": {},
   "outputs": [],
   "source": [
    "# Accessing a row directly uses brackets and the \n",
    "#     name of the row.\n",
    "\n",
    "s1['billy']"
   ]
  },
  {
   "cell_type": "code",
   "execution_count": null,
   "metadata": {},
   "outputs": [],
   "source": [
    "# Accessing multiple rows uses the names of \n",
    "#     the rows embedded in an iterable (i.e. a list)\n",
    "\n",
    "s1[['billy', 'hal', 'victor']]"
   ]
  },
  {
   "cell_type": "code",
   "execution_count": null,
   "metadata": {},
   "outputs": [],
   "source": [
    "# Accessing multiple rows may also use slice notation.\n",
    "#     slice notation can often be used with both integer indexes and\n",
    "#     string indexes.\n",
    "# Here we use string indexes... \n",
    "\n",
    "s1['hal':'diana']"
   ]
  },
  {
   "cell_type": "code",
   "execution_count": null,
   "metadata": {},
   "outputs": [],
   "source": [
    "# slice notation using integers still works even if we have \n",
    "#     applied a string-based index.\n",
    "# Here we use integer indexes... but NOTE: the difference in behavior\n",
    "# * string indexing includes the last element.\n",
    "# * integer indexing behaves more like Python and goes up to but does NOT include\n",
    "#   the last element\n",
    "\n",
    "s1[0:2]"
   ]
  },
  {
   "cell_type": "code",
   "execution_count": null,
   "metadata": {},
   "outputs": [],
   "source": [
    "# We can also index the Series using a list of items:\n",
    "# NOTE: the order of the result matches the order of our\n",
    "#     selection\n",
    "\n",
    "s1[['billy', 'hal', 'diana']]"
   ]
  },
  {
   "cell_type": "code",
   "execution_count": null,
   "metadata": {},
   "outputs": [],
   "source": [
    "# Similarly, assignment of a value to a specific row\n",
    "#     uses bracket indexing and behaves similar to \n",
    "#     a list OR dict\n",
    "\n",
    "s1['diana'] = 32\n",
    "s1"
   ]
  },
  {
   "cell_type": "markdown",
   "metadata": {},
   "source": [
    "It is possible to check to see if an element in a `Series` matches a specific value\n"
   ]
  },
  {
   "cell_type": "code",
   "execution_count": null,
   "metadata": {},
   "outputs": [],
   "source": [
    "s1['billy'] == 35"
   ]
  },
  {
   "cell_type": "markdown",
   "metadata": {},
   "source": [
    "More holistically, it is possible to see which elements in a `Series` matches a specific value."
   ]
  },
  {
   "cell_type": "code",
   "execution_count": null,
   "metadata": {},
   "outputs": [],
   "source": [
    "s1 == 32"
   ]
  },
  {
   "cell_type": "code",
   "execution_count": null,
   "metadata": {},
   "outputs": [],
   "source": [
    "result = s1 == 36\n",
    "\n",
    "print(type(result), result, sep='\\n\\n')"
   ]
  },
  {
   "cell_type": "code",
   "execution_count": null,
   "metadata": {},
   "outputs": [],
   "source": [
    "# Rows can be filtered using any such sequence of True and False\n",
    "\n",
    "s1[result]"
   ]
  },
  {
   "cell_type": "code",
   "execution_count": null,
   "metadata": {},
   "outputs": [],
   "source": [
    "# We can also use any of the standard comparison operators\n",
    "#     ==\n",
    "#     <= \n",
    "#     >=\n",
    "#     <\n",
    "#     >\n",
    "#\n",
    "# In addition, there is no need to save the True/False series... you can do the evaluation\n",
    "#     inside the indexing brackets\n",
    "\n",
    "s1[s1 >= 33]"
   ]
  },
  {
   "cell_type": "markdown",
   "metadata": {},
   "source": [
    "# Experience Points!\n",
    "---"
   ]
  },
  {
   "cell_type": "markdown",
   "metadata": {},
   "source": [
    "In your **text editor** create a simple script called:\n",
    "\n",
    "```bash\n",
    "my_series_01.py```\n",
    "\n",
    "Create a pandas Series called `restaurant_ratings` according to the following guidelines:\n",
    "\n",
    "* starting at the top, each row should contain one number from 1 to 5 (inclusive)\n",
    "* give the series a `.name` called ratings\n",
    "* give the series a `.index` with the names of five restaurants\n",
    "\n",
    "Execute your script in **Jupyter** using the command:\n",
    "\n",
    "```bash\n",
    "run my_series_01.py```\n",
    "\n",
    "\n",
    "From Jupyter, explore your `Series` object (`restaurant_ratings`) by performing our typical explorations:\n",
    "* `type()`\n",
    "* `.<tab complete>`\n",
    "\n",
    "Also look at the attributes you have added: \n",
    "\n",
    "* `.name`\n",
    "* `.index`\n",
    "\n",
    "Lastly extract particular records from your `Series`:\n",
    "\n",
    "* Choose a record from the `Series` using the name of one of your restaurants\n",
    "* Choose three records from the `Series` using a list of names of restaurants\n",
    "\n"
   ]
  },
  {
   "cell_type": "markdown",
   "metadata": {},
   "source": [
    "When you complete this exercise, please put your green post-it on your monitor. \n",
    "\n",
    "If you want to continue on at your own pace, please feel free to do so.\n",
    "\n",
    "<img src='../universal_images/green_sticky.300px.png' width='200' style='float:left'>"
   ]
  },
  {
   "cell_type": "code",
   "execution_count": null,
   "metadata": {},
   "outputs": [],
   "source": [
    "run soln_series_01.py"
   ]
  },
  {
   "cell_type": "markdown",
   "metadata": {},
   "source": [
    "# Experience Points!\n",
    "---"
   ]
  },
  {
   "cell_type": "markdown",
   "metadata": {},
   "source": [
    "In your **text editor** create a simple script called:\n",
    "\n",
    "```bash\n",
    "my_series_02.py```\n",
    "\n",
    "Create a pandas `Series` called `bacteria_lengths` according to the following guidelines:\n",
    "\n",
    "* starting at the top, each row should contain one number from 1 to 5000 (inclusive) incrementing by 100\n",
    "* give the `Series` a `.name` called length\n",
    "* NOTE: do not worry about a `.index` for this `Series`. Simply use the default indexing that `Series` provide.\n",
    "\n",
    "Execute your script from the **terminal/command line** using the command:\n",
    "\n",
    "```bash\n",
    "ipython -i my_series_02.py```\n",
    "\n",
    "\n",
    "From the IPython Interpreter, explore your Series object by performing our typical explorations:\n",
    "* `type()`\n",
    "* `.<tab complete>`\n",
    "\n",
    "Also look at the attributes you have added or that were created by default: \n",
    "\n",
    "* `.name`\n",
    "* `.index`\n",
    "\n",
    "Lastly extract particular records from your Series:\n",
    "\n",
    "* Choose a record from the Series at index 23\n",
    "* Choose three records from the Series at index 23-25"
   ]
  },
  {
   "cell_type": "markdown",
   "metadata": {},
   "source": [
    "When you complete this exercise, please put your green post-it on your monitor. \n",
    "\n",
    "If you want to continue on at your own-pace, please feel free to do so.\n",
    "\n",
    "<img src='../universal_images/green_sticky.300px.png' width='200' style='float:left'>"
   ]
  },
  {
   "cell_type": "code",
   "execution_count": null,
   "metadata": {
    "collapsed": true
   },
   "outputs": [],
   "source": [
    "run soln_series_02.py"
   ]
  },
  {
   "cell_type": "code",
   "execution_count": null,
   "metadata": {},
   "outputs": [],
   "source": [
    "# bacteria_lengths[23]"
   ]
  },
  {
   "cell_type": "code",
   "execution_count": null,
   "metadata": {},
   "outputs": [],
   "source": [
    "# bacteria_lengths[23:26]"
   ]
  },
  {
   "cell_type": "code",
   "execution_count": null,
   "metadata": {},
   "outputs": [],
   "source": [
    "# Much like numpy, pandas Series (and DataFrames)\n",
    "#     offer vector mathematics whereby you can add to\n",
    "#     or multiply against all rows or cells\n",
    "#     WITHOUT using a for loop.\n",
    "\n",
    "s1 * 2"
   ]
  },
  {
   "cell_type": "code",
   "execution_count": null,
   "metadata": {},
   "outputs": [],
   "source": [
    "s1"
   ]
  },
  {
   "cell_type": "code",
   "execution_count": null,
   "metadata": {},
   "outputs": [],
   "source": [
    "# Knowing that the selection of specific elements from a Series simply returns\n",
    "#     a Series, we can also perform vector multiplication against a \n",
    "#     selection\n",
    "\n",
    "s1[['diana', 'billy']] * 20"
   ]
  },
  {
   "cell_type": "code",
   "execution_count": null,
   "metadata": {},
   "outputs": [],
   "source": [
    "s1"
   ]
  },
  {
   "cell_type": "code",
   "execution_count": null,
   "metadata": {
    "collapsed": true
   },
   "outputs": [],
   "source": [
    "# Testing for inclusion in a Series behaves as with a list\n",
    "\n",
    "'diana' in s1"
   ]
  },
  {
   "cell_type": "code",
   "execution_count": null,
   "metadata": {},
   "outputs": [],
   "source": [
    "# A test for inclusion in a list, for comparison\n",
    "\n",
    "42 in [1, 2, 3, 4]"
   ]
  },
  {
   "cell_type": "code",
   "execution_count": null,
   "metadata": {},
   "outputs": [],
   "source": [
    "'lex' in s1"
   ]
  },
  {
   "cell_type": "code",
   "execution_count": null,
   "metadata": {
    "collapsed": true
   },
   "outputs": [],
   "source": [
    "# Series can be built in many ways, including using a dictionary\n",
    "#     to populate the row labels and the row contents\n",
    "\n",
    "names = {'bruce wayne': 'bwayne@jleague.org',\n",
    "         'hal jordan': 'hjordan@jleague.org',\n",
    "         'clark kent': 'ckent@jleague.org',\n",
    "         'barry allen': 'ballen@jleague.org',\n",
    "         'diana prince': 'dprince@jleague.org',\n",
    "         'arthur curry': 'acurry@jleague.org',\n",
    "         'billy batson': 'bbatson@jleague.org',\n",
    "         'john jones': 'jjones@jleague.org',\n",
    "         'victor stone': 'vstone@jleague.org',\n",
    "         'dick grayson': 'dgrayson@jleague.org',\n",
    "         'ray palmer': 'rpalmer@jleague.org',\n",
    "         'dinah lance': 'dlance@jleague.org',\n",
    "         'kara zor-el': 'kzor-el@jleague.org',\n",
    "         'john constantine': 'jconstantine@jleague.org',\n",
    "         'barbara gordon': 'bgordon@jleague.org',\n",
    "         'kyle rayner': 'krayner@jleague.org',\n",
    "         'selina kyle': 'skyle@jleague.org',\n",
    "         'wally west': 'wwest@jleague.org',\n",
    "         }\n",
    "\n",
    "emails = Series(names)\n",
    "# emails.index\n",
    "# emails.values"
   ]
  },
  {
   "cell_type": "code",
   "execution_count": null,
   "metadata": {},
   "outputs": [],
   "source": [
    "emails"
   ]
  },
  {
   "cell_type": "code",
   "execution_count": null,
   "metadata": {},
   "outputs": [],
   "source": [
    "emails[    ['barry allen',  'selina kyle']     ]"
   ]
  },
  {
   "cell_type": "code",
   "execution_count": null,
   "metadata": {
    "collapsed": true
   },
   "outputs": [],
   "source": [
    "\n"
   ]
  },
  {
   "cell_type": "markdown",
   "metadata": {},
   "source": [
    "# Analyzing data\n",
    "---"
   ]
  },
  {
   "cell_type": "code",
   "execution_count": null,
   "metadata": {
    "collapsed": true
   },
   "outputs": [],
   "source": [
    "s1 = Series(range(10, 16), index=['a', 'b', 'c', 'd', 'e', 'f'])\n",
    "s2 = Series(range(16, 22), index=['a', 'b', 'c', 'x', 'y', 'z'])\n",
    "\n",
    "# s1\n",
    "# s2"
   ]
  },
  {
   "cell_type": "code",
   "execution_count": null,
   "metadata": {},
   "outputs": [],
   "source": [
    "s2"
   ]
  },
  {
   "cell_type": "code",
   "execution_count": null,
   "metadata": {},
   "outputs": [],
   "source": [
    "s1"
   ]
  },
  {
   "cell_type": "code",
   "execution_count": null,
   "metadata": {},
   "outputs": [],
   "source": [
    "s3 = s1 + s2\n",
    "s3\n",
    "\n",
    "# type(s3)\n",
    "# pd.isnull(s3)\n",
    "# s3.isnull()\n",
    "# s3.<tab>"
   ]
  },
  {
   "cell_type": "code",
   "execution_count": null,
   "metadata": {},
   "outputs": [],
   "source": [
    "pd.concat([s1, s2], ignore_index=True)"
   ]
  },
  {
   "cell_type": "code",
   "execution_count": null,
   "metadata": {
    "collapsed": true
   },
   "outputs": [],
   "source": [
    "# How do I learn more?\n",
    "# s3.<method_name>?        # just ask by typing the method name (sans parenthesis) and \n",
    "#                          # adding a question mark to see the builtin help docs\n",
    "# \n",
    "# s3.value_counts?\n",
    "# s3.value_counts(dropna=False)"
   ]
  },
  {
   "cell_type": "code",
   "execution_count": null,
   "metadata": {
    "collapsed": true
   },
   "outputs": [],
   "source": [
    "s3.value_counts?"
   ]
  },
  {
   "cell_type": "code",
   "execution_count": null,
   "metadata": {},
   "outputs": [],
   "source": [
    "s3.value_counts(dropna=False, ascending=True)"
   ]
  },
  {
   "cell_type": "code",
   "execution_count": null,
   "metadata": {
    "collapsed": true
   },
   "outputs": [],
   "source": [
    "s3.dropna()\n",
    "# s3"
   ]
  },
  {
   "cell_type": "code",
   "execution_count": null,
   "metadata": {
    "collapsed": true
   },
   "outputs": [],
   "source": [
    "s4 = Series([42, 1, 1, 1, 2, 2, 3, 3, 3, 3, 3, 3, 4, 5, 6])\n",
    "\n",
    "# s4.unique()\n",
    "# s4.value_counts()\n",
    "# s4.max()\n",
    "# s4 + 2"
   ]
  },
  {
   "cell_type": "code",
   "execution_count": null,
   "metadata": {},
   "outputs": [],
   "source": [
    "s4.value_counts()"
   ]
  },
  {
   "cell_type": "code",
   "execution_count": null,
   "metadata": {},
   "outputs": [],
   "source": [
    "def transmogrifier(x):\n",
    "    '''hat tip to Calvin and Hobbes for introducing me to this \n",
    "    truly fantastic word. thanks, bill watterson.\n",
    "\n",
    "    \"transform, especially in a surprising or magical manner.\"\n",
    "    '''\n",
    "    new_val = '- ' + str(x ** 3) + ' -'\n",
    "    return new_val"
   ]
  },
  {
   "cell_type": "code",
   "execution_count": null,
   "metadata": {},
   "outputs": [],
   "source": [
    "s4.apply(transmogrifier)"
   ]
  },
  {
   "cell_type": "markdown",
   "metadata": {},
   "source": [
    "# DataFrames\n",
    "---"
   ]
  },
  {
   "cell_type": "code",
   "execution_count": null,
   "metadata": {
    "collapsed": true
   },
   "outputs": [],
   "source": [
    "from pandas import DataFrame"
   ]
  },
  {
   "cell_type": "code",
   "execution_count": null,
   "metadata": {},
   "outputs": [],
   "source": [
    "# Making a DataFrame # 1\n",
    "# Using a dictionary:\n",
    "\n",
    "data = {'hero': ['billy', 'billy', 'billy', 'selina', 'selina'],\n",
    "        'date': ['Jan 10', 'Jan 11', 'Jan 12', 'Jan 10', 'Jan 11'],\n",
    "        'emails': [111, 121, 93, 211, 210]}\n",
    "\n",
    "df = DataFrame(data)\n",
    "df"
   ]
  },
  {
   "cell_type": "code",
   "execution_count": null,
   "metadata": {},
   "outputs": [],
   "source": [
    "df = DataFrame(data, columns=['date', 'hero', 'emails'])\n",
    "df"
   ]
  },
  {
   "cell_type": "code",
   "execution_count": null,
   "metadata": {
    "collapsed": true
   },
   "outputs": [],
   "source": [
    "df = DataFrame(data, columns=['date', 'hero', 'emails', 'instagrams'],\n",
    "               index=[1, 2, 3, 4, 5])\n",
    "df\n",
    "\n",
    "# df\n",
    "# df.columns"
   ]
  },
  {
   "cell_type": "code",
   "execution_count": null,
   "metadata": {
    "collapsed": true
   },
   "outputs": [],
   "source": [
    "df['instagrams'] = 42"
   ]
  },
  {
   "cell_type": "code",
   "execution_count": null,
   "metadata": {},
   "outputs": [],
   "source": [
    "df"
   ]
  },
  {
   "cell_type": "code",
   "execution_count": null,
   "metadata": {},
   "outputs": [],
   "source": [
    "df[['date', 'emails']]"
   ]
  },
  {
   "cell_type": "code",
   "execution_count": null,
   "metadata": {},
   "outputs": [],
   "source": [
    "# df['hero']\n",
    "# df.hero\n",
    "\n",
    "df.loc[1]"
   ]
  },
  {
   "cell_type": "code",
   "execution_count": null,
   "metadata": {},
   "outputs": [],
   "source": [
    "df.loc[1:2]"
   ]
  },
  {
   "cell_type": "code",
   "execution_count": null,
   "metadata": {},
   "outputs": [],
   "source": [
    "df.loc[1:4:2]"
   ]
  },
  {
   "cell_type": "code",
   "execution_count": null,
   "metadata": {},
   "outputs": [],
   "source": [
    "from pandas import Series\n",
    "\n",
    "df.instagrams = 50"
   ]
  },
  {
   "cell_type": "code",
   "execution_count": null,
   "metadata": {},
   "outputs": [],
   "source": [
    "df.emails"
   ]
  },
  {
   "cell_type": "code",
   "execution_count": null,
   "metadata": {},
   "outputs": [],
   "source": [
    "ins = Series([10, 20, 30], index=[0, 2, 4])\n",
    "ins"
   ]
  },
  {
   "cell_type": "code",
   "execution_count": null,
   "metadata": {},
   "outputs": [],
   "source": [
    "df['instagrams'] = ins\n",
    "df"
   ]
  },
  {
   "cell_type": "code",
   "execution_count": null,
   "metadata": {},
   "outputs": [],
   "source": [
    "# If you want to add a new column, dataframes are completely\n",
    "#     mutable: columns can be added at will.\n",
    "\n",
    "df['overworked'] = df['emails'] >= 120\n",
    "df"
   ]
  },
  {
   "cell_type": "code",
   "execution_count": null,
   "metadata": {},
   "outputs": [],
   "source": [
    "df[    df['overworked'] == False       ]"
   ]
  },
  {
   "cell_type": "code",
   "execution_count": null,
   "metadata": {},
   "outputs": [],
   "source": [
    "# If you want to add a new column, dataframes are completely\n",
    "#     mutable: columns can be added at will.\n",
    "\n",
    "standalone_series = df['emails'] >= 120\n",
    "standalone_series"
   ]
  },
  {
   "cell_type": "code",
   "execution_count": null,
   "metadata": {},
   "outputs": [],
   "source": [
    "mask = df['instagrams'] != 20.0\n",
    "mask"
   ]
  },
  {
   "cell_type": "code",
   "execution_count": null,
   "metadata": {},
   "outputs": [],
   "source": [
    "df[mask]"
   ]
  },
  {
   "cell_type": "code",
   "execution_count": null,
   "metadata": {},
   "outputs": [],
   "source": [
    "df[df['date'] != 'Jan 10']"
   ]
  },
  {
   "cell_type": "code",
   "execution_count": null,
   "metadata": {
    "collapsed": true
   },
   "outputs": [],
   "source": [
    "# Making a DataFrame # 2\n",
    "# Using a dictionary with nested dictionaries...\n",
    "\n",
    "data = {'billy': {'Jan 10': 202, 'Jan 11': 220, 'Jan 12': 198},\n",
    "        'selina': {'Jan 09': 246, 'Jan 10': 235, 'Jan 11': 243}}"
   ]
  },
  {
   "cell_type": "code",
   "execution_count": null,
   "metadata": {},
   "outputs": [],
   "source": [
    "df2 = DataFrame(data)\n",
    "df2"
   ]
  },
  {
   "cell_type": "code",
   "execution_count": null,
   "metadata": {},
   "outputs": [],
   "source": [
    "# df2.T\n",
    "dft = df2.T\n",
    "dft"
   ]
  },
  {
   "cell_type": "code",
   "execution_count": null,
   "metadata": {
    "collapsed": true
   },
   "outputs": [],
   "source": [
    "dft.columns.name = 'date'\n",
    "dft.index.name = 'hero'"
   ]
  },
  {
   "cell_type": "code",
   "execution_count": null,
   "metadata": {},
   "outputs": [],
   "source": [
    "dft"
   ]
  },
  {
   "cell_type": "code",
   "execution_count": null,
   "metadata": {},
   "outputs": [],
   "source": [
    "# using indexes\n",
    "nums = Series(range(10, 16),\n",
    "              index=['t', 'u', 'v', 'x', 'y', 'z'])\n",
    "nums"
   ]
  },
  {
   "cell_type": "code",
   "execution_count": null,
   "metadata": {},
   "outputs": [],
   "source": [
    "i = nums.index\n",
    "print(type(i), i)"
   ]
  },
  {
   "cell_type": "code",
   "execution_count": null,
   "metadata": {},
   "outputs": [],
   "source": [
    "i[::3]\n",
    "\n",
    "# i[2:4]\n",
    "# i[::2]\n",
    "# i[::3]\n",
    "# i[4]"
   ]
  },
  {
   "cell_type": "code",
   "execution_count": null,
   "metadata": {},
   "outputs": [],
   "source": [
    "logs = pd.read_csv('log_file_1000.csv', names=['name',\n",
    "                                               'email',\n",
    "                                               'fm_ip',\n",
    "                                               'to_ip',\n",
    "                                               'date_time',\n",
    "                                               'lat',\n",
    "                                               'long',\n",
    "                                               'payload_size'])"
   ]
  },
  {
   "cell_type": "code",
   "execution_count": null,
   "metadata": {},
   "outputs": [],
   "source": [
    "logs"
   ]
  },
  {
   "cell_type": "code",
   "execution_count": null,
   "metadata": {
    "collapsed": true
   },
   "outputs": [],
   "source": [
    "pd.read_csv?"
   ]
  },
  {
   "cell_type": "code",
   "execution_count": null,
   "metadata": {
    "collapsed": true
   },
   "outputs": [],
   "source": [
    "logs['fm_ip'].unique()"
   ]
  },
  {
   "cell_type": "code",
   "execution_count": null,
   "metadata": {
    "collapsed": true
   },
   "outputs": [],
   "source": [
    "logs['name'].value_counts()"
   ]
  },
  {
   "cell_type": "code",
   "execution_count": null,
   "metadata": {},
   "outputs": [],
   "source": [
    "logs['name'].tail(13)"
   ]
  },
  {
   "cell_type": "code",
   "execution_count": null,
   "metadata": {},
   "outputs": [],
   "source": [
    "g = logs.groupby(logs['fm_ip'])\n",
    "\n",
    "type(g)\n"
   ]
  },
  {
   "cell_type": "code",
   "execution_count": null,
   "metadata": {},
   "outputs": [],
   "source": [
    "g.ngroups"
   ]
  },
  {
   "cell_type": "code",
   "execution_count": null,
   "metadata": {},
   "outputs": [],
   "source": [
    "g.first()"
   ]
  },
  {
   "cell_type": "code",
   "execution_count": null,
   "metadata": {
    "scrolled": false
   },
   "outputs": [],
   "source": [
    "for item in g:\n",
    "    print(item)"
   ]
  },
  {
   "cell_type": "code",
   "execution_count": null,
   "metadata": {},
   "outputs": [],
   "source": [
    "type(g.get_group('106.152.115.161'))"
   ]
  },
  {
   "cell_type": "code",
   "execution_count": null,
   "metadata": {},
   "outputs": [],
   "source": [
    "g.get_group('106.152.115.161').head(10)"
   ]
  },
  {
   "cell_type": "code",
   "execution_count": null,
   "metadata": {
    "collapsed": true
   },
   "outputs": [],
   "source": []
  },
  {
   "cell_type": "code",
   "execution_count": null,
   "metadata": {
    "collapsed": true
   },
   "outputs": [],
   "source": [
    "def date_only(dt):\n",
    "    day = dt.split('T')[0]\n",
    "    return day"
   ]
  },
  {
   "cell_type": "code",
   "execution_count": null,
   "metadata": {},
   "outputs": [],
   "source": [
    "logs['date'] = logs['date_time'].apply(date_only)"
   ]
  },
  {
   "cell_type": "code",
   "execution_count": null,
   "metadata": {
    "collapsed": true
   },
   "outputs": [],
   "source": [
    "logs.columns"
   ]
  },
  {
   "cell_type": "code",
   "execution_count": null,
   "metadata": {},
   "outputs": [],
   "source": [
    "logs.date"
   ]
  },
  {
   "cell_type": "code",
   "execution_count": null,
   "metadata": {
    "collapsed": true
   },
   "outputs": [],
   "source": [
    "tf = logs.fm_ip == logs.to_ip"
   ]
  },
  {
   "cell_type": "code",
   "execution_count": null,
   "metadata": {},
   "outputs": [],
   "source": [
    "tf"
   ]
  },
  {
   "cell_type": "code",
   "execution_count": null,
   "metadata": {
    "collapsed": true
   },
   "outputs": [],
   "source": [
    "tf.unique()"
   ]
  },
  {
   "cell_type": "code",
   "execution_count": null,
   "metadata": {},
   "outputs": [],
   "source": [
    "tf.value_counts()"
   ]
  },
  {
   "cell_type": "code",
   "execution_count": null,
   "metadata": {},
   "outputs": [],
   "source": [
    "logs[['fm_ip', 'to_ip']].head(12)"
   ]
  },
  {
   "cell_type": "markdown",
   "metadata": {},
   "source": [
    "# Experience Points!\n",
    "---"
   ]
  },
  {
   "cell_type": "markdown",
   "metadata": {},
   "source": [
    "In your **text editor** create a simple script called:\n",
    "\n",
    "```bash\n",
    "my_DataFrame_01.py\n",
    "```\n",
    "\n",
    "Follow these steps:\n",
    "\n",
    "1. Create a pandas `DataFrame` called `na_log` by reading in the csv `log_file_na.csv` and using the names:\n",
    "    \n",
    "    ```['name', 'email', 'fm_ip', 'to_ip', 'date_time', 'lat', 'long', 'payload_size']```\n",
    "1. Get the `payload_size` column and select it and label it as a separate pandas `Series`\n",
    "1. Run both the `min()` method and the `max()` method on your `Series`\n",
    "1. Calculate the difference between the two values you get back\n",
    "\n",
    "Execute your script from the **terminal/command line** using the command:\n",
    "\n",
    "```bash\n",
    "ipython -i my_DataFrame_01.py\n",
    "```"
   ]
  },
  {
   "cell_type": "markdown",
   "metadata": {},
   "source": [
    "When you complete this exercise, please put your green post-it on your monitor. \n",
    "\n",
    "If you want to continue on at your own-pace, please feel free to do so.\n",
    "\n",
    "<img src='../universal_images/green_sticky.300px.png' width='200' style='float:left'>"
   ]
  },
  {
   "cell_type": "code",
   "execution_count": null,
   "metadata": {},
   "outputs": [],
   "source": [
    "run soln_dataframe_01.py"
   ]
  },
  {
   "cell_type": "markdown",
   "metadata": {},
   "source": [
    "# Experience Points!\n",
    "---"
   ]
  },
  {
   "cell_type": "markdown",
   "metadata": {},
   "source": [
    "In your **text editor** create a simple script called:\n",
    "\n",
    "```bash\n",
    "my_DataFrame_02.py\n",
    "```\n",
    "\n",
    "Then do the following\n",
    "\n",
    "1. Create a pandas dataFrame called `na_log` by reading in the csv `log_file_na.csv` and using the names:\n",
    "    1. `['name', 'email', 'fm_ip', 'to_ip', 'date_time', 'lat', 'long', 'payload_size']`\n",
    "1. Print to the screen the content of the two columns: `long` and `lat`\n",
    "1. Create a new Series that is made up of the **difference** between the value of `long` and the value of `lat`\n",
    "1. Apply the `round()` function to the Series so that each value is rounded to the nearest full integer\n",
    "1. Use the `.unique()` method to print out all of the unique values\n",
    "\n",
    "Execute your script from the **terminal/command line** using the command:\n",
    "\n",
    "```bash\n",
    "ipython -i my_DataFrame_02.py\n",
    "```"
   ]
  },
  {
   "cell_type": "markdown",
   "metadata": {},
   "source": [
    "When you complete this exercise, please put your green post-it on your monitor. \n",
    "\n",
    "If you want to continue on at your own-pace, please feel free to do so.\n",
    "\n",
    "<img src='../universal_images/green_sticky.300px.png' width='200' style='float:left'>"
   ]
  },
  {
   "cell_type": "code",
   "execution_count": null,
   "metadata": {
    "collapsed": true
   },
   "outputs": [],
   "source": [
    "(logs.lat - logs.long).apply(round).value_counts()"
   ]
  },
  {
   "cell_type": "markdown",
   "metadata": {},
   "source": [
    "# BACKUP..."
   ]
  },
  {
   "cell_type": "raw",
   "metadata": {},
   "source": [
    "pd.options.display.max_rows = 3\n",
    "pd.get_option(\"display.max_rows\")"
   ]
  }
 ],
 "metadata": {
  "anaconda-cloud": {},
  "kernelspec": {
   "display_name": "Python 3",
   "language": "python",
   "name": "python3"
  },
  "language_info": {
   "codemirror_mode": {
    "name": "ipython",
    "version": 3
   },
   "file_extension": ".py",
   "mimetype": "text/x-python",
   "name": "python",
   "nbconvert_exporter": "python",
   "pygments_lexer": "ipython3",
   "version": "3.6.8"
  }
 },
 "nbformat": 4,
 "nbformat_minor": 2
}
