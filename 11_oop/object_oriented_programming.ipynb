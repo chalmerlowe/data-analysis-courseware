{
 "cells": [
  {
   "cell_type": "markdown",
   "metadata": {},
   "source": [
    "# Welcome to the Dark Art of Coding:\n",
    "## Introduction to Python\n",
    "Object-Oriented Programming\n",
    "\n",
    "\n",
    "<img src='../universal_images/dark_art_logo.600px.png' width='300' style=\"float:right\">"
   ]
  },
  {
   "cell_type": "markdown",
   "metadata": {},
   "source": [
    "# Objectives\n",
    "---"
   ]
  },
  {
   "cell_type": "markdown",
   "metadata": {},
   "source": [
    "In this session, students should expect to:\n",
    "\n",
    "* Understand what classes and objects are\n",
    "* Understand how to define a class\n",
    "* Understand how to create an object from a class\n",
    "* Understand how to create class attributes and methods\n"
   ]
  },
  {
   "cell_type": "markdown",
   "metadata": {},
   "source": [
    "# First and foremost\n",
    "\n",
    "We're going to be doing a lot of looking at definitions and how things work. \n",
    "\n",
    "If at any point something doesn't make sense or you have a question, PLEASE ask for assistance.\n",
    "\n",
    "The content in this lesson can help you to not only create powerful and well designed programs, but is also fundamental to really understanding how all the other objects in Python work both individually and together.\n"
   ]
  },
  {
   "cell_type": "markdown",
   "metadata": {},
   "source": [
    "# Objects\n",
    "---"
   ]
  },
  {
   "cell_type": "markdown",
   "metadata": {},
   "source": [
    "Python scripts are made up of lots of little parts working together to make a fully functioning program. \n",
    "\n",
    "* These parts are called Python objects\n",
    "* You have been using objects all along"
   ]
  },
  {
   "cell_type": "markdown",
   "metadata": {},
   "source": [
    "## List object\n",
    "\n",
    "Everything that we have used so far has been a Python object. For example executing either of the following will bring up the help documentation for the `list object`:\n",
    "\n",
    "```python\n",
    "In []: list?\n",
    "```\n",
    "\n",
    "OR \n",
    "```python\n",
    ">>> help(list)\n",
    "```"
   ]
  },
  {
   "cell_type": "code",
   "execution_count": null,
   "metadata": {},
   "outputs": [],
   "source": []
  },
  {
   "cell_type": "markdown",
   "metadata": {},
   "source": [
    "## Function objects\n",
    "\n",
    "Even functions are considered objects in Python and are generically referred in the technical documentation as `function objects`\n",
    "\n",
    "[Technical Documentation (for the curious)](https://docs.python.org/3/c-api/function.html)"
   ]
  },
  {
   "cell_type": "markdown",
   "metadata": {},
   "source": [
    "# Let's go over some definitions\n",
    "---"
   ]
  },
  {
   "cell_type": "markdown",
   "metadata": {},
   "source": [
    "## Object\n",
    "\n",
    "An **object** is a piece of self-contained code and data. All Python objects have a few common key characteristics:\n",
    "\n",
    "* They hold data (typically accessible via attributes)\n",
    "* They have behaviors (typically accessible via methods)\n",
    "\n",
    "AND\n",
    "\n",
    "* They are created from a pattern (or blueprint) called a `class`\n",
    "* Any number of objects can be made from a single `class`\n"
   ]
  },
  {
   "cell_type": "markdown",
   "metadata": {},
   "source": [
    "## Class\n",
    "\n",
    "A **class** is a type of template for a Python object. It lets Python know exactly what **attributes** and **methods** any object created from that class should have. It also provides instructions on what to do when creating OR destroying any given object\n",
    "\n",
    "NOTE: A `class` is a lot like a blueprint OR pattern >>> you **generally** don't use it directly, but use it to create copies\n"
   ]
  },
  {
   "cell_type": "markdown",
   "metadata": {},
   "source": [
    "## Instance\n",
    "\n",
    "An **instance** of a Python class is a singular Python **object** created using that template. It holds values or data that is unique to that instance. When methods are run they typically only change values inside a singular instance."
   ]
  },
  {
   "cell_type": "markdown",
   "metadata": {},
   "source": [
    "## Attributes\n",
    "\n",
    "Any given object has some attributes associated with it. These are values / data stored within the Python object that are tied to that specific object. You can access and use this data. Often some or all of the data associated with attributes is defined at the time an object is created, but this is not required and values can be changed when needed."
   ]
  },
  {
   "cell_type": "markdown",
   "metadata": {},
   "source": [
    "## Methods\n",
    "\n",
    "Any given object has methods associated with it. When creating a Python object the class (blueprint) will define the object's methods. These are functions tied to an instance. When you run a method it typically uses the attribute data as well as some data you give it to do one or more things, such as:\n",
    "\n",
    "* Change the data associated with a given attribute(s)\n",
    "* Return data from one or more attribute values\n",
    "* Return data about the attributes of that object"
   ]
  },
  {
   "cell_type": "markdown",
   "metadata": {},
   "source": [
    "# Key notions with Object-Oriented Programming\n",
    "\n",
    "* Each object has it's own capabilities and boundaries.\n",
    "* One of the things you can do with object-oriented languages like Python is to break up a problem into smaller parts that make it easier to understand.\n",
    "* When you've broken a problem into self-contained segments, you can then use each object for a very specific task associated with very specific collections of data."
   ]
  },
  {
   "cell_type": "markdown",
   "metadata": {},
   "source": [
    "# Let's make a `class`"
   ]
  },
  {
   "cell_type": "code",
   "execution_count": null,
   "metadata": {
    "collapsed": true
   },
   "outputs": [],
   "source": [
    "# Creating a sample class\n",
    "#     with just one method \n",
    "# When a Student object is created, all Students will start with a \n",
    "#     grade of 100\n",
    "# When the Student parties, their grade will drop.\n",
    "\n",
    "class Student:\n",
    "    grade = 100                         # we normally wouldn't do this, but bear with me for now\n",
    "    \n",
    "    def party(self):\n",
    "        self.grade -= 10\n",
    "        print('I partied so hard my grade is:', self.grade)"
   ]
  },
  {
   "cell_type": "code",
   "execution_count": null,
   "metadata": {},
   "outputs": [],
   "source": [
    "# Creating an instance based on our new class\n",
    "\n",
    "aaron = Student()\n",
    "\n",
    "print(aaron)"
   ]
  },
  {
   "cell_type": "code",
   "execution_count": null,
   "metadata": {},
   "outputs": [],
   "source": [
    "# Calling the .party() method will case the grade associated \n",
    "#     with this student to drop.\n",
    "\n",
    "aaron.party()\n",
    "aaron.party()"
   ]
  },
  {
   "cell_type": "code",
   "execution_count": null,
   "metadata": {
    "collapsed": true
   },
   "outputs": [],
   "source": [
    "# Creating a second instance of our class\n",
    "\n",
    "james = Student()"
   ]
  },
  {
   "cell_type": "code",
   "execution_count": null,
   "metadata": {},
   "outputs": [],
   "source": [
    "# If we cause james to party once, his grade will drop by 10 points\n",
    "\n",
    "james.party()"
   ]
  },
  {
   "cell_type": "code",
   "execution_count": null,
   "metadata": {},
   "outputs": [],
   "source": [
    "# Now, note the difference in the attribute values between aaron and james\n",
    "\n",
    "print('aaron:', aaron.grade)\n",
    "print('james:', james.grade)"
   ]
  },
  {
   "cell_type": "markdown",
   "metadata": {},
   "source": [
    "# Now let's walk through this class\n",
    "---"
   ]
  },
  {
   "cell_type": "markdown",
   "metadata": {},
   "source": [
    "## Building the class\n",
    "\n",
    "**First** we create a name for our class (don't forget the colon at the end to denote a code block and don't forget that all code blocks are indented!)\n",
    "\n",
    "```python\n",
    "class Student:\n",
    "```\n",
    "\n",
    "**Second** we make an attribute for this class, give it the name `grade`, and store the value `100`. All objects created with this class will start with a grade value of 100.\n",
    "\n",
    "```python\n",
    "    grade = 100\n",
    "```\n",
    "\n",
    "**Third** we define a function to be used with the class using the same syntax we normally use to make functions. It is customary to call functions that are associated with an object methods to help distinguish them from things such as builtin functions, so in this case we would generally refer to this as the `party()` method, not the `party()` function.\n",
    "\n",
    "NOTE: We pass a single argument into the method and we call it `self`. The `self` variable causes Python to associate this method with a specific instance of an object generated by the class.\n",
    "\n",
    "```python\n",
    "    def party(self):\n",
    "```\n",
    "\n",
    "**Fourth** `self.grade` accesses the grade attribute from a specific object generated by the class and we subtract 10 from it\n",
    "\n",
    "```python\n",
    "        self.grade -= 10\n",
    "```\n",
    "\n",
    "**Fifth** we print out the value of `self.grade` with some flavor text\n",
    "\n",
    "```python\n",
    "        print('I partied so hard my grade is:', self.grade)\n",
    "```"
   ]
  },
  {
   "cell_type": "markdown",
   "metadata": {},
   "source": [
    "## Using the class to make an object\n",
    "\n",
    "**First** we create an instance of the `Student` object\n",
    "\n",
    "```python\n",
    "aaron = Student()\n",
    "```\n",
    "\n",
    "**Second** we use the `.party()` method twice. We know the method subtracts 10 from the grade attribute and prints it out. \n",
    "\n",
    "```python\n",
    "aaron.party()\n",
    "aaron.party()\n",
    "```\n",
    "\n",
    "**Third** we create a new instance of our `Student`. Note that this object will have it's own attributes and methods unique to this instance\n",
    "\n",
    "```python\n",
    "james = Student()\n",
    "```\n",
    "\n",
    "**Fourth** we use our `.party()` method but only once. This will leave our `grade` attribute at 90\n",
    "\n",
    "```python\n",
    "james.party()\n",
    "```\n",
    "\n",
    "**Fifth** we print out the values of our two `grade` attributes showing that they are unique and we can access them separately\n",
    "\n",
    "```python\n",
    "print('aaron:', aaron.grade)\n",
    "print('james:', james.grade)\n",
    "```"
   ]
  },
  {
   "cell_type": "code",
   "execution_count": null,
   "metadata": {},
   "outputs": [],
   "source": []
  },
  {
   "cell_type": "markdown",
   "metadata": {},
   "source": [
    "# Helpful functions for object-oriented programming\n",
    "---"
   ]
  },
  {
   "cell_type": "markdown",
   "metadata": {},
   "source": [
    "|.|.|\n",
    "|:----|:---|\n",
    "|`type()`| returns what type of Python object you're looking at|\n",
    "|`objectname?` OR `help(objectname)`| prints helpful information on how to effectively use a Python object|\n",
    "|`objectname.<tab complete>` OR `dir(objectname)`| returns a list of methods attached to a Python object|"
   ]
  },
  {
   "cell_type": "markdown",
   "metadata": {},
   "source": [
    "## Using `dir()`"
   ]
  },
  {
   "cell_type": "markdown",
   "metadata": {},
   "source": [
    "When we run `dir()` on an empty string it will show us what methods can be run on strings"
   ]
  },
  {
   "cell_type": "code",
   "execution_count": null,
   "metadata": {},
   "outputs": [],
   "source": [
    "example = ''\n",
    "dir(example)"
   ]
  },
  {
   "cell_type": "markdown",
   "metadata": {},
   "source": [
    "We can see a bunch of the methods that we've talked about before such as `.lower()`, `.split()`, and `.strip()`"
   ]
  },
  {
   "cell_type": "markdown",
   "metadata": {},
   "source": [
    "We can even use `dir()` on the classes we've made."
   ]
  },
  {
   "cell_type": "code",
   "execution_count": null,
   "metadata": {},
   "outputs": [],
   "source": [
    "dir(Student)"
   ]
  },
  {
   "cell_type": "markdown",
   "metadata": {},
   "source": [
    "## Notes:\n",
    "\n",
    "* For now we can ignore most of those methods with the double underscores A.K.A. **`dunder methods`**\n",
    "* `dunder methods` are used by Python itself and while we will talk about some of them in a moment, for now we will look at just the methods and attributes at the bottom of the list...\n",
    "* The methods and attributes at the bottom of the list are intended to be directly accessed by users"
   ]
  },
  {
   "cell_type": "markdown",
   "metadata": {},
   "source": [
    "# Object lifecycle\n",
    "---"
   ]
  },
  {
   "cell_type": "markdown",
   "metadata": {},
   "source": [
    "Objects are created, used, and then destroyed. Using a few of those `dunder methods` we can tell Python how to automatically do stuff during each of those events."
   ]
  },
  {
   "cell_type": "markdown",
   "metadata": {},
   "source": [
    "## `__init__()`\n",
    "\n",
    "We can make a method that runs on object creation. This is normally used to help set up attributes or assign certain things that will end up being unique to a given instance"
   ]
  },
  {
   "cell_type": "markdown",
   "metadata": {},
   "source": [
    "Going back to our `Student class` we made earlier let's add a `__init__()` method"
   ]
  },
  {
   "cell_type": "code",
   "execution_count": null,
   "metadata": {
    "collapsed": true
   },
   "outputs": [],
   "source": [
    "# We create our Student class again\n",
    "\n",
    "class Student:\n",
    "    # Normally dunder methods go close to the beginning of the class\n",
    "    def __init__(self):\n",
    "        self.grade = 100\n",
    "        self.age = 18\n",
    "        print('I was created with the age of', self.age)\n",
    "    \n",
    "    def party(self):\n",
    "        self.grade -= 10\n",
    "        print('I partied so hard my grade is:', self.grade)"
   ]
  },
  {
   "cell_type": "markdown",
   "metadata": {},
   "source": [
    "If we use it it looks like this:"
   ]
  },
  {
   "cell_type": "code",
   "execution_count": null,
   "metadata": {},
   "outputs": [],
   "source": [
    "# As soon as we create an instance of a student, \n",
    "#     the __init__() method gets called, so our statement\n",
    "#     will get printed right away.\n",
    "\n",
    "albert = Student()"
   ]
  },
  {
   "cell_type": "code",
   "execution_count": null,
   "metadata": {},
   "outputs": [],
   "source": [
    "# All our attributes are present and accounted for.\n",
    "\n",
    "print(albert.grade, albert.age, sep='\\n')"
   ]
  },
  {
   "cell_type": "markdown",
   "metadata": {},
   "source": [
    "One of the really nice things about the `__init__()` methods is you can pass it arguments on creation"
   ]
  },
  {
   "cell_type": "code",
   "execution_count": null,
   "metadata": {
    "collapsed": true
   },
   "outputs": [],
   "source": [
    "class Student:\n",
    "    grade = 100\n",
    "    \n",
    "    # This time we take in TWO arguments. Remember the first one is always passed in as a way to refer our instance\n",
    "    \n",
    "    def __init__(self, age):\n",
    "        # Now we assign age to whatever we pass in\n",
    "        \n",
    "        self.age = age\n",
    "        print('I am created at the age of', self.age)\n",
    "    \n",
    "    def party(self):\n",
    "        self.grade -= 10\n",
    "        print('I partied so hard my grade is:', self.grade)"
   ]
  },
  {
   "cell_type": "markdown",
   "metadata": {},
   "source": [
    "An example of using the `__init__()` method with parameters would look like this:"
   ]
  },
  {
   "cell_type": "code",
   "execution_count": null,
   "metadata": {},
   "outputs": [],
   "source": [
    "karen = Student(42)  # We only give it one parameter\n",
    "\n",
    "print(karen.age)  # Note how her age matches the value we gave"
   ]
  },
  {
   "cell_type": "markdown",
   "metadata": {},
   "source": [
    "## `__len__()`\n",
    "\n",
    "There are many fairly standard dunder methods that are found associated with Python objects that seamlessly allow builtin functions to interact with a given object.\n",
    "For example, many Python objects have a `__len__()` method that will be called in the background if you pass the object as an an argument in the builtin functoin `len()`.\n",
    "\n",
    "If we want to see how many characters are in a string `myname`, we can call `len(myname)` and behind the scenes, the `myname.__len__()` method is called and will return the length of the string.\n",
    "\n",
    "If we want to see how many elements are in a list `mylist`, we can call `len(mylist)` and behind the scenes, the `mylist.__len__()` method is called and will return the length of the list.\n",
    "\n",
    "Let's make a humorous length function for our student."
   ]
  },
  {
   "cell_type": "code",
   "execution_count": null,
   "metadata": {
    "collapsed": true
   },
   "outputs": [],
   "source": [
    "class Student:\n",
    "    grade = 100\n",
    "    \n",
    "    def __init__(self, age):\n",
    "        self.age = age\n",
    "        print('I am created at the age of', self.age)\n",
    "    \n",
    "    def party(self):\n",
    "        self.grade -= 10\n",
    "        print('I partied so hard my grade is:', self.grade)\n",
    "    \n",
    "    # This will run when Python destroys this object\n",
    "    \n",
    "    def __len__(self):\n",
    "        if 90 <= self.grade <= 100:\n",
    "            return 9\n",
    "        if 80 <= self.grade < 90:\n",
    "            return 8\n",
    "        if 70 <= self.grade < 80:\n",
    "            return 7\n",
    "        return 6        "
   ]
  },
  {
   "cell_type": "code",
   "execution_count": null,
   "metadata": {},
   "outputs": [],
   "source": [
    "# We create our object\n",
    "sammy = Student(15)"
   ]
  },
  {
   "cell_type": "code",
   "execution_count": null,
   "metadata": {},
   "outputs": [],
   "source": [
    "# Sammy is a bit of a party animal...\n",
    "sammy.party()\n",
    "sammy.party()\n",
    "sammy.party()"
   ]
  },
  {
   "cell_type": "code",
   "execution_count": null,
   "metadata": {},
   "outputs": [],
   "source": [
    "len(sammy)"
   ]
  },
  {
   "cell_type": "markdown",
   "metadata": {},
   "source": [
    "# Experience Points!\n",
    "---"
   ]
  },
  {
   "cell_type": "markdown",
   "metadata": {},
   "source": [
    "In your **text editor** create a simple script called:\n",
    "\n",
    "`my_class_01.py`\n",
    "\n",
    "Execute your script in the **Jupyter** using the command:\n",
    "\n",
    "`run my_class_01.py`\n",
    "\n",
    "Inside your script you should do the following\n",
    "\n",
    "* Create a class called `Animal`\n",
    "* Define an `__init__()` method that takes in one argument: `self`\n",
    "  * In the `__init__()` method, create a label called `self.fur_color` and assign it to an empty string\n",
    "* Define two methods for your class:\n",
    "  * a method called `set_fur_color` that takes in two arguments (`self` and `color`) and assigns the value of color to `self.fur_color`\n",
    "  * a second method called `print_fur_color` that prints the value associated with `self.fur_color`\n",
    "* Now, create a new object based on your `Animal` class, called: `pet`\n",
    "* Call your `pet.set_fur_color()` method and provide a color argument\n",
    "* Call your `pet.print_fur_color()` method and ensure that it successfully prints the fur color\n"
   ]
  },
  {
   "cell_type": "markdown",
   "metadata": {},
   "source": [
    "When you complete this exercise, please put your green post-it on your monitor. \n",
    "\n",
    "If you want to continue on at your own-pace, please feel free to do so.\n",
    "\n",
    "<img src='../universal_images/green_sticky.300px.png' width='200' style='float:left'>"
   ]
  },
  {
   "cell_type": "markdown",
   "metadata": {},
   "source": [
    "# Experience Points!\n",
    "---"
   ]
  },
  {
   "cell_type": "markdown",
   "metadata": {},
   "source": [
    "In your **text editor** create a simple script called:\n",
    "\n",
    "`my_class_02.py`\n",
    "\n",
    "Execute your script in **Jupyter** using the command:\n",
    "\n",
    "`run my_class_02.py`\n",
    "\n",
    "* Create a class called `Car`\n",
    "* Define an `__init__()` method that takes a two parameters and assigns them to `self.color` and `self.mpg` (miles per gallon) attributes respectively\n",
    "* Define a method called `set_color` that takes in two arguments (`self` and `color`) and assigns that to `self.color`\n",
    "* Define a method called `print_specs` that prints the values associatd with `color` and `mpg`\n",
    "* Create an object called `sportscar`, based on your `Car` class, and pass in two arguments: a string for the color and an integer for the miles per gallon.\n",
    "\n",
    "Once you've done all of this run your script from **Jupyter** and then call the `dir()` function using your `sportscar` object as an argument. Ensure that your methods and attributes appear, as expected."
   ]
  },
  {
   "cell_type": "markdown",
   "metadata": {},
   "source": [
    "When you complete this exercise, please put your green post-it on your monitor. \n",
    "\n",
    "If you want to continue on at your own-pace, please feel free to do so.\n",
    "\n",
    "<img src='../universal_images/green_sticky.300px.png' width='200' style='float:left'>"
   ]
  },
  {
   "cell_type": "markdown",
   "metadata": {},
   "source": [
    "# Inheritance\n",
    "---"
   ]
  },
  {
   "cell_type": "markdown",
   "metadata": {},
   "source": [
    "One of the things we can do when defining classes is to create them based off other classes. Say for example, our `Student` class. We want a new class that can do everything the `Student` class can and more. We can create a new class that we then have **inherit** all of the methods and attributes of a parent class. This lets the new class have it's own set of methods/attributes that it can refer to separate from the originals but with additional new methods or attributes as well."
   ]
  },
  {
   "cell_type": "markdown",
   "metadata": {},
   "source": [
    "This is how we do it"
   ]
  },
  {
   "cell_type": "code",
   "execution_count": null,
   "metadata": {
    "collapsed": true
   },
   "outputs": [],
   "source": [
    "class Student:\n",
    "    \n",
    "    \n",
    "    def __init__(self, age):\n",
    "        self.grade = 100\n",
    "        self.age = age\n",
    "        print('My age is:', self.age)\n",
    "    \n",
    "    def party(self):\n",
    "        self.grade -= 10\n",
    "        print('I partied so hard my grade is:', self.grade)\n",
    "            \n",
    "# Start off with the first class we want to inherit from"
   ]
  },
  {
   "cell_type": "code",
   "execution_count": null,
   "metadata": {
    "collapsed": true
   },
   "outputs": [],
   "source": [
    "# Notice we now have parentheses after naming our class\n",
    "#     The original class we put inside there is called the parent class or even the superclass\n",
    "\n",
    "class Good_Student(Student):\n",
    "    \n",
    "    def study(self):\n",
    "        self.grade += 10\n",
    "        print('I worked hard and studied to bring my grade up to:', self.grade)"
   ]
  },
  {
   "cell_type": "code",
   "execution_count": null,
   "metadata": {},
   "outputs": [],
   "source": [
    "# We can still use the old class like normal and it will function properly\n",
    "\n",
    "steve = Student(15)\n",
    "\n",
    "steve.party()"
   ]
  },
  {
   "cell_type": "code",
   "execution_count": null,
   "metadata": {},
   "outputs": [],
   "source": [
    "# While good_student inherits from a parent class, it does not change that parent class\n",
    "#     Thus the parent class Student will not have a .study() method.\n",
    "#\n",
    "# This will fail\n",
    "\n",
    "steve.study()"
   ]
  },
  {
   "cell_type": "code",
   "execution_count": null,
   "metadata": {},
   "outputs": [],
   "source": [
    "# If we try to use Good_Student class, it will inherit both the parent class attributes and will\n",
    "#     be endowed with any new/additional methods OR attributes we define.\n",
    "\n",
    "ellen = Good_Student(17)\n",
    "\n",
    "ellen.party()"
   ]
  },
  {
   "cell_type": "code",
   "execution_count": null,
   "metadata": {},
   "outputs": [],
   "source": [
    "# AND we get the functionality of the new one\n",
    "\n",
    "ellen.study()"
   ]
  },
  {
   "cell_type": "markdown",
   "metadata": {},
   "source": [
    "# Scratch work\n",
    "---"
   ]
  },
  {
   "cell_type": "code",
   "execution_count": null,
   "metadata": {},
   "outputs": [],
   "source": [
    "run soln_my_class_01.py"
   ]
  },
  {
   "cell_type": "code",
   "execution_count": null,
   "metadata": {},
   "outputs": [],
   "source": [
    "run soln_my_class_02.py"
   ]
  },
  {
   "cell_type": "code",
   "execution_count": null,
   "metadata": {},
   "outputs": [],
   "source": [
    "dir(sportscar)\n",
    "sportscar.set_color('blue')"
   ]
  },
  {
   "cell_type": "code",
   "execution_count": null,
   "metadata": {},
   "outputs": [],
   "source": [
    "sportscar.print_specs()"
   ]
  },
  {
   "cell_type": "code",
   "execution_count": null,
   "metadata": {},
   "outputs": [],
   "source": []
  }
 ],
 "metadata": {
  "celltoolbar": "Slideshow",
  "kernelspec": {
   "display_name": "Python 3",
   "language": "python",
   "name": "python3"
  },
  "language_info": {
   "codemirror_mode": {
    "name": "ipython",
    "version": 3
   },
   "file_extension": ".py",
   "mimetype": "text/x-python",
   "name": "python",
   "nbconvert_exporter": "python",
   "pygments_lexer": "ipython3",
   "version": "3.6.8"
  }
 },
 "nbformat": 4,
 "nbformat_minor": 2
}
